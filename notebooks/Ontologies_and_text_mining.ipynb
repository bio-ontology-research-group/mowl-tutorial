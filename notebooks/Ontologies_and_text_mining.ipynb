{
  "cells": [
    {
      "cell_type": "markdown",
      "id": "3bc3b40e",
      "metadata": {
        "cell_marker": "\"\"\"",
        "id": "3bc3b40e"
      },
      "source": [
        "# Ontologies and text mining\n",
        "\n",
        "> Overview:\n",
        "\n",
        "*   Exact match with a dictionary\n",
        "*   Word2Vec\n",
        "\n",
        "\n",
        "\n"
      ]
    },
    {
      "cell_type": "markdown",
      "id": "ebe309eb",
      "metadata": {
        "cell_marker": "r\"\"\",\n\"\"\"",
        "id": "ebe309eb"
      },
      "source": [
        "In this tutorial, you will learn how text embeddings can be generated and used to facilitate learning from text.\n",
        "\n",
        "\n",
        "\n"
      ]
    },
    {
      "cell_type": "code",
      "execution_count": 2,
      "id": "58bcccaf",
      "metadata": {
        "title": "[code]",
        "colab": {
          "base_uri": "https://localhost:8080/"
        },
        "id": "58bcccaf",
        "outputId": "ca838428-a768-44af-d4a3-e6c0f9d57f64"
      },
      "outputs": [
        {
          "output_type": "stream",
          "name": "stdout",
          "text": [
            "Looking in indexes: https://pypi.org/simple, https://us-python.pkg.dev/colab-wheels/public/simple/\n",
            "Requirement already satisfied: scikit-learn in /usr/local/lib/python3.8/dist-packages (1.0.2)\n",
            "Requirement already satisfied: joblib>=0.11 in /usr/local/lib/python3.8/dist-packages (from scikit-learn) (1.2.0)\n",
            "Requirement already satisfied: threadpoolctl>=2.0.0 in /usr/local/lib/python3.8/dist-packages (from scikit-learn) (3.1.0)\n",
            "Requirement already satisfied: scipy>=1.1.0 in /usr/local/lib/python3.8/dist-packages (from scikit-learn) (1.7.3)\n",
            "Requirement already satisfied: numpy>=1.14.6 in /usr/local/lib/python3.8/dist-packages (from scikit-learn) (1.21.6)\n",
            "Looking in indexes: https://pypi.org/simple, https://us-python.pkg.dev/colab-wheels/public/simple/\n",
            "Requirement already satisfied: gensim in /usr/local/lib/python3.8/dist-packages (3.6.0)\n",
            "Requirement already satisfied: six>=1.5.0 in /usr/local/lib/python3.8/dist-packages (from gensim) (1.15.0)\n",
            "Requirement already satisfied: scipy>=0.18.1 in /usr/local/lib/python3.8/dist-packages (from gensim) (1.7.3)\n",
            "Requirement already satisfied: smart-open>=1.2.1 in /usr/local/lib/python3.8/dist-packages (from gensim) (6.3.0)\n",
            "Requirement already satisfied: numpy>=1.11.3 in /usr/local/lib/python3.8/dist-packages (from gensim) (1.21.6)\n"
          ]
        }
      ],
      "source": [
        "!pip install scikit-learn\n",
        "!pip install gensim\n",
        "import matplotlib.pyplot as plt\n",
        "from google.colab import drive\n",
        "import gensim"
      ]
    },
    {
      "cell_type": "markdown",
      "id": "52f69db8",
      "metadata": {
        "cell_marker": "\"\"\"",
        "lines_to_next_cell": 0,
        "id": "52f69db8"
      },
      "source": [
        "We create a dictionary for our `Family Ontology` "
      ]
    },
    {
      "cell_type": "code",
      "execution_count": 3,
      "id": "3fc9828b",
      "metadata": {
        "title": "[code]",
        "id": "3fc9828b"
      },
      "outputs": [],
      "source": [
        "dictionary={'father': 'http://Father', 'female': 'http://Female', 'male': 'http://Male', 'mother': 'http://Mother', 'parent': 'http://Parent', 'person': 'http://Person'}"
      ]
    },
    {
      "cell_type": "markdown",
      "id": "94f536f9",
      "metadata": {
        "cell_marker": "\"\"\"",
        "id": "94f536f9"
      },
      "source": [
        "Let us look at the following text:\n",
        "\n",
        "\n",
        "**Can we identify that \"parent\" and \"mother\" are both an instance of the class \"http://Parent\"?**"
      ]
    },
    {
      "cell_type": "code",
      "execution_count": 4,
      "id": "12d3b449",
      "metadata": {
        "lines_to_next_cell": 0,
        "id": "12d3b449"
      },
      "outputs": [],
      "source": [
        "text=\"Sarah's only parent was her mother\""
      ]
    },
    {
      "cell_type": "markdown",
      "source": [
        " \n",
        "\n",
        "*   Using a dictionary, let us first split the text into words. We do that by using the space as a delimiter.\n",
        "*   We next look up each word in our dictionary.\n",
        "\n",
        "\n"
      ],
      "metadata": {
        "id": "DWyOgAlDPIwO"
      },
      "id": "DWyOgAlDPIwO"
    },
    {
      "cell_type": "code",
      "source": [
        "tokens = text.split(' ')\n",
        "print('The splitted text looks as follows: ', tokens)\n",
        "for i,token in enumerate(tokens):\n",
        "  if token in dictionary:\n",
        "    print('Identified mention of a class: ',token, 'which is the',i+1,'th token, is an instance of:', dictionary[token])"
      ],
      "metadata": {
        "colab": {
          "base_uri": "https://localhost:8080/"
        },
        "id": "6uTuc7MVRX8d",
        "outputId": "9f033873-09ca-4b39-f1c9-040f7ce2cd7b"
      },
      "id": "6uTuc7MVRX8d",
      "execution_count": 6,
      "outputs": [
        {
          "output_type": "stream",
          "name": "stdout",
          "text": [
            "The splitted text looks as follows:  [\"Sarah's\", 'only', 'parent', 'was', 'her', 'mother']\n",
            "Identified mention of a class:  parent which is the 3 th token, is an instance of: http://Parent\n",
            "Identified mention of a class:  mother which is the 6 th token, is an instance of: http://Mother\n"
          ]
        }
      ]
    },
    {
      "cell_type": "markdown",
      "source": [
        "We can only detect 'mother' and 'parent' which are an exact match to what we have in the dictionary.\n",
        "However, we cannot link 'mother' to 'parent'.\n",
        "\n",
        "Let us try Word2Vec embeddings which were trained on a large corpus:\n",
        "\n",
        "\n"
      ],
      "metadata": {
        "id": "HJvQoYmtSS2y"
      },
      "id": "HJvQoYmtSS2y"
    },
    {
      "cell_type": "code",
      "execution_count": 8,
      "id": "b3c27787",
      "metadata": {
        "lines_to_next_cell": 0,
        "title": "[code]",
        "id": "b3c27787",
        "colab": {
          "base_uri": "https://localhost:8080/"
        },
        "outputId": "f0ea1a94-5ee6-4784-8440-baac6ba95fad"
      },
      "outputs": [
        {
          "output_type": "stream",
          "name": "stdout",
          "text": [
            "Mounted at /content/drive\n"
          ]
        }
      ],
      "source": [
        "drive.mount('/content/drive')\n",
        "model=gensim.models.Word2Vec.load('/content/drive/MyDrive/PMC/RepresentationModel_pubmed.txt')"
      ]
    },
    {
      "cell_type": "markdown",
      "id": "91edf657",
      "metadata": {
        "cell_marker": "\"\"\"",
        "id": "91edf657"
      },
      "source": [
        "We can visualize the embeddings of the ontology classes that we have:\n",
        "\n",
        "\n"
      ]
    },
    {
      "cell_type": "code",
      "execution_count": 18,
      "id": "b6c947c1",
      "metadata": {
        "colab": {
          "base_uri": "https://localhost:8080/",
          "height": 324
        },
        "id": "b6c947c1",
        "outputId": "5cc95fa0-5536-49b3-a8b9-8bc15ae0121b"
      },
      "outputs": [
        {
          "output_type": "stream",
          "name": "stderr",
          "text": [
            "/usr/local/lib/python3.8/dist-packages/sklearn/manifold/_t_sne.py:790: FutureWarning: The default learning rate in TSNE will change from 200.0 to 'auto' in 1.2.\n",
            "  warnings.warn(\n"
          ]
        },
        {
          "output_type": "display_data",
          "data": {
            "text/plain": [
              "<Figure size 432x288 with 1 Axes>"
            ],
            "image/png": "[encoded data removed]"
          },
          "metadata": {
            "needs_background": "light"
          }
        }
      ],
      "source": [
        " from sklearn.manifold import TSNE\n",
        " import pandas as pd\n",
        " embeddings=[]\n",
        " classes=[]\n",
        " for class_ in dictionary:\n",
        "   classes.append(class_)\n",
        "   embeddings.append(model.wv[class_])\n",
        "tsne_vectors = TSNE(early_exaggeration=1 ,random_state=6,init='random').fit_transform(embeddings)\n",
        "for i,class_ in enumerate(classes):\n",
        "  plt.scatter(tsne_vectors[i,0]+0.4,tsne_vectors[i,1]+0.4)\n",
        "  plt.text(tsne_vectors[i,0]+0.4, tsne_vectors[i,1]+0.4, class_, fontsize=9)"
      ]
    },
    {
      "cell_type": "markdown",
      "source": [
        "We can see how 'mother' and 'female' are close to 'parent'. We can learn exact parameters to gague similarity. \n",
        "We can also check our previous example from slides, 'tumor' and 'tumour' and see the distance between them."
      ],
      "metadata": {
        "id": "snKsjB_goiqu"
      },
      "id": "snKsjB_goiqu"
    },
    {
      "cell_type": "code",
      "source": [
        "from scipy.spatial import distance\n",
        "distance.cosine(model.wv['tumor'],model.wv['tumour'])"
      ],
      "metadata": {
        "id": "hSIZAlTPtODP",
        "outputId": "e53c66c3-4e77-432a-a773-a9c72337ff11",
        "colab": {
          "base_uri": "https://localhost:8080/"
        }
      },
      "id": "hSIZAlTPtODP",
      "execution_count": 21,
      "outputs": [
        {
          "output_type": "execute_result",
          "data": {
            "text/plain": [
              "0.04161471128463745"
            ]
          },
          "metadata": {},
          "execution_count": 21
        }
      ]
    },
    {
      "cell_type": "code",
      "source": [],
      "metadata": {
        "id": "gK-XvvTgtOz1"
      },
      "id": "gK-XvvTgtOz1",
      "execution_count": null,
      "outputs": []
    }
  ],
  "metadata": {
    "jupytext": {
      "cell_metadata_filter": "title,-all",
      "main_language": "python",
      "notebook_metadata_filter": "-all"
    },
    "kernelspec": {
      "display_name": "Python 3 (ipykernel)",
      "language": "python",
      "name": "python3"
    },
    "language_info": {
      "codemirror_mode": {
        "name": "ipython",
        "version": 3
      },
      "file_extension": ".py",
      "mimetype": "text/x-python",
      "name": "python",
      "nbconvert_exporter": "python",
      "pygments_lexer": "ipython3",
      "version": "3.8.0"
    },
    "colab": {
      "provenance": []
    }
  },
  "nbformat": 4,
  "nbformat_minor": 5
}