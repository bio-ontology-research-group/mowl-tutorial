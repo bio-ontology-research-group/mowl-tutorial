{
 "cells": [
  {
   "cell_type": "markdown",
   "id": "5a11c9da",
   "metadata": {
    "cell_marker": "\"\"\"",
    "lines_to_next_cell": 0
   },
   "source": [
    "# mOWL: Python library for machine learning with ontologies\n",
    "\n",
    "## Ontology creation:\n",
    "To get started, you can install mOWL using pip:"
   ]
  },
  {
   "cell_type": "code",
   "execution_count": 50,
   "id": "331f2a5d",
   "metadata": {
    "lines_to_next_cell": 2
   },
   "outputs": [
    {
     "name": "stdout",
     "output_type": "stream",
     "text": [
      "\u001b[1;31mE: \u001b[0mCould not open lock file /var/lib/dpkg/lock-frontend - open (13: Permission denied)\u001b[0m\n",
      "\u001b[1;31mE: \u001b[0mUnable to acquire the dpkg frontend lock (/var/lib/dpkg/lock-frontend), are you root?\u001b[0m\n",
      "Requirement already satisfied: pystow==0.4.3 in /home/zhapacfp/miniconda3/envs/mowl-tutorial/lib/python3.9/site-packages (0.4.3)\n",
      "Requirement already satisfied: tqdm in /home/zhapacfp/miniconda3/envs/mowl-tutorial/lib/python3.9/site-packages (from pystow==0.4.3) (4.64.1)\n",
      "Requirement already satisfied: requests in /home/zhapacfp/miniconda3/envs/mowl-tutorial/lib/python3.9/site-packages (from pystow==0.4.3) (2.28.2)\n",
      "Requirement already satisfied: click in /home/zhapacfp/miniconda3/envs/mowl-tutorial/lib/python3.9/site-packages (from pystow==0.4.3) (8.1.3)\n",
      "Requirement already satisfied: idna<4,>=2.5 in /home/zhapacfp/miniconda3/envs/mowl-tutorial/lib/python3.9/site-packages (from requests->pystow==0.4.3) (3.4)\n",
      "Requirement already satisfied: certifi>=2017.4.17 in /home/zhapacfp/miniconda3/envs/mowl-tutorial/lib/python3.9/site-packages (from requests->pystow==0.4.3) (2022.12.7)\n",
      "Requirement already satisfied: charset-normalizer<4,>=2 in /home/zhapacfp/miniconda3/envs/mowl-tutorial/lib/python3.9/site-packages (from requests->pystow==0.4.3) (2.0.4)\n",
      "Requirement already satisfied: urllib3<1.27,>=1.21.1 in /home/zhapacfp/miniconda3/envs/mowl-tutorial/lib/python3.9/site-packages (from requests->pystow==0.4.3) (1.26.14)\n",
      "Requirement already satisfied: mowl-borg in /home/zhapacfp/miniconda3/envs/mowl-tutorial/lib/python3.9/site-packages (0.1.1)\n",
      "Requirement already satisfied: networkx in /home/zhapacfp/miniconda3/envs/mowl-tutorial/lib/python3.9/site-packages (from mowl-borg) (3.0)\n",
      "Requirement already satisfied: deprecated in /home/zhapacfp/miniconda3/envs/mowl-tutorial/lib/python3.9/site-packages (from mowl-borg) (1.2.13)\n",
      "Requirement already satisfied: pykeen==1.9.0 in /home/zhapacfp/miniconda3/envs/mowl-tutorial/lib/python3.9/site-packages (from mowl-borg) (1.9.0)\n",
      "Requirement already satisfied: requests in /home/zhapacfp/miniconda3/envs/mowl-tutorial/lib/python3.9/site-packages (from mowl-borg) (2.28.2)\n",
      "Requirement already satisfied: click in /home/zhapacfp/miniconda3/envs/mowl-tutorial/lib/python3.9/site-packages (from mowl-borg) (8.1.3)\n",
      "Requirement already satisfied: tqdm in /home/zhapacfp/miniconda3/envs/mowl-tutorial/lib/python3.9/site-packages (from mowl-borg) (4.64.1)\n",
      "Requirement already satisfied: JPype1==1.3.0 in /home/zhapacfp/miniconda3/envs/mowl-tutorial/lib/python3.9/site-packages (from mowl-borg) (1.3.0)\n",
      "Requirement already satisfied: pandas in /home/zhapacfp/miniconda3/envs/mowl-tutorial/lib/python3.9/site-packages (from mowl-borg) (1.5.2)\n",
      "Requirement already satisfied: temp in /home/zhapacfp/miniconda3/envs/mowl-tutorial/lib/python3.9/site-packages (from mowl-borg) (2020.7.2)\n",
      "Requirement already satisfied: torch in /home/zhapacfp/miniconda3/envs/mowl-tutorial/lib/python3.9/site-packages (from mowl-borg) (1.13.1)\n",
      "Requirement already satisfied: scipy in /home/zhapacfp/miniconda3/envs/mowl-tutorial/lib/python3.9/site-packages (from mowl-borg) (1.8.1)\n",
      "Requirement already satisfied: pyyaml in /home/zhapacfp/miniconda3/envs/mowl-tutorial/lib/python3.9/site-packages (from mowl-borg) (6.0)\n",
      "Requirement already satisfied: matplotlib in /home/zhapacfp/miniconda3/envs/mowl-tutorial/lib/python3.9/site-packages (from mowl-borg) (3.6.3)\n",
      "Requirement already satisfied: gensim in /home/zhapacfp/miniconda3/envs/mowl-tutorial/lib/python3.9/site-packages (from mowl-borg) (4.3.0)\n",
      "Requirement already satisfied: urllib3 in /home/zhapacfp/miniconda3/envs/mowl-tutorial/lib/python3.9/site-packages (from mowl-borg) (1.26.14)\n",
      "Requirement already satisfied: numpy in /home/zhapacfp/miniconda3/envs/mowl-tutorial/lib/python3.9/site-packages (from mowl-borg) (1.24.1)\n",
      "Requirement already satisfied: scikit-learn in /home/zhapacfp/miniconda3/envs/mowl-tutorial/lib/python3.9/site-packages (from mowl-borg) (1.2.0)\n",
      "Requirement already satisfied: protobuf<4.0.0 in /home/zhapacfp/miniconda3/envs/mowl-tutorial/lib/python3.9/site-packages (from pykeen==1.9.0->mowl-borg) (3.20.3)\n",
      "Requirement already satisfied: rexmex in /home/zhapacfp/miniconda3/envs/mowl-tutorial/lib/python3.9/site-packages (from pykeen==1.9.0->mowl-borg) (0.1.3)\n",
      "Requirement already satisfied: torch-ppr>=0.0.7 in /home/zhapacfp/miniconda3/envs/mowl-tutorial/lib/python3.9/site-packages (from pykeen==1.9.0->mowl-borg) (0.0.8)\n",
      "Requirement already satisfied: torch-max-mem in /home/zhapacfp/miniconda3/envs/mowl-tutorial/lib/python3.9/site-packages (from pykeen==1.9.0->mowl-borg) (0.0.4)\n",
      "Requirement already satisfied: docdata in /home/zhapacfp/miniconda3/envs/mowl-tutorial/lib/python3.9/site-packages (from pykeen==1.9.0->mowl-borg) (0.0.3)\n",
      "Requirement already satisfied: sklearn in /home/zhapacfp/miniconda3/envs/mowl-tutorial/lib/python3.9/site-packages (from pykeen==1.9.0->mowl-borg) (0.0.post1)\n",
      "Requirement already satisfied: click-default-group in /home/zhapacfp/miniconda3/envs/mowl-tutorial/lib/python3.9/site-packages (from pykeen==1.9.0->mowl-borg) (1.2.2)\n",
      "Requirement already satisfied: pystow>=0.4.3 in /home/zhapacfp/miniconda3/envs/mowl-tutorial/lib/python3.9/site-packages (from pykeen==1.9.0->mowl-borg) (0.4.3)\n",
      "Requirement already satisfied: more-click in /home/zhapacfp/miniconda3/envs/mowl-tutorial/lib/python3.9/site-packages (from pykeen==1.9.0->mowl-borg) (0.1.2)\n",
      "Requirement already satisfied: class-resolver>=0.3.10 in /home/zhapacfp/miniconda3/envs/mowl-tutorial/lib/python3.9/site-packages (from pykeen==1.9.0->mowl-borg) (0.3.10)\n",
      "Requirement already satisfied: more-itertools in /home/zhapacfp/miniconda3/envs/mowl-tutorial/lib/python3.9/site-packages (from pykeen==1.9.0->mowl-borg) (9.0.0)\n",
      "Requirement already satisfied: dataclasses-json in /home/zhapacfp/miniconda3/envs/mowl-tutorial/lib/python3.9/site-packages (from pykeen==1.9.0->mowl-borg) (0.5.7)\n",
      "Requirement already satisfied: optuna>=2.0.0 in /home/zhapacfp/miniconda3/envs/mowl-tutorial/lib/python3.9/site-packages (from pykeen==1.9.0->mowl-borg) (3.0.5)\n",
      "Requirement already satisfied: tabulate in /home/zhapacfp/miniconda3/envs/mowl-tutorial/lib/python3.9/site-packages (from pykeen==1.9.0->mowl-borg) (0.9.0)\n",
      "Requirement already satisfied: python-dateutil>=2.8.1 in /home/zhapacfp/miniconda3/envs/mowl-tutorial/lib/python3.9/site-packages (from pandas->mowl-borg) (2.8.2)\n",
      "Requirement already satisfied: pytz>=2020.1 in /home/zhapacfp/miniconda3/envs/mowl-tutorial/lib/python3.9/site-packages (from pandas->mowl-borg) (2022.7.1)\n",
      "Requirement already satisfied: nvidia-cudnn-cu11==8.5.0.96 in /home/zhapacfp/miniconda3/envs/mowl-tutorial/lib/python3.9/site-packages (from torch->mowl-borg) (8.5.0.96)\n",
      "Requirement already satisfied: typing-extensions in /home/zhapacfp/miniconda3/envs/mowl-tutorial/lib/python3.9/site-packages (from torch->mowl-borg) (4.4.0)\n",
      "Requirement already satisfied: nvidia-cuda-nvrtc-cu11==11.7.99 in /home/zhapacfp/miniconda3/envs/mowl-tutorial/lib/python3.9/site-packages (from torch->mowl-borg) (11.7.99)\n",
      "Requirement already satisfied: nvidia-cuda-runtime-cu11==11.7.99 in /home/zhapacfp/miniconda3/envs/mowl-tutorial/lib/python3.9/site-packages (from torch->mowl-borg) (11.7.99)\n",
      "Requirement already satisfied: nvidia-cublas-cu11==11.10.3.66 in /home/zhapacfp/miniconda3/envs/mowl-tutorial/lib/python3.9/site-packages (from torch->mowl-borg) (11.10.3.66)\n",
      "Requirement already satisfied: setuptools in /home/zhapacfp/miniconda3/envs/mowl-tutorial/lib/python3.9/site-packages (from nvidia-cublas-cu11==11.10.3.66->torch->mowl-borg) (65.6.3)\n",
      "Requirement already satisfied: wheel in /home/zhapacfp/miniconda3/envs/mowl-tutorial/lib/python3.9/site-packages (from nvidia-cublas-cu11==11.10.3.66->torch->mowl-borg) (0.37.1)\n",
      "Requirement already satisfied: wrapt<2,>=1.10 in /home/zhapacfp/miniconda3/envs/mowl-tutorial/lib/python3.9/site-packages (from deprecated->mowl-borg) (1.14.1)\n",
      "Requirement already satisfied: smart-open>=1.8.1 in /home/zhapacfp/miniconda3/envs/mowl-tutorial/lib/python3.9/site-packages (from gensim->mowl-borg) (6.3.0)\n",
      "Requirement already satisfied: FuzzyTM>=0.4.0 in /home/zhapacfp/miniconda3/envs/mowl-tutorial/lib/python3.9/site-packages (from gensim->mowl-borg) (2.0.5)\n",
      "Requirement already satisfied: pillow>=6.2.0 in /home/zhapacfp/miniconda3/envs/mowl-tutorial/lib/python3.9/site-packages (from matplotlib->mowl-borg) (9.4.0)\n",
      "Requirement already satisfied: fonttools>=4.22.0 in /home/zhapacfp/miniconda3/envs/mowl-tutorial/lib/python3.9/site-packages (from matplotlib->mowl-borg) (4.38.0)\n",
      "Requirement already satisfied: pyparsing>=2.2.1 in /home/zhapacfp/miniconda3/envs/mowl-tutorial/lib/python3.9/site-packages (from matplotlib->mowl-borg) (3.0.9)\n",
      "Requirement already satisfied: packaging>=20.0 in /home/zhapacfp/miniconda3/envs/mowl-tutorial/lib/python3.9/site-packages (from matplotlib->mowl-borg) (23.0)\n",
      "Requirement already satisfied: contourpy>=1.0.1 in /home/zhapacfp/miniconda3/envs/mowl-tutorial/lib/python3.9/site-packages (from matplotlib->mowl-borg) (1.0.7)\n",
      "Requirement already satisfied: kiwisolver>=1.0.1 in /home/zhapacfp/miniconda3/envs/mowl-tutorial/lib/python3.9/site-packages (from matplotlib->mowl-borg) (1.4.4)\n",
      "Requirement already satisfied: cycler>=0.10 in /home/zhapacfp/miniconda3/envs/mowl-tutorial/lib/python3.9/site-packages (from matplotlib->mowl-borg) (0.11.0)\n"
     ]
    },
    {
     "name": "stdout",
     "output_type": "stream",
     "text": [
      "Requirement already satisfied: idna<4,>=2.5 in /home/zhapacfp/miniconda3/envs/mowl-tutorial/lib/python3.9/site-packages (from requests->mowl-borg) (3.4)\n",
      "Requirement already satisfied: certifi>=2017.4.17 in /home/zhapacfp/miniconda3/envs/mowl-tutorial/lib/python3.9/site-packages (from requests->mowl-borg) (2022.12.7)\n",
      "Requirement already satisfied: charset-normalizer<4,>=2 in /home/zhapacfp/miniconda3/envs/mowl-tutorial/lib/python3.9/site-packages (from requests->mowl-borg) (2.0.4)\n",
      "Requirement already satisfied: threadpoolctl>=2.0.0 in /home/zhapacfp/miniconda3/envs/mowl-tutorial/lib/python3.9/site-packages (from scikit-learn->mowl-borg) (3.1.0)\n",
      "Requirement already satisfied: joblib>=1.1.1 in /home/zhapacfp/miniconda3/envs/mowl-tutorial/lib/python3.9/site-packages (from scikit-learn->mowl-borg) (1.2.0)\n",
      "Requirement already satisfied: pyfume in /home/zhapacfp/miniconda3/envs/mowl-tutorial/lib/python3.9/site-packages (from FuzzyTM>=0.4.0->gensim->mowl-borg) (0.2.25)\n",
      "Requirement already satisfied: sqlalchemy>=1.3.0 in /home/zhapacfp/miniconda3/envs/mowl-tutorial/lib/python3.9/site-packages (from optuna>=2.0.0->pykeen==1.9.0->mowl-borg) (1.4.46)\n",
      "Requirement already satisfied: cmaes>=0.8.2 in /home/zhapacfp/miniconda3/envs/mowl-tutorial/lib/python3.9/site-packages (from optuna>=2.0.0->pykeen==1.9.0->mowl-borg) (0.9.1)\n",
      "Requirement already satisfied: cliff in /home/zhapacfp/miniconda3/envs/mowl-tutorial/lib/python3.9/site-packages (from optuna>=2.0.0->pykeen==1.9.0->mowl-borg) (4.1.0)\n",
      "Requirement already satisfied: importlib-metadata<5.0.0 in /home/zhapacfp/miniconda3/envs/mowl-tutorial/lib/python3.9/site-packages (from optuna>=2.0.0->pykeen==1.9.0->mowl-borg) (4.13.0)\n",
      "Requirement already satisfied: colorlog in /home/zhapacfp/miniconda3/envs/mowl-tutorial/lib/python3.9/site-packages (from optuna>=2.0.0->pykeen==1.9.0->mowl-borg) (6.7.0)\n",
      "Requirement already satisfied: alembic>=1.5.0 in /home/zhapacfp/miniconda3/envs/mowl-tutorial/lib/python3.9/site-packages (from optuna>=2.0.0->pykeen==1.9.0->mowl-borg) (1.9.1)\n",
      "Requirement already satisfied: six>=1.5 in /home/zhapacfp/miniconda3/envs/mowl-tutorial/lib/python3.9/site-packages (from python-dateutil>=2.8.1->pandas->mowl-borg) (1.16.0)\n",
      "Requirement already satisfied: marshmallow<4.0.0,>=3.3.0 in /home/zhapacfp/miniconda3/envs/mowl-tutorial/lib/python3.9/site-packages (from dataclasses-json->pykeen==1.9.0->mowl-borg) (3.19.0)\n",
      "Requirement already satisfied: typing-inspect>=0.4.0 in /home/zhapacfp/miniconda3/envs/mowl-tutorial/lib/python3.9/site-packages (from dataclasses-json->pykeen==1.9.0->mowl-borg) (0.8.0)\n",
      "Requirement already satisfied: marshmallow-enum<2.0.0,>=1.5.1 in /home/zhapacfp/miniconda3/envs/mowl-tutorial/lib/python3.9/site-packages (from dataclasses-json->pykeen==1.9.0->mowl-borg) (1.5.1)\n",
      "Requirement already satisfied: Mako in /home/zhapacfp/miniconda3/envs/mowl-tutorial/lib/python3.9/site-packages (from alembic>=1.5.0->optuna>=2.0.0->pykeen==1.9.0->mowl-borg) (1.2.4)\n",
      "Requirement already satisfied: zipp>=0.5 in /home/zhapacfp/miniconda3/envs/mowl-tutorial/lib/python3.9/site-packages (from importlib-metadata<5.0.0->optuna>=2.0.0->pykeen==1.9.0->mowl-borg) (3.11.0)\n",
      "Requirement already satisfied: greenlet!=0.4.17 in /home/zhapacfp/miniconda3/envs/mowl-tutorial/lib/python3.9/site-packages (from sqlalchemy>=1.3.0->optuna>=2.0.0->pykeen==1.9.0->mowl-borg) (2.0.1)\n",
      "Requirement already satisfied: mypy-extensions>=0.3.0 in /home/zhapacfp/miniconda3/envs/mowl-tutorial/lib/python3.9/site-packages (from typing-inspect>=0.4.0->dataclasses-json->pykeen==1.9.0->mowl-borg) (0.4.3)\n",
      "Requirement already satisfied: stevedore>=2.0.1 in /home/zhapacfp/miniconda3/envs/mowl-tutorial/lib/python3.9/site-packages (from cliff->optuna>=2.0.0->pykeen==1.9.0->mowl-borg) (4.1.1)\n",
      "Requirement already satisfied: cmd2>=1.0.0 in /home/zhapacfp/miniconda3/envs/mowl-tutorial/lib/python3.9/site-packages (from cliff->optuna>=2.0.0->pykeen==1.9.0->mowl-borg) (2.4.2)\n",
      "Requirement already satisfied: autopage>=0.4.0 in /home/zhapacfp/miniconda3/envs/mowl-tutorial/lib/python3.9/site-packages (from cliff->optuna>=2.0.0->pykeen==1.9.0->mowl-borg) (0.5.1)\n",
      "Requirement already satisfied: PrettyTable>=0.7.2 in /home/zhapacfp/miniconda3/envs/mowl-tutorial/lib/python3.9/site-packages (from cliff->optuna>=2.0.0->pykeen==1.9.0->mowl-borg) (3.6.0)\n",
      "Requirement already satisfied: fst-pso in /home/zhapacfp/miniconda3/envs/mowl-tutorial/lib/python3.9/site-packages (from pyfume->FuzzyTM>=0.4.0->gensim->mowl-borg) (1.8.1)\n",
      "Requirement already satisfied: simpful in /home/zhapacfp/miniconda3/envs/mowl-tutorial/lib/python3.9/site-packages (from pyfume->FuzzyTM>=0.4.0->gensim->mowl-borg) (2.9.0)\n",
      "Requirement already satisfied: attrs>=16.3.0 in /home/zhapacfp/miniconda3/envs/mowl-tutorial/lib/python3.9/site-packages (from cmd2>=1.0.0->cliff->optuna>=2.0.0->pykeen==1.9.0->mowl-borg) (22.2.0)\n",
      "Requirement already satisfied: wcwidth>=0.1.7 in /home/zhapacfp/miniconda3/envs/mowl-tutorial/lib/python3.9/site-packages (from cmd2>=1.0.0->cliff->optuna>=2.0.0->pykeen==1.9.0->mowl-borg) (0.2.5)\n",
      "Requirement already satisfied: pyperclip>=1.6 in /home/zhapacfp/miniconda3/envs/mowl-tutorial/lib/python3.9/site-packages (from cmd2>=1.0.0->cliff->optuna>=2.0.0->pykeen==1.9.0->mowl-borg) (1.8.2)\n",
      "Requirement already satisfied: pbr!=2.1.0,>=2.0.0 in /home/zhapacfp/miniconda3/envs/mowl-tutorial/lib/python3.9/site-packages (from stevedore>=2.0.1->cliff->optuna>=2.0.0->pykeen==1.9.0->mowl-borg) (5.11.1)\n",
      "Requirement already satisfied: miniful in /home/zhapacfp/miniconda3/envs/mowl-tutorial/lib/python3.9/site-packages (from fst-pso->pyfume->FuzzyTM>=0.4.0->gensim->mowl-borg) (0.0.6)\n",
      "Requirement already satisfied: MarkupSafe>=0.9.2 in /home/zhapacfp/miniconda3/envs/mowl-tutorial/lib/python3.9/site-packages (from Mako->alembic>=1.5.0->optuna>=2.0.0->pykeen==1.9.0->mowl-borg) (2.1.1)\n"
     ]
    }
   ],
   "source": [
    "!apt install python3-sklearn python3-sklearn-lib\n",
    "!pip install pystow==0.4.3\n",
    "!pip install mowl-borg"
   ]
  },
  {
   "cell_type": "markdown",
   "id": "ea5e8771",
   "metadata": {
    "cell_marker": "\"\"\""
   },
   "source": [
    "mOWL interfaces the OWL API. For this, we need to interface with the Java Virtual Machine (JVM):"
   ]
  },
  {
   "cell_type": "code",
   "execution_count": 51,
   "id": "28f9f64b",
   "metadata": {},
   "outputs": [],
   "source": [
    "import mowl\n",
    "mowl.init_jvm(\"10g\")"
   ]
  },
  {
   "cell_type": "code",
   "execution_count": 52,
   "id": "67b23514",
   "metadata": {
    "lines_to_next_cell": 2
   },
   "outputs": [],
   "source": [
    "import os\n",
    "from java.util import HashSet\n",
    "from mowl.owlapi import OWLAPIAdapter\n",
    "from org.semanticweb.owlapi.model import IRI"
   ]
  },
  {
   "cell_type": "markdown",
   "id": "c14f5003",
   "metadata": {},
   "source": [
    "## Let's create our first ontology"
   ]
  },
  {
   "cell_type": "code",
   "execution_count": 53,
   "id": "d0185690",
   "metadata": {},
   "outputs": [],
   "source": [
    "adapter = OWLAPIAdapter()\n",
    "ontology = adapter.create_ontology(\"http://mowl/family\")"
   ]
  },
  {
   "cell_type": "markdown",
   "id": "717584cb",
   "metadata": {},
   "source": [
    "## Class names"
   ]
  },
  {
   "cell_type": "code",
   "execution_count": 54,
   "id": "1bed30bf",
   "metadata": {},
   "outputs": [],
   "source": [
    "male = adapter.create_class(\"http://Male\")\n",
    "female = adapter.create_class(\"http://Female\")\n",
    "parent = adapter.create_class(\"http://Parent\")\n",
    "person = adapter.create_class(\"http://Person\")\n",
    "mother = adapter.create_class(\"http://Mother\")\n",
    "father = adapter.create_class(\"http://Father\")\n",
    "sibling = adapter.create_class(\"http://Sibling\")\n",
    "brother = adapter.create_class(\"http://Brother\")\n",
    "sister = adapter.create_class(\"http://Sister\")\n",
    "son = adapter.create_class(\"http://Son\")\n",
    "daughter = adapter.create_class(\"http://Daughter\")"
   ]
  },
  {
   "cell_type": "markdown",
   "id": "b91c3e02",
   "metadata": {},
   "source": [
    "## Role names"
   ]
  },
  {
   "cell_type": "code",
   "execution_count": 55,
   "id": "d0a5a8b7",
   "metadata": {},
   "outputs": [],
   "source": [
    "has_child = adapter.create_object_property(\"http://hasChild\")\n",
    "has_parent = adapter.create_object_property(\"http://hasParent\")"
   ]
  },
  {
   "cell_type": "markdown",
   "id": "7b620354",
   "metadata": {},
   "source": [
    "## Individual names"
   ]
  },
  {
   "cell_type": "code",
   "execution_count": 56,
   "id": "acc6d422",
   "metadata": {},
   "outputs": [],
   "source": [
    "John = adapter.create_individual(\"http://John\")\n",
    "Jane = adapter.create_individual(\"http://Jane\")\n",
    "Robert = adapter.create_individual(\"http://Robert\")\n",
    "Melissa = adapter.create_individual(\"http://Melissa\")"
   ]
  },
  {
   "cell_type": "markdown",
   "id": "78f5b157",
   "metadata": {
    "lines_to_next_cell": 0
   },
   "source": [
    "## Axioms\n",
    "\n",
    "Let's create some axioms of the form $A \\sqsubseteq B$."
   ]
  },
  {
   "cell_type": "code",
   "execution_count": 57,
   "id": "ae18157d",
   "metadata": {},
   "outputs": [
    {
     "data": {
      "text/plain": [
       "True"
      ]
     },
     "execution_count": 57,
     "metadata": {},
     "output_type": "execute_result"
    }
   ],
   "source": [
    "axioms = HashSet()\n",
    "axioms.add(adapter.create_subclass_of(male, person))\n",
    "axioms.add(adapter.create_subclass_of(female, person))\n",
    "axioms.add(adapter.create_subclass_of(parent, person))\n",
    "axioms.add(adapter.create_subclass_of(mother, female))\n",
    "axioms.add(adapter.create_subclass_of(father, male))"
   ]
  },
  {
   "cell_type": "markdown",
   "id": "540d5f36",
   "metadata": {},
   "source": [
    "Now, let's create some axioms of the form $A \\sqcap B \\sqsubseteq C$."
   ]
  },
  {
   "cell_type": "code",
   "execution_count": 58,
   "id": "264d1f99",
   "metadata": {},
   "outputs": [
    {
     "data": {
      "text/plain": [
       "True"
      ]
     },
     "execution_count": 58,
     "metadata": {},
     "output_type": "execute_result"
    }
   ],
   "source": [
    "parent_and_male = adapter.create_object_intersection_of(parent, male)\n",
    "axioms.add(adapter.create_subclass_of(parent_and_male, father))\n",
    "parent_and_female = adapter.create_object_intersection_of(parent, female)\n",
    "axioms.add(adapter.create_subclass_of(parent_and_female, mother))"
   ]
  },
  {
   "cell_type": "markdown",
   "id": "cf1e4b91",
   "metadata": {},
   "source": [
    "Now some axioms of the form $A \\sqcup B \\equiv C$."
   ]
  },
  {
   "cell_type": "code",
   "execution_count": 59,
   "id": "8586e25a",
   "metadata": {},
   "outputs": [
    {
     "data": {
      "text/plain": [
       "True"
      ]
     },
     "execution_count": 59,
     "metadata": {},
     "output_type": "execute_result"
    }
   ],
   "source": [
    "male_or_female = adapter.create_object_union_of(male, female)\n",
    "axioms.add(adapter.create_equivalent_classes(male_or_female, person))"
   ]
  },
  {
   "cell_type": "markdown",
   "id": "b6f2783f",
   "metadata": {},
   "source": [
    "One axiom of the form $\\neg A \\equiv  B$."
   ]
  },
  {
   "cell_type": "code",
   "execution_count": 60,
   "id": "2168bdf4",
   "metadata": {},
   "outputs": [
    {
     "data": {
      "text/plain": [
       "True"
      ]
     },
     "execution_count": 60,
     "metadata": {},
     "output_type": "execute_result"
    }
   ],
   "source": [
    "not_male = adapter.create_complement_of(male)\n",
    "axioms.add(adapter.create_equivalent_classes(not_male, female))"
   ]
  },
  {
   "cell_type": "markdown",
   "id": "aaf66e87",
   "metadata": {},
   "source": [
    "One axiom of the form $A \\sqsubseteq \\exists R.B$."
   ]
  },
  {
   "cell_type": "code",
   "execution_count": 61,
   "id": "49ac4133",
   "metadata": {},
   "outputs": [
    {
     "data": {
      "text/plain": [
       "True"
      ]
     },
     "execution_count": 61,
     "metadata": {},
     "output_type": "execute_result"
    }
   ],
   "source": [
    "has_child_person = adapter.create_object_some_values_from(has_child, person)\n",
    "axioms.add(adapter.create_subclass_of(parent, has_child_person))"
   ]
  },
  {
   "cell_type": "markdown",
   "id": "681c972c",
   "metadata": {},
   "source": [
    "And finally, some assertion axioms of the form $C(a)$ and $R(a,b)$."
   ]
  },
  {
   "cell_type": "code",
   "execution_count": 62,
   "id": "fa727d67",
   "metadata": {},
   "outputs": [
    {
     "data": {
      "text/plain": [
       "<java object 'org.semanticweb.owlapi.model.parameters.ChangeApplied'>"
      ]
     },
     "execution_count": 62,
     "metadata": {},
     "output_type": "execute_result"
    }
   ],
   "source": [
    "axioms.add(adapter.create_class_assertion(father, John))\n",
    "axioms.add(adapter.create_class_assertion(mother, Jane))\n",
    "axioms.add(adapter.create_class_assertion(male, Robert))\n",
    "axioms.add(adapter.create_class_assertion(female, Melissa))\n",
    "axioms.add(adapter.create_object_property_assertion(has_child, John, Robert))\n",
    "axioms.add(adapter.create_object_property_assertion(has_child, Jane, Robert))\n",
    "axioms.add(adapter.create_object_property_assertion(has_child, John, Melissa))\n",
    "axioms.add(adapter.create_object_property_assertion(has_child, Jane, Melissa))\n",
    "adapter.owl_manager.addAxioms(ontology, axioms)"
   ]
  },
  {
   "cell_type": "code",
   "execution_count": 63,
   "id": "ed8a13b4",
   "metadata": {},
   "outputs": [],
   "source": [
    "ont_file = os.path.abspath(f'family.owl')"
   ]
  },
  {
   "cell_type": "code",
   "execution_count": 64,
   "id": "07e97219",
   "metadata": {},
   "outputs": [],
   "source": [
    "adapter.owl_manager.saveOntology(ontology, IRI.create('file://'+ont_file))"
   ]
  },
  {
   "cell_type": "code",
   "execution_count": null,
   "id": "b24a1d7a",
   "metadata": {},
   "outputs": [],
   "source": [
    "\n"
   ]
  },
  {
   "cell_type": "code",
   "execution_count": 65,
   "id": "bece7250",
   "metadata": {},
   "outputs": [
    {
     "ename": "ModuleNotFoundError",
     "evalue": "No module named 'google.colab'",
     "output_type": "error",
     "traceback": [
      "\u001b[0;31m---------------------------------------------------------------------------\u001b[0m",
      "\u001b[0;31mModuleNotFoundError\u001b[0m                       Traceback (most recent call last)",
      "Cell \u001b[0;32mIn[65], line 1\u001b[0m\n\u001b[0;32m----> 1\u001b[0m \u001b[38;5;28;01mfrom\u001b[39;00m \u001b[38;5;21;01mgoogle\u001b[39;00m\u001b[38;5;21;01m.\u001b[39;00m\u001b[38;5;21;01mcolab\u001b[39;00m \u001b[38;5;28;01mimport\u001b[39;00m drive\n\u001b[1;32m      2\u001b[0m drive\u001b[38;5;241m.\u001b[39mmount(\u001b[38;5;124m'\u001b[39m\u001b[38;5;124m/content/drive\u001b[39m\u001b[38;5;124m'\u001b[39m)\n\u001b[1;32m      3\u001b[0m \u001b[38;5;28;01mimport\u001b[39;00m \u001b[38;5;21;01mos\u001b[39;00m\n",
      "\u001b[0;31mModuleNotFoundError\u001b[0m: No module named 'google.colab'"
     ]
    }
   ],
   "source": [
    "from google.colab import drive\n",
    "drive.mount('/content/drive')\n",
    "import os\n",
    "os.chdir(\"/content/drive/MyDrive/mowl-tutorial/\")"
   ]
  },
  {
   "cell_type": "markdown",
   "id": "409088f5",
   "metadata": {
    "cell_marker": "\"\"\""
   },
   "source": [
    "# Ontology projections into graphs"
   ]
  },
  {
   "cell_type": "markdown",
   "id": "e085fe5f",
   "metadata": {
    "cell_marker": "r\"\"\",\n\"\"\""
   },
   "source": [
    "Ontologies are formed by a TBox, an ABox and an RBox. A Knowledge\n",
    "Graph can be easily extracted from the ABox and the RBox. However, to\n",
    "encode the graph representation of the TBox, which is composed by\n",
    "(complex) concept descriptions, many approaches have been developed. In mOWL, we provide some\n",
    "methods that perform ontology projection into graphs:\n",
    "\n",
    "- **Taxonomy projection**: the projection of axioms of the form $A\n",
    "\\sqsubseteq B$ as edges $(A, subclassof, B)$.\n",
    "\n",
    "- **Taxonomy + relations**: the projection of axioms of the form $A\n",
    "\\sqsubseteq B$ and $A \\sqsubseteq \\exists R.B$ as edges $(A,\n",
    "subclassof, B)$ and $(A, R, B)$, respectively.\n",
    "\n",
    "- **DL2Vec projection**\n",
    "\n",
    "- **OWL2Vec projection**"
   ]
  },
  {
   "cell_type": "code",
   "execution_count": 66,
   "id": "476f319f",
   "metadata": {
    "title": "[code]"
   },
   "outputs": [],
   "source": [
    "\n",
    "import mowl\n",
    "mowl.init_jvm(\"10g\")\n",
    "\n",
    "from mowl.projection import TaxonomyProjector, TaxonomyWithRelationsProjector, DL2VecProjector, OWL2VecStarProjector"
   ]
  },
  {
   "cell_type": "code",
   "execution_count": 67,
   "id": "4c497b12",
   "metadata": {
    "lines_to_next_cell": 1,
    "title": "[code]"
   },
   "outputs": [
    {
     "name": "stdout",
     "output_type": "stream",
     "text": [
      "INFO: Number of ontology classes: 6\n"
     ]
    }
   ],
   "source": [
    "#from mowl.datasets.builtin import FamilyDataset\n",
    "from mowl.datasets import PathDataset\n",
    "#dataset = FamilyDataset()\n",
    "dataset = PathDataset(\"family.owl\")\n",
    "edges = TaxonomyProjector().project(dataset.ontology)"
   ]
  },
  {
   "cell_type": "code",
   "execution_count": 68,
   "id": "36c21edc",
   "metadata": {
    "lines_to_next_cell": 1,
    "title": "[code]"
   },
   "outputs": [],
   "source": [
    "def nx_network(edges):\n",
    "    import networkx as nx\n",
    "    import matplotlib.pyplot as plt\n",
    "    G = nx.DiGraph()\n",
    "    for edge in edges:\n",
    "        src = edge.src.split(\"/\")[-1]\n",
    "        dst = edge.dst.split(\"/\")[-1]\n",
    "        G.add_edge(src, dst)\n",
    "    #nx draw with custom colors\n",
    "    plt.figure(figsize=(5,5))\n",
    "    pos = nx.spring_layout(G)\n",
    "    nx.draw(G, pos, edge_color='black', width=1, linewidths=1,\n",
    "            node_size=500, node_color='cyan', alpha=0.9,\n",
    "            labels={node:node for node in G.nodes()})\n",
    "    #nx.draw(G, with_labels=True)\n",
    "    plt.show()"
   ]
  },
  {
   "cell_type": "code",
   "execution_count": 69,
   "id": "b8f1af71",
   "metadata": {
    "lines_to_next_cell": 2
   },
   "outputs": [
    {
     "data": {
      "image/png": "[encoded data removed]",
      "text/plain": [
       "<Figure size 500x500 with 1 Axes>"
      ]
     },
     "metadata": {},
     "output_type": "display_data"
    }
   ],
   "source": [
    "nx_network(edges)"
   ]
  },
  {
   "cell_type": "code",
   "execution_count": 70,
   "id": "e54ca736",
   "metadata": {
    "lines_to_next_cell": 2
   },
   "outputs": [],
   "source": [
    "dl2vec_proj = DL2VecProjector(bidirectional_taxonomy=True)\n",
    "d2v_edges = dl2vec_proj.project(dataset.ontology, with_individuals=True)"
   ]
  },
  {
   "cell_type": "code",
   "execution_count": 71,
   "id": "f8f3de76",
   "metadata": {
    "title": "[code]"
   },
   "outputs": [
    {
     "data": {
      "image/png": "[encoded data removed]",
      "text/plain": [
       "<Figure size 500x500 with 1 Axes>"
      ]
     },
     "metadata": {},
     "output_type": "display_data"
    }
   ],
   "source": [
    "nx_network(d2v_edges)"
   ]
  },
  {
   "cell_type": "code",
   "execution_count": 72,
   "id": "bf50840b",
   "metadata": {
    "lines_to_next_cell": 2
   },
   "outputs": [
    {
     "name": "stdout",
     "output_type": "stream",
     "text": [
      "subRoles: Map()\n",
      "inverseRoles: Map()\n"
     ]
    }
   ],
   "source": [
    "owl2vec_proj = OWL2VecStarProjector(bidirectional_taxonomy=True)\n",
    "o2v_edges = owl2vec_proj.project(dataset.ontology)"
   ]
  },
  {
   "cell_type": "code",
   "execution_count": 73,
   "id": "79b968d3",
   "metadata": {
    "title": "[code]"
   },
   "outputs": [
    {
     "data": {
      "image/png": "[encoded data removed]",
      "text/plain": [
       "<Figure size 500x500 with 1 Axes>"
      ]
     },
     "metadata": {},
     "output_type": "display_data"
    }
   ],
   "source": [
    "nx_network(o2v_edges)"
   ]
  },
  {
   "cell_type": "markdown",
   "id": "b0cf9350",
   "metadata": {},
   "source": [
    "# Random-walk-based embeddings of ontologies"
   ]
  },
  {
   "cell_type": "markdown",
   "id": "8939e60c",
   "metadata": {},
   "source": [
    "After generating the graph, we can embed it in different ways. Two approaches are supported in mOWL: \n",
    "- Embeddings based on random walks\n",
    "- Embeddings based on KGE\n",
    "\n",
    "Let's try the approach with random walks."
   ]
  },
  {
   "cell_type": "code",
   "execution_count": 74,
   "id": "e036c6fe",
   "metadata": {},
   "outputs": [
    {
     "name": "stdout",
     "output_type": "stream",
     "text": [
      "Starting pool...\n",
      "+ started processing thread 1\n",
      "+ started processing thread 0\n",
      "+ started processing thread 2\n",
      "+ started processing thread 3\n",
      "- finished processing thread 1 after 38\n",
      "- finished processing thread 3 after 40\n",
      "- finished processing thread 0 after 41\n",
      "- finished processing thread 2 after 42\n",
      "* Walking is done, shutting down the executor\n"
     ]
    }
   ],
   "source": [
    "from mowl.walking.deepwalk.model import DeepWalk\n",
    "walker =  DeepWalk(\n",
    "             10, #num_walks,\n",
    "             4, #walk_length,\n",
    "             0.1, #alpha\n",
    "             outfile = \"walks_dw.txt\", # /optional/path/to/save/walks,\n",
    "             workers = 4)\n",
    "walker.walk(o2v_edges)"
   ]
  },
  {
   "cell_type": "markdown",
   "id": "405d005b",
   "metadata": {},
   "source": [
    "## Process the walks using Word2Vec"
   ]
  },
  {
   "cell_type": "code",
   "execution_count": 75,
   "id": "ad8cee9c",
   "metadata": {},
   "outputs": [
    {
     "name": "stderr",
     "output_type": "stream",
     "text": [
      "INFO:gensim.models.word2vec:collecting all words and their counts\n",
      "INFO:gensim.models.word2vec:PROGRESS: at sentence #0, processed 0 words, keeping 0 word types\n",
      "INFO:gensim.models.word2vec:collected 15 word types from a corpus of 700 raw words and 100 sentences\n",
      "INFO:gensim.models.word2vec:Creating a fresh vocabulary\n",
      "INFO:gensim.utils:Word2Vec lifecycle event {'msg': 'effective_min_count=5 retains 15 unique words (100.00% of original 15, drops 0)', 'datetime': '2023-08-28T13:04:09.720047', 'gensim': '4.3.0', 'python': '3.9.15 (main, Nov 24 2022, 14:31:59) \\n[GCC 11.2.0]', 'platform': 'Linux-5.4.0-152-generic-x86_64-with-glibc2.31', 'event': 'prepare_vocab'}\n",
      "INFO:gensim.utils:Word2Vec lifecycle event {'msg': 'effective_min_count=5 leaves 700 word corpus (100.00% of original 700, drops 0)', 'datetime': '2023-08-28T13:04:09.720749', 'gensim': '4.3.0', 'python': '3.9.15 (main, Nov 24 2022, 14:31:59) \\n[GCC 11.2.0]', 'platform': 'Linux-5.4.0-152-generic-x86_64-with-glibc2.31', 'event': 'prepare_vocab'}\n",
      "INFO:gensim.models.word2vec:deleting the raw counts dictionary of 15 items\n",
      "INFO:gensim.models.word2vec:sample=0.001 downsamples 15 most-common words\n",
      "INFO:gensim.utils:Word2Vec lifecycle event {'msg': 'downsampling leaves estimated 92.31038706388733 word corpus (13.2%% of prior 700)', 'datetime': '2023-08-28T13:04:09.722857', 'gensim': '4.3.0', 'python': '3.9.15 (main, Nov 24 2022, 14:31:59) \\n[GCC 11.2.0]', 'platform': 'Linux-5.4.0-152-generic-x86_64-with-glibc2.31', 'event': 'prepare_vocab'}\n",
      "INFO:gensim.models.word2vec:estimated required memory for 15 words and 2 dimensions: 7740 bytes\n",
      "INFO:gensim.models.word2vec:resetting layer weights\n",
      "INFO:gensim.utils:Word2Vec lifecycle event {'update': False, 'trim_rule': 'None', 'datetime': '2023-08-28T13:04:09.728118', 'gensim': '4.3.0', 'python': '3.9.15 (main, Nov 24 2022, 14:31:59) \\n[GCC 11.2.0]', 'platform': 'Linux-5.4.0-152-generic-x86_64-with-glibc2.31', 'event': 'build_vocab'}\n",
      "INFO:gensim.utils:Word2Vec lifecycle event {'msg': 'training model with 3 workers on 15 vocabulary and 2 features, using sg=0 hs=0 sample=0.001 negative=5 window=5 shrink_windows=True', 'datetime': '2023-08-28T13:04:09.728799', 'gensim': '4.3.0', 'python': '3.9.15 (main, Nov 24 2022, 14:31:59) \\n[GCC 11.2.0]', 'platform': 'Linux-5.4.0-152-generic-x86_64-with-glibc2.31', 'event': 'train'}\n",
      "INFO:gensim.models.word2vec:EPOCH 0: training on 700 raw words (88 effective words) took 0.0s, 7810 effective words/s\n",
      "INFO:gensim.models.word2vec:EPOCH 1: training on 700 raw words (90 effective words) took 0.0s, 43563 effective words/s\n",
      "INFO:gensim.models.word2vec:EPOCH 2: training on 700 raw words (95 effective words) took 0.0s, 47713 effective words/s\n",
      "INFO:gensim.models.word2vec:EPOCH 3: training on 700 raw words (82 effective words) took 0.0s, 68186 effective words/s\n",
      "INFO:gensim.models.word2vec:EPOCH 4: training on 700 raw words (80 effective words) took 0.0s, 92583 effective words/s\n",
      "INFO:gensim.utils:Word2Vec lifecycle event {'msg': 'training on 3500 raw words (435 effective words) took 0.0s, 15463 effective words/s', 'datetime': '2023-08-28T13:04:09.757532', 'gensim': '4.3.0', 'python': '3.9.15 (main, Nov 24 2022, 14:31:59) \\n[GCC 11.2.0]', 'platform': 'Linux-5.4.0-152-generic-x86_64-with-glibc2.31', 'event': 'train'}\n",
      "INFO:gensim.utils:Word2Vec lifecycle event {'params': 'Word2Vec<vocab=15, vector_size=2, alpha=0.025>', 'datetime': '2023-08-28T13:04:09.757960', 'gensim': '4.3.0', 'python': '3.9.15 (main, Nov 24 2022, 14:31:59) \\n[GCC 11.2.0]', 'platform': 'Linux-5.4.0-152-generic-x86_64-with-glibc2.31', 'event': 'created'}\n"
     ]
    }
   ],
   "source": [
    "from gensim.models.word2vec import LineSentence\n",
    "from gensim.models import Word2Vec\n",
    "\n",
    "walk_corpus_file = walker.outfile\n",
    "sentences = LineSentence(walk_corpus_file)\n",
    "\n",
    "w2v_model = Word2Vec(sentences, vector_size = 2) #vector_size/size"
   ]
  },
  {
   "cell_type": "code",
   "execution_count": 76,
   "id": "3558b857",
   "metadata": {},
   "outputs": [
    {
     "data": {
      "text/plain": [
       "[('http://Father', 0.9913138151168823),\n",
       " ('http://Male', 0.9862878918647766),\n",
       " ('http://Person', 0.9847211241722107),\n",
       " ('http://hasChild', 0.931801974773407),\n",
       " ('http://superclassof', 0.1991695612668991),\n",
       " ('http://type', 0.09203178435564041),\n",
       " ('http://John', -0.3351083993911743),\n",
       " ('http://Melissa', -0.5720320343971252),\n",
       " ('*****', -0.7732809782028198),\n",
       " ('http://subclassof', -0.8508251905441284)]"
      ]
     },
     "execution_count": 76,
     "metadata": {},
     "output_type": "execute_result"
    }
   ],
   "source": [
    "w2v_model.wv.most_similar(\"http://Jane\")"
   ]
  },
  {
   "cell_type": "markdown",
   "id": "82c5bd5c",
   "metadata": {},
   "source": [
    "## Task 🚧\n",
    "\n",
    "We will add a new axiom in the ontology:  $hasChild(John,Bob)$. We know that Jhon and Jane already have two children. Can we infer that Bob is also related to Jane?"
   ]
  },
  {
   "cell_type": "code",
   "execution_count": 77,
   "id": "b3217008",
   "metadata": {},
   "outputs": [],
   "source": [
    "Bob = adapter.create_individual(\"http://Bob\")\n",
    "axioms.add(adapter.create_object_property_assertion(has_child, John, Bob))\n",
    "adapter.owl_manager.addAxioms(ontology, axioms)\n",
    "ont_file = os.path.abspath(f'family2.owl')\n",
    "adapter.owl_manager.saveOntology(ontology, IRI.create('file://'+ont_file))"
   ]
  },
  {
   "cell_type": "code",
   "execution_count": 79,
   "id": "d7ff6ae8",
   "metadata": {},
   "outputs": [
    {
     "name": "stdout",
     "output_type": "stream",
     "text": [
      "subRoles: Map()\n",
      "inverseRoles: Map()\n"
     ]
    }
   ],
   "source": [
    "dataset = PathDataset(\"family2.owl\")\n",
    "projector = OWL2VecStarProjector(bidirectional_taxonomy=True) # YOUR CODE HERE\n",
    "new_edges = projector.project(dataset.ontology)"
   ]
  },
  {
   "cell_type": "code",
   "execution_count": 80,
   "id": "0b3b3033",
   "metadata": {},
   "outputs": [
    {
     "ename": "TypeError",
     "evalue": "Parameter num_walks must be an integer",
     "output_type": "error",
     "traceback": [
      "\u001b[0;31m---------------------------------------------------------------------------\u001b[0m",
      "\u001b[0;31mTypeError\u001b[0m                                 Traceback (most recent call last)",
      "Cell \u001b[0;32mIn[80], line 1\u001b[0m\n\u001b[0;32m----> 1\u001b[0m walker \u001b[38;5;241m=\u001b[39m  \u001b[43mDeepWalk\u001b[49m\u001b[43m(\u001b[49m\n\u001b[1;32m      2\u001b[0m \u001b[43m             \u001b[49m\u001b[38;5;124;43m\"\u001b[39;49m\u001b[38;5;124;43myour number here\u001b[39;49m\u001b[38;5;124;43m\"\u001b[39;49m\u001b[43m,\u001b[49m\u001b[43m \u001b[49m\u001b[38;5;66;43;03m#number of walks,\u001b[39;49;00m\n\u001b[1;32m      3\u001b[0m \u001b[43m             \u001b[49m\u001b[38;5;124;43m\"\u001b[39;49m\u001b[38;5;124;43myour number here\u001b[39;49m\u001b[38;5;124;43m\"\u001b[39;49m\u001b[43m,\u001b[49m\u001b[43m \u001b[49m\u001b[38;5;66;43;03m#walk length,\u001b[39;49;00m\n\u001b[1;32m      4\u001b[0m \u001b[43m             \u001b[49m\u001b[38;5;124;43m\"\u001b[39;49m\u001b[38;5;124;43myour number here\u001b[39;49m\u001b[38;5;124;43m\"\u001b[39;49m\u001b[43m,\u001b[49m\u001b[43m \u001b[49m\u001b[38;5;66;43;03m#alpha: restart parameter\u001b[39;49;00m\n\u001b[1;32m      5\u001b[0m \u001b[43m             \u001b[49m\u001b[43moutfile\u001b[49m\u001b[43m \u001b[49m\u001b[38;5;241;43m=\u001b[39;49m\u001b[43m \u001b[49m\u001b[38;5;124;43m\"\u001b[39;49m\u001b[38;5;124;43mwalks_dw.txt\u001b[39;49m\u001b[38;5;124;43m\"\u001b[39;49m\u001b[43m,\u001b[49m\u001b[43m \u001b[49m\u001b[38;5;66;43;03m# /optional/path/to/save/walks,\u001b[39;49;00m\n\u001b[1;32m      6\u001b[0m \u001b[43m             \u001b[49m\u001b[43mworkers\u001b[49m\u001b[43m \u001b[49m\u001b[38;5;241;43m=\u001b[39;49m\u001b[43m \u001b[49m\u001b[38;5;241;43m4\u001b[39;49m\u001b[43m)\u001b[49m\n\u001b[1;32m      8\u001b[0m walker\u001b[38;5;241m.\u001b[39mwalk(new_edges)\n\u001b[1;32m      9\u001b[0m walk_corpus_file \u001b[38;5;241m=\u001b[39m walker\u001b[38;5;241m.\u001b[39moutfile\n",
      "File \u001b[0;32m~/miniconda3/envs/mowl-tutorial/lib/python3.9/site-packages/mowl/walking/deepwalk/model.py:34\u001b[0m, in \u001b[0;36mDeepWalk.__init__\u001b[0;34m(self, num_walks, walk_length, alpha, outfile, workers, seed)\u001b[0m\n\u001b[1;32m     26\u001b[0m \u001b[38;5;28;01mdef\u001b[39;00m \u001b[38;5;21m__init__\u001b[39m(\u001b[38;5;28mself\u001b[39m,\n\u001b[1;32m     27\u001b[0m              num_walks,\n\u001b[1;32m     28\u001b[0m              walk_length,\n\u001b[0;32m   (...)\u001b[0m\n\u001b[1;32m     32\u001b[0m              seed\u001b[38;5;241m=\u001b[39m\u001b[38;5;241m0\u001b[39m\n\u001b[1;32m     33\u001b[0m              ):\n\u001b[0;32m---> 34\u001b[0m     \u001b[38;5;28;43msuper\u001b[39;49m\u001b[43m(\u001b[49m\u001b[43m)\u001b[49m\u001b[38;5;241;43m.\u001b[39;49m\u001b[38;5;21;43m__init__\u001b[39;49m\u001b[43m(\u001b[49m\u001b[43mnum_walks\u001b[49m\u001b[43m,\u001b[49m\u001b[43m \u001b[49m\u001b[43mwalk_length\u001b[49m\u001b[43m,\u001b[49m\u001b[43m \u001b[49m\u001b[43moutfile\u001b[49m\u001b[38;5;241;43m=\u001b[39;49m\u001b[43moutfile\u001b[49m\u001b[43m,\u001b[49m\u001b[43m \u001b[49m\u001b[43mworkers\u001b[49m\u001b[38;5;241;43m=\u001b[39;49m\u001b[43mworkers\u001b[49m\u001b[43m)\u001b[49m\n\u001b[1;32m     36\u001b[0m     \u001b[38;5;66;03m# Type checking\u001b[39;00m\n\u001b[1;32m     37\u001b[0m     \u001b[38;5;28;01mif\u001b[39;00m \u001b[38;5;129;01mnot\u001b[39;00m \u001b[38;5;28misinstance\u001b[39m(alpha, \u001b[38;5;28mfloat\u001b[39m):\n",
      "File \u001b[0;32m~/miniconda3/envs/mowl-tutorial/lib/python3.9/site-packages/mowl/walking/walking.py:19\u001b[0m, in \u001b[0;36mWalkingModel.__init__\u001b[0;34m(self, num_walks, walk_length, outfile, workers)\u001b[0m\n\u001b[1;32m     16\u001b[0m \u001b[38;5;28;01mdef\u001b[39;00m \u001b[38;5;21m__init__\u001b[39m(\u001b[38;5;28mself\u001b[39m, num_walks, walk_length, outfile, workers\u001b[38;5;241m=\u001b[39m\u001b[38;5;241m1\u001b[39m):\n\u001b[1;32m     18\u001b[0m     \u001b[38;5;28;01mif\u001b[39;00m \u001b[38;5;129;01mnot\u001b[39;00m \u001b[38;5;28misinstance\u001b[39m(num_walks, \u001b[38;5;28mint\u001b[39m):\n\u001b[0;32m---> 19\u001b[0m         \u001b[38;5;28;01mraise\u001b[39;00m \u001b[38;5;167;01mTypeError\u001b[39;00m(\u001b[38;5;124m\"\u001b[39m\u001b[38;5;124mParameter num_walks must be an integer\u001b[39m\u001b[38;5;124m\"\u001b[39m)\n\u001b[1;32m     20\u001b[0m     \u001b[38;5;28;01mif\u001b[39;00m \u001b[38;5;129;01mnot\u001b[39;00m \u001b[38;5;28misinstance\u001b[39m(walk_length, \u001b[38;5;28mint\u001b[39m):\n\u001b[1;32m     21\u001b[0m         \u001b[38;5;28;01mraise\u001b[39;00m \u001b[38;5;167;01mTypeError\u001b[39;00m(\u001b[38;5;124m\"\u001b[39m\u001b[38;5;124mParameter walk_length must be an integer\u001b[39m\u001b[38;5;124m\"\u001b[39m)\n",
      "\u001b[0;31mTypeError\u001b[0m: Parameter num_walks must be an integer"
     ]
    }
   ],
   "source": [
    "walker =  DeepWalk(\n",
    "             10, #number of walks,\n",
    "             10, #walk length,\n",
    "             \"your number here\", #alpha: restart parameter\n",
    "             outfile = \"walks_dw.txt\", # /optional/path/to/save/walks,\n",
    "             workers = 4)\n",
    "\n",
    "walker.walk(new_edges)\n",
    "walk_corpus_file = walker.outfile\n",
    "sentences = LineSentence(walk_corpus_file)\n",
    "w2v_model = Word2Vec(sentences, vector_size=5)"
   ]
  },
  {
   "cell_type": "code",
   "execution_count": null,
   "id": "0dea3d93",
   "metadata": {},
   "outputs": [],
   "source": [
    "w2v_model.wv.most_similar(\"http://Jane\")\n",
    "\n"
   ]
  },
  {
   "cell_type": "markdown",
   "id": "740e811e",
   "metadata": {
    "id": "67cacc02",
    "lines_to_next_cell": 2
   },
   "source": [
    "# Use case: Gene-Disease association prediction\n"
   ]
  },
  {
   "cell_type": "code",
   "execution_count": null,
   "id": "f61e8f74",
   "metadata": {
    "colab": {
     "base_uri": "https://localhost:8080/"
    },
    "id": "9703d69b",
    "outputId": "52d1114d-85b6-492e-fd94-2a4883e3798e"
   },
   "outputs": [],
   "source": [
    "# built-in imports\n",
    "\n",
    "\n",
    "import numpy as np\n",
    "from mowl.datasets.builtin import GDAMouseDataset\n",
    "from mowl.evaluation.rank_based import EmbeddingsRankBasedEvaluator\n",
    "from mowl.evaluation.base import CosineSimilarity\n",
    "from gensim.models import Word2Vec\n",
    "from mowl.projection import TaxonomyWithRelationsProjector\n",
    "\n",
    "import warnings  \n",
    "warnings.filterwarnings(action='ignore',category=UserWarning,module='gensim')  \n",
    "warnings.filterwarnings(action='ignore',category=FutureWarning,module='gensim') "
   ]
  },
  {
   "cell_type": "markdown",
   "id": "598aafff",
   "metadata": {
    "id": "ef17b662"
   },
   "source": [
    "# Dataset "
   ]
  },
  {
   "cell_type": "markdown",
   "id": "8d4ef7e8",
   "metadata": {
    "id": "0f7f4e74"
   },
   "source": [
    "Build your own dataset"
   ]
  },
  {
   "cell_type": "code",
   "execution_count": null,
   "id": "f67787e8",
   "metadata": {
    "colab": {
     "base_uri": "https://localhost:8080/",
     "height": 532
    },
    "id": "496a47ba",
    "lines_to_next_cell": 2,
    "outputId": "9bb730bd-e98b-4465-fab2-05a2120090ad"
   },
   "outputs": [],
   "source": [
    "from mowl.ontology.extend import insert_annotations\n",
    " \n",
    "diseases_annotations = (\"diseases_annot.tsv\", \"http://has_annotation\", True) \n",
    "genes_annotations = (\"genes_annot.tsv\", \"http://has_annotation\", True) \n",
    "gene_disease_associations = (\"gene_disease_associations.tsv\",\"http://is_associated_with/\", True) \n",
    "\n",
    "annotations = [diseases_annotations , genes_annotations, gene_disease_associations] # There could be more than 1 annotations file. \n",
    "\n",
    "insert_annotations(\"upheno.owl\", annotations, out_file = \"upheno_with_annotations.owl\" )"
   ]
  },
  {
   "cell_type": "markdown",
   "id": "3806f353",
   "metadata": {
    "id": "11e43254"
   },
   "source": [
    "Use the Built-in Dataset"
   ]
  },
  {
   "cell_type": "code",
   "execution_count": null,
   "id": "530ad431",
   "metadata": {
    "colab": {
     "background_save": true
    },
    "id": "a13439d7"
   },
   "outputs": [],
   "source": [
    "dataset = GDAMouseDataset()"
   ]
  },
  {
   "cell_type": "markdown",
   "id": "72e525c8",
   "metadata": {
    "id": "040c3b7e"
   },
   "source": [
    "The dataset will be downloaded to a folder name `gda_mouse` with the training, validation and testing ontology dataset"
   ]
  },
  {
   "cell_type": "code",
   "execution_count": null,
   "id": "6b7ed171",
   "metadata": {
    "colab": {
     "background_save": true
    },
    "id": "e53eed28",
    "outputId": "0b774d72-3205-47a8-baca-492c1b5efcf0"
   },
   "outputs": [],
   "source": [
    "! ls gda_mouse/"
   ]
  },
  {
   "cell_type": "markdown",
   "id": "a9e07599",
   "metadata": {
    "id": "787e2cf9"
   },
   "source": [
    "# Graph-based embeddings"
   ]
  },
  {
   "cell_type": "markdown",
   "id": "caeede25",
   "metadata": {
    "id": "327f785d"
   },
   "source": [
    " ### Example for two methods: DL2vec and Owl2vec* methods"
   ]
  },
  {
   "cell_type": "markdown",
   "id": "d34fea11",
   "metadata": {
    "id": "5cf31c82"
   },
   "source": [
    "<font color='blue'><font size=\"4\">1) DL2vec Prediction Method </font></font>\n"
   ]
  },
  {
   "cell_type": "markdown",
   "id": "c099d8c5",
   "metadata": {
    "id": "9035b59a"
   },
   "source": [
    "1. **Projecting the ontology** \n",
    "- Project the ontology using the DL2Vec Projector class, with the specific rules used to project the ontology. \n",
    "- The outcome of the projection algorithm is an edgelist.\n",
    "\n"
   ]
  },
  {
   "cell_type": "code",
   "execution_count": null,
   "id": "8baeaee6",
   "metadata": {
    "colab": {
     "background_save": true
    },
    "id": "9d1c7a6f"
   },
   "outputs": [],
   "source": [
    "from mowl.projection.dl2vec.model import DL2VecProjector \n",
    "projector = DL2VecProjector(True)\n",
    "train_edges = projector.project(dataset.ontology)\n",
    "test_edges = projector.project(dataset.testing)"
   ]
  },
  {
   "cell_type": "markdown",
   "id": "b047fe3a",
   "metadata": {
    "id": "914d1c77"
   },
   "source": [
    "2. **Generating random walks**\n",
    "- The random walks are generated using the DeepWalk.\n"
   ]
  },
  {
   "cell_type": "code",
   "execution_count": null,
   "id": "3408df4a",
   "metadata": {
    "colab": {
     "background_save": true
    },
    "id": "99ff6e49"
   },
   "outputs": [],
   "source": [
    "walker = DeepWalk(10, # number of walks per node\n",
    "                  10, # walk length\n",
    "                  0.1, # restart probability\n",
    "                  workers=4, outfile = 'walk',seed=40) # number of threads\n",
    "\n",
    "walks = walker.walk(train_edges)\n",
    "walks_file = walker.outfile\n",
    "sentences = LineSentence(walks_file)"
   ]
  },
  {
   "cell_type": "markdown",
   "id": "3de922f0",
   "metadata": {
    "id": "4cdf1ae0"
   },
   "source": [
    "3. **Training the Word2Vec model**\n",
    "- To train the Word2Vec model, we rely on the Gensim library"
   ]
  },
  {
   "cell_type": "code",
   "execution_count": null,
   "id": "4ff55d48",
   "metadata": {
    "colab": {
     "background_save": true
    },
    "id": "68aa8d8c",
    "lines_to_next_cell": 2
   },
   "outputs": [],
   "source": [
    "model = Word2Vec(sentences, vector_size=100, epochs = 15, window=5, min_count=1, workers=10)"
   ]
  },
  {
   "cell_type": "markdown",
   "id": "c2affc42",
   "metadata": {
    "id": "a390732a"
   },
   "source": [
    "4. **Evaluating the embeddings** \n",
    "- We are going to evaluate the plausibility of an association gene-disease with a gene against all possible diseases and check the rank of the true disease association using CosineSimilarity.\n"
   ]
  },
  {
   "cell_type": "code",
   "execution_count": null,
   "id": "81bbde2f",
   "metadata": {
    "colab": {
     "background_save": true
    },
    "id": "4c2150ae",
    "outputId": "b557210b-4d2b-4f0f-cbff-61833b71485e"
   },
   "outputs": [],
   "source": [
    "genes, diseases = dataset.evaluation_classes\n",
    "projector = TaxonomyWithRelationsProjector(taxonomy=False,\n",
    "                                           relations=[\"http://is_associated_with\"])\n",
    "\n",
    "vectors = model.wv\n",
    "evaluator = EmbeddingsRankBasedEvaluator(\n",
    "    vectors,\n",
    "    test_edges,\n",
    "    CosineSimilarity,\n",
    "    training_set=train_edges,\n",
    "    head_entities = genes.as_str,\n",
    "    tail_entities = diseases.as_str,\n",
    "    device = 'cpu')\n",
    "\n",
    "\n",
    "evaluator.evaluate(show=True)"
   ]
  },
  {
   "cell_type": "code",
   "execution_count": null,
   "id": "a107a18f",
   "metadata": {
    "colab": {
     "base_uri": "https://localhost:8080/"
    },
    "id": "256a9b30",
    "outputId": "31e30808-5e8d-4437-b98d-4c55999cf342"
   },
   "outputs": [],
   "source": [
    "human_disease=[]\n",
    "mouse_genes=[]\n",
    "for classes in vectors.index_to_key:\n",
    "    if 'OMIM' in classes:\n",
    "        human_disease.append(classes)\n",
    "    if classes[7:].isnumeric():\n",
    "        mouse_genes.append(classes)\n",
    "\n",
    "print(f'Number of the disease is {len(human_disease)}, and number of genes is {len(mouse_genes)}')"
   ]
  },
  {
   "cell_type": "code",
   "execution_count": null,
   "id": "1fc53327",
   "metadata": {
    "colab": {
     "base_uri": "https://localhost:8080/"
    },
    "id": "a6a3d852",
    "outputId": "8d1df51a-3491-4ce7-9e87-c710df6d814c"
   },
   "outputs": [],
   "source": [
    "human_disease[:10]"
   ]
  },
  {
   "cell_type": "code",
   "execution_count": null,
   "id": "2b46b131",
   "metadata": {
    "colab": {
     "base_uri": "https://localhost:8080/"
    },
    "id": "ece1e2b0",
    "outputId": "7e611889-c9e3-42fe-cb41-48ed175b58cd"
   },
   "outputs": [],
   "source": [
    "mouse_genes[:10]"
   ]
  },
  {
   "cell_type": "code",
   "execution_count": null,
   "id": "00e05d07",
   "metadata": {
    "colab": {
     "base_uri": "https://localhost:8080/"
    },
    "id": "81bee2a1",
    "outputId": "b9702707-1961-4838-c23b-70bb9d5de906"
   },
   "outputs": [],
   "source": [
    "human_disease_vectors=[]\n",
    "for k in human_disease:\n",
    "    human_disease_vectors.append(vectors[k]) \n",
    "    \n",
    "mouse_genes_vectors=[]\n",
    "for k in mouse_genes:\n",
    "    mouse_genes_vectors.append(vectors[k])\n",
    "\n",
    "from sklearn.metrics.pairwise import cosine_similarity\n",
    "similarity = cosine_similarity(np.array(human_disease_vectors),np.array(mouse_genes_vectors))\n",
    "\n",
    "print(f\"The dimentions of this matrix is {similarity.shape}\")"
   ]
  },
  {
   "cell_type": "markdown",
   "id": "526a1626",
   "metadata": {
    "id": "78e26ff6"
   },
   "source": [
    "## Evaluating the predictions to find the most similar genes:"
   ]
  },
  {
   "cell_type": "code",
   "execution_count": null,
   "id": "fca05436",
   "metadata": {
    "colab": {
     "base_uri": "https://localhost:8080/"
    },
    "id": "bc900f22",
    "lines_to_next_cell": 2,
    "outputId": "3a84d908-6e07-4840-fbbc-538c637e57ef"
   },
   "outputs": [],
   "source": [
    "def find_similar_genes(disease_id, top_k, disease_genes_similarity_matrix, disease_keys, gene_keys):\n",
    "    disease_index = disease_keys.index(disease_id)\n",
    "    prediction_list = np.flip(np.argsort(disease_genes_similarity_matrix[disease_index]))\n",
    "    top_genes = [gene_keys[prediction_list[x]] for x in range(top_k)]\n",
    "    \n",
    "    return top_genes\n",
    "\n",
    "#associations from the file MGI_DO.rpt\n",
    "\n",
    "      \n",
    "#DOID:0080449\tdevelopmental and epileptic encephalopathy 16\tOMIM:615338\tmouse, laboratory\t10090\tTbc1d24\t224617\tMGI:2443456\n",
    "disease_id = 'http://OMIM_615338' \n",
    "top_k = find_similar_genes(disease_id, 5 ,similarity, human_disease, mouse_genes )\n",
    "print(f'The most similar gene to disease {disease_id.split(\"/\")[2]} are: {top_k}')\n",
    "\n",
    "      \n",
    "#DOID:0080436\tdevelopmental and epileptic encephalopathy 4\tOMIM:612164\thuman\t9606\tSTXBP1\t6812\t\n",
    "#DOID:0060309\tsyndromic X-linked intellectual disability\t\thuman\t9606\tHNRNPH2\t3188\t\n",
    "#HNRNPH2\t3188\tHnrnph2\tMGI:1201779\tMP:0001186, MP:0005386, MP:0010771\t      \n",
    "#disease_id = 'http://OMIM_612164' \n",
    "#top_k = find_similar_genes(disease_id, 5 ,similarity, human_disease, mouse_genes )\n",
    "#print(f'The most similar gene to disease {disease_id.split(\"/\")[2]} are: {top_k}')\n",
    "\n",
    "\n",
    "#OMIM_181500 : schizophrenia : DOID:5419\tOMIM:181500\tmouse, laboratory\t10090\tMagi2\t50791\tMGI:1354953\n",
    "#disease_id = 'http://OMIM_181500' \n",
    "#top_k = find_similar_genes(disease_id, 5 ,similarity, human_disease, mouse_genes )\n",
    "#print(f'The most similar gene to disease {disease_id.split(\"/\")[2]} are: {top_k}')\n",
    "      \n",
    "\n",
    "#OMIM_615643 : neurodegeneration with brain iron accumulation 6\n",
    "#DOID:0110740\tOMIM:615643\tmouse, laboratory\t10090\tCoasy\t71743\tMGI:1918993\n",
    "#disease_id = 'http://OMIM_615643' \n",
    "#top_k = find_similar_genes(disease_id, 5 ,similarity, human_disease, mouse_genes )\n",
    "#print(f'The most similar gene to disease {disease_id.split(\"/\")[2]} are: {top_k}')"
   ]
  },
  {
   "cell_type": "code",
   "execution_count": null,
   "id": "53326053",
   "metadata": {
    "colab": {
     "base_uri": "https://localhost:8080/"
    },
    "id": "uaenNY_VqKy2",
    "lines_to_next_cell": 2,
    "outputId": "059a3c80-6cd6-4b81-f750-980fac3e158d"
   },
   "outputs": [],
   "source": [
    "def find_similar_genes(disease_id, top_k, disease_genes_similarity_matrix, disease_keys, gene_keys):\n",
    "    disease_index = disease_keys.index(disease_id)\n",
    "    prediction_list = np.flip(np.argsort(disease_genes_similarity_matrix[disease_index]))\n",
    "    top_genes = [gene_keys[prediction_list[x]] for x in range(top_k)]\n",
    "    \n",
    "    return top_genes\n",
    "\n",
    "disease_id = 'http://OMIM_615643' \n",
    "top_k = find_similar_genes(disease_id, 5 ,similarity, human_disease, mouse_genes )\n",
    "print(f'The most similar gene to disease {disease_id.split(\"/\")[2]} are: {top_k}')"
   ]
  },
  {
   "cell_type": "markdown",
   "id": "261a3184",
   "metadata": {
    "id": "4125dc4b"
   },
   "source": [
    "-------------------------------------"
   ]
  },
  {
   "cell_type": "markdown",
   "id": "3e08eb02",
   "metadata": {
    "id": "04925b9e"
   },
   "source": [
    "# **Task 1 :**\n",
    "\n",
    "<div class=\"alert alert-block alert-success\" , color ='grreen'> \n",
    "\n",
    "<font size=\"4\"> \n",
    "    Predict the <font color='SteelBlue'>top 10 similar genes</font> to \n",
    "    diabetes mellitus disease OMIM ID: <font color='Tomato'>http://OMIM_608036</font>\n",
    "    using <font color='red'>OWL2vec*</font> prediction method\n",
    "\n",
    "</font>\n",
    "\n",
    "</div>\n"
   ]
  },
  {
   "cell_type": "markdown",
   "id": "67e844c6",
   "metadata": {
    "id": "8dc67f6c"
   },
   "source": [
    "<div class=\"alert alert-block alert-info\">\n",
    "<b>Tip:</b> Follow the <b>TODO</b> interactions to modify the script, and the rest should be the same you just need to run the cell to execute the code.\n",
    "</div>\n"
   ]
  },
  {
   "cell_type": "markdown",
   "id": "d90656de",
   "metadata": {
    "id": "a15b208a"
   },
   "source": [
    "----"
   ]
  },
  {
   "cell_type": "markdown",
   "id": "8a6823a4",
   "metadata": {
    "id": "eafd7415"
   },
   "source": [
    "<font color='blue'><font size=\"4\">2) OWL2vec* Prediction Method </font></font> \n"
   ]
  },
  {
   "cell_type": "markdown",
   "id": "70972692",
   "metadata": {
    "id": "56cdce23"
   },
   "source": [
    "1. **Projecting the ontology** \n",
    "- Project the ontology using the OWL2Vec* Projector class, with the specific rules used to project the ontology. \n",
    "- The outcome of the projection algorithm is an edgelist.\n"
   ]
  },
  {
   "cell_type": "code",
   "execution_count": null,
   "id": "35da7c4f",
   "metadata": {
    "id": "5e6fa077"
   },
   "outputs": [],
   "source": [
    "from mowl.projection import #TODO: import the appropriate function (refer to https://mowl.readthedocs.io/en/latest/api/projection/index.html)\n",
    "dataset = GDAMouseDataset()\n",
    "projector = OWL2VecStarProjector(True)\n",
    "train_edges = projector.project(dataset.ontology)\n",
    "test_edges = projector.project(dataset.testing)"
   ]
  },
  {
   "cell_type": "markdown",
   "id": "32231712",
   "metadata": {
    "id": "927c3cd8"
   },
   "source": [
    "2. **Generating random walks**\n",
    "- The random walks are generated using the DeepWalk.\n"
   ]
  },
  {
   "cell_type": "code",
   "execution_count": null,
   "id": "dcd531d0",
   "metadata": {
    "id": "daf9ba01"
   },
   "outputs": [],
   "source": [
    "walker = DeepWalk( ,#TODO: add the number of walks per node\n",
    "                   ,#TODO: add the walk length\n",
    "                  workers=4, # number of threads\n",
    "                  outfile = , #TODO: add the name of the output file for the walks\n",
    "                  seed=40) #fix the random seed \n",
    "\n",
    "walks = walker.walk(train_edges)\n",
    "walks_file = walker.outfile\n",
    "sentences = LineSentence(walks_file)"
   ]
  },
  {
   "cell_type": "markdown",
   "id": "7dd5f8fa",
   "metadata": {
    "id": "4b3aa6e5"
   },
   "source": [
    "3. **Training the Word2Vec model**\n",
    "- To train the Word2Vec model, we rely on the Gensim library"
   ]
  },
  {
   "cell_type": "code",
   "execution_count": null,
   "id": "8aa7e257",
   "metadata": {
    "id": "56fe1600",
    "lines_to_next_cell": 2
   },
   "outputs": [],
   "source": [
    "model = Word2Vec(sentences, \n",
    "                 vector_size= , #TODO: add the size of the vector\n",
    "                 epochs = ,     #TODO: update the number of training epochs\n",
    "                 window=5, min_count=1, workers=10)"
   ]
  },
  {
   "cell_type": "markdown",
   "id": "41eba0a4",
   "metadata": {
    "id": "1641c9c3"
   },
   "source": [
    "4. **Evaluating the embeddings** \n",
    "- We are going to evaluate the plausibility of an association gene-disease with a gene against all possible diseases and check the rank of the true disease association using CosineSimilarity.\n"
   ]
  },
  {
   "cell_type": "code",
   "execution_count": null,
   "id": "a42ae08f",
   "metadata": {
    "id": "f805927d"
   },
   "outputs": [],
   "source": [
    "genes, diseases = dataset.evaluation_classes\n",
    "projector = TaxonomyWithRelationsProjector(taxonomy=False,\n",
    "                                           relations=[\"http://is_associated_with\"])\n",
    "\n",
    "vectors = model.wv\n",
    "evaluator = EmbeddingsRankBasedEvaluator(\n",
    "    vectors,\n",
    "    test_edges,\n",
    "    CosineSimilarity,\n",
    "    training_set=train_edges,\n",
    "    head_entities = genes.as_str,\n",
    "    tail_entities = diseases.as_str,\n",
    "    device = 'cuda')\n",
    "\n",
    "evaluator.evaluate(show=True)"
   ]
  },
  {
   "cell_type": "code",
   "execution_count": null,
   "id": "ab2f3e80",
   "metadata": {
    "id": "69f2a127"
   },
   "outputs": [],
   "source": [
    "human_disease=[]\n",
    "mouse_genes=[]\n",
    "for classes in vectors.index_to_key:\n",
    "    if 'OMIM' in classes:\n",
    "        human_disease.append(classes)\n",
    "    if classes[7:].isnumeric():\n",
    "        mouse_genes.append(classes)\n",
    "\n",
    "print(f'Number of the disease is {len(human_disease)}, and number of genes is {len(mouse_genes)}')"
   ]
  },
  {
   "cell_type": "code",
   "execution_count": null,
   "id": "add6487b",
   "metadata": {
    "id": "f7cfe9e6"
   },
   "outputs": [],
   "source": [
    "human_disease_vectors=[]\n",
    "for k in human_disease:\n",
    "    human_disease_vectors.append(vectors[k]) \n",
    "    \n",
    "mouse_genes_vectors=[]\n",
    "for k in mouse_genes:\n",
    "    mouse_genes_vectors.append(vectors[k])\n",
    "\n",
    "from sklearn.metrics.pairwise import cosine_similarity\n",
    "similarity = cosine_similarity(np.array(human_disease_vectors),np.array(mouse_genes_vectors))\n",
    "\n",
    "print(\"the dimentions of this matrix is \", similarity.shape)"
   ]
  },
  {
   "cell_type": "markdown",
   "id": "ef588dbc",
   "metadata": {
    "id": "4acede44"
   },
   "source": [
    "## Evaluating the predictions to find the most similar genes:"
   ]
  },
  {
   "cell_type": "code",
   "execution_count": null,
   "id": "77235894",
   "metadata": {
    "id": "d7452778"
   },
   "outputs": [],
   "source": [
    "def find_similar_genes(disease_id, top_k, disease_genes_similarity_matrix, disease_keys, gene_keys):\n",
    "    disease_index = disease_keys.index(disease_id)\n",
    "    prediction_list = np.flip(np.argsort(disease_genes_similarity_matrix[disease_index]))\n",
    "    top_genes = [gene_keys[prediction_list[x]] for x in range(top_k)]\n",
    "    \n",
    "    return top_genes\n",
    "\n",
    "  \n",
    "\n",
    "disease_id = #TODO: write the disease OMIM ID\n",
    "\n",
    "number_of_genes =  #TODO: number of genes to be ranked\n",
    "\n",
    "top_k = find_similar_genes( , #TODO: disease OMIM ID\n",
    "                            , #TODO: number of genes \n",
    "                           similarity, \n",
    "                           human_disease, \n",
    "                           mouse_genes)\n",
    "\n",
    "print(f'The top {number_of_genes} most similar gene to disease {disease_id.split(\"/\")[2]} are:')\n",
    "\n",
    "for idx, genes in enumerate(top_k):\n",
    "    print(f\" Gene in Rank {idx+1} is : {top_k[idx]}\")\n",
    "\n",
    "\n",
    "\n",
    "                                                                                                               \n"
   ]
  },
  {
   "cell_type": "markdown",
   "id": "9c7b8a05",
   "metadata": {
    "id": "342cbd65-5035-4d51-9450-ae62bbf5895b"
   },
   "source": [
    "# Model-theoretic ontology embedding methods"
   ]
  },
  {
   "cell_type": "markdown",
   "id": "3e9cfe6b",
   "metadata": {
    "id": "ba40a869-6133-4f21-9476-61d491a4c02d"
   },
   "source": [
    "## EL-Embeddings"
   ]
  },
  {
   "cell_type": "code",
   "execution_count": null,
   "id": "84f8392f",
   "metadata": {
    "colab": {
     "base_uri": "https://localhost:8080/"
    },
    "id": "IVLfD_DmdQNz",
    "outputId": "b8d3e91a-a9bc-4bef-c4cb-7a42a7e90ed1"
   },
   "outputs": [],
   "source": [
    "from google.colab import drive\n",
    "drive.mount('/content/drive')"
   ]
  },
  {
   "cell_type": "markdown",
   "id": "dccbfa2e",
   "metadata": {
    "id": "0bfb2030-f007-4973-a40d-9b56696be17e"
   },
   "source": [
    "Import MOWL library and ELEmbedding model base classes"
   ]
  },
  {
   "cell_type": "code",
   "execution_count": null,
   "id": "c959620f",
   "metadata": {
    "id": "48048228-53d9-496f-ba8f-f81a0af469a8",
    "lines_to_next_cell": 2
   },
   "outputs": [],
   "source": [
    "import mowl\n",
    "mowl.init_jvm(\"10g\")\n",
    "\n",
    "from mowl.models.elembeddings.module import ELEmModule\n",
    "from mowl.base_models.elmodel import EmbeddingELModel"
   ]
  },
  {
   "cell_type": "markdown",
   "id": "346fc4dd",
   "metadata": {
    "id": "e7b2f876-b08d-47c6-8fd9-fc1a48a94d99"
   },
   "source": [
    "Define the model and training strategy"
   ]
  },
  {
   "cell_type": "code",
   "execution_count": null,
   "id": "d5ead207",
   "metadata": {
    "id": "36cc9569-a293-4333-817a-077cae347403"
   },
   "outputs": [],
   "source": [
    "import torch\n",
    "from torch import nn\n",
    "from tqdm import trange\n",
    "import numpy as np\n",
    "\n",
    "class ELEmbeddings(EmbeddingELModel):\n",
    "\n",
    "    def __init__(self,\n",
    "                 dataset,\n",
    "                 embed_dim=50,\n",
    "                 margin=0,\n",
    "                 reg_norm=1,\n",
    "                 learning_rate=0.001,\n",
    "                 epochs=1000,\n",
    "                 batch_size=4096 * 8,\n",
    "                 model_filepath=None,\n",
    "                 device='cpu'\n",
    "                 ):\n",
    "        super().__init__(dataset, batch_size, extended=True, model_filepath=model_filepath)\n",
    "\n",
    "        self.embed_dim = embed_dim\n",
    "        self.margin = margin\n",
    "        self.reg_norm = reg_norm\n",
    "        self.learning_rate = learning_rate\n",
    "        self.epochs = epochs\n",
    "        self.device = device\n",
    "        self._loaded = False\n",
    "        self._loaded_eval = False\n",
    "        self.extended = False\n",
    "        self.init_model()\n",
    "\n",
    "    def init_model(self):\n",
    "        self.model = ELEmModule(\n",
    "            len(self.class_index_dict),  # number of ontology classes\n",
    "            len(self.object_property_index_dict),  # number of ontology object properties\n",
    "            embed_dim=self.embed_dim,\n",
    "            margin=self.margin\n",
    "        ).to(self.device)\n",
    "\n",
    "    def train(self, checkpoint=1):\n",
    "        optimizer = th.optim.Adam(self.model.parameters(), lr=self.learning_rate)\n",
    "        best_loss = float('inf')\n",
    "\n",
    "        for epoch in trange(self.epochs):\n",
    "            self.model.train()\n",
    "\n",
    "            train_loss = 0\n",
    "            loss = 0\n",
    "\n",
    "            # Notice how we use the ``training_datasets`` variable directly\n",
    "            # and every element of it is a pair (GCI name, GCI tensor data).\n",
    "            for gci_name, gci_dataset in self.training_datasets.items():\n",
    "                if len(gci_dataset) == 0:\n",
    "                    continue\n",
    "                loss += th.mean(self.model(gci_dataset[:], gci_name))\n",
    "                \n",
    "            optimizer.zero_grad()\n",
    "            loss.backward()\n",
    "            optimizer.step()\n",
    "            train_loss += loss.detach().item()\n",
    "            th.save(self.model.state_dict(), self.model_filepath)\n",
    "            if (epoch + 1) % checkpoint == 0:\n",
    "                print(f'\\nEpoch {epoch}: Train loss: {train_loss:4f}')"
   ]
  },
  {
   "cell_type": "markdown",
   "id": "65d648b2",
   "metadata": {
    "id": "76b69df0-c537-49ae-baf5-57d191bba9bb"
   },
   "source": [
    "Create the dataset class"
   ]
  },
  {
   "cell_type": "code",
   "execution_count": null,
   "id": "1f999fc6",
   "metadata": {
    "id": "f85efc62-cc5f-4c2d-9560-ab388c7c4bf5"
   },
   "outputs": [],
   "source": [
    "from mowl.datasets import PathDataset\n",
    "\n",
    "family_dataset = PathDataset('family.owl')"
   ]
  },
  {
   "cell_type": "markdown",
   "id": "99f67432",
   "metadata": {
    "id": "c35a2aa7-862f-40b2-a6c5-a579aa2a1f2d"
   },
   "source": [
    "Train the model"
   ]
  },
  {
   "cell_type": "code",
   "execution_count": null,
   "id": "723c4231",
   "metadata": {
    "colab": {
     "base_uri": "https://localhost:8080/"
    },
    "id": "fb3b5b25-69e0-4783-b7ee-a488e13a804d",
    "outputId": "1f455631-50c7-4fca-ce0c-4bfab93a2f44"
   },
   "outputs": [],
   "source": [
    "elembeddings = ELEmbeddings(family_dataset,\n",
    "                     embed_dim=2,\n",
    "                     margin=0.1,\n",
    "                     reg_norm=1,\n",
    "                     learning_rate=0.01,\n",
    "                     epochs=1000,\n",
    "                     batch_size=2,\n",
    "                     model_filepath=None,\n",
    "                     device='cpu')\n",
    "\n",
    "elembeddings.train(checkpoint=100)"
   ]
  },
  {
   "cell_type": "markdown",
   "id": "ea29a2bd",
   "metadata": {
    "id": "4cfe4d5c-76b4-404b-83a3-649e6c5defd0"
   },
   "source": [
    "Extract embeddings"
   ]
  },
  {
   "cell_type": "code",
   "execution_count": null,
   "id": "b295d19e",
   "metadata": {
    "colab": {
     "base_uri": "https://localhost:8080/"
    },
    "id": "d0f803cb-5a69-435d-a7a4-cd2783d6dc3e",
    "outputId": "25166689-4c8a-439d-e5be-0ef4c5afb90a"
   },
   "outputs": [],
   "source": [
    "embeds = elembeddings.model.class_embed.weight.cpu().detach().numpy()\n",
    "rs = np.abs(elembeddings.model.class_rad.weight.cpu().detach().numpy())\n",
    "classes = list(elembeddings.class_index_dict.keys())\n",
    "rs, embeds"
   ]
  },
  {
   "cell_type": "markdown",
   "id": "df18be07",
   "metadata": {
    "id": "8311f27e-0620-47d7-b176-a4b9d228447b"
   },
   "source": [
    "Plot embeddings"
   ]
  },
  {
   "cell_type": "code",
   "execution_count": null,
   "id": "4aa97979",
   "metadata": {
    "colab": {
     "base_uri": "https://localhost:8080/",
     "height": 282
    },
    "id": "027e5f57-b800-4272-8d16-9f44fa494d64",
    "lines_to_next_cell": 2,
    "outputId": "8c7dbdab-758a-46ed-adf4-2fee5d122ae1"
   },
   "outputs": [],
   "source": [
    "import matplotlib.pyplot as plt\n",
    "\n",
    "classes = [item.split('/')[-1] for item in classes]\n",
    "colors = ['b', 'g', 'r', 'c', 'm', 'y', 'k']\n",
    "fig, ax =  plt.subplots()\n",
    "plt.axis('equal')\n",
    "ax.set_xlim(-5, 4)\n",
    "ax.set_ylim(-3, 4)\n",
    "for i in range(embeds.shape[0]):\n",
    "    if classes[i].endswith('hing'):\n",
    "        continue\n",
    "    x, y = embeds[i, 0], embeds[i, 1]\n",
    "    r = rs[i]\n",
    "    ax.add_artist(plt.Circle(\n",
    "        (x, y), r, fill=False, edgecolor=colors[i % len(colors)], label=classes[i]))\n",
    "    ax.annotate(classes[i], xy=(x, y + r + 0.03), fontsize=10, ha=\"center\", color=colors[i % len(colors)])\n",
    "ax.grid(True)\n",
    "plt"
   ]
  },
  {
   "cell_type": "code",
   "execution_count": null,
   "id": "a02bc815",
   "metadata": {
    "id": "277e3054-e181-4b8f-84fd-79e52c5623fd",
    "lines_to_next_cell": 3
   },
   "outputs": [],
   "source": []
  }
 ],
 "metadata": {
  "kernelspec": {
   "display_name": "Python 3 (ipykernel)",
   "language": "python",
   "name": "python3"
  },
  "language_info": {
   "codemirror_mode": {
    "name": "ipython",
    "version": 3
   },
   "file_extension": ".py",
   "mimetype": "text/x-python",
   "name": "python",
   "nbconvert_exporter": "python",
   "pygments_lexer": "ipython3",
   "version": "3.9.15"
  }
 },
 "nbformat": 4,
 "nbformat_minor": 5
}
