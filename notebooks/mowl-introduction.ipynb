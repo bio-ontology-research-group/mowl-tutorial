{
 "cells": [
  {
   "cell_type": "markdown",
   "id": "89f13d72",
   "metadata": {
    "cell_marker": "\"\"\""
   },
   "source": [
    "# mOWL: Python library for machine learning with ontologies\n",
    "\n",
    "Ontologies are being used across different machine learning models\n",
    "since they can provide structured and axiomatic background knowldege regarding a particular domain of interest.\n",
    "\n",
    "\n",
    "<img src=\"figs/mowl_intro/ont_repr2.jpg\" width=\"600\" alt=\"Ontology with axioms and annotations.\" title=\"Ontology with axioms and annotations.\"/>\n",
    "\n",
    "In mOWL, we have implemented a set of tools and functionalities to ease the integration of methods that use ontologies. The features that mOWL contains are:\n",
    "\n",
    "* Ontology Management\n",
    "* Ontology Transformation\n",
    "* Embedding Generation\n",
    "* Embedding Post-processing"
   ]
  },
  {
   "cell_type": "code",
   "execution_count": null,
   "id": "c4c1228b",
   "metadata": {},
   "outputs": [],
   "source": []
  },
  {
   "cell_type": "markdown",
   "id": "98e09922",
   "metadata": {
    "cell_marker": "\"\"\"",
    "lines_to_next_cell": 0
   },
   "source": [
    "## Ontology Management\n",
    "\n",
    "This includes ontology normalization and reasoning. To achieve this,\n",
    "we interface with the OWL API.\n",
    "\n",
    "<img src=\"figs/mowl_intro/reasoning.jpg\" width=\"400\" alt=\"Ontology reasoning.\" title=\"Ontology reasoning.\"/>"
   ]
  },
  {
   "cell_type": "markdown",
   "id": "f13121ea",
   "metadata": {
    "cell_marker": "\"\"\"",
    "lines_to_next_cell": 0
   },
   "source": [
    "\n",
    "## Ontology Transformation\n",
    "This includes methods for extracting ontology information into graphs, text corpora or process the axioms directly.\n",
    "\n",
    "<img src=\"figs/mowl_intro/transformation.jpg\" width=\"400\" alt=\"Ontology transformation.\" title=\"Ontology transformation.\"/>"
   ]
  },
  {
   "cell_type": "markdown",
   "id": "43494752",
   "metadata": {
    "cell_marker": "\"\"\""
   },
   "source": [
    "## Embedding Generation\n",
    "\n",
    "Each ontology transformation result is usable to generate vector representations (embeddings) of entities. For graph projections we can use random walk methods (implemented in mOWL) or interface with the knowledge graph embedding library PyKEEN. Transformation into text allows to use natural language processing methods.\n",
    "\n",
    "<img src=\"figs/mowl_intro/embeddings.jpg\" width=\"600\" alt=\"Embeddings generation.\" title=\"Embeddings generation.\"/>"
   ]
  },
  {
   "cell_type": "markdown",
   "id": "7ee712ce",
   "metadata": {
    "cell_marker": "\"\"\""
   },
   "source": [
    "## Embedding post-processing\n",
    "\n",
    "This includes methods to use the embeddings previously generated. We can directly evaluate them using a set of metrics or use them to train a machine learning model."
   ]
  },
  {
   "cell_type": "markdown",
   "id": "084bc997",
   "metadata": {
    "cell_marker": "\"\"\""
   },
   "source": [
    "# Getting started\n",
    "\n",
    "To get started, you can install mOWL using pip:"
   ]
  },
  {
   "cell_type": "code",
   "execution_count": null,
   "id": "03eca31e",
   "metadata": {},
   "outputs": [],
   "source": [
    "!pip install mowl-borg"
   ]
  },
  {
   "cell_type": "markdown",
   "id": "db87c92d",
   "metadata": {
    "cell_marker": "\"\"\""
   },
   "source": [
    "mOWL interfaces the OWL API. For this, we need to interface with the Java Virtual Machine (JVM):"
   ]
  },
  {
   "cell_type": "code",
   "execution_count": 6,
   "id": "178733e7",
   "metadata": {},
   "outputs": [],
   "source": [
    "import mowl\n",
    "mowl.init_jvm(\"10g\")"
   ]
  },
  {
   "cell_type": "code",
   "execution_count": 7,
   "id": "76aba016",
   "metadata": {
    "lines_to_next_cell": 2
   },
   "outputs": [],
   "source": [
    "import os\n",
    "from java.util import HashSet\n",
    "from mowl.owlapi import OWLAPIAdapter\n",
    "from org.semanticweb.owlapi.model import IRI"
   ]
  },
  {
   "cell_type": "markdown",
   "id": "2bea9453",
   "metadata": {},
   "source": [
    "# Let's create our first ontology"
   ]
  },
  {
   "cell_type": "code",
   "execution_count": 8,
   "id": "21701ad6",
   "metadata": {},
   "outputs": [],
   "source": [
    "adapter = OWLAPIAdapter()\n",
    "ontology = adapter.create_ontology(\"http://mowl/family\")"
   ]
  },
  {
   "cell_type": "markdown",
   "id": "2e47d216",
   "metadata": {},
   "source": [
    "## Concept names"
   ]
  },
  {
   "cell_type": "code",
   "execution_count": 9,
   "id": "5d1a8f77",
   "metadata": {},
   "outputs": [],
   "source": [
    "male = adapter.create_class(\"http://Male\")\n",
    "female = adapter.create_class(\"http://Female\")\n",
    "parent = adapter.create_class(\"http://Parent\")\n",
    "person = adapter.create_class(\"http://Person\")\n",
    "mother = adapter.create_class(\"http://Mother\")\n",
    "father = adapter.create_class(\"http://Father\")\n",
    "sibling = adapter.create_class(\"http://Sibling\")\n",
    "brother = adapter.create_class(\"http://Brother\")\n",
    "sister = adapter.create_class(\"http://Sister\")\n",
    "son = adapter.create_class(\"http://Son\")\n",
    "daughter = adapter.create_class(\"http://Daughter\")"
   ]
  },
  {
   "cell_type": "markdown",
   "id": "6b1ea298",
   "metadata": {},
   "source": [
    "## Role names"
   ]
  },
  {
   "cell_type": "code",
   "execution_count": null,
   "id": "25cf936e",
   "metadata": {},
   "outputs": [],
   "source": [
    "has_child = adapter.create_object_property(\"http://hasChild\")\n",
    "has_parent = adapter.create_object_property(\"http://hasParent\")"
   ]
  },
  {
   "cell_type": "markdown",
   "id": "e481bb64",
   "metadata": {},
   "source": [
    "## Individual names"
   ]
  },
  {
   "cell_type": "code",
   "execution_count": 11,
   "id": "fcf84ba9",
   "metadata": {},
   "outputs": [],
   "source": [
    "John = adapter.create_individual(\"http://John\")\n",
    "Jane = adapter.create_individual(\"http://Jane\")\n",
    "Robert = adapter.create_individual(\"http://Robert\")\n",
    "Melissa = adapter.create_individual(\"http://Melissa\")"
   ]
  },
  {
   "cell_type": "markdown",
   "id": "52a23e88",
   "metadata": {},
   "source": [
    "## Axioms"
   ]
  },
  {
   "cell_type": "code",
   "execution_count": 12,
   "id": "b2c0c186",
   "metadata": {},
   "outputs": [
    {
     "data": {
      "text/plain": [
       "<java object 'org.semanticweb.owlapi.model.parameters.ChangeApplied'>"
      ]
     },
     "execution_count": 12,
     "metadata": {},
     "output_type": "execute_result"
    }
   ],
   "source": [
    "axioms = HashSet()\n",
    "axioms.add(adapter.create_subclass_of(male, person))\n",
    "axioms.add(adapter.create_subclass_of(female, person))\n",
    "axioms.add(adapter.create_subclass_of(parent, person))\n",
    "axioms.add(adapter.create_subclass_of(mother, female))\n",
    "axioms.add(adapter.create_subclass_of(father, male))\n",
    "parent_and_male = adapter.create_object_intersection_of(parent, male)\n",
    "axioms.add(adapter.create_subclass_of(parent_and_male, father))\n",
    "parent_and_female = adapter.create_object_intersection_of(parent, female)\n",
    "axioms.add(adapter.create_subclass_of(parent_and_female, mother))\n",
    "male_or_female = adapter.create_object_union_of(male, female)\n",
    "axioms.add(adapter.create_equivalent_classes(male_or_female, person))\n",
    "not_male = adapter.create_complement_of(male)\n",
    "axioms.add(adapter.create_equivalent_classes(not_male, female))\n",
    "has_child_person = adapter.create_object_some_values_from(has_child, person)\n",
    "axioms.add(adapter.create_subclass_of(parent, has_child_person))\n",
    "axioms.add(adapter.create_class_assertion(father, John))\n",
    "axioms.add(adapter.create_class_assertion(mother, Jane))\n",
    "axioms.add(adapter.create_class_assertion(male, Robert))\n",
    "axioms.add(adapter.create_class_assertion(female, Melissa))\n",
    "axioms.add(adapter.create_object_property_assertion(has_child, John, Robert))\n",
    "axioms.add(adapter.create_object_property_assertion(has_child, Jane, Robert))\n",
    "axioms.add(adapter.create_object_property_assertion(has_child, John, Melissa))\n",
    "axioms.add(adapter.create_object_property_assertion(has_child, Jane, Melissa))\n",
    "adapter.owl_manager.addAxioms(ontology, axioms)"
   ]
  },
  {
   "cell_type": "code",
   "execution_count": 13,
   "id": "b2ec2fdf",
   "metadata": {},
   "outputs": [],
   "source": [
    "ont_file = os.path.abspath(f'family.owl')"
   ]
  },
  {
   "cell_type": "code",
   "execution_count": 14,
   "id": "33a26c0a",
   "metadata": {},
   "outputs": [],
   "source": [
    "adapter.owl_manager.saveOntology(ontology, IRI.create('file://'+ont_file))"
   ]
  },
  {
   "cell_type": "code",
   "execution_count": null,
   "id": "3afc17b3",
   "metadata": {},
   "outputs": [],
   "source": []
  }
 ],
 "metadata": {
  "jupytext": {
   "cell_metadata_filter": "-all",
   "main_language": "python",
   "notebook_metadata_filter": "-all"
  },
  "kernelspec": {
   "display_name": "Python 3 (ipykernel)",
   "language": "python",
   "name": "python3"
  },
  "language_info": {
   "codemirror_mode": {
    "name": "ipython",
    "version": 3
   },
   "file_extension": ".py",
   "mimetype": "text/x-python",
   "name": "python",
   "nbconvert_exporter": "python",
   "pygments_lexer": "ipython3",
   "version": "3.8.0"
  }
 },
 "nbformat": 4,
 "nbformat_minor": 5
}
