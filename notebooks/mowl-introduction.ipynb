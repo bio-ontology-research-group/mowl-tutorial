{
 "cells": [
  {
   "cell_type": "markdown",
   "id": "89f13d72",
   "metadata": {
    "cell_marker": "\"\"\""
   },
   "source": [
    "# mOWL: Python library for machine learning with ontologies\n",
    "\n",
    "Ontologies are being used across different machine learning models\n",
    "since they can provide structured and axiomatic background knowldege regarding a particular domain of interest.\n",
    "\n",
    "\n",
    "<img src=\"figs/mowl_intro/ont_repr.jpg\" width=\"600\" alt=\"Ontology with axioms and annotations.\" title=\"Ontology with axioms and annotations.\"/>\n",
    "\n",
    "In mOWL, we have implemented a set of tools and functionalities to ease the integration of methods that use ontologies. The features that mOWL contains are:\n",
    "\n",
    "* Ontology Management\n",
    "* Ontology Transformation\n",
    "* Embedding Generation\n",
    "* Embedding Post-processing"
   ]
  },
  {
   "cell_type": "code",
   "execution_count": null,
   "id": "c4c1228b",
   "metadata": {},
   "outputs": [],
   "source": []
  },
  {
   "cell_type": "markdown",
   "id": "98e09922",
   "metadata": {
    "cell_marker": "\"\"\"",
    "lines_to_next_cell": 0
   },
   "source": [
    "## Ontology Management\n",
    "\n",
    "This includes ontology normalization and reasoning. To achieve this,\n",
    "we interface with the OWL API.\n",
    "\n",
    "<img src=\"figs/mowl_intro/reasoning.jpg\" width=\"400\" alt=\"Ontology reasoning.\" title=\"Ontology reasoning.\"/>"
   ]
  },
  {
   "cell_type": "markdown",
   "id": "f13121ea",
   "metadata": {
    "cell_marker": "\"\"\"",
    "lines_to_next_cell": 0
   },
   "source": [
    "\n",
    "## Ontology Transformation\n",
    "This includes methods for extracting ontology information into graphs, text corpora or process the axioms directly.\n",
    "\n",
    "<img src=\"figs/mowl_intro/transformation.jpg\" width=\"400\" alt=\"Ontology transformation.\" title=\"Ontology transformation.\"/>"
   ]
  },
  {
   "cell_type": "markdown",
   "id": "43494752",
   "metadata": {
    "cell_marker": "\"\"\""
   },
   "source": [
    "## Embedding Generation\n",
    "\n",
    "Each ontology transformation result is usable to generate vector representations (embeddings) of entities. For graph projections we can use random walk methods (implemented in mOWL) or interface with the knowledge graph embedding library PyKEEN. Transformation into text allows to use natural language processing methods.\n",
    "\n",
    "<img src=\"figs/mowl_intro/embeddings.jpg\" width=\"600\" alt=\"Embeddings generation.\" title=\"Embeddings generation.\"/>"
   ]
  },
  {
   "cell_type": "markdown",
   "id": "7ee712ce",
   "metadata": {
    "cell_marker": "\"\"\""
   },
   "source": [
    "## Embedding post-processing\n",
    "\n",
    "This includes methods to use the embeddings previously generated. We can directly evaluate them using a set of metrics or use them to train a machine learning model."
   ]
  },
  {
   "cell_type": "markdown",
   "id": "084bc997",
   "metadata": {
    "cell_marker": "\"\"\""
   },
   "source": [
    "# Getting started\n",
    "\n",
    "To get started, you can install mOWL using pip:"
   ]
  },
  {
   "cell_type": "code",
   "execution_count": null,
   "id": "03eca31e",
   "metadata": {},
   "outputs": [],
   "source": [
    "!pip install mowl-borg"
   ]
  },
  {
   "cell_type": "markdown",
   "id": "db87c92d",
   "metadata": {
    "cell_marker": "\"\"\""
   },
   "source": [
    "mOWL interfaces the OWL API. For this, we need to interface with the Java Virtual Machine (JVM):"
   ]
  },
  {
   "cell_type": "code",
   "execution_count": null,
   "id": "178733e7",
   "metadata": {},
   "outputs": [],
   "source": [
    "import mowl\n",
    "mowl.init_jvm(\"10g\")"
   ]
  },
  {
   "cell_type": "code",
   "execution_count": null,
   "id": "76aba016",
   "metadata": {
    "lines_to_next_cell": 2
   },
   "outputs": [],
   "source": []
  }
 ],
 "metadata": {
  "jupytext": {
   "cell_metadata_filter": "-all",
   "main_language": "python",
   "notebook_metadata_filter": "-all"
  },
  "kernelspec": {
   "display_name": "Python 3 (ipykernel)",
   "language": "python",
   "name": "python3"
  },
  "language_info": {
   "codemirror_mode": {
    "name": "ipython",
    "version": 3
   },
   "file_extension": ".py",
   "mimetype": "text/x-python",
   "name": "python",
   "nbconvert_exporter": "python",
   "pygments_lexer": "ipython3",
   "version": "3.8.0"
  }
 },
 "nbformat": 4,
 "nbformat_minor": 5
}
