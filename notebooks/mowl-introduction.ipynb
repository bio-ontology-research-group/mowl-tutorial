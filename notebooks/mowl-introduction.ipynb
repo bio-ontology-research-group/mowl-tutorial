{
 "cells": [
  {
   "cell_type": "code",
   "execution_count": null,
   "id": "9de0a02d",
   "metadata": {},
   "outputs": [],
   "source": [
    "!pip install mowl-borg"
   ]
  },
  {
   "cell_type": "markdown",
   "id": "482d2fd4",
   "metadata": {
    "cell_marker": "\"\"\""
   },
   "source": [
    "# mOWL: Python library for machine learning with ontologies\n",
    "\n",
    "Ontologies are being used across different machine learning models\n",
    "since they can provide structured and axiomatic background knowldege regarding a particular domain of interest.\n",
    "\n",
    "\n",
    "<img src=\"figs/mowl_intro/ont_repr2.jpg\" width=\"600\" alt=\"Ontology with axioms and annotations.\" title=\"Ontology with axioms and annotations.\"/>\n",
    "\n",
    "In mOWL, we have implemented a set of tools and functionalities to ease the integration of methods that use ontologies. The features that mOWL contains are:\n",
    "\n",
    "* Ontology Management\n",
    "* Ontology Transformation\n",
    "* Embedding Generation\n",
    "* Embedding Post-processing"
   ]
  },
  {
   "cell_type": "code",
   "execution_count": null,
   "id": "4885ecd0",
   "metadata": {},
   "outputs": [],
   "source": []
  },
  {
   "cell_type": "markdown",
   "id": "ce5dfcae",
   "metadata": {
    "cell_marker": "\"\"\"",
    "lines_to_next_cell": 0
   },
   "source": [
    "## Ontology Management\n",
    "\n",
    "This includes ontology normalization and reasoning. To achieve this,\n",
    "we interface with the OWL API.\n",
    "\n",
    "<img src=\"figs/mowl_intro/reasoning.jpg\" width=\"400\" alt=\"Ontology reasoning.\" title=\"Ontology reasoning.\"/>"
   ]
  },
  {
   "cell_type": "markdown",
   "id": "d9be5d1e",
   "metadata": {
    "cell_marker": "\"\"\"",
    "lines_to_next_cell": 0
   },
   "source": [
    "\n",
    "## Ontology Transformation\n",
    "This includes methods for extracting ontology information into graphs, text corpora or process the axioms directly.\n",
    "\n",
    "<img src=\"figs/mowl_intro/transformation.jpg\" width=\"400\" alt=\"Ontology transformation.\" title=\"Ontology transformation.\"/>"
   ]
  },
  {
   "cell_type": "markdown",
   "id": "f4a426e1",
   "metadata": {
    "cell_marker": "\"\"\""
   },
   "source": [
    "## Embedding Generation\n",
    "\n",
    "Each ontology transformation result is usable to generate vector representations (embeddings) of entities. For graph projections we can use random walk methods (implemented in mOWL) or interface with the knowledge graph embedding library PyKEEN. Transformation into text allows to use natural language processing methods.\n",
    "\n",
    "<img src=\"figs/mowl_intro/embeddings.jpg\" width=\"600\" alt=\"Embeddings generation.\" title=\"Embeddings generation.\"/>"
   ]
  },
  {
   "cell_type": "markdown",
   "id": "eb08499b",
   "metadata": {
    "cell_marker": "\"\"\""
   },
   "source": [
    "## Embedding post-processing\n",
    "\n",
    "This includes methods to use the embeddings previously generated. We can directly evaluate them using a set of metrics or use them to train a machine learning model."
   ]
  },
  {
   "cell_type": "markdown",
   "id": "4aa1908b",
   "metadata": {
    "cell_marker": "\"\"\"",
    "lines_to_next_cell": 2
   },
   "source": [
    "# Getting started\n",
    "\n",
    "To get started, you can install mOWL using pip:"
   ]
  },
  {
   "cell_type": "markdown",
   "id": "17029d64",
   "metadata": {
    "cell_marker": "\"\"\""
   },
   "source": [
    "mOWL interfaces the OWL API. For this, we need to interface with the Java Virtual Machine (JVM):"
   ]
  },
  {
   "cell_type": "code",
   "execution_count": 1,
   "id": "215e407c",
   "metadata": {},
   "outputs": [],
   "source": [
    "import mowl\n",
    "mowl.init_jvm(\"10g\")"
   ]
  },
  {
   "cell_type": "code",
   "execution_count": null,
   "id": "bc88dde2",
   "metadata": {
    "lines_to_next_cell": 2
   },
   "outputs": [],
   "source": [
    "import os\n",
    "from java.util import HashSet\n",
    "from mowl.owlapi import OWLAPIAdapter\n",
    "from org.semanticweb.owlapi.model import IRI"
   ]
  },
  {
   "cell_type": "markdown",
   "id": "cf8e2f91",
   "metadata": {},
   "source": [
    "# Let's create our first ontology"
   ]
  },
  {
   "cell_type": "code",
   "execution_count": null,
   "id": "be99bb86",
   "metadata": {},
   "outputs": [],
   "source": [
    "adapter = OWLAPIAdapter()\n",
    "ontology = adapter.create_ontology(\"http://mowl/family\")"
   ]
  },
  {
   "cell_type": "markdown",
   "id": "bdd976a2",
   "metadata": {},
   "source": [
    "## Concept names"
   ]
  },
  {
   "cell_type": "code",
   "execution_count": null,
   "id": "4e3931e8",
   "metadata": {},
   "outputs": [],
   "source": [
    "male = adapter.create_class(\"http://Male\")\n",
    "female = adapter.create_class(\"http://Female\")\n",
    "parent = adapter.create_class(\"http://Parent\")\n",
    "person = adapter.create_class(\"http://Person\")\n",
    "mother = adapter.create_class(\"http://Mother\")\n",
    "father = adapter.create_class(\"http://Father\")\n",
    "sibling = adapter.create_class(\"http://Sibling\")\n",
    "brother = adapter.create_class(\"http://Brother\")\n",
    "sister = adapter.create_class(\"http://Sister\")\n",
    "son = adapter.create_class(\"http://Son\")\n",
    "daughter = adapter.create_class(\"http://Daughter\")"
   ]
  },
  {
   "cell_type": "markdown",
   "id": "25a0b80c",
   "metadata": {},
   "source": [
    "## Role names"
   ]
  },
  {
   "cell_type": "code",
   "execution_count": null,
   "id": "df41ba0e",
   "metadata": {},
   "outputs": [],
   "source": [
    "has_child = adapter.create_object_property(\"http://hasChild\")\n",
    "has_parent = adapter.create_object_property(\"http://hasParent\")"
   ]
  },
  {
   "cell_type": "markdown",
   "id": "f6e9c6bc",
   "metadata": {},
   "source": [
    "## Individual names"
   ]
  },
  {
   "cell_type": "code",
   "execution_count": null,
   "id": "69e2cef3",
   "metadata": {},
   "outputs": [],
   "source": [
    "John = adapter.create_individual(\"http://John\")\n",
    "Jane = adapter.create_individual(\"http://Jane\")\n",
    "Robert = adapter.create_individual(\"http://Robert\")\n",
    "Melissa = adapter.create_individual(\"http://Melissa\")"
   ]
  },
  {
   "cell_type": "markdown",
   "id": "115ad774",
   "metadata": {
    "lines_to_next_cell": 0
   },
   "source": [
    "## Axioms\n",
    "\n",
    "Let's create some axioms of the form $A \\sqsubseteq B$."
   ]
  },
  {
   "cell_type": "code",
   "execution_count": null,
   "id": "c191268f",
   "metadata": {},
   "outputs": [],
   "source": [
    "axioms = HashSet()\n",
    "axioms.add(adapter.create_subclass_of(male, person))\n",
    "axioms.add(adapter.create_subclass_of(female, person))\n",
    "axioms.add(adapter.create_subclass_of(parent, person))\n",
    "axioms.add(adapter.create_subclass_of(mother, female))\n",
    "axioms.add(adapter.create_subclass_of(father, male))"
   ]
  },
  {
   "cell_type": "markdown",
   "id": "e935ce9c",
   "metadata": {},
   "source": [
    "Now, let's create some axioms of the form $A \\sqcap B \\sqsubseteq C$."
   ]
  },
  {
   "cell_type": "code",
   "execution_count": null,
   "id": "7f00bad2",
   "metadata": {},
   "outputs": [],
   "source": [
    "parent_and_male = adapter.create_object_intersection_of(parent, male)\n",
    "axioms.add(adapter.create_subclass_of(parent_and_male, father))\n",
    "parent_and_female = adapter.create_object_intersection_of(parent, female)\n",
    "axioms.add(adapter.create_subclass_of(parent_and_female, mother))"
   ]
  },
  {
   "cell_type": "markdown",
   "id": "43bfed22",
   "metadata": {},
   "source": [
    "Now some axioms of the form $A \\sqcup B \\equiv C$."
   ]
  },
  {
   "cell_type": "code",
   "execution_count": null,
   "id": "45c8f01c",
   "metadata": {},
   "outputs": [],
   "source": [
    "male_or_female = adapter.create_object_union_of(male, female)\n",
    "axioms.add(adapter.create_equivalent_classes(male_or_female, person))"
   ]
  },
  {
   "cell_type": "markdown",
   "id": "754ce4cf",
   "metadata": {},
   "source": [
    "One axiom of the form $\\neg A \\equiv  B$."
   ]
  },
  {
   "cell_type": "code",
   "execution_count": null,
   "id": "eeaeb512",
   "metadata": {},
   "outputs": [],
   "source": [
    "not_male = adapter.create_complement_of(male)\n",
    "axioms.add(adapter.create_equivalent_classes(not_male, female))"
   ]
  },
  {
   "cell_type": "markdown",
   "id": "c3279b5c",
   "metadata": {},
   "source": [
    "One axiom of the form $A \\sqsubseteq \\exists R.B$."
   ]
  },
  {
   "cell_type": "code",
   "execution_count": null,
   "id": "a008d8a7",
   "metadata": {},
   "outputs": [],
   "source": [
    "has_child_person = adapter.create_object_some_values_from(has_child, person)\n",
    "axioms.add(adapter.create_subclass_of(parent, has_child_person))"
   ]
  },
  {
   "cell_type": "markdown",
   "id": "6a21cd1b",
   "metadata": {},
   "source": [
    "And finally, some assertion axioms of the form $C(a)$ and $R(a,b)$."
   ]
  },
  {
   "cell_type": "code",
   "execution_count": null,
   "id": "dadd6ef3",
   "metadata": {},
   "outputs": [],
   "source": [
    "axioms.add(adapter.create_class_assertion(father, John))\n",
    "axioms.add(adapter.create_class_assertion(mother, Jane))\n",
    "axioms.add(adapter.create_class_assertion(male, Robert))\n",
    "axioms.add(adapter.create_class_assertion(female, Melissa))\n",
    "axioms.add(adapter.create_object_property_assertion(has_child, John, Robert))\n",
    "axioms.add(adapter.create_object_property_assertion(has_child, Jane, Robert))\n",
    "axioms.add(adapter.create_object_property_assertion(has_child, John, Melissa))\n",
    "axioms.add(adapter.create_object_property_assertion(has_child, Jane, Melissa))\n",
    "adapter.owl_manager.addAxioms(ontology, axioms)"
   ]
  },
  {
   "cell_type": "code",
   "execution_count": null,
   "id": "818b4a99",
   "metadata": {},
   "outputs": [],
   "source": [
    "ont_file = os.path.abspath(f'family.owl')"
   ]
  },
  {
   "cell_type": "code",
   "execution_count": null,
   "id": "68846e59",
   "metadata": {},
   "outputs": [],
   "source": [
    "adapter.owl_manager.saveOntology(ontology, IRI.create('file://'+ont_file))"
   ]
  },
  {
   "cell_type": "code",
   "execution_count": null,
   "id": "9ab31180",
   "metadata": {
    "lines_to_next_cell": 2
   },
   "outputs": [],
   "source": []
  }
 ],
 "metadata": {
  "jupytext": {
   "cell_metadata_filter": "-all",
   "main_language": "python",
   "notebook_metadata_filter": "-all"
  },
  "kernelspec": {
   "display_name": "Python 3 (ipykernel)",
   "language": "python",
   "name": "python3"
  },
  "language_info": {
   "codemirror_mode": {
    "name": "ipython",
    "version": 3
   },
   "file_extension": ".py",
   "mimetype": "text/x-python",
   "name": "python",
   "nbconvert_exporter": "python",
   "pygments_lexer": "ipython3",
   "version": "3.8.0"
  }
 },
 "nbformat": 4,
 "nbformat_minor": 5
}
