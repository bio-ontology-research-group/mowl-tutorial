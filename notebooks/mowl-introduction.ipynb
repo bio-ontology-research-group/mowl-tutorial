{
 "cells": [
  {
   "cell_type": "markdown",
   "id": "6e7cb05c",
   "metadata": {
    "cell_marker": "\"\"\"",
    "lines_to_next_cell": 0
   },
   "source": [
    "# mOWL: Python library for machine learning with ontologies\n",
    "\n",
    "## Ontology creation:\n",
    "To get started, you can install mOWL using pip:"
   ]
  },
  {
   "cell_type": "code",
   "execution_count": null,
   "id": "6a90be79",
   "metadata": {
    "lines_to_next_cell": 2
   },
   "outputs": [],
   "source": [
    "!pip install mowl-borg"
   ]
  },
  {
   "cell_type": "markdown",
   "id": "22c4de0b",
   "metadata": {
    "cell_marker": "\"\"\""
   },
   "source": [
    "mOWL interfaces the OWL API. For this, we need to interface with the Java Virtual Machine (JVM):"
   ]
  },
  {
   "cell_type": "code",
   "execution_count": null,
   "id": "b325c450",
   "metadata": {},
   "outputs": [],
   "source": [
    "import mowl\n",
    "mowl.init_jvm(\"10g\")"
   ]
  },
  {
   "cell_type": "code",
   "execution_count": null,
   "id": "e4082c2e",
   "metadata": {
    "lines_to_next_cell": 2
   },
   "outputs": [],
   "source": [
    "import os\n",
    "from java.util import HashSet\n",
    "from mowl.owlapi import OWLAPIAdapter\n",
    "from org.semanticweb.owlapi.model import IRI"
   ]
  },
  {
   "cell_type": "markdown",
   "id": "7fc61d48",
   "metadata": {},
   "source": [
    "# Let's create our first ontology"
   ]
  },
  {
   "cell_type": "code",
   "execution_count": null,
   "id": "d629f60a",
   "metadata": {},
   "outputs": [],
   "source": [
    "adapter = OWLAPIAdapter()\n",
    "ontology = adapter.create_ontology(\"http://mowl/family\")"
   ]
  },
  {
   "cell_type": "markdown",
   "id": "72d1d40c",
   "metadata": {},
   "source": [
    "## Concept names"
   ]
  },
  {
   "cell_type": "code",
   "execution_count": null,
   "id": "08519efa",
   "metadata": {},
   "outputs": [],
   "source": [
    "male = adapter.create_class(\"http://Male\")\n",
    "female = adapter.create_class(\"http://Female\")\n",
    "parent = adapter.create_class(\"http://Parent\")\n",
    "person = adapter.create_class(\"http://Person\")\n",
    "mother = adapter.create_class(\"http://Mother\")\n",
    "father = adapter.create_class(\"http://Father\")\n",
    "sibling = adapter.create_class(\"http://Sibling\")\n",
    "brother = adapter.create_class(\"http://Brother\")\n",
    "sister = adapter.create_class(\"http://Sister\")\n",
    "son = adapter.create_class(\"http://Son\")\n",
    "daughter = adapter.create_class(\"http://Daughter\")"
   ]
  },
  {
   "cell_type": "markdown",
   "id": "ab385fab",
   "metadata": {},
   "source": [
    "## Role names"
   ]
  },
  {
   "cell_type": "code",
   "execution_count": null,
   "id": "cd53fa85",
   "metadata": {},
   "outputs": [],
   "source": [
    "has_child = adapter.create_object_property(\"http://hasChild\")\n",
    "has_parent = adapter.create_object_property(\"http://hasParent\")"
   ]
  },
  {
   "cell_type": "markdown",
   "id": "6e634782",
   "metadata": {},
   "source": [
    "## Individual names"
   ]
  },
  {
   "cell_type": "code",
   "execution_count": null,
   "id": "e3a3301c",
   "metadata": {},
   "outputs": [],
   "source": [
    "John = adapter.create_individual(\"http://John\")\n",
    "Jane = adapter.create_individual(\"http://Jane\")\n",
    "Robert = adapter.create_individual(\"http://Robert\")\n",
    "Melissa = adapter.create_individual(\"http://Melissa\")"
   ]
  },
  {
   "cell_type": "markdown",
   "id": "6c5f2c6d",
   "metadata": {
    "lines_to_next_cell": 0
   },
   "source": [
    "## Axioms\n",
    "\n",
    "Let's create some axioms of the form $A \\sqsubseteq B$."
   ]
  },
  {
   "cell_type": "code",
   "execution_count": null,
   "id": "57424ec2",
   "metadata": {},
   "outputs": [],
   "source": [
    "axioms = HashSet()\n",
    "axioms.add(adapter.create_subclass_of(male, person))\n",
    "axioms.add(adapter.create_subclass_of(female, person))\n",
    "axioms.add(adapter.create_subclass_of(parent, person))\n",
    "axioms.add(adapter.create_subclass_of(mother, female))\n",
    "axioms.add(adapter.create_subclass_of(father, male))"
   ]
  },
  {
   "cell_type": "markdown",
   "id": "7f4ffcd7",
   "metadata": {},
   "source": [
    "Now, let's create some axioms of the form $A \\sqcap B \\sqsubseteq C$."
   ]
  },
  {
   "cell_type": "code",
   "execution_count": null,
   "id": "a97c664c",
   "metadata": {},
   "outputs": [],
   "source": [
    "parent_and_male = adapter.create_object_intersection_of(parent, male)\n",
    "axioms.add(adapter.create_subclass_of(parent_and_male, father))\n",
    "parent_and_female = adapter.create_object_intersection_of(parent, female)\n",
    "axioms.add(adapter.create_subclass_of(parent_and_female, mother))"
   ]
  },
  {
   "cell_type": "markdown",
   "id": "a5299f97",
   "metadata": {},
   "source": [
    "Now some axioms of the form $A \\sqcup B \\equiv C$."
   ]
  },
  {
   "cell_type": "code",
   "execution_count": null,
   "id": "26fcfd75",
   "metadata": {},
   "outputs": [],
   "source": [
    "male_or_female = adapter.create_object_union_of(male, female)\n",
    "axioms.add(adapter.create_equivalent_classes(male_or_female, person))"
   ]
  },
  {
   "cell_type": "markdown",
   "id": "4fd51b72",
   "metadata": {},
   "source": [
    "One axiom of the form $\\neg A \\equiv  B$."
   ]
  },
  {
   "cell_type": "code",
   "execution_count": null,
   "id": "cd222631",
   "metadata": {},
   "outputs": [],
   "source": [
    "not_male = adapter.create_complement_of(male)\n",
    "axioms.add(adapter.create_equivalent_classes(not_male, female))"
   ]
  },
  {
   "cell_type": "markdown",
   "id": "d4fcf1c0",
   "metadata": {},
   "source": [
    "One axiom of the form $A \\sqsubseteq \\exists R.B$."
   ]
  },
  {
   "cell_type": "code",
   "execution_count": null,
   "id": "0f4f94ab",
   "metadata": {},
   "outputs": [],
   "source": [
    "has_child_person = adapter.create_object_some_values_from(has_child, person)\n",
    "axioms.add(adapter.create_subclass_of(parent, has_child_person))"
   ]
  },
  {
   "cell_type": "markdown",
   "id": "295aa720",
   "metadata": {},
   "source": [
    "And finally, some assertion axioms of the form $C(a)$ and $R(a,b)$."
   ]
  },
  {
   "cell_type": "code",
   "execution_count": null,
   "id": "80c176f3",
   "metadata": {},
   "outputs": [],
   "source": [
    "axioms.add(adapter.create_class_assertion(father, John))\n",
    "axioms.add(adapter.create_class_assertion(mother, Jane))\n",
    "axioms.add(adapter.create_class_assertion(male, Robert))\n",
    "axioms.add(adapter.create_class_assertion(female, Melissa))\n",
    "axioms.add(adapter.create_object_property_assertion(has_child, John, Robert))\n",
    "axioms.add(adapter.create_object_property_assertion(has_child, Jane, Robert))\n",
    "axioms.add(adapter.create_object_property_assertion(has_child, John, Melissa))\n",
    "axioms.add(adapter.create_object_property_assertion(has_child, Jane, Melissa))\n",
    "adapter.owl_manager.addAxioms(ontology, axioms)"
   ]
  },
  {
   "cell_type": "code",
   "execution_count": null,
   "id": "3c7d54fa",
   "metadata": {},
   "outputs": [],
   "source": [
    "ont_file = os.path.abspath(f'family.owl')"
   ]
  },
  {
   "cell_type": "code",
   "execution_count": null,
   "id": "df8d13fb",
   "metadata": {},
   "outputs": [],
   "source": [
    "adapter.owl_manager.saveOntology(ontology, IRI.create('file://'+ont_file))"
   ]
  },
  {
   "cell_type": "code",
   "execution_count": null,
   "id": "793944a6",
   "metadata": {
    "lines_to_next_cell": 3
   },
   "outputs": [],
   "source": []
  }
 ],
 "metadata": {
  "jupytext": {
   "cell_metadata_filter": "-all",
   "main_language": "python",
   "notebook_metadata_filter": "-all"
  }
 },
 "nbformat": 4,
 "nbformat_minor": 5
}