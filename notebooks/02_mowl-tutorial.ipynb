{
 "cells": [
  {
   "cell_type": "markdown",
   "id": "0b323495",
   "metadata": {
    "cell_marker": "\"\"\"",
    "lines_to_next_cell": 0
   },
   "source": [
    "# mOWL: Python library for machine learning with ontologies\n",
    "\n",
    "## Ontology creation:\n",
    "To get started, you can install mOWL using pip:"
   ]
  },
  {
   "cell_type": "code",
   "execution_count": null,
   "id": "c5eb89b3",
   "metadata": {
    "lines_to_next_cell": 2
   },
   "outputs": [],
   "source": [
    "!pip install mowl-borg"
   ]
  },
  {
   "cell_type": "markdown",
   "id": "7c111bec",
   "metadata": {
    "cell_marker": "\"\"\""
   },
   "source": [
    "mOWL interfaces the OWL API. For this, we need to interface with the Java Virtual Machine (JVM):"
   ]
  },
  {
   "cell_type": "code",
   "execution_count": 1,
   "id": "7a5daeef",
   "metadata": {},
   "outputs": [],
   "source": [
    "import mowl\n",
    "mowl.init_jvm(\"10g\")"
   ]
  },
  {
   "cell_type": "code",
   "execution_count": 2,
   "id": "8d97b252",
   "metadata": {
    "lines_to_next_cell": 2
   },
   "outputs": [],
   "source": [
    "import os\n",
    "from java.util import HashSet\n",
    "from mowl.owlapi import OWLAPIAdapter\n",
    "from org.semanticweb.owlapi.model import IRI"
   ]
  },
  {
   "cell_type": "markdown",
   "id": "cea2cd6c",
   "metadata": {},
   "source": [
    "## Let's create our first ontology"
   ]
  },
  {
   "cell_type": "code",
   "execution_count": 3,
   "id": "1007ec47",
   "metadata": {},
   "outputs": [],
   "source": [
    "adapter = OWLAPIAdapter()\n",
    "ontology = adapter.create_ontology(\"http://mowl/family\")"
   ]
  },
  {
   "cell_type": "markdown",
   "id": "8e059ced",
   "metadata": {},
   "source": [
    "## Concept names"
   ]
  },
  {
   "cell_type": "code",
   "execution_count": 4,
   "id": "75d1e266",
   "metadata": {},
   "outputs": [],
   "source": [
    "male = adapter.create_class(\"http://Male\")\n",
    "female = adapter.create_class(\"http://Female\")\n",
    "parent = adapter.create_class(\"http://Parent\")\n",
    "person = adapter.create_class(\"http://Person\")\n",
    "mother = adapter.create_class(\"http://Mother\")\n",
    "father = adapter.create_class(\"http://Father\")\n",
    "sibling = adapter.create_class(\"http://Sibling\")\n",
    "brother = adapter.create_class(\"http://Brother\")\n",
    "sister = adapter.create_class(\"http://Sister\")\n",
    "son = adapter.create_class(\"http://Son\")\n",
    "daughter = adapter.create_class(\"http://Daughter\")"
   ]
  },
  {
   "cell_type": "markdown",
   "id": "5d29db1f",
   "metadata": {},
   "source": [
    "## Role names"
   ]
  },
  {
   "cell_type": "code",
   "execution_count": 5,
   "id": "d6d7dc08",
   "metadata": {},
   "outputs": [],
   "source": [
    "has_child = adapter.create_object_property(\"http://hasChild\")\n",
    "has_parent = adapter.create_object_property(\"http://hasParent\")"
   ]
  },
  {
   "cell_type": "markdown",
   "id": "517b015f",
   "metadata": {},
   "source": [
    "## Individual names"
   ]
  },
  {
   "cell_type": "code",
   "execution_count": 6,
   "id": "0a8d9db1",
   "metadata": {},
   "outputs": [],
   "source": [
    "John = adapter.create_individual(\"http://John\")\n",
    "Jane = adapter.create_individual(\"http://Jane\")\n",
    "Robert = adapter.create_individual(\"http://Robert\")\n",
    "Melissa = adapter.create_individual(\"http://Melissa\")"
   ]
  },
  {
   "cell_type": "markdown",
   "id": "b1c310f5",
   "metadata": {
    "lines_to_next_cell": 0
   },
   "source": [
    "## Axioms\n",
    "\n",
    "Let's create some axioms of the form $A \\sqsubseteq B$."
   ]
  },
  {
   "cell_type": "code",
   "execution_count": 7,
   "id": "5ce4a755",
   "metadata": {},
   "outputs": [
    {
     "data": {
      "text/plain": [
       "True"
      ]
     },
     "execution_count": 7,
     "metadata": {},
     "output_type": "execute_result"
    }
   ],
   "source": [
    "axioms = HashSet()\n",
    "axioms.add(adapter.create_subclass_of(male, person))\n",
    "axioms.add(adapter.create_subclass_of(female, person))\n",
    "axioms.add(adapter.create_subclass_of(parent, person))\n",
    "axioms.add(adapter.create_subclass_of(mother, female))\n",
    "axioms.add(adapter.create_subclass_of(father, male))"
   ]
  },
  {
   "cell_type": "markdown",
   "id": "6ca35154",
   "metadata": {},
   "source": [
    "Now, let's create some axioms of the form $A \\sqcap B \\sqsubseteq C$."
   ]
  },
  {
   "cell_type": "code",
   "execution_count": 8,
   "id": "aa2f2474",
   "metadata": {},
   "outputs": [
    {
     "data": {
      "text/plain": [
       "True"
      ]
     },
     "execution_count": 8,
     "metadata": {},
     "output_type": "execute_result"
    }
   ],
   "source": [
    "parent_and_male = adapter.create_object_intersection_of(parent, male)\n",
    "axioms.add(adapter.create_subclass_of(parent_and_male, father))\n",
    "parent_and_female = adapter.create_object_intersection_of(parent, female)\n",
    "axioms.add(adapter.create_subclass_of(parent_and_female, mother))"
   ]
  },
  {
   "cell_type": "markdown",
   "id": "05fd7448",
   "metadata": {},
   "source": [
    "Now some axioms of the form $A \\sqcup B \\equiv C$."
   ]
  },
  {
   "cell_type": "code",
   "execution_count": 9,
   "id": "bd459f4b",
   "metadata": {},
   "outputs": [
    {
     "data": {
      "text/plain": [
       "True"
      ]
     },
     "execution_count": 9,
     "metadata": {},
     "output_type": "execute_result"
    }
   ],
   "source": [
    "male_or_female = adapter.create_object_union_of(male, female)\n",
    "axioms.add(adapter.create_equivalent_classes(male_or_female, person))"
   ]
  },
  {
   "cell_type": "markdown",
   "id": "3629a3a8",
   "metadata": {},
   "source": [
    "One axiom of the form $\\neg A \\equiv  B$."
   ]
  },
  {
   "cell_type": "code",
   "execution_count": 10,
   "id": "d9040b2f",
   "metadata": {},
   "outputs": [
    {
     "data": {
      "text/plain": [
       "True"
      ]
     },
     "execution_count": 10,
     "metadata": {},
     "output_type": "execute_result"
    }
   ],
   "source": [
    "not_male = adapter.create_complement_of(male)\n",
    "axioms.add(adapter.create_equivalent_classes(not_male, female))"
   ]
  },
  {
   "cell_type": "markdown",
   "id": "c1e24920",
   "metadata": {},
   "source": [
    "One axiom of the form $A \\sqsubseteq \\exists R.B$."
   ]
  },
  {
   "cell_type": "code",
   "execution_count": 11,
   "id": "d00daf8d",
   "metadata": {},
   "outputs": [
    {
     "data": {
      "text/plain": [
       "True"
      ]
     },
     "execution_count": 11,
     "metadata": {},
     "output_type": "execute_result"
    }
   ],
   "source": [
    "has_child_person = adapter.create_object_some_values_from(has_child, person)\n",
    "axioms.add(adapter.create_subclass_of(parent, has_child_person))"
   ]
  },
  {
   "cell_type": "markdown",
   "id": "8a910184",
   "metadata": {},
   "source": [
    "And finally, some assertion axioms of the form $C(a)$ and $R(a,b)$."
   ]
  },
  {
   "cell_type": "code",
   "execution_count": 12,
   "id": "13955925",
   "metadata": {},
   "outputs": [
    {
     "data": {
      "text/plain": [
       "<java object 'org.semanticweb.owlapi.model.parameters.ChangeApplied'>"
      ]
     },
     "execution_count": 12,
     "metadata": {},
     "output_type": "execute_result"
    }
   ],
   "source": [
    "axioms.add(adapter.create_class_assertion(father, John))\n",
    "axioms.add(adapter.create_class_assertion(mother, Jane))\n",
    "axioms.add(adapter.create_class_assertion(male, Robert))\n",
    "axioms.add(adapter.create_class_assertion(female, Melissa))\n",
    "axioms.add(adapter.create_object_property_assertion(has_child, John, Robert))\n",
    "axioms.add(adapter.create_object_property_assertion(has_child, Jane, Robert))\n",
    "axioms.add(adapter.create_object_property_assertion(has_child, John, Melissa))\n",
    "axioms.add(adapter.create_object_property_assertion(has_child, Jane, Melissa))\n",
    "adapter.owl_manager.addAxioms(ontology, axioms)"
   ]
  },
  {
   "cell_type": "code",
   "execution_count": 13,
   "id": "140d6a3c",
   "metadata": {},
   "outputs": [],
   "source": [
    "ont_file = os.path.abspath(f'family.owl')"
   ]
  },
  {
   "cell_type": "code",
   "execution_count": 14,
   "id": "a3397783",
   "metadata": {},
   "outputs": [],
   "source": [
    "adapter.owl_manager.saveOntology(ontology, IRI.create('file://'+ont_file))"
   ]
  },
  {
   "cell_type": "code",
   "execution_count": null,
   "id": "475f7408",
   "metadata": {},
   "outputs": [],
   "source": [
    "\n"
   ]
  },
  {
   "cell_type": "code",
   "execution_count": 15,
   "id": "5fc676fe",
   "metadata": {},
   "outputs": [
    {
     "ename": "ModuleNotFoundError",
     "evalue": "No module named 'google.colab'",
     "output_type": "error",
     "traceback": [
      "\u001b[0;31m---------------------------------------------------------------------------\u001b[0m",
      "\u001b[0;31mModuleNotFoundError\u001b[0m                       Traceback (most recent call last)",
      "Cell \u001b[0;32mIn[15], line 1\u001b[0m\n\u001b[0;32m----> 1\u001b[0m \u001b[38;5;28;01mfrom\u001b[39;00m \u001b[38;5;21;01mgoogle\u001b[39;00m\u001b[38;5;21;01m.\u001b[39;00m\u001b[38;5;21;01mcolab\u001b[39;00m \u001b[38;5;28;01mimport\u001b[39;00m drive\n\u001b[1;32m      2\u001b[0m drive\u001b[38;5;241m.\u001b[39mmount(\u001b[38;5;124m'\u001b[39m\u001b[38;5;124m/content/drive\u001b[39m\u001b[38;5;124m'\u001b[39m)\n\u001b[1;32m      3\u001b[0m \u001b[38;5;28;01mimport\u001b[39;00m \u001b[38;5;21;01mos\u001b[39;00m\n",
      "\u001b[0;31mModuleNotFoundError\u001b[0m: No module named 'google.colab'"
     ]
    }
   ],
   "source": [
    "from google.colab import drive\n",
    "drive.mount('/content/drive')\n",
    "import os\n",
    "os.chdir(\"/content/drive/MyDrive/mowl-tutorial/notebooks\")"
   ]
  },
  {
   "cell_type": "markdown",
   "id": "280f5c99",
   "metadata": {
    "cell_marker": "\"\"\""
   },
   "source": [
    "# Graph-based embeddings of ontologies"
   ]
  },
  {
   "cell_type": "markdown",
   "id": "9e8c98c6",
   "metadata": {
    "cell_marker": "r\"\"\",\n\"\"\""
   },
   "source": [
    "Ontologies are formed by a TBox, an ABox and an RBox. A Knowledge\n",
    "Graph can be easily extracted from the ABox and the RBox. However, to\n",
    "encode the graph representation of the TBox, which is composed by\n",
    "(complex) concept descriptions, many approaches have been developed. In mOWL, we provide some\n",
    "methods that perform ontology projection into graphs:\n",
    "\n",
    "- **Taxonomy projection**: the projection of axioms of the form $A\n",
    "\\sqsubseteq B$ as edges $(A, subclassof, B)$.\n",
    "\n",
    "- **Taxonomy + relations**: the projection of axioms of the form $A\n",
    "\\sqsubseteq B$ and $A \\sqsubseteq \\exists R.B$ as edges $(A,\n",
    "subclassof, B)$ and $(A, R, B)$, respectively.\n",
    "\n",
    "- **DL2Vec projection**\n",
    "\n",
    "- **OWL2Vec projection**"
   ]
  },
  {
   "cell_type": "code",
   "execution_count": 16,
   "id": "e2760973",
   "metadata": {
    "title": "[code]"
   },
   "outputs": [],
   "source": [
    "\n",
    "import mowl\n",
    "mowl.init_jvm(\"10g\")\n",
    "\n",
    "from mowl.projection import TaxonomyProjector, TaxonomyWithRelationsProjector, DL2VecProjector, OWL2VecStarProjector"
   ]
  },
  {
   "cell_type": "code",
   "execution_count": 17,
   "id": "385b126d",
   "metadata": {
    "lines_to_next_cell": 1,
    "title": "[code]"
   },
   "outputs": [
    {
     "name": "stdout",
     "output_type": "stream",
     "text": [
      "INFO: Number of ontology classes: 6\n",
      "Father\tsubclassof\tMale\n",
      "Female\tsubclassof\tPerson\n",
      "Male\tsubclassof\tPerson\n",
      "Mother\tsubclassof\tFemale\n",
      "Parent\tsubclassof\tPerson\n"
     ]
    }
   ],
   "source": [
    "#from mowl.datasets.builtin import FamilyDataset\n",
    "from mowl.datasets import PathDataset\n",
    "#dataset = FamilyDataset()\n",
    "dataset = PathDataset(\"data/family.owl\")\n",
    "edges = TaxonomyProjector().project(dataset.ontology)\n",
    "\n",
    "for edge in edges:\n",
    "    src = edge.src.split(\"/\")[-1]\n",
    "    rel = edge.rel.split(\"/\")[-1]\n",
    "    dst = edge.dst.split(\"/\")[-1]\n",
    "    print(f\"{src}\\t{rel}\\t{dst}\")"
   ]
  },
  {
   "cell_type": "code",
   "execution_count": 18,
   "id": "824a6fd5",
   "metadata": {
    "lines_to_next_cell": 1,
    "title": "[code]"
   },
   "outputs": [],
   "source": [
    "def nx_network(edges):\n",
    "    import networkx as nx\n",
    "    import matplotlib.pyplot as plt\n",
    "    G = nx.DiGraph()\n",
    "    for edge in edges:\n",
    "        src = edge.src.split(\"/\")[-1]\n",
    "        dst = edge.dst.split(\"/\")[-1]\n",
    "        G.add_edge(src, dst)\n",
    "    #nx draw with custom colors\n",
    "    plt.figure(figsize=(5,5))\n",
    "    pos = nx.spring_layout(G)\n",
    "    nx.draw(G, pos, edge_color='black', width=1, linewidths=1,\n",
    "            node_size=500, node_color='cyan', alpha=0.9,\n",
    "            labels={node:node for node in G.nodes()})\n",
    "    #nx.draw(G, with_labels=True)\n",
    "    plt.show()"
   ]
  },
  {
   "cell_type": "code",
   "execution_count": 19,
   "id": "a89950b9",
   "metadata": {
    "lines_to_next_cell": 2
   },
   "outputs": [
    {
     "data": {
      "image/png": "[encoded data removed]",
      "text/plain": [
       "<Figure size 500x500 with 1 Axes>"
      ]
     },
     "metadata": {},
     "output_type": "display_data"
    }
   ],
   "source": [
    "nx_network(edges)"
   ]
  },
  {
   "cell_type": "code",
   "execution_count": 20,
   "id": "820e3c13",
   "metadata": {
    "lines_to_next_cell": 2
   },
   "outputs": [
    {
     "name": "stdout",
     "output_type": "stream",
     "text": [
      "Jane\thasChild\tMelissa\n",
      "Parent\thasChild\tPerson\n",
      "John\thasChild\tMelissa\n",
      "Female\tsubclassof\tPerson\n",
      "Person\tsuperclassof\tFemale\n",
      "Father\tsubclassof\tMale\n",
      "Male\tsuperclassof\tFather\n",
      "Jane\thasChild\tRobert\n",
      "Male\tsubclassof\tPerson\n",
      "Person\tsuperclassof\tMale\n",
      "Parent\tsubclassof\tPerson\n",
      "Person\tsuperclassof\tParent\n",
      "Mother\tsubclassof\tFemale\n",
      "Female\tsuperclassof\tMother\n",
      "John\thasChild\tRobert\n"
     ]
    }
   ],
   "source": [
    "dl2vec_proj = DL2VecProjector(bidirectional_taxonomy=True)\n",
    "d2v_edges = dl2vec_proj.project(dataset.ontology, with_individuals=True)\n",
    "\n",
    "for edge in d2v_edges:\n",
    "    src = edge.src.split(\"/\")[-1]\n",
    "    rel = edge.rel.split(\"/\")[-1]\n",
    "    dst = edge.dst.split(\"/\")[-1]\n",
    "    print(f\"{src}\\t{rel}\\t{dst}\")"
   ]
  },
  {
   "cell_type": "code",
   "execution_count": 21,
   "id": "941f4390",
   "metadata": {
    "title": "[code]"
   },
   "outputs": [
    {
     "data": {
      "image/png": "[encoded data removed]",
      "text/plain": [
       "<Figure size 500x500 with 1 Axes>"
      ]
     },
     "metadata": {},
     "output_type": "display_data"
    }
   ],
   "source": [
    "nx_network(d2v_edges)\n",
    "\n"
   ]
  },
  {
   "cell_type": "code",
   "execution_count": 22,
   "id": "b82628c6",
   "metadata": {
    "lines_to_next_cell": 2
   },
   "outputs": [
    {
     "name": "stdout",
     "output_type": "stream",
     "text": [
      "subRoles: Map()\n",
      "inverseRoles: Map()\n"
     ]
    }
   ],
   "source": [
    "owl2vec_proj = OWL2VecStarProjector(bidirectional_taxonomy=True)\n",
    "o2v_edges = owl2vec_proj.project(dataset.ontology)"
   ]
  },
  {
   "cell_type": "code",
   "execution_count": 23,
   "id": "3dda19de",
   "metadata": {
    "title": "[code]"
   },
   "outputs": [
    {
     "data": {
      "image/png": "[encoded data removed]",
      "text/plain": [
       "<Figure size 500x500 with 1 Axes>"
      ]
     },
     "metadata": {},
     "output_type": "display_data"
    }
   ],
   "source": [
    "nx_network(o2v_edges)\n",
    "\n",
    "\n"
   ]
  },
  {
   "cell_type": "markdown",
   "id": "f3305542",
   "metadata": {
    "cell_marker": "\"\"\""
   },
   "source": [
    "# Syntactic embeddings of ontologies"
   ]
  },
  {
   "cell_type": "markdown",
   "id": "e10bba63",
   "metadata": {
    "cell_marker": "r\"\"\",\n\"\"\""
   },
   "source": [
    "Syntactic embeddings embedding uses the syntax of axioms to generate sentences out of them. mOWL provides methods to generate text sentences from the axioms and/or the annotations in the ontology. The syntax chosen to generate the sentences is [Manchester Syntax](https://www.w3.org/2007/OWL/draft/ED-owl2-manchester-syntax-20081128/)."
   ]
  },
  {
   "cell_type": "code",
   "execution_count": 24,
   "id": "0cd5e17c",
   "metadata": {
    "title": "[code]"
   },
   "outputs": [],
   "source": [
    "import mowl\n",
    "mowl.init_jvm(\"10g\")"
   ]
  },
  {
   "cell_type": "markdown",
   "id": "907a848d",
   "metadata": {
    "cell_marker": "\"\"\"",
    "lines_to_next_cell": 0
   },
   "source": [
    "We import our `Family Ontology` and the method `extract_axiom_corpus`, which extracts the axioms from the ontology and generates sentences in *Manchester Syntax*."
   ]
  },
  {
   "cell_type": "code",
   "execution_count": 25,
   "id": "6116391c",
   "metadata": {
    "title": "[code]"
   },
   "outputs": [
    {
     "name": "stderr",
     "output_type": "stream",
     "text": [
      "INFO:root:Generating axioms corpus\n"
     ]
    },
    {
     "data": {
      "text/plain": [
       "30"
      ]
     },
     "execution_count": 25,
     "metadata": {},
     "output_type": "execute_result"
    }
   ],
   "source": [
    "from mowl.corpus import extract_axiom_corpus\n",
    "from mowl.datasets import PathDataset\n",
    "dataset = PathDataset(\"data/family.owl\")\n",
    "corpus = extract_axiom_corpus(dataset.ontology)\n",
    "len(corpus)"
   ]
  },
  {
   "cell_type": "markdown",
   "id": "ae5b7fc9",
   "metadata": {
    "cell_marker": "\"\"\""
   },
   "source": [
    "Let's see the corpus generated:"
   ]
  },
  {
   "cell_type": "code",
   "execution_count": 26,
   "id": "2e8d4e29",
   "metadata": {
    "lines_to_next_cell": 0
   },
   "outputs": [
    {
     "name": "stdout",
     "output_type": "stream",
     "text": [
      "http://Melissa Type http://Female\n",
      "http://Jane Type http://Mother\n",
      "http://Jane http://hasChild http://Melissa\n",
      "http://Female and http://Parent SubClassOf http://Mother\n",
      "http://Parent SubClassOf http://hasChild some http://Person\n",
      "http://John http://hasChild http://Melissa\n",
      "Individual: http://Robert\n",
      "http://John Type http://Father\n",
      "http://Female DisjointWith http://Male\n",
      "Class: http://Person\n"
     ]
    }
   ],
   "source": [
    "for s in corpus[:10]:\n",
    "    print(s)"
   ]
  },
  {
   "cell_type": "markdown",
   "id": "303f0d19",
   "metadata": {
    "cell_marker": "\"\"\"",
    "lines_to_next_cell": 2
   },
   "source": [
    "Now it is possible to input this corpus in a model like Word2Vec, which will generate numerical representations for our vocabulary. We will use the `gensim` library to do this."
   ]
  },
  {
   "cell_type": "code",
   "execution_count": 27,
   "id": "d336b243",
   "metadata": {
    "lines_to_next_cell": 0,
    "title": "[code]"
   },
   "outputs": [
    {
     "name": "stderr",
     "output_type": "stream",
     "text": [
      "INFO:gensim.models.word2vec:collecting all words and their counts\n",
      "INFO:gensim.models.word2vec:PROGRESS: at sentence #0, processed 0 words, keeping 0 word types\n",
      "INFO:gensim.models.word2vec:collected 22 word types from a corpus of 88 raw words and 30 sentences\n",
      "INFO:gensim.models.word2vec:Creating a fresh vocabulary\n",
      "INFO:gensim.utils:Word2Vec lifecycle event {'msg': 'effective_min_count=0 retains 22 unique words (100.00% of original 22, drops 0)', 'datetime': '2023-02-07T18:18:10.773721', 'gensim': '4.3.0', 'python': '3.8.0 (default, Nov  6 2019, 21:49:08) \\n[GCC 7.3.0]', 'platform': 'Linux-5.15.0-58-generic-x86_64-with-glibc2.10', 'event': 'prepare_vocab'}\n",
      "INFO:gensim.utils:Word2Vec lifecycle event {'msg': 'effective_min_count=0 leaves 88 word corpus (100.00% of original 88, drops 0)', 'datetime': '2023-02-07T18:18:10.774310', 'gensim': '4.3.0', 'python': '3.8.0 (default, Nov  6 2019, 21:49:08) \\n[GCC 7.3.0]', 'platform': 'Linux-5.15.0-58-generic-x86_64-with-glibc2.10', 'event': 'prepare_vocab'}\n",
      "INFO:gensim.models.word2vec:deleting the raw counts dictionary of 22 items\n",
      "INFO:gensim.models.word2vec:sample=0.001 downsamples 22 most-common words\n",
      "INFO:gensim.utils:Word2Vec lifecycle event {'msg': 'downsampling leaves estimated 14.365028256326118 word corpus (16.3%% of prior 88)', 'datetime': '2023-02-07T18:18:10.776403', 'gensim': '4.3.0', 'python': '3.8.0 (default, Nov  6 2019, 21:49:08) \\n[GCC 7.3.0]', 'platform': 'Linux-5.15.0-58-generic-x86_64-with-glibc2.10', 'event': 'prepare_vocab'}\n",
      "INFO:gensim.models.word2vec:estimated required memory for 22 words and 50 dimensions: 19800 bytes\n",
      "INFO:gensim.models.word2vec:resetting layer weights\n",
      "INFO:gensim.utils:Word2Vec lifecycle event {'update': False, 'trim_rule': 'None', 'datetime': '2023-02-07T18:18:10.778240', 'gensim': '4.3.0', 'python': '3.8.0 (default, Nov  6 2019, 21:49:08) \\n[GCC 7.3.0]', 'platform': 'Linux-5.15.0-58-generic-x86_64-with-glibc2.10', 'event': 'build_vocab'}\n",
      "INFO:gensim.utils:Word2Vec lifecycle event {'msg': 'training model with 3 workers on 22 vocabulary and 50 features, using sg=0 hs=0 sample=0.001 negative=5 window=5 shrink_windows=True', 'datetime': '2023-02-07T18:18:10.778534', 'gensim': '4.3.0', 'python': '3.8.0 (default, Nov  6 2019, 21:49:08) \\n[GCC 7.3.0]', 'platform': 'Linux-5.15.0-58-generic-x86_64-with-glibc2.10', 'event': 'train'}\n",
      "INFO:gensim.models.word2vec:EPOCH 0: training on 88 raw words (15 effective words) took 0.0s, 12201 effective words/s\n",
      "INFO:gensim.models.word2vec:EPOCH 1: training on 88 raw words (9 effective words) took 0.0s, 7278 effective words/s\n",
      "INFO:gensim.models.word2vec:EPOCH 2: training on 88 raw words (10 effective words) took 0.0s, 10542 effective words/s\n",
      "INFO:gensim.models.word2vec:EPOCH 3: training on 88 raw words (14 effective words) took 0.0s, 10022 effective words/s\n",
      "INFO:gensim.models.word2vec:EPOCH 4: training on 88 raw words (14 effective words) took 0.0s, 12281 effective words/s\n",
      "INFO:gensim.models.word2vec:EPOCH 5: training on 88 raw words (17 effective words) took 0.0s, 9579 effective words/s\n",
      "INFO:gensim.models.word2vec:EPOCH 6: training on 88 raw words (14 effective words) took 0.0s, 8829 effective words/s\n",
      "INFO:gensim.models.word2vec:EPOCH 7: training on 88 raw words (14 effective words) took 0.0s, 44505 effective words/s\n",
      "INFO:gensim.models.word2vec:EPOCH 8: training on 88 raw words (20 effective words) took 0.0s, 14346 effective words/s\n",
      "INFO:gensim.models.word2vec:EPOCH 9: training on 88 raw words (15 effective words) took 0.0s, 15645 effective words/s\n",
      "INFO:gensim.models.word2vec:EPOCH 10: training on 88 raw words (12 effective words) took 0.0s, 7685 effective words/s\n",
      "INFO:gensim.models.word2vec:EPOCH 11: training on 88 raw words (14 effective words) took 0.0s, 10783 effective words/s\n",
      "INFO:gensim.models.word2vec:EPOCH 12: training on 88 raw words (18 effective words) took 0.0s, 21053 effective words/s\n",
      "INFO:gensim.models.word2vec:EPOCH 13: training on 88 raw words (18 effective words) took 0.0s, 15877 effective words/s\n",
      "INFO:gensim.models.word2vec:EPOCH 14: training on 88 raw words (16 effective words) took 0.0s, 149080 effective words/s\n",
      "INFO:gensim.models.word2vec:EPOCH 15: training on 88 raw words (14 effective words) took 0.0s, 10370 effective words/s\n",
      "INFO:gensim.models.word2vec:EPOCH 16: training on 88 raw words (15 effective words) took 0.0s, 60284 effective words/s\n",
      "INFO:gensim.models.word2vec:EPOCH 17: training on 88 raw words (11 effective words) took 0.0s, 12743 effective words/s\n",
      "INFO:gensim.models.word2vec:EPOCH 18: training on 88 raw words (10 effective words) took 0.0s, 11452 effective words/s\n",
      "INFO:gensim.models.word2vec:EPOCH 19: training on 88 raw words (17 effective words) took 0.0s, 18185 effective words/s\n",
      "INFO:gensim.models.word2vec:EPOCH 20: training on 88 raw words (12 effective words) took 0.0s, 9333 effective words/s\n",
      "INFO:gensim.models.word2vec:EPOCH 21: training on 88 raw words (10 effective words) took 0.0s, 71628 effective words/s\n",
      "INFO:gensim.models.word2vec:EPOCH 22: training on 88 raw words (12 effective words) took 0.0s, 8095 effective words/s\n",
      "INFO:gensim.models.word2vec:EPOCH 23: training on 88 raw words (11 effective words) took 0.0s, 12049 effective words/s\n",
      "INFO:gensim.models.word2vec:EPOCH 24: training on 88 raw words (13 effective words) took 0.0s, 14594 effective words/s\n",
      "INFO:gensim.models.word2vec:EPOCH 25: training on 88 raw words (10 effective words) took 0.0s, 10892 effective words/s\n",
      "INFO:gensim.models.word2vec:EPOCH 26: training on 88 raw words (15 effective words) took 0.0s, 13568 effective words/s\n",
      "INFO:gensim.models.word2vec:EPOCH 27: training on 88 raw words (15 effective words) took 0.0s, 13621 effective words/s\n",
      "INFO:gensim.models.word2vec:EPOCH 28: training on 88 raw words (20 effective words) took 0.0s, 14510 effective words/s\n",
      "INFO:gensim.models.word2vec:EPOCH 29: training on 88 raw words (13 effective words) took 0.0s, 12201 effective words/s\n",
      "INFO:gensim.models.word2vec:EPOCH 30: training on 88 raw words (12 effective words) took 0.0s, 11906 effective words/s\n",
      "INFO:gensim.models.word2vec:EPOCH 31: training on 88 raw words (16 effective words) took 0.0s, 15181 effective words/s\n",
      "INFO:gensim.models.word2vec:EPOCH 32: training on 88 raw words (17 effective words) took 0.0s, 110426 effective words/s\n",
      "INFO:gensim.models.word2vec:EPOCH 33: training on 88 raw words (14 effective words) took 0.0s, 11369 effective words/s\n",
      "INFO:gensim.models.word2vec:EPOCH 34: training on 88 raw words (15 effective words) took 0.0s, 13307 effective words/s\n",
      "INFO:gensim.models.word2vec:EPOCH 35: training on 88 raw words (14 effective words) took 0.0s, 85791 effective words/s\n",
      "INFO:gensim.models.word2vec:EPOCH 36: training on 88 raw words (17 effective words) took 0.0s, 15008 effective words/s\n",
      "INFO:gensim.models.word2vec:EPOCH 37: training on 88 raw words (13 effective words) took 0.0s, 7725 effective words/s\n",
      "INFO:gensim.models.word2vec:EPOCH 38: training on 88 raw words (24 effective words) took 0.0s, 18978 effective words/s\n",
      "INFO:gensim.models.word2vec:EPOCH 39: training on 88 raw words (13 effective words) took 0.0s, 159484 effective words/s\n",
      "INFO:gensim.models.word2vec:EPOCH 40: training on 88 raw words (12 effective words) took 0.0s, 7233 effective words/s\n",
      "INFO:gensim.models.word2vec:EPOCH 41: training on 88 raw words (19 effective words) took 0.0s, 14681 effective words/s\n",
      "INFO:gensim.models.word2vec:EPOCH 42: training on 88 raw words (19 effective words) took 0.0s, 15969 effective words/s\n",
      "INFO:gensim.models.word2vec:EPOCH 43: training on 88 raw words (14 effective words) took 0.0s, 17083 effective words/s\n",
      "INFO:gensim.models.word2vec:EPOCH 44: training on 88 raw words (19 effective words) took 0.0s, 23590 effective words/s\n",
      "INFO:gensim.models.word2vec:EPOCH 45: training on 88 raw words (13 effective words) took 0.0s, 15028 effective words/s\n",
      "INFO:gensim.models.word2vec:EPOCH 46: training on 88 raw words (19 effective words) took 0.0s, 23248 effective words/s\n",
      "INFO:gensim.models.word2vec:EPOCH 47: training on 88 raw words (17 effective words) took 0.0s, 11183 effective words/s\n",
      "INFO:gensim.models.word2vec:EPOCH 48: training on 88 raw words (17 effective words) took 0.0s, 20484 effective words/s\n",
      "INFO:gensim.models.word2vec:EPOCH 49: training on 88 raw words (10 effective words) took 0.0s, 11839 effective words/s\n"
     ]
    },
    {
     "name": "stderr",
     "output_type": "stream",
     "text": [
      "INFO:gensim.models.word2vec:EPOCH 50: training on 88 raw words (18 effective words) took 0.0s, 21410 effective words/s\n",
      "INFO:gensim.models.word2vec:EPOCH 51: training on 88 raw words (6 effective words) took 0.0s, 3964 effective words/s\n",
      "INFO:gensim.models.word2vec:EPOCH 52: training on 88 raw words (14 effective words) took 0.0s, 17299 effective words/s\n",
      "INFO:gensim.models.word2vec:EPOCH 53: training on 88 raw words (13 effective words) took 0.0s, 58601 effective words/s\n",
      "INFO:gensim.models.word2vec:EPOCH 54: training on 88 raw words (14 effective words) took 0.0s, 53954 effective words/s\n",
      "INFO:gensim.models.word2vec:EPOCH 55: training on 88 raw words (19 effective words) took 0.0s, 21914 effective words/s\n",
      "INFO:gensim.models.word2vec:EPOCH 56: training on 88 raw words (15 effective words) took 0.0s, 17815 effective words/s\n",
      "INFO:gensim.models.word2vec:EPOCH 57: training on 88 raw words (14 effective words) took 0.0s, 19811 effective words/s\n",
      "INFO:gensim.models.word2vec:EPOCH 58: training on 88 raw words (14 effective words) took 0.0s, 126603 effective words/s\n",
      "INFO:gensim.models.word2vec:EPOCH 59: training on 88 raw words (21 effective words) took 0.0s, 20313 effective words/s\n",
      "INFO:gensim.models.word2vec:EPOCH 60: training on 88 raw words (17 effective words) took 0.0s, 22270 effective words/s\n",
      "INFO:gensim.models.word2vec:EPOCH 61: training on 88 raw words (19 effective words) took 0.0s, 27565 effective words/s\n",
      "INFO:gensim.models.word2vec:EPOCH 62: training on 88 raw words (15 effective words) took 0.0s, 18183 effective words/s\n",
      "INFO:gensim.models.word2vec:EPOCH 63: training on 88 raw words (15 effective words) took 0.0s, 18658 effective words/s\n",
      "INFO:gensim.models.word2vec:EPOCH 64: training on 88 raw words (11 effective words) took 0.0s, 13004 effective words/s\n",
      "INFO:gensim.models.word2vec:EPOCH 65: training on 88 raw words (18 effective words) took 0.0s, 21431 effective words/s\n",
      "INFO:gensim.models.word2vec:EPOCH 66: training on 88 raw words (17 effective words) took 0.0s, 18623 effective words/s\n",
      "INFO:gensim.models.word2vec:EPOCH 67: training on 88 raw words (18 effective words) took 0.0s, 12955 effective words/s\n",
      "INFO:gensim.models.word2vec:EPOCH 68: training on 88 raw words (10 effective words) took 0.0s, 12496 effective words/s\n",
      "INFO:gensim.models.word2vec:EPOCH 69: training on 88 raw words (16 effective words) took 0.0s, 18820 effective words/s\n",
      "INFO:gensim.models.word2vec:EPOCH 70: training on 88 raw words (11 effective words) took 0.0s, 11058 effective words/s\n",
      "INFO:gensim.models.word2vec:EPOCH 71: training on 88 raw words (7 effective words) took 0.0s, 6916 effective words/s\n",
      "INFO:gensim.models.word2vec:EPOCH 72: training on 88 raw words (13 effective words) took 0.0s, 14133 effective words/s\n",
      "INFO:gensim.models.word2vec:EPOCH 73: training on 88 raw words (10 effective words) took 0.0s, 79215 effective words/s\n",
      "INFO:gensim.models.word2vec:EPOCH 74: training on 88 raw words (12 effective words) took 0.0s, 6894 effective words/s\n",
      "INFO:gensim.models.word2vec:EPOCH 75: training on 88 raw words (17 effective words) took 0.0s, 22286 effective words/s\n",
      "INFO:gensim.models.word2vec:EPOCH 76: training on 88 raw words (15 effective words) took 0.0s, 12320 effective words/s\n",
      "INFO:gensim.models.word2vec:EPOCH 77: training on 88 raw words (7 effective words) took 0.0s, 10168 effective words/s\n",
      "INFO:gensim.models.word2vec:EPOCH 78: training on 88 raw words (10 effective words) took 0.0s, 10786 effective words/s\n",
      "INFO:gensim.models.word2vec:EPOCH 79: training on 88 raw words (7 effective words) took 0.0s, 6994 effective words/s\n",
      "INFO:gensim.models.word2vec:EPOCH 80: training on 88 raw words (15 effective words) took 0.0s, 16676 effective words/s\n",
      "INFO:gensim.models.word2vec:EPOCH 81: training on 88 raw words (14 effective words) took 0.0s, 39096 effective words/s\n",
      "INFO:gensim.models.word2vec:EPOCH 82: training on 88 raw words (15 effective words) took 0.0s, 8557 effective words/s\n",
      "INFO:gensim.models.word2vec:EPOCH 83: training on 88 raw words (13 effective words) took 0.0s, 11444 effective words/s\n",
      "INFO:gensim.models.word2vec:EPOCH 84: training on 88 raw words (17 effective words) took 0.0s, 19698 effective words/s\n",
      "INFO:gensim.models.word2vec:EPOCH 85: training on 88 raw words (15 effective words) took 0.0s, 219080 effective words/s\n",
      "INFO:gensim.models.word2vec:EPOCH 86: training on 88 raw words (15 effective words) took 0.0s, 11446 effective words/s\n",
      "INFO:gensim.models.word2vec:EPOCH 87: training on 88 raw words (11 effective words) took 0.0s, 9693 effective words/s\n",
      "INFO:gensim.models.word2vec:EPOCH 88: training on 88 raw words (9 effective words) took 0.0s, 6299 effective words/s\n",
      "INFO:gensim.models.word2vec:EPOCH 89: training on 88 raw words (20 effective words) took 0.0s, 14652 effective words/s\n",
      "INFO:gensim.models.word2vec:EPOCH 90: training on 88 raw words (11 effective words) took 0.0s, 10871 effective words/s\n",
      "INFO:gensim.models.word2vec:EPOCH 91: training on 88 raw words (20 effective words) took 0.0s, 21262 effective words/s\n",
      "INFO:gensim.models.word2vec:EPOCH 92: training on 88 raw words (17 effective words) took 0.0s, 11827 effective words/s\n",
      "INFO:gensim.models.word2vec:EPOCH 93: training on 88 raw words (13 effective words) took 0.0s, 13807 effective words/s\n",
      "INFO:gensim.models.word2vec:EPOCH 94: training on 88 raw words (12 effective words) took 0.0s, 12065 effective words/s\n",
      "INFO:gensim.models.word2vec:EPOCH 95: training on 88 raw words (14 effective words) took 0.0s, 14077 effective words/s\n",
      "INFO:gensim.models.word2vec:EPOCH 96: training on 88 raw words (24 effective words) took 0.0s, 31910 effective words/s\n",
      "INFO:gensim.models.word2vec:EPOCH 97: training on 88 raw words (13 effective words) took 0.0s, 22858 effective words/s\n",
      "INFO:gensim.models.word2vec:EPOCH 98: training on 88 raw words (13 effective words) took 0.0s, 482482 effective words/s\n",
      "INFO:gensim.models.word2vec:EPOCH 99: training on 88 raw words (10 effective words) took 0.0s, 9058 effective words/s\n",
      "INFO:gensim.models.word2vec:EPOCH 100: training on 88 raw words (10 effective words) took 0.0s, 10664 effective words/s\n",
      "INFO:gensim.models.word2vec:EPOCH 101: training on 88 raw words (18 effective words) took 0.0s, 19605 effective words/s\n",
      "INFO:gensim.models.word2vec:EPOCH 102: training on 88 raw words (13 effective words) took 0.0s, 10359 effective words/s\n",
      "INFO:gensim.models.word2vec:EPOCH 103: training on 88 raw words (16 effective words) took 0.0s, 11837 effective words/s\n",
      "INFO:gensim.models.word2vec:EPOCH 104: training on 88 raw words (14 effective words) took 0.0s, 21425 effective words/s\n",
      "INFO:gensim.models.word2vec:EPOCH 105: training on 88 raw words (15 effective words) took 0.0s, 63315 effective words/s\n",
      "INFO:gensim.models.word2vec:EPOCH 106: training on 88 raw words (12 effective words) took 0.0s, 14253 effective words/s\n",
      "INFO:gensim.models.word2vec:EPOCH 107: training on 88 raw words (13 effective words) took 0.0s, 15981 effective words/s\n",
      "INFO:gensim.models.word2vec:EPOCH 108: training on 88 raw words (12 effective words) took 0.0s, 9081 effective words/s\n",
      "INFO:gensim.models.word2vec:EPOCH 109: training on 88 raw words (17 effective words) took 0.0s, 19528 effective words/s\n",
      "INFO:gensim.models.word2vec:EPOCH 110: training on 88 raw words (9 effective words) took 0.0s, 9768 effective words/s\n",
      "INFO:gensim.models.word2vec:EPOCH 111: training on 88 raw words (15 effective words) took 0.0s, 16659 effective words/s\n",
      "INFO:gensim.models.word2vec:EPOCH 112: training on 88 raw words (16 effective words) took 0.0s, 23430 effective words/s\n",
      "INFO:gensim.models.word2vec:EPOCH 113: training on 88 raw words (13 effective words) took 0.0s, 19343 effective words/s\n",
      "INFO:gensim.models.word2vec:EPOCH 114: training on 88 raw words (11 effective words) took 0.0s, 13979 effective words/s\n",
      "INFO:gensim.models.word2vec:EPOCH 115: training on 88 raw words (13 effective words) took 0.0s, 57231 effective words/s\n",
      "INFO:gensim.models.word2vec:EPOCH 116: training on 88 raw words (17 effective words) took 0.0s, 13927 effective words/s\n",
      "INFO:gensim.models.word2vec:EPOCH 117: training on 88 raw words (13 effective words) took 0.0s, 16130 effective words/s\n",
      "INFO:gensim.models.word2vec:EPOCH 118: training on 88 raw words (10 effective words) took 0.0s, 12033 effective words/s\n"
     ]
    },
    {
     "name": "stderr",
     "output_type": "stream",
     "text": [
      "INFO:gensim.models.word2vec:EPOCH 119: training on 88 raw words (13 effective words) took 0.0s, 18983 effective words/s\n",
      "INFO:gensim.models.word2vec:EPOCH 120: training on 88 raw words (10 effective words) took 0.0s, 8334 effective words/s\n",
      "INFO:gensim.models.word2vec:EPOCH 121: training on 88 raw words (17 effective words) took 0.0s, 24022 effective words/s\n",
      "INFO:gensim.models.word2vec:EPOCH 122: training on 88 raw words (14 effective words) took 0.0s, 21563 effective words/s\n",
      "INFO:gensim.models.word2vec:EPOCH 123: training on 88 raw words (11 effective words) took 0.0s, 6107 effective words/s\n",
      "INFO:gensim.models.word2vec:EPOCH 124: training on 88 raw words (13 effective words) took 0.0s, 14179 effective words/s\n",
      "INFO:gensim.models.word2vec:EPOCH 125: training on 88 raw words (14 effective words) took 0.0s, 13841 effective words/s\n",
      "INFO:gensim.models.word2vec:EPOCH 126: training on 88 raw words (19 effective words) took 0.0s, 16231 effective words/s\n",
      "INFO:gensim.models.word2vec:EPOCH 127: training on 88 raw words (15 effective words) took 0.0s, 10402 effective words/s\n",
      "INFO:gensim.models.word2vec:EPOCH 128: training on 88 raw words (18 effective words) took 0.0s, 23511 effective words/s\n",
      "INFO:gensim.models.word2vec:EPOCH 129: training on 88 raw words (7 effective words) took 0.0s, 76867 effective words/s\n",
      "INFO:gensim.models.word2vec:EPOCH 130: training on 88 raw words (15 effective words) took 0.0s, 12923 effective words/s\n",
      "INFO:gensim.models.word2vec:EPOCH 131: training on 88 raw words (11 effective words) took 0.0s, 13252 effective words/s\n",
      "INFO:gensim.models.word2vec:EPOCH 132: training on 88 raw words (9 effective words) took 0.0s, 11165 effective words/s\n",
      "INFO:gensim.models.word2vec:EPOCH 133: training on 88 raw words (14 effective words) took 0.0s, 19820 effective words/s\n",
      "INFO:gensim.models.word2vec:EPOCH 134: training on 88 raw words (13 effective words) took 0.0s, 20018 effective words/s\n",
      "INFO:gensim.models.word2vec:EPOCH 135: training on 88 raw words (17 effective words) took 0.0s, 23177 effective words/s\n",
      "INFO:gensim.models.word2vec:EPOCH 136: training on 88 raw words (17 effective words) took 0.0s, 13394 effective words/s\n",
      "INFO:gensim.models.word2vec:EPOCH 137: training on 88 raw words (14 effective words) took 0.0s, 10555 effective words/s\n",
      "INFO:gensim.models.word2vec:EPOCH 138: training on 88 raw words (11 effective words) took 0.0s, 14899 effective words/s\n",
      "INFO:gensim.models.word2vec:EPOCH 139: training on 88 raw words (10 effective words) took 0.0s, 13030 effective words/s\n",
      "INFO:gensim.models.word2vec:EPOCH 140: training on 88 raw words (18 effective words) took 0.0s, 23938 effective words/s\n",
      "INFO:gensim.models.word2vec:EPOCH 141: training on 88 raw words (15 effective words) took 0.0s, 21696 effective words/s\n",
      "INFO:gensim.models.word2vec:EPOCH 142: training on 88 raw words (9 effective words) took 0.0s, 12582 effective words/s\n",
      "INFO:gensim.models.word2vec:EPOCH 143: training on 88 raw words (7 effective words) took 0.0s, 10346 effective words/s\n",
      "INFO:gensim.models.word2vec:EPOCH 144: training on 88 raw words (11 effective words) took 0.0s, 14823 effective words/s\n",
      "INFO:gensim.models.word2vec:EPOCH 145: training on 88 raw words (9 effective words) took 0.0s, 11676 effective words/s\n",
      "INFO:gensim.models.word2vec:EPOCH 146: training on 88 raw words (14 effective words) took 0.0s, 14419 effective words/s\n",
      "INFO:gensim.models.word2vec:EPOCH 147: training on 88 raw words (17 effective words) took 0.0s, 22985 effective words/s\n",
      "INFO:gensim.models.word2vec:EPOCH 148: training on 88 raw words (16 effective words) took 0.0s, 24726 effective words/s\n",
      "INFO:gensim.models.word2vec:EPOCH 149: training on 88 raw words (13 effective words) took 0.0s, 13149 effective words/s\n",
      "INFO:gensim.models.word2vec:EPOCH 150: training on 88 raw words (15 effective words) took 0.0s, 16741 effective words/s\n",
      "INFO:gensim.models.word2vec:EPOCH 151: training on 88 raw words (15 effective words) took 0.0s, 18161 effective words/s\n",
      "INFO:gensim.models.word2vec:EPOCH 152: training on 88 raw words (11 effective words) took 0.0s, 13703 effective words/s\n",
      "INFO:gensim.models.word2vec:EPOCH 153: training on 88 raw words (13 effective words) took 0.0s, 16017 effective words/s\n",
      "INFO:gensim.models.word2vec:EPOCH 154: training on 88 raw words (16 effective words) took 0.0s, 20846 effective words/s\n",
      "INFO:gensim.models.word2vec:EPOCH 155: training on 88 raw words (17 effective words) took 0.0s, 24999 effective words/s\n",
      "INFO:gensim.models.word2vec:EPOCH 156: training on 88 raw words (13 effective words) took 0.0s, 113861 effective words/s\n",
      "INFO:gensim.models.word2vec:EPOCH 157: training on 88 raw words (16 effective words) took 0.0s, 14651 effective words/s\n",
      "INFO:gensim.models.word2vec:EPOCH 158: training on 88 raw words (15 effective words) took 0.0s, 11239 effective words/s\n",
      "INFO:gensim.models.word2vec:EPOCH 159: training on 88 raw words (15 effective words) took 0.0s, 12948 effective words/s\n",
      "INFO:gensim.models.word2vec:EPOCH 160: training on 88 raw words (16 effective words) took 0.0s, 11532 effective words/s\n",
      "INFO:gensim.models.word2vec:EPOCH 161: training on 88 raw words (17 effective words) took 0.0s, 22341 effective words/s\n",
      "INFO:gensim.models.word2vec:EPOCH 162: training on 88 raw words (12 effective words) took 0.0s, 16658 effective words/s\n",
      "INFO:gensim.models.word2vec:EPOCH 163: training on 88 raw words (16 effective words) took 0.0s, 19045 effective words/s\n",
      "INFO:gensim.models.word2vec:EPOCH 164: training on 88 raw words (17 effective words) took 0.0s, 22561 effective words/s\n",
      "INFO:gensim.models.word2vec:EPOCH 165: training on 88 raw words (17 effective words) took 0.0s, 19109 effective words/s\n",
      "INFO:gensim.models.word2vec:EPOCH 166: training on 88 raw words (10 effective words) took 0.0s, 12255 effective words/s\n",
      "INFO:gensim.models.word2vec:EPOCH 167: training on 88 raw words (18 effective words) took 0.0s, 22421 effective words/s\n",
      "INFO:gensim.models.word2vec:EPOCH 168: training on 88 raw words (14 effective words) took 0.0s, 55925 effective words/s\n",
      "INFO:gensim.models.word2vec:EPOCH 169: training on 88 raw words (11 effective words) took 0.0s, 7133 effective words/s\n",
      "INFO:gensim.models.word2vec:EPOCH 170: training on 88 raw words (12 effective words) took 0.0s, 13301 effective words/s\n",
      "INFO:gensim.models.word2vec:EPOCH 171: training on 88 raw words (13 effective words) took 0.0s, 9364 effective words/s\n",
      "INFO:gensim.models.word2vec:EPOCH 172: training on 88 raw words (8 effective words) took 0.0s, 9921 effective words/s\n",
      "INFO:gensim.models.word2vec:EPOCH 173: training on 88 raw words (15 effective words) took 0.0s, 8933 effective words/s\n",
      "INFO:gensim.models.word2vec:EPOCH 174: training on 88 raw words (12 effective words) took 0.0s, 9915 effective words/s\n",
      "INFO:gensim.models.word2vec:EPOCH 175: training on 88 raw words (12 effective words) took 0.0s, 91517 effective words/s\n",
      "INFO:gensim.models.word2vec:EPOCH 176: training on 88 raw words (15 effective words) took 0.0s, 18372 effective words/s\n",
      "INFO:gensim.models.word2vec:EPOCH 177: training on 88 raw words (20 effective words) took 0.0s, 24200 effective words/s\n",
      "INFO:gensim.models.word2vec:EPOCH 178: training on 88 raw words (18 effective words) took 0.0s, 16478 effective words/s\n",
      "INFO:gensim.models.word2vec:EPOCH 179: training on 88 raw words (10 effective words) took 0.0s, 12171 effective words/s\n",
      "INFO:gensim.models.word2vec:EPOCH 180: training on 88 raw words (16 effective words) took 0.0s, 19215 effective words/s\n",
      "INFO:gensim.models.word2vec:EPOCH 181: training on 88 raw words (18 effective words) took 0.0s, 96977 effective words/s\n",
      "INFO:gensim.models.word2vec:EPOCH 182: training on 88 raw words (14 effective words) took 0.0s, 11961 effective words/s\n",
      "INFO:gensim.models.word2vec:EPOCH 183: training on 88 raw words (15 effective words) took 0.0s, 17451 effective words/s\n",
      "INFO:gensim.models.word2vec:EPOCH 184: training on 88 raw words (17 effective words) took 0.0s, 20781 effective words/s\n",
      "INFO:gensim.models.word2vec:EPOCH 185: training on 88 raw words (14 effective words) took 0.0s, 14900 effective words/s\n",
      "INFO:gensim.models.word2vec:EPOCH 186: training on 88 raw words (16 effective words) took 0.0s, 15861 effective words/s\n",
      "INFO:gensim.models.word2vec:EPOCH 187: training on 88 raw words (8 effective words) took 0.0s, 9925 effective words/s\n"
     ]
    },
    {
     "name": "stderr",
     "output_type": "stream",
     "text": [
      "INFO:gensim.models.word2vec:EPOCH 188: training on 88 raw words (16 effective words) took 0.0s, 18813 effective words/s\n",
      "INFO:gensim.models.word2vec:EPOCH 189: training on 88 raw words (16 effective words) took 0.0s, 15114 effective words/s\n",
      "INFO:gensim.models.word2vec:EPOCH 190: training on 88 raw words (21 effective words) took 0.0s, 31229 effective words/s\n",
      "INFO:gensim.models.word2vec:EPOCH 191: training on 88 raw words (18 effective words) took 0.0s, 33203 effective words/s\n",
      "INFO:gensim.models.word2vec:EPOCH 192: training on 88 raw words (11 effective words) took 0.0s, 15004 effective words/s\n",
      "INFO:gensim.models.word2vec:EPOCH 193: training on 88 raw words (18 effective words) took 0.0s, 20377 effective words/s\n",
      "INFO:gensim.models.word2vec:EPOCH 194: training on 88 raw words (14 effective words) took 0.0s, 17422 effective words/s\n",
      "INFO:gensim.models.word2vec:EPOCH 195: training on 88 raw words (13 effective words) took 0.0s, 14499 effective words/s\n",
      "INFO:gensim.models.word2vec:EPOCH 196: training on 88 raw words (10 effective words) took 0.0s, 11160 effective words/s\n",
      "INFO:gensim.models.word2vec:EPOCH 197: training on 88 raw words (15 effective words) took 0.0s, 20452 effective words/s\n",
      "INFO:gensim.models.word2vec:EPOCH 198: training on 88 raw words (14 effective words) took 0.0s, 17297 effective words/s\n",
      "INFO:gensim.models.word2vec:EPOCH 199: training on 88 raw words (21 effective words) took 0.0s, 26644 effective words/s\n",
      "INFO:gensim.utils:Word2Vec lifecycle event {'msg': 'training on 17600 raw words (2838 effective words) took 0.6s, 4761 effective words/s', 'datetime': '2023-02-07T18:18:11.374963', 'gensim': '4.3.0', 'python': '3.8.0 (default, Nov  6 2019, 21:49:08) \\n[GCC 7.3.0]', 'platform': 'Linux-5.15.0-58-generic-x86_64-with-glibc2.10', 'event': 'train'}\n",
      "INFO:gensim.utils:Word2Vec lifecycle event {'params': 'Word2Vec<vocab=22, vector_size=50, alpha=0.025>', 'datetime': '2023-02-07T18:18:11.375355', 'gensim': '4.3.0', 'python': '3.8.0 (default, Nov  6 2019, 21:49:08) \\n[GCC 7.3.0]', 'platform': 'Linux-5.15.0-58-generic-x86_64-with-glibc2.10', 'event': 'created'}\n"
     ]
    }
   ],
   "source": [
    "from gensim.models import Word2Vec\n",
    "\n",
    "sentences = [s.split(\" \") for s in corpus]\n",
    "w2v = Word2Vec(sentences, epochs=200, vector_size = 50, min_count = 0)"
   ]
  },
  {
   "cell_type": "markdown",
   "id": "f8019828",
   "metadata": {
    "cell_marker": "\"\"\""
   },
   "source": [
    "Finally, we can provide a visual representation of the entities. We will use a modified version of TSNE, which is implemented in mOWL:"
   ]
  },
  {
   "cell_type": "code",
   "execution_count": 28,
   "id": "39dc7c59",
   "metadata": {},
   "outputs": [
    {
     "name": "stderr",
     "output_type": "stream",
     "text": [
      "INFO:root:Found 11 embedding vectors. Processing only 11.\n"
     ]
    }
   ],
   "source": [
    "from scripts.tsne import TSNE\n",
    "\n",
    "vectors = w2v.wv\n",
    "vocab_dict = vectors.key_to_index\n",
    "name_to_label = {c: c.split(\"/\")[-1] for c in vocab_dict if str(c).startswith(\"http://\")}\n",
    "name_to_emb = {c: vectors[[c]][0] for c in name_to_label}\n",
    "\n",
    "tsne = TSNE(name_to_emb, name_to_label)\n",
    "tsne.generate_points(500, workers=4)"
   ]
  },
  {
   "cell_type": "code",
   "execution_count": 29,
   "id": "c36e9316",
   "metadata": {},
   "outputs": [
    {
     "data": {
      "image/png": "[encoded data removed]",
      "text/plain": [
       "<Figure size 1500x1500 with 1 Axes>"
      ]
     },
     "metadata": {},
     "output_type": "display_data"
    }
   ],
   "source": [
    "tsne.show(thickness=300)"
   ]
  },
  {
   "cell_type": "markdown",
   "id": "eb48a014",
   "metadata": {
    "cell_marker": "\"\"\""
   },
   "source": [
    "## Data augmentation via reasoning"
   ]
  },
  {
   "cell_type": "markdown",
   "id": "6d2b8fea",
   "metadata": {},
   "source": [
    "We can generate more axioms by performing reasoning over the current ontology. mOWL provides access to ELK and Hermit reasoners. Those reasoners can be accessed using the OWLAPI directly or using the `MOWLReasoner` wrapper class that provides some shortcuts to reasoner methods."
   ]
  },
  {
   "cell_type": "code",
   "execution_count": 30,
   "id": "a4cf5e7c",
   "metadata": {
    "title": "[code]"
   },
   "outputs": [
    {
     "name": "stderr",
     "output_type": "stream",
     "text": [
      "INFO:root:Number of inferred axioms: 12.\n",
      "INFO:root:Number of inferred axioms: 6.\n",
      "INFO:root:Number of inferred axioms: 6.\n"
     ]
    }
   ],
   "source": [
    "from mowl.reasoning.base import MOWLReasoner\n",
    "from org.semanticweb.HermiT import Reasoner\n",
    "\n",
    "reasoner = Reasoner.ReasonerFactory().createReasoner(dataset.ontology)\n",
    "reasoner.precomputeInferences()\n",
    "\n",
    "mowl_reasoner = MOWLReasoner(reasoner)\n",
    "classes_to_infer_over = list(dataset.ontology.getClassesInSignature())\n",
    "\n",
    "subclass_axioms = mowl_reasoner.infer_subclass_axioms(classes_to_infer_over)\n",
    "equivalence_axioms = mowl_reasoner.infer_equivalent_class_axioms(classes_to_infer_over)\n",
    "disjointness_axioms = mowl_reasoner.infer_disjoint_class_axioms(classes_to_infer_over)"
   ]
  },
  {
   "cell_type": "markdown",
   "id": "844e2cce",
   "metadata": {},
   "source": [
    "Once the axioms were generated, it is time to add them to the ontology:"
   ]
  },
  {
   "cell_type": "code",
   "execution_count": 31,
   "id": "a1043efc",
   "metadata": {
    "title": "[code]"
   },
   "outputs": [],
   "source": [
    "from mowl.owlapi import OWLAPIAdapter\n",
    "\n",
    "manager = OWLAPIAdapter().owl_manager\n",
    "\n",
    "for ax in subclass_axioms:\n",
    "    manager.addAxiom(dataset.ontology, ax)\n",
    "for ax in equivalence_axioms:\n",
    "    manager.addAxiom(dataset.ontology, ax)\n",
    "for ax in disjointness_axioms:\n",
    "    manager.addAxiom(dataset.ontology, ax)"
   ]
  },
  {
   "cell_type": "markdown",
   "id": "acd55e53",
   "metadata": {},
   "source": [
    "Then we can do the embedding process with the updated ontology:"
   ]
  },
  {
   "cell_type": "code",
   "execution_count": 32,
   "id": "d705322e",
   "metadata": {
    "title": "[code]"
   },
   "outputs": [
    {
     "name": "stderr",
     "output_type": "stream",
     "text": [
      "INFO:root:Generating axioms corpus\n"
     ]
    },
    {
     "name": "stdout",
     "output_type": "stream",
     "text": [
      "The inferred ontology contains 49 axioms\n"
     ]
    }
   ],
   "source": [
    "corpus = extract_axiom_corpus(dataset.ontology)\n",
    "print(f\"The inferred ontology contains {len(corpus)} axioms\")"
   ]
  },
  {
   "cell_type": "code",
   "execution_count": 33,
   "id": "52bc5bef",
   "metadata": {},
   "outputs": [
    {
     "name": "stderr",
     "output_type": "stream",
     "text": [
      "INFO:gensim.models.word2vec:collecting all words and their counts\n",
      "INFO:gensim.models.word2vec:PROGRESS: at sentence #0, processed 0 words, keeping 0 word types\n",
      "INFO:gensim.models.word2vec:collected 27 word types from a corpus of 157 raw words and 49 sentences\n",
      "INFO:gensim.models.word2vec:Creating a fresh vocabulary\n",
      "INFO:gensim.utils:Word2Vec lifecycle event {'msg': 'effective_min_count=0 retains 27 unique words (100.00% of original 27, drops 0)', 'datetime': '2023-02-07T18:18:14.750588', 'gensim': '4.3.0', 'python': '3.8.0 (default, Nov  6 2019, 21:49:08) \\n[GCC 7.3.0]', 'platform': 'Linux-5.15.0-58-generic-x86_64-with-glibc2.10', 'event': 'prepare_vocab'}\n",
      "INFO:gensim.utils:Word2Vec lifecycle event {'msg': 'effective_min_count=0 leaves 157 word corpus (100.00% of original 157, drops 0)', 'datetime': '2023-02-07T18:18:14.750888', 'gensim': '4.3.0', 'python': '3.8.0 (default, Nov  6 2019, 21:49:08) \\n[GCC 7.3.0]', 'platform': 'Linux-5.15.0-58-generic-x86_64-with-glibc2.10', 'event': 'prepare_vocab'}\n",
      "INFO:gensim.models.word2vec:deleting the raw counts dictionary of 27 items\n",
      "INFO:gensim.models.word2vec:sample=0.001 downsamples 27 most-common words\n",
      "INFO:gensim.utils:Word2Vec lifecycle event {'msg': 'downsampling leaves estimated 28.53266845257652 word corpus (18.2%% of prior 157)', 'datetime': '2023-02-07T18:18:14.751780', 'gensim': '4.3.0', 'python': '3.8.0 (default, Nov  6 2019, 21:49:08) \\n[GCC 7.3.0]', 'platform': 'Linux-5.15.0-58-generic-x86_64-with-glibc2.10', 'event': 'prepare_vocab'}\n",
      "INFO:gensim.models.word2vec:estimated required memory for 27 words and 50 dimensions: 24300 bytes\n",
      "INFO:gensim.models.word2vec:resetting layer weights\n",
      "INFO:gensim.utils:Word2Vec lifecycle event {'update': False, 'trim_rule': 'None', 'datetime': '2023-02-07T18:18:14.753064', 'gensim': '4.3.0', 'python': '3.8.0 (default, Nov  6 2019, 21:49:08) \\n[GCC 7.3.0]', 'platform': 'Linux-5.15.0-58-generic-x86_64-with-glibc2.10', 'event': 'build_vocab'}\n",
      "INFO:gensim.utils:Word2Vec lifecycle event {'msg': 'training model with 3 workers on 27 vocabulary and 50 features, using sg=0 hs=0 sample=0.001 negative=5 window=5 shrink_windows=True', 'datetime': '2023-02-07T18:18:14.753385', 'gensim': '4.3.0', 'python': '3.8.0 (default, Nov  6 2019, 21:49:08) \\n[GCC 7.3.0]', 'platform': 'Linux-5.15.0-58-generic-x86_64-with-glibc2.10', 'event': 'train'}\n",
      "INFO:gensim.models.word2vec:EPOCH 0: training on 157 raw words (28 effective words) took 0.0s, 57868 effective words/s\n",
      "INFO:gensim.models.word2vec:EPOCH 1: training on 157 raw words (24 effective words) took 0.0s, 113908 effective words/s\n",
      "INFO:gensim.models.word2vec:EPOCH 2: training on 157 raw words (30 effective words) took 0.0s, 58363 effective words/s\n",
      "INFO:gensim.models.word2vec:EPOCH 3: training on 157 raw words (20 effective words) took 0.0s, 64668 effective words/s\n",
      "INFO:gensim.models.word2vec:EPOCH 4: training on 157 raw words (28 effective words) took 0.0s, 57704 effective words/s\n",
      "INFO:gensim.models.word2vec:EPOCH 5: training on 157 raw words (27 effective words) took 0.0s, 229504 effective words/s\n",
      "INFO:gensim.models.word2vec:EPOCH 6: training on 157 raw words (29 effective words) took 0.0s, 122407 effective words/s\n",
      "INFO:gensim.models.word2vec:EPOCH 7: training on 157 raw words (28 effective words) took 0.0s, 69766 effective words/s\n",
      "INFO:gensim.models.word2vec:EPOCH 8: training on 157 raw words (27 effective words) took 0.0s, 279619 effective words/s\n",
      "INFO:gensim.models.word2vec:EPOCH 9: training on 157 raw words (31 effective words) took 0.0s, 91676 effective words/s\n",
      "INFO:gensim.models.word2vec:EPOCH 10: training on 157 raw words (22 effective words) took 0.0s, 70650 effective words/s\n",
      "INFO:gensim.models.word2vec:EPOCH 11: training on 157 raw words (37 effective words) took 0.0s, 172293 effective words/s\n",
      "INFO:gensim.models.word2vec:EPOCH 12: training on 157 raw words (30 effective words) took 0.0s, 202087 effective words/s\n",
      "INFO:gensim.models.word2vec:EPOCH 13: training on 157 raw words (27 effective words) took 0.0s, 70168 effective words/s\n",
      "INFO:gensim.models.word2vec:EPOCH 14: training on 157 raw words (30 effective words) took 0.0s, 89248 effective words/s\n",
      "INFO:gensim.models.word2vec:EPOCH 15: training on 157 raw words (29 effective words) took 0.0s, 70330 effective words/s\n",
      "INFO:gensim.models.word2vec:EPOCH 16: training on 157 raw words (25 effective words) took 0.0s, 114784 effective words/s\n",
      "INFO:gensim.models.word2vec:EPOCH 17: training on 157 raw words (24 effective words) took 0.0s, 122794 effective words/s\n",
      "INFO:gensim.models.word2vec:EPOCH 18: training on 157 raw words (26 effective words) took 0.0s, 77720 effective words/s\n",
      "INFO:gensim.models.word2vec:EPOCH 19: training on 157 raw words (23 effective words) took 0.0s, 69129 effective words/s\n",
      "INFO:gensim.models.word2vec:EPOCH 20: training on 157 raw words (21 effective words) took 0.0s, 94605 effective words/s\n",
      "INFO:gensim.models.word2vec:EPOCH 21: training on 157 raw words (34 effective words) took 0.0s, 106783 effective words/s\n",
      "INFO:gensim.models.word2vec:EPOCH 22: training on 157 raw words (25 effective words) took 0.0s, 72926 effective words/s\n",
      "INFO:gensim.models.word2vec:EPOCH 23: training on 157 raw words (35 effective words) took 0.0s, 308849 effective words/s\n",
      "INFO:gensim.models.word2vec:EPOCH 24: training on 157 raw words (23 effective words) took 0.0s, 82466 effective words/s\n",
      "INFO:gensim.models.word2vec:EPOCH 25: training on 157 raw words (29 effective words) took 0.0s, 123707 effective words/s\n",
      "INFO:gensim.models.word2vec:EPOCH 26: training on 157 raw words (34 effective words) took 0.0s, 153967 effective words/s\n",
      "INFO:gensim.models.word2vec:EPOCH 27: training on 157 raw words (26 effective words) took 0.0s, 206403 effective words/s\n",
      "INFO:gensim.models.word2vec:EPOCH 28: training on 157 raw words (32 effective words) took 0.0s, 149487 effective words/s\n",
      "INFO:gensim.models.word2vec:EPOCH 29: training on 157 raw words (26 effective words) took 0.0s, 89326 effective words/s\n",
      "INFO:gensim.models.word2vec:EPOCH 30: training on 157 raw words (25 effective words) took 0.0s, 78954 effective words/s\n",
      "INFO:gensim.models.word2vec:EPOCH 31: training on 157 raw words (26 effective words) took 0.0s, 120303 effective words/s\n",
      "INFO:gensim.models.word2vec:EPOCH 32: training on 157 raw words (27 effective words) took 0.0s, 134084 effective words/s\n",
      "INFO:gensim.models.word2vec:EPOCH 33: training on 157 raw words (29 effective words) took 0.0s, 85722 effective words/s\n",
      "INFO:gensim.models.word2vec:EPOCH 34: training on 157 raw words (37 effective words) took 0.0s, 131092 effective words/s\n",
      "INFO:gensim.models.word2vec:EPOCH 35: training on 157 raw words (29 effective words) took 0.0s, 119888 effective words/s\n",
      "INFO:gensim.models.word2vec:EPOCH 36: training on 157 raw words (30 effective words) took 0.0s, 103535 effective words/s\n",
      "INFO:gensim.models.word2vec:EPOCH 37: training on 157 raw words (22 effective words) took 0.0s, 66050 effective words/s\n",
      "INFO:gensim.models.word2vec:EPOCH 38: training on 157 raw words (29 effective words) took 0.0s, 106733 effective words/s\n",
      "INFO:gensim.models.word2vec:EPOCH 39: training on 157 raw words (29 effective words) took 0.0s, 92361 effective words/s\n",
      "INFO:gensim.models.word2vec:EPOCH 40: training on 157 raw words (29 effective words) took 0.0s, 65762 effective words/s\n",
      "INFO:gensim.models.word2vec:EPOCH 41: training on 157 raw words (25 effective words) took 0.0s, 98726 effective words/s\n",
      "INFO:gensim.models.word2vec:EPOCH 42: training on 157 raw words (31 effective words) took 0.0s, 93076 effective words/s\n",
      "INFO:gensim.models.word2vec:EPOCH 43: training on 157 raw words (23 effective words) took 0.0s, 72372 effective words/s\n",
      "INFO:gensim.models.word2vec:EPOCH 44: training on 157 raw words (32 effective words) took 0.0s, 193349 effective words/s\n",
      "INFO:gensim.models.word2vec:EPOCH 45: training on 157 raw words (28 effective words) took 0.0s, 113576 effective words/s\n",
      "INFO:gensim.models.word2vec:EPOCH 46: training on 157 raw words (34 effective words) took 0.0s, 151301 effective words/s\n",
      "INFO:gensim.models.word2vec:EPOCH 47: training on 157 raw words (26 effective words) took 0.0s, 112730 effective words/s\n",
      "INFO:gensim.models.word2vec:EPOCH 48: training on 157 raw words (29 effective words) took 0.0s, 306198 effective words/s\n"
     ]
    },
    {
     "name": "stderr",
     "output_type": "stream",
     "text": [
      "INFO:gensim.models.word2vec:EPOCH 49: training on 157 raw words (32 effective words) took 0.0s, 94568 effective words/s\n",
      "INFO:gensim.models.word2vec:EPOCH 50: training on 157 raw words (27 effective words) took 0.0s, 220065 effective words/s\n",
      "INFO:gensim.models.word2vec:EPOCH 51: training on 157 raw words (35 effective words) took 0.0s, 168667 effective words/s\n",
      "INFO:gensim.models.word2vec:EPOCH 52: training on 157 raw words (21 effective words) took 0.0s, 56427 effective words/s\n",
      "INFO:gensim.models.word2vec:EPOCH 53: training on 157 raw words (23 effective words) took 0.0s, 67655 effective words/s\n",
      "INFO:gensim.models.word2vec:EPOCH 54: training on 157 raw words (25 effective words) took 0.0s, 120391 effective words/s\n",
      "INFO:gensim.models.word2vec:EPOCH 55: training on 157 raw words (26 effective words) took 0.0s, 132770 effective words/s\n",
      "INFO:gensim.models.word2vec:EPOCH 56: training on 157 raw words (27 effective words) took 0.0s, 148071 effective words/s\n",
      "INFO:gensim.models.word2vec:EPOCH 57: training on 157 raw words (35 effective words) took 0.0s, 152703 effective words/s\n",
      "INFO:gensim.models.word2vec:EPOCH 58: training on 157 raw words (28 effective words) took 0.0s, 126754 effective words/s\n",
      "INFO:gensim.models.word2vec:EPOCH 59: training on 157 raw words (29 effective words) took 0.0s, 95387 effective words/s\n",
      "INFO:gensim.models.word2vec:EPOCH 60: training on 157 raw words (25 effective words) took 0.0s, 80474 effective words/s\n",
      "INFO:gensim.models.word2vec:EPOCH 61: training on 157 raw words (20 effective words) took 0.0s, 102610 effective words/s\n",
      "INFO:gensim.models.word2vec:EPOCH 62: training on 157 raw words (24 effective words) took 0.0s, 108646 effective words/s\n",
      "INFO:gensim.models.word2vec:EPOCH 63: training on 157 raw words (29 effective words) took 0.0s, 172122 effective words/s\n",
      "INFO:gensim.models.word2vec:EPOCH 64: training on 157 raw words (29 effective words) took 0.0s, 78886 effective words/s\n",
      "INFO:gensim.models.word2vec:EPOCH 65: training on 157 raw words (36 effective words) took 0.0s, 156422 effective words/s\n",
      "INFO:gensim.models.word2vec:EPOCH 66: training on 157 raw words (30 effective words) took 0.0s, 123192 effective words/s\n",
      "INFO:gensim.models.word2vec:EPOCH 67: training on 157 raw words (23 effective words) took 0.0s, 92747 effective words/s\n",
      "INFO:gensim.models.word2vec:EPOCH 68: training on 157 raw words (30 effective words) took 0.0s, 157612 effective words/s\n",
      "INFO:gensim.models.word2vec:EPOCH 69: training on 157 raw words (29 effective words) took 0.0s, 81801 effective words/s\n",
      "INFO:gensim.models.word2vec:EPOCH 70: training on 157 raw words (33 effective words) took 0.0s, 86469 effective words/s\n",
      "INFO:gensim.models.word2vec:EPOCH 71: training on 157 raw words (41 effective words) took 0.0s, 159391 effective words/s\n",
      "INFO:gensim.models.word2vec:EPOCH 72: training on 157 raw words (41 effective words) took 0.0s, 126113 effective words/s\n",
      "INFO:gensim.models.word2vec:EPOCH 73: training on 157 raw words (26 effective words) took 0.0s, 88199 effective words/s\n",
      "INFO:gensim.models.word2vec:EPOCH 74: training on 157 raw words (25 effective words) took 0.0s, 114095 effective words/s\n",
      "INFO:gensim.models.word2vec:EPOCH 75: training on 157 raw words (31 effective words) took 0.0s, 116730 effective words/s\n",
      "INFO:gensim.models.word2vec:EPOCH 76: training on 157 raw words (32 effective words) took 0.0s, 120017 effective words/s\n",
      "INFO:gensim.models.word2vec:EPOCH 77: training on 157 raw words (31 effective words) took 0.0s, 134129 effective words/s\n",
      "INFO:gensim.models.word2vec:EPOCH 78: training on 157 raw words (24 effective words) took 0.0s, 104145 effective words/s\n",
      "INFO:gensim.models.word2vec:EPOCH 79: training on 157 raw words (27 effective words) took 0.0s, 124231 effective words/s\n",
      "INFO:gensim.models.word2vec:EPOCH 80: training on 157 raw words (27 effective words) took 0.0s, 116431 effective words/s\n",
      "INFO:gensim.models.word2vec:EPOCH 81: training on 157 raw words (29 effective words) took 0.0s, 89089 effective words/s\n",
      "INFO:gensim.models.word2vec:EPOCH 82: training on 157 raw words (28 effective words) took 0.0s, 100367 effective words/s\n",
      "INFO:gensim.models.word2vec:EPOCH 83: training on 157 raw words (32 effective words) took 0.0s, 144201 effective words/s\n",
      "INFO:gensim.models.word2vec:EPOCH 84: training on 157 raw words (21 effective words) took 0.0s, 110367 effective words/s\n",
      "INFO:gensim.models.word2vec:EPOCH 85: training on 157 raw words (28 effective words) took 0.0s, 129672 effective words/s\n",
      "INFO:gensim.models.word2vec:EPOCH 86: training on 157 raw words (24 effective words) took 0.0s, 115226 effective words/s\n",
      "INFO:gensim.models.word2vec:EPOCH 87: training on 157 raw words (40 effective words) took 0.0s, 178419 effective words/s\n",
      "INFO:gensim.models.word2vec:EPOCH 88: training on 157 raw words (23 effective words) took 0.0s, 128375 effective words/s\n",
      "INFO:gensim.models.word2vec:EPOCH 89: training on 157 raw words (28 effective words) took 0.0s, 131830 effective words/s\n",
      "INFO:gensim.models.word2vec:EPOCH 90: training on 157 raw words (23 effective words) took 0.0s, 17226 effective words/s\n",
      "INFO:gensim.models.word2vec:EPOCH 91: training on 157 raw words (23 effective words) took 0.0s, 51480 effective words/s\n",
      "INFO:gensim.models.word2vec:EPOCH 92: training on 157 raw words (37 effective words) took 0.0s, 127801 effective words/s\n",
      "INFO:gensim.models.word2vec:EPOCH 93: training on 157 raw words (38 effective words) took 0.0s, 138465 effective words/s\n",
      "INFO:gensim.models.word2vec:EPOCH 94: training on 157 raw words (28 effective words) took 0.0s, 113008 effective words/s\n",
      "INFO:gensim.models.word2vec:EPOCH 95: training on 157 raw words (30 effective words) took 0.0s, 70035 effective words/s\n",
      "INFO:gensim.models.word2vec:EPOCH 96: training on 157 raw words (28 effective words) took 0.0s, 131013 effective words/s\n",
      "INFO:gensim.models.word2vec:EPOCH 97: training on 157 raw words (21 effective words) took 0.0s, 62075 effective words/s\n",
      "INFO:gensim.models.word2vec:EPOCH 98: training on 157 raw words (27 effective words) took 0.0s, 64853 effective words/s\n",
      "INFO:gensim.models.word2vec:EPOCH 99: training on 157 raw words (25 effective words) took 0.0s, 100187 effective words/s\n",
      "INFO:gensim.models.word2vec:EPOCH 100: training on 157 raw words (29 effective words) took 0.0s, 119900 effective words/s\n",
      "INFO:gensim.models.word2vec:EPOCH 101: training on 157 raw words (25 effective words) took 0.0s, 68109 effective words/s\n",
      "INFO:gensim.models.word2vec:EPOCH 102: training on 157 raw words (26 effective words) took 0.0s, 124599 effective words/s\n",
      "INFO:gensim.models.word2vec:EPOCH 103: training on 157 raw words (31 effective words) took 0.0s, 77569 effective words/s\n",
      "INFO:gensim.models.word2vec:EPOCH 104: training on 157 raw words (31 effective words) took 0.0s, 89742 effective words/s\n",
      "INFO:gensim.models.word2vec:EPOCH 105: training on 157 raw words (20 effective words) took 0.0s, 58246 effective words/s\n",
      "INFO:gensim.models.word2vec:EPOCH 106: training on 157 raw words (26 effective words) took 0.0s, 61038 effective words/s\n",
      "INFO:gensim.models.word2vec:EPOCH 107: training on 157 raw words (22 effective words) took 0.0s, 132465 effective words/s\n",
      "INFO:gensim.models.word2vec:EPOCH 108: training on 157 raw words (35 effective words) took 0.0s, 211580 effective words/s\n",
      "INFO:gensim.models.word2vec:EPOCH 109: training on 157 raw words (27 effective words) took 0.0s, 161432 effective words/s\n",
      "INFO:gensim.models.word2vec:EPOCH 110: training on 157 raw words (37 effective words) took 0.0s, 185591 effective words/s\n",
      "INFO:gensim.models.word2vec:EPOCH 111: training on 157 raw words (27 effective words) took 0.0s, 62825 effective words/s\n",
      "INFO:gensim.models.word2vec:EPOCH 112: training on 157 raw words (33 effective words) took 0.0s, 170486 effective words/s\n",
      "INFO:gensim.models.word2vec:EPOCH 113: training on 157 raw words (26 effective words) took 0.0s, 119883 effective words/s\n",
      "INFO:gensim.models.word2vec:EPOCH 114: training on 157 raw words (26 effective words) took 0.0s, 102629 effective words/s\n",
      "INFO:gensim.models.word2vec:EPOCH 115: training on 157 raw words (31 effective words) took 0.0s, 93204 effective words/s\n",
      "INFO:gensim.models.word2vec:EPOCH 116: training on 157 raw words (19 effective words) took 0.0s, 86883 effective words/s\n"
     ]
    },
    {
     "name": "stderr",
     "output_type": "stream",
     "text": [
      "INFO:gensim.models.word2vec:EPOCH 117: training on 157 raw words (30 effective words) took 0.0s, 113636 effective words/s\n",
      "INFO:gensim.models.word2vec:EPOCH 118: training on 157 raw words (33 effective words) took 0.0s, 135733 effective words/s\n",
      "INFO:gensim.models.word2vec:EPOCH 119: training on 157 raw words (26 effective words) took 0.0s, 74972 effective words/s\n",
      "INFO:gensim.models.word2vec:EPOCH 120: training on 157 raw words (26 effective words) took 0.0s, 52816 effective words/s\n",
      "INFO:gensim.models.word2vec:EPOCH 121: training on 157 raw words (27 effective words) took 0.0s, 71192 effective words/s\n",
      "INFO:gensim.models.word2vec:EPOCH 122: training on 157 raw words (27 effective words) took 0.0s, 109744 effective words/s\n",
      "INFO:gensim.models.word2vec:EPOCH 123: training on 157 raw words (32 effective words) took 0.0s, 224321 effective words/s\n",
      "INFO:gensim.models.word2vec:EPOCH 124: training on 157 raw words (28 effective words) took 0.0s, 183758 effective words/s\n",
      "INFO:gensim.models.word2vec:EPOCH 125: training on 157 raw words (29 effective words) took 0.0s, 315468 effective words/s\n",
      "INFO:gensim.models.word2vec:EPOCH 126: training on 157 raw words (27 effective words) took 0.0s, 106238 effective words/s\n",
      "INFO:gensim.models.word2vec:EPOCH 127: training on 157 raw words (24 effective words) took 0.0s, 139428 effective words/s\n",
      "INFO:gensim.models.word2vec:EPOCH 128: training on 157 raw words (30 effective words) took 0.0s, 95443 effective words/s\n",
      "INFO:gensim.models.word2vec:EPOCH 129: training on 157 raw words (26 effective words) took 0.0s, 94421 effective words/s\n",
      "INFO:gensim.models.word2vec:EPOCH 130: training on 157 raw words (31 effective words) took 0.0s, 168097 effective words/s\n",
      "INFO:gensim.models.word2vec:EPOCH 131: training on 157 raw words (35 effective words) took 0.0s, 133877 effective words/s\n",
      "INFO:gensim.models.word2vec:EPOCH 132: training on 157 raw words (32 effective words) took 0.0s, 139005 effective words/s\n",
      "INFO:gensim.models.word2vec:EPOCH 133: training on 157 raw words (22 effective words) took 0.0s, 114349 effective words/s\n",
      "INFO:gensim.models.word2vec:EPOCH 134: training on 157 raw words (29 effective words) took 0.0s, 136089 effective words/s\n",
      "INFO:gensim.models.word2vec:EPOCH 135: training on 157 raw words (31 effective words) took 0.0s, 83549 effective words/s\n",
      "INFO:gensim.models.word2vec:EPOCH 136: training on 157 raw words (24 effective words) took 0.0s, 124917 effective words/s\n",
      "INFO:gensim.models.word2vec:EPOCH 137: training on 157 raw words (24 effective words) took 0.0s, 109481 effective words/s\n",
      "INFO:gensim.models.word2vec:EPOCH 138: training on 157 raw words (26 effective words) took 0.0s, 114677 effective words/s\n",
      "INFO:gensim.models.word2vec:EPOCH 139: training on 157 raw words (28 effective words) took 0.0s, 163528 effective words/s\n",
      "INFO:gensim.models.word2vec:EPOCH 140: training on 157 raw words (26 effective words) took 0.0s, 144949 effective words/s\n",
      "INFO:gensim.models.word2vec:EPOCH 141: training on 157 raw words (25 effective words) took 0.0s, 135799 effective words/s\n",
      "INFO:gensim.models.word2vec:EPOCH 142: training on 157 raw words (40 effective words) took 0.0s, 210382 effective words/s\n",
      "INFO:gensim.models.word2vec:EPOCH 143: training on 157 raw words (30 effective words) took 0.0s, 139346 effective words/s\n",
      "INFO:gensim.models.word2vec:EPOCH 144: training on 157 raw words (26 effective words) took 0.0s, 139689 effective words/s\n",
      "INFO:gensim.models.word2vec:EPOCH 145: training on 157 raw words (29 effective words) took 0.0s, 141001 effective words/s\n",
      "INFO:gensim.models.word2vec:EPOCH 146: training on 157 raw words (24 effective words) took 0.0s, 124717 effective words/s\n",
      "INFO:gensim.models.word2vec:EPOCH 147: training on 157 raw words (29 effective words) took 0.0s, 528985 effective words/s\n",
      "INFO:gensim.models.word2vec:EPOCH 148: training on 157 raw words (20 effective words) took 0.0s, 94429 effective words/s\n",
      "INFO:gensim.models.word2vec:EPOCH 149: training on 157 raw words (27 effective words) took 0.0s, 116206 effective words/s\n",
      "INFO:gensim.models.word2vec:EPOCH 150: training on 157 raw words (23 effective words) took 0.0s, 83890 effective words/s\n",
      "INFO:gensim.models.word2vec:EPOCH 151: training on 157 raw words (28 effective words) took 0.0s, 136217 effective words/s\n",
      "INFO:gensim.models.word2vec:EPOCH 152: training on 157 raw words (20 effective words) took 0.0s, 88419 effective words/s\n",
      "INFO:gensim.models.word2vec:EPOCH 153: training on 157 raw words (25 effective words) took 0.0s, 129098 effective words/s\n",
      "INFO:gensim.models.word2vec:EPOCH 154: training on 157 raw words (23 effective words) took 0.0s, 90923 effective words/s\n",
      "INFO:gensim.models.word2vec:EPOCH 155: training on 157 raw words (28 effective words) took 0.0s, 102672 effective words/s\n",
      "INFO:gensim.models.word2vec:EPOCH 156: training on 157 raw words (26 effective words) took 0.0s, 110210 effective words/s\n",
      "INFO:gensim.models.word2vec:EPOCH 157: training on 157 raw words (33 effective words) took 0.0s, 143478 effective words/s\n",
      "INFO:gensim.models.word2vec:EPOCH 158: training on 157 raw words (32 effective words) took 0.0s, 143250 effective words/s\n",
      "INFO:gensim.models.word2vec:EPOCH 159: training on 157 raw words (21 effective words) took 0.0s, 96141 effective words/s\n",
      "INFO:gensim.models.word2vec:EPOCH 160: training on 157 raw words (33 effective words) took 0.0s, 131314 effective words/s\n",
      "INFO:gensim.models.word2vec:EPOCH 161: training on 157 raw words (35 effective words) took 0.0s, 107348 effective words/s\n",
      "INFO:gensim.models.word2vec:EPOCH 162: training on 157 raw words (24 effective words) took 0.0s, 119108 effective words/s\n",
      "INFO:gensim.models.word2vec:EPOCH 163: training on 157 raw words (27 effective words) took 0.0s, 97420 effective words/s\n",
      "INFO:gensim.models.word2vec:EPOCH 164: training on 157 raw words (29 effective words) took 0.0s, 103262 effective words/s\n",
      "INFO:gensim.models.word2vec:EPOCH 165: training on 157 raw words (34 effective words) took 0.0s, 182798 effective words/s\n",
      "INFO:gensim.models.word2vec:EPOCH 166: training on 157 raw words (39 effective words) took 0.0s, 188833 effective words/s\n",
      "INFO:gensim.models.word2vec:EPOCH 167: training on 157 raw words (29 effective words) took 0.0s, 135976 effective words/s\n",
      "INFO:gensim.models.word2vec:EPOCH 168: training on 157 raw words (26 effective words) took 0.0s, 85498 effective words/s\n",
      "INFO:gensim.models.word2vec:EPOCH 169: training on 157 raw words (36 effective words) took 0.0s, 125221 effective words/s\n",
      "INFO:gensim.models.word2vec:EPOCH 170: training on 157 raw words (36 effective words) took 0.0s, 186560 effective words/s\n",
      "INFO:gensim.models.word2vec:EPOCH 171: training on 157 raw words (25 effective words) took 0.0s, 123592 effective words/s\n",
      "INFO:gensim.models.word2vec:EPOCH 172: training on 157 raw words (27 effective words) took 0.0s, 121815 effective words/s\n",
      "INFO:gensim.models.word2vec:EPOCH 173: training on 157 raw words (26 effective words) took 0.0s, 121984 effective words/s\n",
      "INFO:gensim.models.word2vec:EPOCH 174: training on 157 raw words (19 effective words) took 0.0s, 147119 effective words/s\n",
      "INFO:gensim.models.word2vec:EPOCH 175: training on 157 raw words (31 effective words) took 0.0s, 79968 effective words/s\n",
      "INFO:gensim.models.word2vec:EPOCH 176: training on 157 raw words (34 effective words) took 0.0s, 220923 effective words/s\n",
      "INFO:gensim.models.word2vec:EPOCH 177: training on 157 raw words (31 effective words) took 0.0s, 101624 effective words/s\n",
      "INFO:gensim.models.word2vec:EPOCH 178: training on 157 raw words (26 effective words) took 0.0s, 124553 effective words/s\n",
      "INFO:gensim.models.word2vec:EPOCH 179: training on 157 raw words (27 effective words) took 0.0s, 114516 effective words/s\n",
      "INFO:gensim.models.word2vec:EPOCH 180: training on 157 raw words (31 effective words) took 0.0s, 138474 effective words/s\n",
      "INFO:gensim.models.word2vec:EPOCH 181: training on 157 raw words (34 effective words) took 0.0s, 161695 effective words/s\n",
      "INFO:gensim.models.word2vec:EPOCH 182: training on 157 raw words (24 effective words) took 0.0s, 105247 effective words/s\n",
      "INFO:gensim.models.word2vec:EPOCH 183: training on 157 raw words (25 effective words) took 0.0s, 111785 effective words/s\n",
      "INFO:gensim.models.word2vec:EPOCH 184: training on 157 raw words (20 effective words) took 0.0s, 72628 effective words/s\n"
     ]
    },
    {
     "name": "stderr",
     "output_type": "stream",
     "text": [
      "INFO:gensim.models.word2vec:EPOCH 185: training on 157 raw words (27 effective words) took 0.0s, 112933 effective words/s\n",
      "INFO:gensim.models.word2vec:EPOCH 186: training on 157 raw words (25 effective words) took 0.0s, 75482 effective words/s\n",
      "INFO:gensim.models.word2vec:EPOCH 187: training on 157 raw words (26 effective words) took 0.0s, 73689 effective words/s\n",
      "INFO:gensim.models.word2vec:EPOCH 188: training on 157 raw words (27 effective words) took 0.0s, 114571 effective words/s\n",
      "INFO:gensim.models.word2vec:EPOCH 189: training on 157 raw words (25 effective words) took 0.0s, 57072 effective words/s\n",
      "INFO:gensim.models.word2vec:EPOCH 190: training on 157 raw words (25 effective words) took 0.0s, 119242 effective words/s\n",
      "INFO:gensim.models.word2vec:EPOCH 191: training on 157 raw words (29 effective words) took 0.0s, 123252 effective words/s\n",
      "INFO:gensim.models.word2vec:EPOCH 192: training on 157 raw words (33 effective words) took 0.0s, 140025 effective words/s\n",
      "INFO:gensim.models.word2vec:EPOCH 193: training on 157 raw words (26 effective words) took 0.0s, 107328 effective words/s\n",
      "INFO:gensim.models.word2vec:EPOCH 194: training on 157 raw words (23 effective words) took 0.0s, 112793 effective words/s\n",
      "INFO:gensim.models.word2vec:EPOCH 195: training on 157 raw words (28 effective words) took 0.0s, 125882 effective words/s\n",
      "INFO:gensim.models.word2vec:EPOCH 196: training on 157 raw words (28 effective words) took 0.0s, 104921 effective words/s\n",
      "INFO:gensim.models.word2vec:EPOCH 197: training on 157 raw words (29 effective words) took 0.0s, 133205 effective words/s\n",
      "INFO:gensim.models.word2vec:EPOCH 198: training on 157 raw words (25 effective words) took 0.0s, 67911 effective words/s\n",
      "INFO:gensim.models.word2vec:EPOCH 199: training on 157 raw words (29 effective words) took 0.0s, 138123 effective words/s\n",
      "INFO:gensim.utils:Word2Vec lifecycle event {'msg': 'training on 31400 raw words (5610 effective words) took 0.3s, 18872 effective words/s', 'datetime': '2023-02-07T18:18:15.050943', 'gensim': '4.3.0', 'python': '3.8.0 (default, Nov  6 2019, 21:49:08) \\n[GCC 7.3.0]', 'platform': 'Linux-5.15.0-58-generic-x86_64-with-glibc2.10', 'event': 'train'}\n",
      "INFO:gensim.utils:Word2Vec lifecycle event {'params': 'Word2Vec<vocab=27, vector_size=50, alpha=0.025>', 'datetime': '2023-02-07T18:18:15.051674', 'gensim': '4.3.0', 'python': '3.8.0 (default, Nov  6 2019, 21:49:08) \\n[GCC 7.3.0]', 'platform': 'Linux-5.15.0-58-generic-x86_64-with-glibc2.10', 'event': 'created'}\n",
      "INFO:root:Found 11 embedding vectors. Processing only 11.\n"
     ]
    }
   ],
   "source": [
    "sentences = [str(s).split(\" \") for s in corpus]\n",
    "sentences = [[w.replace(\",\", \"\") for w in s] for s in sentences]\n",
    "w2v = Word2Vec(sentences, epochs=200, vector_size = 50, min_count = 0)\n",
    "\n",
    "vectors = w2v.wv\n",
    "vocab_dict = vectors.key_to_index\n",
    "name_to_label = {c: c.split(\"/\")[-1] for c in vocab_dict if str(c).startswith(\"http://\")}\n",
    "name_to_emb = {c: vectors[[c]][0] for c in name_to_label}\n",
    "\n",
    "tsne = TSNE(name_to_emb, name_to_label)\n",
    "tsne.generate_points(500, workers=4)"
   ]
  },
  {
   "cell_type": "code",
   "execution_count": 34,
   "id": "a257ff8f",
   "metadata": {},
   "outputs": [
    {
     "data": {
      "image/png": "[encoded data removed]",
      "text/plain": [
       "<Figure size 1500x1500 with 1 Axes>"
      ]
     },
     "metadata": {},
     "output_type": "display_data"
    }
   ],
   "source": [
    "tsne.show(thickness=300)"
   ]
  },
  {
   "cell_type": "code",
   "execution_count": null,
   "id": "4f7d4cdf",
   "metadata": {},
   "outputs": [],
   "source": [
    "\n"
   ]
  },
  {
   "cell_type": "code",
   "execution_count": null,
   "id": "2760fa52",
   "metadata": {},
   "outputs": [],
   "source": [
    "\n"
   ]
  },
  {
   "cell_type": "markdown",
   "id": "4b47a0a5",
   "metadata": {
    "id": "67cacc02"
   },
   "source": [
    "**mOWL Input dataset:** ontology in OWL format\n",
    "\n",
    "**Methods input:** takes vectors of genes and diseases \n",
    "\n",
    "**Output:** predict gene-disease association using cosine similarity\n"
   ]
  },
  {
   "cell_type": "code",
   "execution_count": null,
   "id": "abf1d7c0",
   "metadata": {
    "colab": {
     "base_uri": "https://localhost:8080/"
    },
    "id": "fd7631c9",
    "outputId": "e9c2d9ad-3463-4af7-d0fb-164abc3c64d9"
   },
   "outputs": [],
   "source": [
    "#Install the tool using: \n",
    "! pip install gensim==4.0.0\n",
    "! pip install mowl-borg "
   ]
  },
  {
   "cell_type": "code",
   "execution_count": null,
   "id": "abf3d5b7",
   "metadata": {
    "colab": {
     "base_uri": "https://localhost:8080/"
    },
    "id": "FU9_u1fASt6v",
    "outputId": "a46e0d7b-633a-4629-a047-f6f3de371501"
   },
   "outputs": [],
   "source": [
    "from google.colab import drive\n",
    "drive.mount('/content/drive/')\n",
    "#cd /content/drive/MyDrive/mowl-tutorial/\n",
    "import os\n",
    "os.chdir(\"/content/drive/MyDrive/mowl-tutorial/\")"
   ]
  },
  {
   "cell_type": "code",
   "execution_count": null,
   "id": "3aad3652",
   "metadata": {
    "colab": {
     "base_uri": "https://localhost:8080/"
    },
    "id": "9703d69b",
    "outputId": "52d1114d-85b6-492e-fd94-2a4883e3798e"
   },
   "outputs": [],
   "source": [
    "# built-in imports\n",
    "import sys\n",
    "import mowl\n",
    "mowl.init_jvm(\"4g\")\n",
    "import torch as th\n",
    "import logging\n",
    "import numpy as np\n",
    "import pickle as pkl\n",
    "from mowl.visualization.base import TSNE\n",
    "import matplotlib.pyplot as plt\n",
    "from mowl.projection.edge import Edge\n",
    "from mowl.datasets.builtin import GDADataset, GDAHumanDataset, GDAMouseDataset\n",
    "from pykeen.models import TransE,ConvE,DistMult,TransR,TransD\n",
    "from mowl.projection.dl2vec.model import DL2VecProjector \n",
    "from mowl.kge import KGEModel\n",
    "from mowl.evaluation.rank_based import EmbeddingsRankBasedEvaluator\n",
    "from mowl.evaluation.base import TranslationalScore, CosineSimilarity\n",
    "from mowl.projection.factory import projector_factory, PARSING_METHODS\n",
    "from mowl.walking import DeepWalk\n",
    "from gensim.models.word2vec import LineSentence\n",
    "import gensim\n",
    "from gensim.models import Word2Vec\n",
    "from mowl.evaluation.rank_based import EmbeddingsRankBasedEvaluator\n",
    "from mowl.evaluation.base import CosineSimilarity\n",
    "from mowl.projection import TaxonomyWithRelationsProjector\n",
    "from mowl.projection.edge import Edge\n",
    "\n",
    "import warnings  \n",
    "warnings.filterwarnings(action='ignore',category=UserWarning,module='gensim')  \n",
    "warnings.filterwarnings(action='ignore',category=FutureWarning,module='gensim') "
   ]
  },
  {
   "cell_type": "markdown",
   "id": "1a069723",
   "metadata": {
    "id": "ef17b662"
   },
   "source": [
    "# Dataset "
   ]
  },
  {
   "cell_type": "markdown",
   "id": "50dfacc1",
   "metadata": {
    "id": "0f7f4e74"
   },
   "source": [
    "Build your own dataset"
   ]
  },
  {
   "cell_type": "code",
   "execution_count": null,
   "id": "3e05908a",
   "metadata": {
    "colab": {
     "base_uri": "https://localhost:8080/",
     "height": 532
    },
    "id": "496a47ba",
    "lines_to_next_cell": 2,
    "outputId": "9bb730bd-e98b-4465-fab2-05a2120090ad"
   },
   "outputs": [],
   "source": [
    "from mowl.ontology.extend import insert_annotations\n",
    " \n",
    "diseases_annotations = (\"diseases_annot.tsv\", \"http://has_annotation\", True) \n",
    "genes_annotations = (\"genes_annot.tsv\", \"http://has_annotation\", True) \n",
    "gene_disease_associations = (\"gene_disease_associations.tsv\",\"http://is_associated_with/\", True) \n",
    "\n",
    "annotations = [diseases_annotations , genes_annotations, gene_disease_associations] # There could be more than 1 annotations file. \n",
    "\n",
    "insert_annotations(\"upheno.owl\", annotations, out_file = \"upheno_with_annotations.owl\" )"
   ]
  },
  {
   "cell_type": "markdown",
   "id": "4de7bf71",
   "metadata": {
    "id": "11e43254"
   },
   "source": [
    "Use the Built-in Dataset"
   ]
  },
  {
   "cell_type": "code",
   "execution_count": null,
   "id": "8641d839",
   "metadata": {
    "colab": {
     "background_save": true
    },
    "id": "a13439d7"
   },
   "outputs": [],
   "source": [
    "dataset = GDAMouseDataset()"
   ]
  },
  {
   "cell_type": "markdown",
   "id": "8d946492",
   "metadata": {
    "id": "040c3b7e"
   },
   "source": [
    "The dataset will be downloaded to a folder name `gda_mouse` with the training, validation and testing ontology dataset"
   ]
  },
  {
   "cell_type": "code",
   "execution_count": null,
   "id": "6d1e5d92",
   "metadata": {
    "colab": {
     "background_save": true
    },
    "id": "e53eed28",
    "outputId": "0b774d72-3205-47a8-baca-492c1b5efcf0"
   },
   "outputs": [],
   "source": [
    "! ls gda_mouse/"
   ]
  },
  {
   "cell_type": "markdown",
   "id": "dda650f7",
   "metadata": {
    "id": "787e2cf9"
   },
   "source": [
    "# Graph-based embeddings"
   ]
  },
  {
   "cell_type": "markdown",
   "id": "b6815df2",
   "metadata": {
    "id": "327f785d"
   },
   "source": [
    " ### Example for two methods: DL2vec and Owl2vec* methods"
   ]
  },
  {
   "cell_type": "markdown",
   "id": "97e9d46d",
   "metadata": {
    "id": "5cf31c82"
   },
   "source": [
    "<font color='blue'><font size=\"4\">1) DL2vec Prediction Method </font></font>\n"
   ]
  },
  {
   "cell_type": "markdown",
   "id": "752ea29e",
   "metadata": {
    "id": "9035b59a"
   },
   "source": [
    "1. **Projecting the ontology** \n",
    "- Project the ontology using the DL2Vec Projector class, with the specific rules used to project the ontology. \n",
    "- The outcome of the projection algorithm is an edgelist.\n",
    "\n"
   ]
  },
  {
   "cell_type": "code",
   "execution_count": null,
   "id": "340d6d37",
   "metadata": {
    "colab": {
     "background_save": true
    },
    "id": "9d1c7a6f"
   },
   "outputs": [],
   "source": [
    "from mowl.projection.dl2vec.model import DL2VecProjector \n",
    "projector = DL2VecProjector(True)\n",
    "train_edges = projector.project(dataset.ontology)\n",
    "test_edges = projector.project(dataset.testing)"
   ]
  },
  {
   "cell_type": "markdown",
   "id": "06738cf5",
   "metadata": {
    "id": "914d1c77"
   },
   "source": [
    "2. **Generating random walks**\n",
    "- The random walks are generated using the DeepWalk.\n"
   ]
  },
  {
   "cell_type": "code",
   "execution_count": null,
   "id": "02ce47dd",
   "metadata": {
    "colab": {
     "background_save": true
    },
    "id": "99ff6e49"
   },
   "outputs": [],
   "source": [
    "walker = DeepWalk(10, # number of walks per node\n",
    "                  10, # walk length\n",
    "                  0.1, # restart probability\n",
    "                  workers=4, outfile = 'walk',seed=40) # number of threads\n",
    "\n",
    "walks = walker.walk(train_edges)\n",
    "walks_file = walker.outfile\n",
    "sentences = LineSentence(walks_file)"
   ]
  },
  {
   "cell_type": "markdown",
   "id": "0e7c8c52",
   "metadata": {
    "id": "4cdf1ae0"
   },
   "source": [
    "3. **Training the Word2Vec model**\n",
    "- To train the Word2Vec model, we rely on the Gensim library"
   ]
  },
  {
   "cell_type": "code",
   "execution_count": null,
   "id": "7f92981e",
   "metadata": {
    "colab": {
     "background_save": true
    },
    "id": "68aa8d8c",
    "lines_to_next_cell": 2
   },
   "outputs": [],
   "source": [
    "model = Word2Vec(sentences, vector_size=100, epochs = 15, window=5, min_count=1, workers=10)"
   ]
  },
  {
   "cell_type": "markdown",
   "id": "f7460a6f",
   "metadata": {
    "id": "a390732a"
   },
   "source": [
    "4. **Evaluating the embeddings** \n",
    "- We are going to evaluate the plausibility of an association gene-disease with a gene against all possible diseases and check the rank of the true disease association using CosineSimilarity.\n"
   ]
  },
  {
   "cell_type": "code",
   "execution_count": null,
   "id": "fad2bfc5",
   "metadata": {
    "colab": {
     "background_save": true
    },
    "id": "4c2150ae",
    "outputId": "b557210b-4d2b-4f0f-cbff-61833b71485e"
   },
   "outputs": [],
   "source": [
    "genes, diseases = dataset.evaluation_classes\n",
    "projector = TaxonomyWithRelationsProjector(taxonomy=False,\n",
    "                                           relations=[\"http://is_associated_with\"])\n",
    "\n",
    "vectors = model.wv\n",
    "evaluator = EmbeddingsRankBasedEvaluator(\n",
    "    vectors,\n",
    "    test_edges,\n",
    "    CosineSimilarity,\n",
    "    training_set=train_edges,\n",
    "    head_entities = genes.as_str,\n",
    "    tail_entities = diseases.as_str,\n",
    "    device = 'cpu')\n",
    "\n",
    "\n",
    "evaluator.evaluate(show=True)"
   ]
  },
  {
   "cell_type": "code",
   "execution_count": null,
   "id": "24b43a2d",
   "metadata": {
    "colab": {
     "base_uri": "https://localhost:8080/"
    },
    "id": "256a9b30",
    "outputId": "31e30808-5e8d-4437-b98d-4c55999cf342"
   },
   "outputs": [],
   "source": [
    "human_disease=[]\n",
    "mouse_genes=[]\n",
    "for classes in vectors.index_to_key:\n",
    "    if 'OMIM' in classes:\n",
    "        human_disease.append(classes)\n",
    "    if classes[7:].isnumeric():\n",
    "        mouse_genes.append(classes)\n",
    "\n",
    "print(f'Number of the disease is {len(human_disease)}, and number of genes is {len(mouse_genes)}')"
   ]
  },
  {
   "cell_type": "code",
   "execution_count": null,
   "id": "b10a0736",
   "metadata": {
    "colab": {
     "base_uri": "https://localhost:8080/"
    },
    "id": "a6a3d852",
    "outputId": "8d1df51a-3491-4ce7-9e87-c710df6d814c"
   },
   "outputs": [],
   "source": [
    "human_disease[:10]"
   ]
  },
  {
   "cell_type": "code",
   "execution_count": null,
   "id": "bf5a85b4",
   "metadata": {
    "colab": {
     "base_uri": "https://localhost:8080/"
    },
    "id": "ece1e2b0",
    "outputId": "7e611889-c9e3-42fe-cb41-48ed175b58cd"
   },
   "outputs": [],
   "source": [
    "mouse_genes[:10]"
   ]
  },
  {
   "cell_type": "code",
   "execution_count": null,
   "id": "4872f771",
   "metadata": {
    "colab": {
     "base_uri": "https://localhost:8080/"
    },
    "id": "81bee2a1",
    "outputId": "b9702707-1961-4838-c23b-70bb9d5de906"
   },
   "outputs": [],
   "source": [
    "human_disease_vectors=[]\n",
    "for k in human_disease:\n",
    "    human_disease_vectors.append(vectors[k]) \n",
    "    \n",
    "mouse_genes_vectors=[]\n",
    "for k in mouse_genes:\n",
    "    mouse_genes_vectors.append(vectors[k])\n",
    "\n",
    "from sklearn.metrics.pairwise import cosine_similarity\n",
    "similarity = cosine_similarity(np.array(human_disease_vectors),np.array(mouse_genes_vectors))\n",
    "\n",
    "print(f\"The dimentions of this matrix is {similarity.shape}\")"
   ]
  },
  {
   "cell_type": "markdown",
   "id": "744d9536",
   "metadata": {
    "id": "78e26ff6"
   },
   "source": [
    "## Evaluating the predictions to find the most similar genes:"
   ]
  },
  {
   "cell_type": "code",
   "execution_count": null,
   "id": "b9bfbd1d",
   "metadata": {
    "colab": {
     "base_uri": "https://localhost:8080/"
    },
    "id": "bc900f22",
    "lines_to_next_cell": 2,
    "outputId": "3a84d908-6e07-4840-fbbc-538c637e57ef"
   },
   "outputs": [],
   "source": [
    "def find_similar_genes(disease_id, top_k, disease_genes_similarity_matrix, disease_keys, gene_keys):\n",
    "    disease_index = disease_keys.index(disease_id)\n",
    "    prediction_list = np.flip(np.argsort(disease_genes_similarity_matrix[disease_index]))\n",
    "    top_genes = [gene_keys[prediction_list[x]] for x in range(top_k)]\n",
    "    \n",
    "    return top_genes\n",
    "\n",
    "#associations from the file MGI_DO.rpt\n",
    "\n",
    "      \n",
    "#DOID:0080449\tdevelopmental and epileptic encephalopathy 16\tOMIM:615338\tmouse, laboratory\t10090\tTbc1d24\t224617\tMGI:2443456\n",
    "disease_id = 'http://OMIM_615338' \n",
    "top_k = find_similar_genes(disease_id, 5 ,similarity, human_disease, mouse_genes )\n",
    "print(f'The most similar gene to disease {disease_id.split(\"/\")[2]} are: {top_k}')\n",
    "\n",
    "      \n",
    "#DOID:0080436\tdevelopmental and epileptic encephalopathy 4\tOMIM:612164\thuman\t9606\tSTXBP1\t6812\t\n",
    "#DOID:0060309\tsyndromic X-linked intellectual disability\t\thuman\t9606\tHNRNPH2\t3188\t\n",
    "#HNRNPH2\t3188\tHnrnph2\tMGI:1201779\tMP:0001186, MP:0005386, MP:0010771\t      \n",
    "#disease_id = 'http://OMIM_612164' \n",
    "#top_k = find_similar_genes(disease_id, 5 ,similarity, human_disease, mouse_genes )\n",
    "#print(f'The most similar gene to disease {disease_id.split(\"/\")[2]} are: {top_k}')\n",
    "\n",
    "\n",
    "#OMIM_181500 : schizophrenia : DOID:5419\tOMIM:181500\tmouse, laboratory\t10090\tMagi2\t50791\tMGI:1354953\n",
    "#disease_id = 'http://OMIM_181500' \n",
    "#top_k = find_similar_genes(disease_id, 5 ,similarity, human_disease, mouse_genes )\n",
    "#print(f'The most similar gene to disease {disease_id.split(\"/\")[2]} are: {top_k}')\n",
    "      \n",
    "\n",
    "#OMIM_615643 : neurodegeneration with brain iron accumulation 6\n",
    "#DOID:0110740\tOMIM:615643\tmouse, laboratory\t10090\tCoasy\t71743\tMGI:1918993\n",
    "#disease_id = 'http://OMIM_615643' \n",
    "#top_k = find_similar_genes(disease_id, 5 ,similarity, human_disease, mouse_genes )\n",
    "#print(f'The most similar gene to disease {disease_id.split(\"/\")[2]} are: {top_k}')"
   ]
  },
  {
   "cell_type": "code",
   "execution_count": null,
   "id": "34b2d1c3",
   "metadata": {
    "colab": {
     "base_uri": "https://localhost:8080/"
    },
    "id": "uaenNY_VqKy2",
    "lines_to_next_cell": 2,
    "outputId": "059a3c80-6cd6-4b81-f750-980fac3e158d"
   },
   "outputs": [],
   "source": [
    "def find_similar_genes(disease_id, top_k, disease_genes_similarity_matrix, disease_keys, gene_keys):\n",
    "    disease_index = disease_keys.index(disease_id)\n",
    "    prediction_list = np.flip(np.argsort(disease_genes_similarity_matrix[disease_index]))\n",
    "    top_genes = [gene_keys[prediction_list[x]] for x in range(top_k)]\n",
    "    \n",
    "    return top_genes\n",
    "\n",
    "disease_id = 'http://OMIM_615643' \n",
    "top_k = find_similar_genes(disease_id, 5 ,similarity, human_disease, mouse_genes )\n",
    "print(f'The most similar gene to disease {disease_id.split(\"/\")[2]} are: {top_k}')"
   ]
  },
  {
   "cell_type": "markdown",
   "id": "a7c32f44",
   "metadata": {
    "id": "4125dc4b"
   },
   "source": [
    "-------------------------------------"
   ]
  },
  {
   "cell_type": "markdown",
   "id": "f88ee013",
   "metadata": {
    "id": "04925b9e"
   },
   "source": [
    "# **Task 1 :**\n",
    "\n",
    "<div class=\"alert alert-block alert-success\" , color ='grreen'> \n",
    "\n",
    "<font size=\"4\"> \n",
    "    Predict the <font color='SteelBlue'>top 10 similar genes</font> to \n",
    "    diabetes mellitus disease OMIM ID: <font color='Tomato'>http://OMIM_608036</font>\n",
    "    using <font color='red'>OWL2vec*</font> prediction method\n",
    "\n",
    "</font>\n",
    "\n",
    "</div>\n"
   ]
  },
  {
   "cell_type": "markdown",
   "id": "70a188eb",
   "metadata": {
    "id": "8dc67f6c"
   },
   "source": [
    "<div class=\"alert alert-block alert-info\">\n",
    "<b>Tip:</b> Follow the <b>TODO</b> interactions to modify the script, and the rest should be the same you just need to run the cell to execute the code.\n",
    "</div>\n"
   ]
  },
  {
   "cell_type": "markdown",
   "id": "699ca37f",
   "metadata": {
    "id": "a15b208a"
   },
   "source": [
    "----"
   ]
  },
  {
   "cell_type": "markdown",
   "id": "2d8b5745",
   "metadata": {
    "id": "eafd7415"
   },
   "source": [
    "<font color='blue'><font size=\"4\">2) OWL2vec* Prediction Method </font></font> \n"
   ]
  },
  {
   "cell_type": "markdown",
   "id": "9fa6828e",
   "metadata": {
    "id": "56cdce23"
   },
   "source": [
    "1. **Projecting the ontology** \n",
    "- Project the ontology using the OWL2Vec* Projector class, with the specific rules used to project the ontology. \n",
    "- The outcome of the projection algorithm is an edgelist.\n"
   ]
  },
  {
   "cell_type": "code",
   "execution_count": null,
   "id": "296ce30d",
   "metadata": {
    "id": "5e6fa077"
   },
   "outputs": [],
   "source": [
    "from mowl.projection import #TODO: import the appropriate function (refer to https://mowl.readthedocs.io/en/latest/api/projection/index.html)\n",
    "dataset = GDAMouseDataset()\n",
    "projector = OWL2VecStarProjector(True)\n",
    "train_edges = projector.project(dataset.ontology)\n",
    "test_edges = projector.project(dataset.testing)"
   ]
  },
  {
   "cell_type": "markdown",
   "id": "1b87aff2",
   "metadata": {
    "id": "927c3cd8"
   },
   "source": [
    "2. **Generating random walks**\n",
    "- The random walks are generated using the DeepWalk.\n"
   ]
  },
  {
   "cell_type": "code",
   "execution_count": null,
   "id": "045e0f4e",
   "metadata": {
    "id": "daf9ba01"
   },
   "outputs": [],
   "source": [
    "walker = DeepWalk( ,#TODO: add the number of walks per node\n",
    "                   ,#TODO: add the walk length\n",
    "                  workers=4, # number of threads\n",
    "                  outfile = , #TODO: add the name of the output file for the walks\n",
    "                  seed=40) #fix the random seed \n",
    "\n",
    "walks = walker.walk(train_edges)\n",
    "walks_file = walker.outfile\n",
    "sentences = LineSentence(walks_file)"
   ]
  },
  {
   "cell_type": "markdown",
   "id": "81d2a7b0",
   "metadata": {
    "id": "4b3aa6e5"
   },
   "source": [
    "3. **Training the Word2Vec model**\n",
    "- To train the Word2Vec model, we rely on the Gensim library"
   ]
  },
  {
   "cell_type": "code",
   "execution_count": null,
   "id": "484bd016",
   "metadata": {
    "id": "56fe1600",
    "lines_to_next_cell": 2
   },
   "outputs": [],
   "source": [
    "model = Word2Vec(sentences, \n",
    "                 vector_size= , #TODO: add the size of the vector\n",
    "                 epochs = ,     #TODO: update the number of training epochs\n",
    "                 window=5, min_count=1, workers=10)"
   ]
  },
  {
   "cell_type": "markdown",
   "id": "d60da1b5",
   "metadata": {
    "id": "1641c9c3"
   },
   "source": [
    "4. **Evaluating the embeddings** \n",
    "- We are going to evaluate the plausibility of an association gene-disease with a gene against all possible diseases and check the rank of the true disease association using CosineSimilarity.\n"
   ]
  },
  {
   "cell_type": "code",
   "execution_count": null,
   "id": "74c46c3d",
   "metadata": {
    "id": "f805927d"
   },
   "outputs": [],
   "source": [
    "genes, diseases = dataset.evaluation_classes\n",
    "projector = TaxonomyWithRelationsProjector(taxonomy=False,\n",
    "                                           relations=[\"http://is_associated_with\"])\n",
    "\n",
    "vectors = model.wv\n",
    "evaluator = EmbeddingsRankBasedEvaluator(\n",
    "    vectors,\n",
    "    test_edges,\n",
    "    CosineSimilarity,\n",
    "    training_set=train_edges,\n",
    "    head_entities = genes.as_str,\n",
    "    tail_entities = diseases.as_str,\n",
    "    device = 'cuda')\n",
    "\n",
    "evaluator.evaluate(show=True)"
   ]
  },
  {
   "cell_type": "code",
   "execution_count": null,
   "id": "53d8d678",
   "metadata": {
    "id": "69f2a127"
   },
   "outputs": [],
   "source": [
    "human_disease=[]\n",
    "mouse_genes=[]\n",
    "for classes in vectors.index_to_key:\n",
    "    if 'OMIM' in classes:\n",
    "        human_disease.append(classes)\n",
    "    if classes[7:].isnumeric():\n",
    "        mouse_genes.append(classes)\n",
    "\n",
    "print(f'Number of the disease is {len(human_disease)}, and number of genes is {len(mouse_genes)}')"
   ]
  },
  {
   "cell_type": "code",
   "execution_count": null,
   "id": "bdab6429",
   "metadata": {
    "id": "f7cfe9e6"
   },
   "outputs": [],
   "source": [
    "human_disease_vectors=[]\n",
    "for k in human_disease:\n",
    "    human_disease_vectors.append(vectors[k]) \n",
    "    \n",
    "mouse_genes_vectors=[]\n",
    "for k in mouse_genes:\n",
    "    mouse_genes_vectors.append(vectors[k])\n",
    "\n",
    "from sklearn.metrics.pairwise import cosine_similarity\n",
    "similarity = cosine_similarity(np.array(human_disease_vectors),np.array(mouse_genes_vectors))\n",
    "\n",
    "print(\"the dimentions of this matrix is \", similarity.shape)"
   ]
  },
  {
   "cell_type": "markdown",
   "id": "12029bf7",
   "metadata": {
    "id": "4acede44"
   },
   "source": [
    "## Evaluating the predictions to find the most similar genes:"
   ]
  },
  {
   "cell_type": "code",
   "execution_count": null,
   "id": "766634df",
   "metadata": {
    "id": "d7452778",
    "lines_to_next_cell": 2
   },
   "outputs": [],
   "source": [
    "def find_similar_genes(disease_id, top_k, disease_genes_similarity_matrix, disease_keys, gene_keys):\n",
    "    disease_index = disease_keys.index(disease_id)\n",
    "    prediction_list = np.flip(np.argsort(disease_genes_similarity_matrix[disease_index]))\n",
    "    top_genes = [gene_keys[prediction_list[x]] for x in range(top_k)]\n",
    "    \n",
    "    return top_genes\n",
    "\n",
    "  \n",
    "\n",
    "disease_id = #TODO: write the disease OMIM ID\n",
    "\n",
    "number_of_genes =  #TODO: number of genes to be ranked\n",
    "\n",
    "top_k = find_similar_genes( , #TODO: disease OMIM ID\n",
    "                            , #TODO: number of genes \n",
    "                           similarity, \n",
    "                           human_disease, \n",
    "                           mouse_genes)\n",
    "\n",
    "print(f'The top {number_of_genes} most similar gene to disease {disease_id.split(\"/\")[2]} are:')\n",
    "\n",
    "for idx, genes in enumerate(top_k):\n",
    "    print(f\" Gene in Rank {idx+1} is : {top_k[idx]}\")"
   ]
  },
  {
   "cell_type": "markdown",
   "id": "09e6c9cb",
   "metadata": {
    "id": "c99820dd"
   },
   "source": [
    "----------------------------------------"
   ]
  },
  {
   "cell_type": "markdown",
   "id": "287856bb",
   "metadata": {
    "id": "bdab62fa"
   },
   "source": [
    "# Syntactic embeddings"
   ]
  },
  {
   "cell_type": "code",
   "execution_count": null,
   "id": "3a861a5e",
   "metadata": {
    "id": "2353156c"
   },
   "outputs": [],
   "source": [
    "from mowl.corpus import extract_and_save_axiom_corpus\n",
    "from mowl.owlapi import OWLAPIAdapter\n",
    "from mowl.reasoning import MOWLReasoner\n",
    "from org.semanticweb.elk.owlapi import ElkReasonerFactory\n",
    "from java.util import HashSet\n",
    "from gensim.models.word2vec import LineSentence\n",
    "from gensim.models import Word2Vec\n",
    "import os"
   ]
  },
  {
   "cell_type": "markdown",
   "id": "3259db3b",
   "metadata": {
    "id": "76f073fa"
   },
   "source": [
    "<font color='blue'><font size=\"4\">1) Onto2Vec Prediction Method </font></font> \n"
   ]
  },
  {
   "cell_type": "markdown",
   "id": "470de88a",
   "metadata": {
    "id": "2db72c41"
   },
   "source": [
    "This example corresponds to the paper **Onto2Vec: joint vector-based representation of biological entities and their ontology-based annotations**.\n",
    "\n",
    "This method is an approach to learn numerical representations (embeddings) of (biomedical) ontologies by representing ontology axioms as text sequences and applying an unsupervised learning algorithm such as Word2Vec. Onto2Vec uses an ontology reasoner to infer new axioms as a preprocessing step. The algorithm is tested on the protein-protein interaction task.\n",
    "\n",
    "For this algorithm, we need three components:\n",
    "\n",
    "1. The reasoner\n",
    "\n",
    "2. The corpus generator\n",
    "\n",
    "3. The Word2Vec model"
   ]
  },
  {
   "cell_type": "markdown",
   "id": "d28c09d3",
   "metadata": {
    "id": "62a097ad"
   },
   "source": [
    " \n",
    "**1) Inferring new axioms**\n",
    "\n",
    "- Onto2Vec uses an ontology reasoner to infer new axioms as a preprocessing step. In the original paper, the authors used the HermiT reasoner. For this example, we use the ELK reasoner.\n"
   ]
  },
  {
   "cell_type": "code",
   "execution_count": null,
   "id": "07f5f81f",
   "metadata": {
    "id": "8e7fd459",
    "lines_to_next_cell": 2
   },
   "outputs": [],
   "source": [
    "reasoner_factory = ElkReasonerFactory()\n",
    "reasoner = reasoner_factory.createReasoner(dataset.ontology)\n",
    "mowl_reasoner = MOWLReasoner(reasoner)"
   ]
  },
  {
   "cell_type": "code",
   "execution_count": null,
   "id": "a607124b",
   "metadata": {
    "colab": {
     "base_uri": "https://localhost:8080/"
    },
    "id": "a76c723a",
    "lines_to_next_cell": 0,
    "outputId": "1d18082b-c6ff-40e9-b251-b477bf89a717"
   },
   "outputs": [],
   "source": []
  },
  {
   "cell_type": "code",
   "execution_count": null,
   "id": "aa479c3d",
   "metadata": {},
   "outputs": [],
   "source": [
    "# We wrap the reasoner into the :class:`MOWLReasoner <mowl.reasoning.base.MOWLReasoner>` class \\\n",
    "# in order to use some shortcuts the mOWL\n",
    "# provides such as:\n",
    "#\n",
    "# - inferring subclass axioms\n",
    "# - inferring equivalent class axioms\n",
    "# - inferring disjoint axioms (not applicable for this example since we use ELK reasoner)\n",
    "\n",
    "classes = dataset.ontology.getClassesInSignature()\n",
    "subclass_axioms = mowl_reasoner.infer_subclass_axioms(classes)\n",
    "equivalent_class_axioms = mowl_reasoner.infer_equivalent_class_axioms(classes)"
   ]
  },
  {
   "cell_type": "code",
   "execution_count": null,
   "id": "4ccda2cf",
   "metadata": {},
   "outputs": [],
   "source": [
    "# We can now add the inferred axioms to the ontology.\n",
    "\n",
    "adapter = OWLAPIAdapter()\n",
    "manager = adapter.owl_manager\n",
    "\n",
    "axioms = HashSet()\n",
    "axioms.addAll(subclass_axioms)\n",
    "axioms.addAll(equivalent_class_axioms)\n",
    "\n",
    "manager.addAxioms(dataset.ontology, axioms)"
   ]
  },
  {
   "cell_type": "markdown",
   "id": "d6100653",
   "metadata": {
    "id": "6fac19e8"
   },
   "source": [
    "**2- The corpus generator**"
   ]
  },
  {
   "cell_type": "code",
   "execution_count": null,
   "id": "e6f38b4f",
   "metadata": {
    "id": "183c6f50"
   },
   "outputs": [],
   "source": [
    "extract_and_save_axiom_corpus(dataset.ontology, \"onto2vec_corpus.txt\")"
   ]
  },
  {
   "cell_type": "markdown",
   "id": "007e1569",
   "metadata": {
    "id": "bb56f8eb"
   },
   "source": [
    "**3- Generating the corpus and training the model**\n",
    "- Now that we have an extended ontology, we can generate the corpus out of it. After that, we can train the Word2Vec model.\n"
   ]
  },
  {
   "cell_type": "code",
   "execution_count": null,
   "id": "bcd1ba4d",
   "metadata": {
    "id": "6ff51da5"
   },
   "outputs": [],
   "source": [
    "sentences = LineSentence(\"onto2vec_corpus.txt\")\n",
    "model_onto = Word2Vec(sentences, vector_size=5, epochs=10, window=2, min_count=1, workers=4)"
   ]
  },
  {
   "cell_type": "code",
   "execution_count": null,
   "id": "f600d556",
   "metadata": {},
   "outputs": [],
   "source": [
    "# Cleaning up memory\n",
    "# os.remove(\"onto2vec_corpus.txt\")"
   ]
  },
  {
   "cell_type": "markdown",
   "id": "6f5e8e3a",
   "metadata": {
    "id": "56cfb4a0"
   },
   "source": [
    "## Evaluating the embeddings\n",
    "- We are going to evaluate the plausibility of an association gene-disease with a gene against all possible diseases and check the rank of the true disease association using CosineSimilarity.\n"
   ]
  },
  {
   "cell_type": "code",
   "execution_count": null,
   "id": "28c822bc",
   "metadata": {
    "colab": {
     "base_uri": "https://localhost:8080/"
    },
    "id": "846d633e",
    "outputId": "ba4699cc-da3f-4307-8707-10d12b5cbd32"
   },
   "outputs": [],
   "source": [
    "genes, diseases = dataset.evaluation_classes\n",
    "projector = TaxonomyWithRelationsProjector(taxonomy=False,\n",
    "                                           relations=[\"http://is_associated_with\"])\n",
    "\n",
    "vectors = model_onto.wv\n",
    "evaluator = EmbeddingsRankBasedEvaluator(\n",
    "    vectors,\n",
    "    test_edges,\n",
    "    CosineSimilarity,\n",
    "    training_set=train_edges,\n",
    "    head_entities = genes.as_str,\n",
    "    tail_entities = diseases.as_str,\n",
    "    device = 'cpu')\n",
    "\n",
    "evaluator.evaluate(show=True)"
   ]
  },
  {
   "cell_type": "code",
   "execution_count": null,
   "id": "a7686321",
   "metadata": {
    "colab": {
     "base_uri": "https://localhost:8080/"
    },
    "id": "7c42a228",
    "lines_to_next_cell": 2,
    "outputId": "d0cfbc99-68f0-4813-8f70-3edd9d41cb66"
   },
   "outputs": [],
   "source": [
    "human_disease=[]\n",
    "mouse_genes=[]\n",
    "for classes in vectors.index_to_key:\n",
    "    if 'OMIM' in classes:\n",
    "        human_disease.append(classes)\n",
    "    if classes[7:].isnumeric():\n",
    "        mouse_genes.append(classes)\n",
    "\n",
    "human_disease_vectors=[]\n",
    "for k in human_disease:\n",
    "    human_disease_vectors.append(vectors[k]) \n",
    "    \n",
    "mouse_genes_vectors=[]\n",
    "for k in mouse_genes:\n",
    "    mouse_genes_vectors.append(vectors[k])\n",
    "\n",
    "similarity = cosine_similarity(np.array(human_disease_vectors),np.array(mouse_genes_vectors))\n",
    "\n",
    "disease_id = 'http://OMIM_612164' \n",
    "top_k = find_similar_genes(disease_id, 10 ,similarity, human_disease, mouse_genes )\n",
    "print(f'The most similar gene to disease {disease_id.split(\"/\")[2]} are: {top_k}')"
   ]
  },
  {
   "cell_type": "code",
   "execution_count": null,
   "id": "b5f92cef",
   "metadata": {
    "id": "BVis3B3ajBhl"
   },
   "outputs": [],
   "source": []
  },
  {
   "cell_type": "markdown",
   "id": "87223b25",
   "metadata": {
    "id": "f4d5c6fe"
   },
   "source": [
    "----"
   ]
  },
  {
   "cell_type": "markdown",
   "id": "72266288",
   "metadata": {
    "id": "51461bfa"
   },
   "source": [
    "# **Task 2 :**\n",
    "\n",
    "<div class=\"alert alert-block alert-success\"> \n",
    "\n",
    "<font size=\"4\"> \n",
    "    Predict the <font color='SteelBlue'>top 5 similar genes</font> to \n",
    "    diabetes mellitus disease OMIM ID: <font color='Tomato'>http://OMIM_608036</font>\n",
    "    using <font color='red'>OPA2Vec*</font> prediction method\n",
    "\n",
    "</font>\n",
    "\n",
    "</div>"
   ]
  },
  {
   "cell_type": "markdown",
   "id": "6d6433d7",
   "metadata": {
    "id": "52c9ecfe"
   },
   "source": [
    "<div class=\"alert alert-block alert-info\">\n",
    "<b>Tip:</b> Follow the <b>TODO</b> interactions to modify the script, and the rest should be the same you just need to run the cell to execute the code.\n",
    "</div>\n"
   ]
  },
  {
   "cell_type": "markdown",
   "id": "8be3754b",
   "metadata": {
    "id": "fe5955b2"
   },
   "source": [
    "--- "
   ]
  },
  {
   "cell_type": "markdown",
   "id": "0a701653",
   "metadata": {
    "id": "0f5b2348"
   },
   "source": [
    "<font color='blue'><font size=\"4\">2) OPA2Vec Prediction Method </font></font> \n"
   ]
  },
  {
   "cell_type": "markdown",
   "id": "d7ce206f",
   "metadata": {
    "id": "475739ca"
   },
   "source": [
    "This example corresponds to the paper **OPA2Vec: combining formal and informal content of biomedical ontologies to improve similarity-based prediction**.\n",
    "\n",
    "This method is an extension of **Onto2Vec** that apart from formal knowldege (i.e. axioms) it also uses informal knowledge such as entity metadata (i.e. synonyms, definitions, etc.)\n",
    "\n",
    "For this algorithm, we need four components:\n",
    "\n",
    "1.  The reasoner\n",
    "\n",
    "2. The corpus generator\n",
    "\n",
    "<font color='red'>3. The annotations generator</font> \n",
    "\n",
    "4. The Word2Vec model"
   ]
  },
  {
   "cell_type": "code",
   "execution_count": null,
   "id": "aafe0009",
   "metadata": {
    "id": "ad0d5886"
   },
   "outputs": [],
   "source": [
    "from mowl.corpus import extract_and_save_axiom_corpus\n",
    "from mowl.owlapi import OWLAPIAdapter\n",
    "from mowl.reasoning import MOWLReasoner\n",
    "from org.semanticweb.elk.owlapi import ElkReasonerFactory\n",
    "from java.util import HashSet\n",
    "from gensim.models.word2vec import LineSentence\n",
    "from gensim.models import Word2Vec\n",
    "import os\n",
    "from sklearn.metrics.pairwise import cosine_similarity\n",
    "\n",
    "from mowl.corpus import extract_and_save_axiom_corpus, extract_and_save_annotation_corpus\n",
    "# OPA2Vec use annotation so we need to import extract_and_save_annotation_corpus"
   ]
  },
  {
   "cell_type": "markdown",
   "id": "6772b8a4",
   "metadata": {
    "id": "6be35996"
   },
   "source": [
    "\n",
    "**1) Inferring new axioms**\n",
    "\n",
    "- OPA2Vec uses an ontology reasoner to infer new axioms as a preprocessing step. In the original paper, the authors used the HermiT reasoner. For this example, we use the ELK reasoner.\n",
    "\n"
   ]
  },
  {
   "cell_type": "code",
   "execution_count": null,
   "id": "f545f4c7",
   "metadata": {
    "id": "b70435a9"
   },
   "outputs": [],
   "source": [
    "reasoner_factory = ElkReasonerFactory()\n",
    "reasoner = reasoner_factory.createReasoner(dataset.ontology)\n",
    "mowl_reasoner = MOWLReasoner(reasoner)"
   ]
  },
  {
   "cell_type": "markdown",
   "id": "66962b3b",
   "metadata": {
    "id": "fd295c67"
   },
   "source": [
    "We wrap the reasoner into the **MOWLReasoner** class in order to use some shortcuts the mOWL provides such as:\n",
    "\n",
    "- inferring subclass axioms\n",
    "\n",
    "- inferring equivalent class axioms\n",
    "\n",
    "- inferring disjoint axioms (not applicable for this example since we use ELK reasoner)\n"
   ]
  },
  {
   "cell_type": "code",
   "execution_count": null,
   "id": "6bda387f",
   "metadata": {
    "id": "72d6c545"
   },
   "outputs": [],
   "source": [
    "classes = dataset.ontology.getClassesInSignature()\n",
    "subclass_axioms = mowl_reasoner.infer_subclass_axioms(classes)\n",
    "equivalent_class_axioms = mowl_reasoner.infer_equivalent_class_axioms(classes)"
   ]
  },
  {
   "cell_type": "markdown",
   "id": "3fd40b64",
   "metadata": {
    "id": "400a3f9f"
   },
   "source": [
    "We can now add the inferred axioms to the ontology:"
   ]
  },
  {
   "cell_type": "markdown",
   "id": "6675739d",
   "metadata": {
    "id": "85558d1e"
   },
   "source": [
    "**2- The corpus generator**"
   ]
  },
  {
   "cell_type": "code",
   "execution_count": null,
   "id": "c6c0791c",
   "metadata": {
    "id": "3506692c"
   },
   "outputs": [],
   "source": [
    "adapter = OWLAPIAdapter()\n",
    "manager = adapter.owl_manager\n",
    "\n",
    "axioms = HashSet()\n",
    "axioms.addAll(subclass_axioms)\n",
    "axioms.addAll(equivalent_class_axioms)\n",
    "\n",
    "manager.addAxioms(dataset.ontology, axioms)"
   ]
  },
  {
   "cell_type": "code",
   "execution_count": null,
   "id": "29e5596c",
   "metadata": {
    "id": "b5af6b33"
   },
   "outputs": [],
   "source": [
    "extract_and_save_axiom_corpus(dataset.ontology, \"opa2vec_corpus.txt\")"
   ]
  },
  {
   "cell_type": "markdown",
   "id": "6dbe48e6",
   "metadata": {
    "id": "7cb8ccec"
   },
   "source": [
    "<font color='red'> **3- The annotations generator**</font>"
   ]
  },
  {
   "cell_type": "code",
   "execution_count": null,
   "id": "e564c2fc",
   "metadata": {
    "id": "6ef330cf",
    "lines_to_next_cell": 2
   },
   "outputs": [],
   "source": [
    "#TODO : extract and save the annotations (dataset.ontology, \"opa2vec_corpus.txt\", mode=\"a\")"
   ]
  },
  {
   "cell_type": "markdown",
   "id": "ca3e7a9d",
   "metadata": {
    "id": "c39d32cf"
   },
   "source": [
    "**4- Generating the corpus and training the model**\n",
    "- Now that we have an extended ontology, we can generate the corpus out of it. After that, we can train the Word2Vec model.\n",
    "\n"
   ]
  },
  {
   "cell_type": "code",
   "execution_count": null,
   "id": "22d91ba4",
   "metadata": {
    "id": "fdbe75c6",
    "lines_to_next_cell": 2
   },
   "outputs": [],
   "source": [
    "sentences = LineSentence(\"opa2vec_corpus.txt\")\n",
    "\n",
    "model = Word2Vec(sentences, \n",
    "                 vector_size= , #TODO: add the size of the vector\n",
    "                 epochs = ,     #TODO: update the number of training epochs\n",
    "                 window=5, min_count=1, workers=10)"
   ]
  },
  {
   "cell_type": "markdown",
   "id": "39542626",
   "metadata": {
    "id": "613ed5cf"
   },
   "source": [
    "## Evaluating the embeddings"
   ]
  },
  {
   "cell_type": "code",
   "execution_count": null,
   "id": "aa966427",
   "metadata": {
    "id": "a1ccd246"
   },
   "outputs": [],
   "source": [
    "genes, diseases = dataset.evaluation_classes\n",
    "projector = TaxonomyWithRelationsProjector(taxonomy=False,\n",
    "                                           relations=[\"http://is_associated_with\"])\n",
    "\n",
    "eval_train_edges = projector.project(dataset.ontology)\n",
    "eval_test_edges = projector.project(dataset.testing)\n",
    "    \n",
    "vectors = model.wv\n",
    "evaluator = EmbeddingsRankBasedEvaluator(\n",
    "    vectors,\n",
    "    eval_test_edges,\n",
    "    CosineSimilarity,\n",
    "    training_set=eval_train_edges,\n",
    "    head_entities = genes.as_str,\n",
    "    tail_entities = diseases.as_str,\n",
    "    device = 'cpu')\n",
    "\n",
    "evaluator.evaluate(show=True)"
   ]
  },
  {
   "cell_type": "code",
   "execution_count": null,
   "id": "6468a8c2",
   "metadata": {
    "id": "b2a78ab9",
    "lines_to_next_cell": 2
   },
   "outputs": [],
   "source": [
    "def find_similar_genes(disease_id, top_k, disease_genes_similarity_matrix, disease_keys, gene_keys):\n",
    "    disease_index = disease_keys.index(disease_id)\n",
    "    prediction_list = np.flip(np.argsort(disease_genes_similarity_matrix[disease_index]))\n",
    "    top_genes = [gene_keys[prediction_list[x]] for x in range(top_k)]\n",
    "    \n",
    "    return top_genes\n",
    "\n",
    "\n",
    "vectors = model.wv\n",
    "\n",
    "\n",
    "human_disease=[]\n",
    "mouse_genes=[]\n",
    "for classes in vectors.index_to_key:\n",
    "    if 'OMIM' in classes:\n",
    "        human_disease.append(classes)\n",
    "    if 'http://' in classes and classes[7:].isnumeric():\n",
    "        mouse_genes.append(classes)\n",
    "\n",
    "human_disease_vectors=[]\n",
    "for k in human_disease:\n",
    "    human_disease_vectors.append(vectors[k]) \n",
    "    \n",
    "mouse_genes_vectors=[]\n",
    "for k in mouse_genes:\n",
    "    mouse_genes_vectors.append(vectors[k])\n",
    "\n",
    "similarity = cosine_similarity(np.array(human_disease_vectors),np.array(mouse_genes_vectors))"
   ]
  },
  {
   "cell_type": "code",
   "execution_count": null,
   "id": "1a463ed6",
   "metadata": {
    "id": "77df4df0",
    "lines_to_next_cell": 2
   },
   "outputs": [],
   "source": [
    "disease_id =  #TODO: write the disease OMIM ID\n",
    "\n",
    "number_of_genes = #TODO: number of genes to be ranked\n",
    "\n",
    "top_k = find_similar_genes( , #TODO: disease OMIM ID\n",
    "                            , #TODO: number of genes \n",
    "                           similarity, \n",
    "                           human_disease, \n",
    "                           mouse_genes)\n",
    "\n",
    "print(f'The top {number_of_genes} most similar gene to disease {disease_id.split(\"/\")[2]} are:')\n",
    "\n",
    "for idx, genes in enumerate(top_k):\n",
    "    print(f\" Gene in Rank {idx+1} is : {top_k[idx]}\")"
   ]
  },
  {
   "cell_type": "markdown",
   "id": "13bbb752",
   "metadata": {
    "id": "941424f3"
   },
   "source": [
    "------"
   ]
  },
  {
   "cell_type": "markdown",
   "id": "f288b89b",
   "metadata": {
    "id": "437455a1"
   },
   "source": [
    "# Ontologies and Text-mining"
   ]
  },
  {
   "cell_type": "markdown",
   "id": "05225846",
   "metadata": {
    "id": "217684ec"
   },
   "source": [
    "Genes and Diseases extracted from text using the exact match, refer to the notebook [Ontologies_and_text_mining](https://github.com/bio-ontology-research-group/mowl-tutorial/blob/main/notebooks/02_Ontologies_and_text_mining.ipynb), to see how the model trained, and for more details refer to the presentation [Ontologies and Text-mining](https://github.com/bio-ontology-research-group/mowl-tutorial/blob/main/slides/Ontologies%20and%20text%20mining.pdf).\n"
   ]
  },
  {
   "cell_type": "code",
   "execution_count": null,
   "id": "35610ead",
   "metadata": {
    "id": "2b28e1b0",
    "lines_to_next_cell": 2
   },
   "outputs": [],
   "source": [
    "from gensim.models import Word2Vec\n",
    "import pickle as pkl\n",
    "from sklearn.metrics.pairwise import cosine_similarity\n",
    "import numpy as np"
   ]
  },
  {
   "cell_type": "code",
   "execution_count": null,
   "id": "5b0082f0",
   "metadata": {
    "id": "c46570b7"
   },
   "outputs": [],
   "source": [
    "# Collect the vectors for the genes and diseases\n",
    "word2vec_file = 'w2v_model/wv_model'\n",
    "vectors = Word2Vec.load(word2vec_file)\n",
    "\n",
    "human_disease=[]\n",
    "mouse_genes=[]\n",
    "for classes in vectors.wv.index_to_key:\n",
    "    if 'OMIM_' in classes:\n",
    "        human_disease.append(classes)\n",
    "    if 'http://' in classes and classes[7:].isnumeric():\n",
    "        mouse_genes.append(classes)\n",
    "\n",
    "human_disease_vectors=[]\n",
    "for k in human_disease:\n",
    "    human_disease_vectors.append(vectors.wv[k]) \n",
    "    \n",
    "mouse_genes_vectors=[]\n",
    "for k in mouse_genes:\n",
    "    mouse_genes_vectors.append(vectors.wv[k])\n",
    "\n",
    "similarity = cosine_similarity(np.array(human_disease_vectors),np.array(mouse_genes_vectors))"
   ]
  },
  {
   "cell_type": "markdown",
   "id": "d343200c",
   "metadata": {
    "id": "c48b8c44"
   },
   "source": [
    "## Evaluating the predictions to find the most similar genes:"
   ]
  },
  {
   "cell_type": "code",
   "execution_count": null,
   "id": "466460e8",
   "metadata": {
    "colab": {
     "base_uri": "https://localhost:8080/"
    },
    "id": "ada0be0d",
    "outputId": "1690df58-7b67-41bc-fe9f-ddc7713dc59b"
   },
   "outputs": [],
   "source": [
    "# Evaluating the similarity\n",
    "\n",
    "def find_similar_genes(disease_id, top_k, disease_genes_similarity_matrix, disease_keys, gene_keys):\n",
    "    disease_index = disease_keys.index(disease_id)\n",
    "    prediction_list = np.flip(np.argsort(disease_genes_similarity_matrix[disease_index]))\n",
    "    top_genes = [gene_keys[prediction_list[x]] for x in range(top_k)]\n",
    "    \n",
    "    return top_genes\n",
    "\n",
    "disease_id = 'http://OMIM_114500' \n",
    "# DOID:9256\tcolorectal cancer\tOMIM:114500\thuman\t9606\tKDR\t3791\t\n",
    "\n",
    "\n",
    "top_k = find_similar_genes(disease_id, 10 ,similarity, human_disease, mouse_genes )\n",
    "print(f'The most similar genes to disease {disease_id.split(\"/\")[2]} are:')\n",
    "for i, j in enumerate(top_k):\n",
    "    print(i+1, j)     \n",
    "\n",
    "# The linked genes at rank 7\n",
    "\n"
   ]
  },
  {
   "cell_type": "markdown",
   "id": "6b33a8b6",
   "metadata": {},
   "source": [
    "\"\"\"\n",
    "Semantic embeddings\n",
    "\"\"\"\n",
    "\n",
    "\n",
    "---\n",
    "jupyter:\n",
    "  jupytext:\n",
    "    text_representation:\n",
    "      extension: .py\n",
    "      format_name: percent\n",
    "      format_version: '1.3'\n",
    "      jupytext_version: 1.14.4\n",
    "  kernelspec:\n",
    "    display_name: Python 3 (ipykernel)\n",
    "    language: python\n",
    "    name: python3\n",
    "---"
   ]
  },
  {
   "cell_type": "markdown",
   "id": "89f8d951",
   "metadata": {
    "id": "342cbd65-5035-4d51-9450-ae62bbf5895b"
   },
   "source": [
    "# Model-theoretic ontology embedding methods"
   ]
  },
  {
   "cell_type": "markdown",
   "id": "a2af1d37",
   "metadata": {
    "id": "ba40a869-6133-4f21-9476-61d491a4c02d"
   },
   "source": [
    "## EL-Embeddings"
   ]
  },
  {
   "cell_type": "code",
   "execution_count": null,
   "id": "fff71635",
   "metadata": {
    "colab": {
     "base_uri": "https://localhost:8080/"
    },
    "id": "IVLfD_DmdQNz",
    "outputId": "b8d3e91a-a9bc-4bef-c4cb-7a42a7e90ed1"
   },
   "outputs": [],
   "source": [
    "from google.colab import drive\n",
    "drive.mount('/content/drive')"
   ]
  },
  {
   "cell_type": "code",
   "execution_count": null,
   "id": "ce049b7a",
   "metadata": {
    "colab": {
     "base_uri": "https://localhost:8080/"
    },
    "id": "Z5aMUc5TeMe9",
    "outputId": "65a7f54e-a5d0-45d1-e9aa-8310d29ee5b1"
   },
   "outputs": [],
   "source": [
    "! pip install mowl-borg"
   ]
  },
  {
   "cell_type": "markdown",
   "id": "1dc6e535",
   "metadata": {
    "id": "0bfb2030-f007-4973-a40d-9b56696be17e"
   },
   "source": [
    "Import MOWL library and ELEmbedding model base classes"
   ]
  },
  {
   "cell_type": "code",
   "execution_count": null,
   "id": "4df3c656",
   "metadata": {
    "id": "48048228-53d9-496f-ba8f-f81a0af469a8",
    "lines_to_next_cell": 2
   },
   "outputs": [],
   "source": [
    "import mowl\n",
    "mowl.init_jvm(\"10g\")\n",
    "\n",
    "from mowl.models.elembeddings.module import ELEmModule\n",
    "from mowl.base_models.elmodel import EmbeddingELModel"
   ]
  },
  {
   "cell_type": "markdown",
   "id": "47f7e1c7",
   "metadata": {
    "id": "e7b2f876-b08d-47c6-8fd9-fc1a48a94d99"
   },
   "source": [
    "Define the model and training strategy"
   ]
  },
  {
   "cell_type": "code",
   "execution_count": null,
   "id": "ff1b7cb6",
   "metadata": {
    "id": "36cc9569-a293-4333-817a-077cae347403"
   },
   "outputs": [],
   "source": [
    "import torch\n",
    "from torch import nn\n",
    "from tqdm import trange\n",
    "import numpy as np\n",
    "\n",
    "class ELEmbeddings(EmbeddingELModel):\n",
    "\n",
    "    def __init__(self,\n",
    "                 dataset,\n",
    "                 embed_dim=50,\n",
    "                 margin=0,\n",
    "                 reg_norm=1,\n",
    "                 learning_rate=0.001,\n",
    "                 epochs=1000,\n",
    "                 batch_size=4096 * 8,\n",
    "                 model_filepath=None,\n",
    "                 device='cpu'\n",
    "                 ):\n",
    "        super().__init__(dataset, batch_size, extended=True, model_filepath=model_filepath)\n",
    "\n",
    "        self.embed_dim = embed_dim\n",
    "        self.margin = margin\n",
    "        self.reg_norm = reg_norm\n",
    "        self.learning_rate = learning_rate\n",
    "        self.epochs = epochs\n",
    "        self.device = device\n",
    "        self._loaded = False\n",
    "        self._loaded_eval = False\n",
    "        self.extended = False\n",
    "        self.init_model()\n",
    "\n",
    "    def init_model(self):\n",
    "        self.model = ELEmModule(\n",
    "            len(self.class_index_dict),  # number of ontology classes\n",
    "            len(self.object_property_index_dict),  # number of ontology object properties\n",
    "            embed_dim=self.embed_dim,\n",
    "            margin=self.margin\n",
    "        ).to(self.device)\n",
    "\n",
    "    def train(self, checkpoint=1):\n",
    "        optimizer = torch.optim.Adam(self.model.parameters(), lr=self.learning_rate)\n",
    "        best_loss = float('inf')\n",
    "\n",
    "        for epoch in trange(self.epochs):\n",
    "            self.model.train()\n",
    "\n",
    "            train_loss = 0\n",
    "            loss = 0\n",
    "\n",
    "            # Notice how we use the ``training_datasets`` variable directly\n",
    "            # and every element of it is a pair (GCI name, GCI tensor data).\n",
    "            for gci_name, gci_dataset in self.training_datasets.items():\n",
    "                if len(gci_dataset) == 0:\n",
    "                    continue\n",
    "                loss += torch.mean(self.model(gci_dataset[:], gci_name))\n",
    "                \n",
    "            optimizer.zero_grad()\n",
    "            loss.backward()\n",
    "            optimizer.step()\n",
    "            train_loss += loss.detach().item()\n",
    "            torch.save(self.model.state_dict(), self.model_filepath)\n",
    "            if (epoch + 1) % checkpoint == 0:\n",
    "                print(f'\\nEpoch {epoch}: Train loss: {train_loss:4f}')"
   ]
  },
  {
   "cell_type": "markdown",
   "id": "fb16de69",
   "metadata": {
    "id": "76b69df0-c537-49ae-baf5-57d191bba9bb"
   },
   "source": [
    "Create the dataset class"
   ]
  },
  {
   "cell_type": "code",
   "execution_count": null,
   "id": "8e7a6410",
   "metadata": {
    "id": "f85efc62-cc5f-4c2d-9560-ab388c7c4bf5"
   },
   "outputs": [],
   "source": [
    "from mowl.datasets import PathDataset\n",
    "\n",
    "family_dataset = PathDataset('/content/drive/MyDrive/mowl-data/family.owl')"
   ]
  },
  {
   "cell_type": "markdown",
   "id": "b31d14c0",
   "metadata": {
    "id": "c35a2aa7-862f-40b2-a6c5-a579aa2a1f2d"
   },
   "source": [
    "Train the model"
   ]
  },
  {
   "cell_type": "code",
   "execution_count": null,
   "id": "301c9f4d",
   "metadata": {
    "colab": {
     "base_uri": "https://localhost:8080/"
    },
    "id": "fb3b5b25-69e0-4783-b7ee-a488e13a804d",
    "outputId": "1f455631-50c7-4fca-ce0c-4bfab93a2f44"
   },
   "outputs": [],
   "source": [
    "elembeddings = ELEmbeddings(family_dataset,\n",
    "                     embed_dim=2,\n",
    "                     margin=0.1,\n",
    "                     reg_norm=1,\n",
    "                     learning_rate=0.01,\n",
    "                     epochs=1000,\n",
    "                     batch_size=2,\n",
    "                     model_filepath=None,\n",
    "                     device='cpu')\n",
    "\n",
    "elembeddings.train(checkpoint=100)"
   ]
  },
  {
   "cell_type": "markdown",
   "id": "ef579cf3",
   "metadata": {
    "id": "4cfe4d5c-76b4-404b-83a3-649e6c5defd0"
   },
   "source": [
    "Extract embeddings"
   ]
  },
  {
   "cell_type": "code",
   "execution_count": null,
   "id": "f4a8e650",
   "metadata": {
    "colab": {
     "base_uri": "https://localhost:8080/"
    },
    "id": "d0f803cb-5a69-435d-a7a4-cd2783d6dc3e",
    "outputId": "25166689-4c8a-439d-e5be-0ef4c5afb90a"
   },
   "outputs": [],
   "source": [
    "embeds = elembeddings.model.class_embed.weight.cpu().detach().numpy()\n",
    "rs = np.abs(elembeddings.model.class_rad.weight.cpu().detach().numpy())\n",
    "classes = list(elembeddings.class_index_dict.keys())\n",
    "rs, embeds"
   ]
  },
  {
   "cell_type": "markdown",
   "id": "9bf199ac",
   "metadata": {
    "id": "8311f27e-0620-47d7-b176-a4b9d228447b"
   },
   "source": [
    "Plot embeddings"
   ]
  },
  {
   "cell_type": "code",
   "execution_count": null,
   "id": "6e8e759f",
   "metadata": {
    "colab": {
     "base_uri": "https://localhost:8080/",
     "height": 282
    },
    "id": "027e5f57-b800-4272-8d16-9f44fa494d64",
    "lines_to_next_cell": 2,
    "outputId": "8c7dbdab-758a-46ed-adf4-2fee5d122ae1"
   },
   "outputs": [],
   "source": [
    "import matplotlib.pyplot as plt\n",
    "\n",
    "classes = [item.split('/')[-1] for item in classes]\n",
    "colors = ['b', 'g', 'r', 'c', 'm', 'y', 'k']\n",
    "fig, ax =  plt.subplots()\n",
    "plt.axis('equal')\n",
    "ax.set_xlim(-5, 4)\n",
    "ax.set_ylim(-3, 4)\n",
    "for i in range(embeds.shape[0]):\n",
    "    if classes[i].endswith('hing'):\n",
    "        continue\n",
    "    x, y = embeds[i, 0], embeds[i, 1]\n",
    "    r = rs[i]\n",
    "    ax.add_artist(plt.Circle(\n",
    "        (x, y), r, fill=False, edgecolor=colors[i % len(colors)], label=classes[i]))\n",
    "    ax.annotate(classes[i], xy=(x, y + r + 0.03), fontsize=10, ha=\"center\", color=colors[i % len(colors)])\n",
    "ax.grid(True)\n",
    "plt"
   ]
  },
  {
   "cell_type": "code",
   "execution_count": null,
   "id": "7dd4d72a",
   "metadata": {
    "id": "277e3054-e181-4b8f-84fd-79e52c5623fd",
    "lines_to_next_cell": 2
   },
   "outputs": [],
   "source": []
  }
 ],
 "metadata": {
  "kernelspec": {
   "display_name": "Python 3 (ipykernel)",
   "language": "python",
   "name": "python3"
  },
  "language_info": {
   "codemirror_mode": {
    "name": "ipython",
    "version": 3
   },
   "file_extension": ".py",
   "mimetype": "text/x-python",
   "name": "python",
   "nbconvert_exporter": "python",
   "pygments_lexer": "ipython3",
   "version": "3.8.0"
  }
 },
 "nbformat": 4,
 "nbformat_minor": 5
}
