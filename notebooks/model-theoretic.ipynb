{
 "cells": [
  {
   "cell_type": "markdown",
   "id": "342cbd65-5035-4d51-9450-ae62bbf5895b",
   "metadata": {},
   "source": [
    "# Model-theoretic ontology embedding methods"
   ]
  },
  {
   "cell_type": "markdown",
   "id": "ba40a869-6133-4f21-9476-61d491a4c02d",
   "metadata": {},
   "source": [
    "## EL-Embeddings"
   ]
  },
  {
   "cell_type": "markdown",
   "id": "0bfb2030-f007-4973-a40d-9b56696be17e",
   "metadata": {},
   "source": [
    "Import MOWL library and ELEmbedding model base classes"
   ]
  },
  {
   "cell_type": "code",
   "execution_count": 1,
   "id": "48048228-53d9-496f-ba8f-f81a0af469a8",
   "metadata": {},
   "outputs": [
    {
     "name": "stderr",
     "output_type": "stream",
     "text": [
      "/home/kulmanm/anaconda3/envs/deepgo2/lib/python3.9/site-packages/tqdm/auto.py:22: TqdmWarning: IProgress not found. Please update jupyter and ipywidgets. See https://ipywidgets.readthedocs.io/en/stable/user_install.html\n",
      "  from .autonotebook import tqdm as notebook_tqdm\n"
     ]
    }
   ],
   "source": [
    "import mowl\n",
    "mowl.init_jvm(\"10g\")\n",
    "\n",
    "from mowl.models.elembeddings.module import ELEmModule\n",
    "from mowl.base_models.elmodel import EmbeddingELModel\n"
   ]
  },
  {
   "cell_type": "markdown",
   "id": "e7b2f876-b08d-47c6-8fd9-fc1a48a94d99",
   "metadata": {},
   "source": [
    "Define the model and training strategy"
   ]
  },
  {
   "cell_type": "code",
   "execution_count": 2,
   "id": "36cc9569-a293-4333-817a-077cae347403",
   "metadata": {},
   "outputs": [],
   "source": [
    "import torch\n",
    "from torch import nn\n",
    "from tqdm import trange\n",
    "import numpy as np\n",
    "\n",
    "class ELEmbeddings(EmbeddingELModel):\n",
    "\n",
    "    def __init__(self,\n",
    "                 dataset,\n",
    "                 embed_dim=50,\n",
    "                 margin=0,\n",
    "                 reg_norm=1,\n",
    "                 learning_rate=0.001,\n",
    "                 epochs=1000,\n",
    "                 batch_size=4096 * 8,\n",
    "                 model_filepath=None,\n",
    "                 device='cpu'\n",
    "                 ):\n",
    "        super().__init__(dataset, batch_size, extended=True, model_filepath=model_filepath)\n",
    "\n",
    "        self.embed_dim = embed_dim\n",
    "        self.margin = margin\n",
    "        self.reg_norm = reg_norm\n",
    "        self.learning_rate = learning_rate\n",
    "        self.epochs = epochs\n",
    "        self.device = device\n",
    "        self._loaded = False\n",
    "        self._loaded_eval = False\n",
    "        self.extended = False\n",
    "        self.init_model()\n",
    "\n",
    "    def init_model(self):\n",
    "        self.model = ELEmModule(\n",
    "            len(self.class_index_dict),  # number of ontology classes\n",
    "            len(self.object_property_index_dict),  # number of ontology object properties\n",
    "            embed_dim=self.embed_dim,\n",
    "            margin=self.margin\n",
    "        ).to(self.device)\n",
    "\n",
    "    def train(self, checkpoint=1):\n",
    "        optimizer = torch.optim.Adam(self.model.parameters(), lr=self.learning_rate)\n",
    "        best_loss = float('inf')\n",
    "\n",
    "        for epoch in trange(self.epochs):\n",
    "            self.model.train()\n",
    "\n",
    "            train_loss = 0\n",
    "            loss = 0\n",
    "\n",
    "            # Notice how we use the ``training_datasets`` variable directly\n",
    "            # and every element of it is a pair (GCI name, GCI tensor data).\n",
    "            for gci_name, gci_dataset in self.training_datasets.items():\n",
    "                if len(gci_dataset) == 0:\n",
    "                    continue\n",
    "                loss += torch.mean(self.model(gci_dataset[:], gci_name))\n",
    "                \n",
    "            optimizer.zero_grad()\n",
    "            loss.backward()\n",
    "            optimizer.step()\n",
    "            train_loss += loss.detach().item()\n",
    "            torch.save(self.model.state_dict(), self.model_filepath)\n",
    "            if (epoch + 1) % checkpoint == 0:\n",
    "                print(f'\\nEpoch {epoch}: Train loss: {train_loss:4f}')"
   ]
  },
  {
   "cell_type": "markdown",
   "id": "76b69df0-c537-49ae-baf5-57d191bba9bb",
   "metadata": {},
   "source": [
    "Create the dataset class"
   ]
  },
  {
   "cell_type": "code",
   "execution_count": 3,
   "id": "f85efc62-cc5f-4c2d-9560-ab388c7c4bf5",
   "metadata": {},
   "outputs": [],
   "source": [
    "from mowl.datasets import PathDataset\n",
    "\n",
    "family_dataset = PathDataset('data/family.owl')"
   ]
  },
  {
   "cell_type": "markdown",
   "id": "c35a2aa7-862f-40b2-a6c5-a579aa2a1f2d",
   "metadata": {},
   "source": [
    "Train the model"
   ]
  },
  {
   "cell_type": "code",
   "execution_count": 17,
   "id": "fb3b5b25-69e0-4783-b7ee-a488e13a804d",
   "metadata": {},
   "outputs": [
    {
     "name": "stderr",
     "output_type": "stream",
     "text": [
      " 15%|█████████████▏                                                                        | 154/1000 [00:00<00:02, 392.15it/s]"
     ]
    },
    {
     "name": "stdout",
     "output_type": "stream",
     "text": [
      "\n",
      "Epoch 99: Train loss: 0.027678\n"
     ]
    },
    {
     "name": "stderr",
     "output_type": "stream",
     "text": [
      " 28%|███████████████████████▉                                                              | 278/1000 [00:00<00:01, 404.85it/s]"
     ]
    },
    {
     "name": "stdout",
     "output_type": "stream",
     "text": [
      "\n",
      "Epoch 199: Train loss: 0.007596\n"
     ]
    },
    {
     "name": "stderr",
     "output_type": "stream",
     "text": [
      " 36%|███████████████████████████████                                                       | 361/1000 [00:00<00:01, 406.96it/s]"
     ]
    },
    {
     "name": "stdout",
     "output_type": "stream",
     "text": [
      "\n",
      "Epoch 299: Train loss: 0.011696\n"
     ]
    },
    {
     "name": "stderr",
     "output_type": "stream",
     "text": [
      " 44%|██████████████████████████████████████▏                                               | 444/1000 [00:01<00:01, 407.53it/s]"
     ]
    },
    {
     "name": "stdout",
     "output_type": "stream",
     "text": [
      "\n",
      "Epoch 399: Train loss: 0.008251\n"
     ]
    },
    {
     "name": "stderr",
     "output_type": "stream",
     "text": [
      " 57%|████████████████████████████████████████████████▊                                     | 568/1000 [00:01<00:01, 406.96it/s]"
     ]
    },
    {
     "name": "stdout",
     "output_type": "stream",
     "text": [
      "\n",
      "Epoch 499: Train loss: 0.017045\n"
     ]
    },
    {
     "name": "stderr",
     "output_type": "stream",
     "text": [
      " 65%|███████████████████████████████████████████████████████▉                              | 650/1000 [00:01<00:00, 407.31it/s]"
     ]
    },
    {
     "name": "stdout",
     "output_type": "stream",
     "text": [
      "\n",
      "Epoch 599: Train loss: 0.015245\n"
     ]
    },
    {
     "name": "stderr",
     "output_type": "stream",
     "text": [
      " 77%|██████████████████████████████████████████████████████████████████▌                   | 774/1000 [00:01<00:00, 408.97it/s]"
     ]
    },
    {
     "name": "stdout",
     "output_type": "stream",
     "text": [
      "\n",
      "Epoch 699: Train loss: 0.010562\n"
     ]
    },
    {
     "name": "stderr",
     "output_type": "stream",
     "text": [
      " 86%|█████████████████████████████████████████████████████████████████████████▌            | 856/1000 [00:02<00:00, 408.32it/s]"
     ]
    },
    {
     "name": "stdout",
     "output_type": "stream",
     "text": [
      "\n",
      "Epoch 799: Train loss: 0.011237\n"
     ]
    },
    {
     "name": "stderr",
     "output_type": "stream",
     "text": [
      " 98%|████████████████████████████████████████████████████████████████████████████████████▏ | 979/1000 [00:02<00:00, 406.72it/s]"
     ]
    },
    {
     "name": "stdout",
     "output_type": "stream",
     "text": [
      "\n",
      "Epoch 899: Train loss: 0.004691\n"
     ]
    },
    {
     "name": "stderr",
     "output_type": "stream",
     "text": [
      "100%|█████████████████████████████████████████████████████████████████████████████████████| 1000/1000 [00:02<00:00, 402.81it/s]"
     ]
    },
    {
     "name": "stdout",
     "output_type": "stream",
     "text": [
      "\n",
      "Epoch 999: Train loss: 0.010743\n"
     ]
    },
    {
     "name": "stderr",
     "output_type": "stream",
     "text": [
      "\n"
     ]
    }
   ],
   "source": [
    "elembeddings = ELEmbeddings(family_dataset,\n",
    "                     embed_dim=2,\n",
    "                     margin=0.1,\n",
    "                     reg_norm=1,\n",
    "                     learning_rate=0.01,\n",
    "                     epochs=1000,\n",
    "                     batch_size=2,\n",
    "                     model_filepath=None,\n",
    "                     device='cpu')\n",
    "\n",
    "elembeddings.train(checkpoint=100)"
   ]
  },
  {
   "cell_type": "markdown",
   "id": "4cfe4d5c-76b4-404b-83a3-649e6c5defd0",
   "metadata": {},
   "source": [
    "Extract embeddings"
   ]
  },
  {
   "cell_type": "code",
   "execution_count": 18,
   "id": "d0f803cb-5a69-435d-a7a4-cd2783d6dc3e",
   "metadata": {},
   "outputs": [
    {
     "data": {
      "text/plain": [
       "(array([[0.07460205],\n",
       "        [0.31565478],\n",
       "        [0.5132675 ],\n",
       "        [0.33170095],\n",
       "        [1.0727464 ],\n",
       "        [1.5564307 ],\n",
       "        [1.        ],\n",
       "        [1.        ]], dtype=float32),\n",
       " array([[ 0.547447  ,  0.8335899 ],\n",
       "        [ 0.93861824,  0.3471531 ],\n",
       "        [ 0.13891678,  0.9894528 ],\n",
       "        [ 0.9208374 ,  0.389781  ],\n",
       "        [ 0.9730775 , -0.22969688],\n",
       "        [ 0.9494873 ,  0.3084904 ],\n",
       "        [ 0.9998626 , -0.01657875],\n",
       "        [-0.6967883 ,  0.71727675]], dtype=float32))"
      ]
     },
     "execution_count": 18,
     "metadata": {},
     "output_type": "execute_result"
    }
   ],
   "source": [
    "embeds = elembeddings.model.class_embed.weight.cpu().detach().numpy()\n",
    "rs = np.abs(elembeddings.model.class_rad.weight.cpu().detach().numpy())\n",
    "classes = list(elembeddings.class_index_dict.keys())\n",
    "rs, embeds"
   ]
  },
  {
   "cell_type": "markdown",
   "id": "8311f27e-0620-47d7-b176-a4b9d228447b",
   "metadata": {},
   "source": [
    "Plot embeddings"
   ]
  },
  {
   "cell_type": "code",
   "execution_count": 19,
   "id": "027e5f57-b800-4272-8d16-9f44fa494d64",
   "metadata": {},
   "outputs": [
    {
     "data": {
      "text/plain": [
       "<module 'matplotlib.pyplot' from '/home/kulmanm/anaconda3/envs/deepgo2/lib/python3.9/site-packages/matplotlib/pyplot.py'>"
      ]
     },
     "execution_count": 19,
     "metadata": {},
     "output_type": "execute_result"
    },
    {
     "data": {
      "image/png": "[encoded data removed]",
      "text/plain": [
       "<Figure size 640x480 with 1 Axes>"
      ]
     },
     "metadata": {},
     "output_type": "display_data"
    }
   ],
   "source": [
    "import matplotlib.pyplot as plt\n",
    "\n",
    "classes = [item.split('/')[-1] for item in classes]\n",
    "colors = ['b', 'g', 'r', 'c', 'm', 'y', 'k']\n",
    "fig, ax =  plt.subplots()\n",
    "plt.axis('equal')\n",
    "ax.set_xlim(-5, 4)\n",
    "ax.set_ylim(-3, 4)\n",
    "for i in range(embeds.shape[0]):\n",
    "    if classes[i].endswith('hing'):\n",
    "        continue\n",
    "    x, y = embeds[i, 0], embeds[i, 1]\n",
    "    r = rs[i]\n",
    "    ax.add_artist(plt.Circle(\n",
    "        (x, y), r, fill=False, edgecolor=colors[i % len(colors)], label=classes[i]))\n",
    "    ax.annotate(classes[i], xy=(x, y + r + 0.03), fontsize=10, ha=\"center\", color=colors[i % len(colors)])\n",
    "ax.grid(True)\n",
    "plt\n"
   ]
  },
  {
   "cell_type": "code",
   "execution_count": null,
   "id": "277e3054-e181-4b8f-84fd-79e52c5623fd",
   "metadata": {},
   "outputs": [],
   "source": []
  }
 ],
 "metadata": {
  "kernelspec": {
   "display_name": "Python 3 (ipykernel)",
   "language": "python",
   "name": "python3"
  },
  "language_info": {
   "codemirror_mode": {
    "name": "ipython",
    "version": 3
   },
   "file_extension": ".py",
   "mimetype": "text/x-python",
   "name": "python",
   "nbconvert_exporter": "python",
   "pygments_lexer": "ipython3",
   "version": "3.9.7"
  }
 },
 "nbformat": 4,
 "nbformat_minor": 5
}
