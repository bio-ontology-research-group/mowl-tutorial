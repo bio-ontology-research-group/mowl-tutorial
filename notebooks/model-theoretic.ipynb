{
  "cells": [
    {
      "cell_type": "markdown",
      "id": "342cbd65-5035-4d51-9450-ae62bbf5895b",
      "metadata": {
        "id": "342cbd65-5035-4d51-9450-ae62bbf5895b"
      },
      "source": [
        "# Model-theoretic ontology embedding methods"
      ]
    },
    {
      "cell_type": "markdown",
      "id": "ba40a869-6133-4f21-9476-61d491a4c02d",
      "metadata": {
        "id": "ba40a869-6133-4f21-9476-61d491a4c02d"
      },
      "source": [
        "## EL-Embeddings"
      ]
    },
    {
      "cell_type": "code",
      "source": [
        "from google.colab import drive\n",
        "drive.mount('/content/drive')"
      ],
      "metadata": {
        "id": "IVLfD_DmdQNz",
        "outputId": "b8d3e91a-a9bc-4bef-c4cb-7a42a7e90ed1",
        "colab": {
          "base_uri": "https://localhost:8080/"
        }
      },
      "id": "IVLfD_DmdQNz",
      "execution_count": 1,
      "outputs": [
        {
          "output_type": "stream",
          "name": "stdout",
          "text": [
            "Mounted at /content/drive\n"
          ]
        }
      ]
    },
    {
      "cell_type": "code",
      "source": [
        "! pip install mowl-borg"
      ],
      "metadata": {
        "id": "Z5aMUc5TeMe9",
        "outputId": "65a7f54e-a5d0-45d1-e9aa-8310d29ee5b1",
        "colab": {
          "base_uri": "https://localhost:8080/"
        }
      },
      "id": "Z5aMUc5TeMe9",
      "execution_count": 2,
      "outputs": [
        {
          "output_type": "stream",
          "name": "stdout",
          "text": [
            "Looking in indexes: https://pypi.org/simple, https://us-python.pkg.dev/colab-wheels/public/simple/\n",
            "Collecting mowl-borg\n",
            "  Downloading mowl_borg-0.1.1-py3-none-any.whl (61.9 MB)\n",
            "\u001b[2K     \u001b[90m━━━━━━━━━━━━━━━━━━━━━━━━━━━━━━━━━━━━━━━━\u001b[0m \u001b[32m61.9/61.9 MB\u001b[0m \u001b[31m19.3 MB/s\u001b[0m eta \u001b[36m0:00:00\u001b[0m\n",
            "\u001b[?25hCollecting pykeen==1.9.0\n",
            "  Downloading pykeen-1.9.0-py3-none-any.whl (717 kB)\n",
            "\u001b[2K     \u001b[90m━━━━━━━━━━━━━━━━━━━━━━━━━━━━━━━━━━━━━━\u001b[0m \u001b[32m717.7/717.7 KB\u001b[0m \u001b[31m50.6 MB/s\u001b[0m eta \u001b[36m0:00:00\u001b[0m\n",
            "\u001b[?25hRequirement already satisfied: networkx in /usr/local/lib/python3.8/dist-packages (from mowl-borg) (3.0)\n",
            "Requirement already satisfied: scikit-learn in /usr/local/lib/python3.8/dist-packages (from mowl-borg) (1.0.2)\n",
            "Requirement already satisfied: matplotlib in /usr/local/lib/python3.8/dist-packages (from mowl-borg) (3.2.2)\n",
            "Requirement already satisfied: scipy in /usr/local/lib/python3.8/dist-packages (from mowl-borg) (1.7.3)\n",
            "Requirement already satisfied: numpy in /usr/local/lib/python3.8/dist-packages (from mowl-borg) (1.21.6)\n",
            "Collecting temp\n",
            "  Downloading temp-2020.7.2.tar.gz (1.4 kB)\n",
            "  Preparing metadata (setup.py) ... \u001b[?25l\u001b[?25hdone\n",
            "Requirement already satisfied: click in /usr/local/lib/python3.8/dist-packages (from mowl-borg) (7.1.2)\n",
            "Requirement already satisfied: gensim in /usr/local/lib/python3.8/dist-packages (from mowl-borg) (3.6.0)\n",
            "Requirement already satisfied: pyyaml in /usr/local/lib/python3.8/dist-packages (from mowl-borg) (6.0)\n",
            "Requirement already satisfied: tqdm in /usr/local/lib/python3.8/dist-packages (from mowl-borg) (4.64.1)\n",
            "Requirement already satisfied: torch in /usr/local/lib/python3.8/dist-packages (from mowl-borg) (1.13.1+cu116)\n",
            "Requirement already satisfied: urllib3 in /usr/local/lib/python3.8/dist-packages (from mowl-borg) (1.24.3)\n",
            "Collecting JPype1==1.3.0\n",
            "  Downloading JPype1-1.3.0-cp38-cp38-manylinux_2_5_x86_64.manylinux1_x86_64.whl (449 kB)\n",
            "\u001b[2K     \u001b[90m━━━━━━━━━━━━━━━━━━━━━━━━━━━━━━━━━━━━━━\u001b[0m \u001b[32m449.2/449.2 KB\u001b[0m \u001b[31m37.2 MB/s\u001b[0m eta \u001b[36m0:00:00\u001b[0m\n",
            "\u001b[?25hRequirement already satisfied: requests in /usr/local/lib/python3.8/dist-packages (from mowl-borg) (2.25.1)\n",
            "Requirement already satisfied: pandas in /usr/local/lib/python3.8/dist-packages (from mowl-borg) (1.3.5)\n",
            "Collecting deprecated\n",
            "  Downloading Deprecated-1.2.13-py2.py3-none-any.whl (9.6 kB)\n",
            "Requirement already satisfied: tabulate in /usr/local/lib/python3.8/dist-packages (from pykeen==1.9.0->mowl-borg) (0.8.10)\n",
            "Collecting torch-max-mem\n",
            "  Downloading torch_max_mem-0.0.4-py3-none-any.whl (8.5 kB)\n",
            "Collecting optuna>=2.0.0\n",
            "  Downloading optuna-3.1.0-py3-none-any.whl (365 kB)\n",
            "\u001b[2K     \u001b[90m━━━━━━━━━━━━━━━━━━━━━━━━━━━━━━━━━━━━━━\u001b[0m \u001b[32m365.3/365.3 KB\u001b[0m \u001b[31m26.2 MB/s\u001b[0m eta \u001b[36m0:00:00\u001b[0m\n",
            "\u001b[?25hCollecting more-click\n",
            "  Downloading more_click-0.1.2-py3-none-any.whl (6.7 kB)\n",
            "Requirement already satisfied: more-itertools in /usr/local/lib/python3.8/dist-packages (from pykeen==1.9.0->mowl-borg) (9.0.0)\n",
            "Requirement already satisfied: protobuf<4.0.0 in /usr/local/lib/python3.8/dist-packages (from pykeen==1.9.0->mowl-borg) (3.19.6)\n",
            "Collecting pystow>=0.4.3\n",
            "  Downloading pystow-0.4.9-py3-none-any.whl (36 kB)\n",
            "Collecting class-resolver>=0.3.10\n",
            "  Downloading class_resolver-0.3.10-py3-none-any.whl (21 kB)\n",
            "Collecting click-default-group\n",
            "  Downloading click-default-group-1.2.2.tar.gz (3.3 kB)\n",
            "  Preparing metadata (setup.py) ... \u001b[?25l\u001b[?25hdone\n",
            "Collecting torch-ppr>=0.0.7\n",
            "  Downloading torch_ppr-0.0.8-py3-none-any.whl (12 kB)\n",
            "Collecting sklearn\n",
            "  Downloading sklearn-0.0.post1.tar.gz (3.6 kB)\n",
            "  Preparing metadata (setup.py) ... \u001b[?25l\u001b[?25hdone\n",
            "Collecting dataclasses-json\n",
            "  Downloading dataclasses_json-0.5.7-py3-none-any.whl (25 kB)\n",
            "Collecting docdata\n",
            "  Downloading docdata-0.0.3-py3-none-any.whl (5.8 kB)\n",
            "Collecting rexmex\n",
            "  Downloading rexmex-0.1.3.tar.gz (21 kB)\n",
            "  Installing build dependencies ... \u001b[?25l\u001b[?25hdone\n",
            "  Getting requirements to build wheel ... \u001b[?25l\u001b[?25hdone\n",
            "  Installing backend dependencies ... \u001b[?25l\u001b[?25hdone\n",
            "  Preparing metadata (pyproject.toml) ... \u001b[?25l\u001b[?25hdone\n",
            "Requirement already satisfied: pytz>=2017.3 in /usr/local/lib/python3.8/dist-packages (from pandas->mowl-borg) (2022.7)\n",
            "Requirement already satisfied: python-dateutil>=2.7.3 in /usr/local/lib/python3.8/dist-packages (from pandas->mowl-borg) (2.8.2)\n",
            "Requirement already satisfied: typing-extensions in /usr/local/lib/python3.8/dist-packages (from torch->mowl-borg) (4.4.0)\n",
            "Requirement already satisfied: wrapt<2,>=1.10 in /usr/local/lib/python3.8/dist-packages (from deprecated->mowl-borg) (1.14.1)\n",
            "Requirement already satisfied: smart-open>=1.2.1 in /usr/local/lib/python3.8/dist-packages (from gensim->mowl-borg) (6.3.0)\n",
            "Requirement already satisfied: six>=1.5.0 in /usr/local/lib/python3.8/dist-packages (from gensim->mowl-borg) (1.15.0)\n",
            "Requirement already satisfied: kiwisolver>=1.0.1 in /usr/local/lib/python3.8/dist-packages (from matplotlib->mowl-borg) (1.4.4)\n",
            "Requirement already satisfied: cycler>=0.10 in /usr/local/lib/python3.8/dist-packages (from matplotlib->mowl-borg) (0.11.0)\n",
            "Requirement already satisfied: pyparsing!=2.0.4,!=2.1.2,!=2.1.6,>=2.0.1 in /usr/local/lib/python3.8/dist-packages (from matplotlib->mowl-borg) (3.0.9)\n",
            "Requirement already satisfied: idna<3,>=2.5 in /usr/local/lib/python3.8/dist-packages (from requests->mowl-borg) (2.10)\n",
            "Requirement already satisfied: chardet<5,>=3.0.2 in /usr/local/lib/python3.8/dist-packages (from requests->mowl-borg) (4.0.0)\n",
            "Requirement already satisfied: certifi>=2017.4.17 in /usr/local/lib/python3.8/dist-packages (from requests->mowl-borg) (2022.12.7)\n",
            "Requirement already satisfied: threadpoolctl>=2.0.0 in /usr/local/lib/python3.8/dist-packages (from scikit-learn->mowl-borg) (3.1.0)\n",
            "Requirement already satisfied: joblib>=0.11 in /usr/local/lib/python3.8/dist-packages (from scikit-learn->mowl-borg) (1.2.0)\n",
            "Collecting cmaes>=0.9.1\n",
            "  Downloading cmaes-0.9.1-py3-none-any.whl (21 kB)\n",
            "Collecting colorlog\n",
            "  Downloading colorlog-6.7.0-py2.py3-none-any.whl (11 kB)\n",
            "Collecting alembic>=1.5.0\n",
            "  Downloading alembic-1.9.2-py3-none-any.whl (210 kB)\n",
            "\u001b[2K     \u001b[90m━━━━━━━━━━━━━━━━━━━━━━━━━━━━━━━━━━━━━━\u001b[0m \u001b[32m210.6/210.6 KB\u001b[0m \u001b[31m21.6 MB/s\u001b[0m eta \u001b[36m0:00:00\u001b[0m\n",
            "\u001b[?25hRequirement already satisfied: packaging>=20.0 in /usr/local/lib/python3.8/dist-packages (from optuna>=2.0.0->pykeen==1.9.0->mowl-borg) (21.3)\n",
            "Requirement already satisfied: sqlalchemy>=1.3.0 in /usr/local/lib/python3.8/dist-packages (from optuna>=2.0.0->pykeen==1.9.0->mowl-borg) (1.4.46)\n",
            "Collecting marshmallow-enum<2.0.0,>=1.5.1\n",
            "  Downloading marshmallow_enum-1.5.1-py2.py3-none-any.whl (4.2 kB)\n",
            "Collecting typing-inspect>=0.4.0\n",
            "  Downloading typing_inspect-0.8.0-py3-none-any.whl (8.7 kB)\n",
            "Requirement already satisfied: marshmallow<4.0.0,>=3.3.0 in /usr/local/lib/python3.8/dist-packages (from dataclasses-json->pykeen==1.9.0->mowl-borg) (3.19.0)\n",
            "Requirement already satisfied: importlib-metadata in /usr/local/lib/python3.8/dist-packages (from alembic>=1.5.0->optuna>=2.0.0->pykeen==1.9.0->mowl-borg) (6.0.0)\n",
            "Collecting Mako\n",
            "  Downloading Mako-1.2.4-py3-none-any.whl (78 kB)\n",
            "\u001b[2K     \u001b[90m━━━━━━━━━━━━━━━━━━━━━━━━━━━━━━━━━━━━━━━━\u001b[0m \u001b[32m78.7/78.7 KB\u001b[0m \u001b[31m8.6 MB/s\u001b[0m eta \u001b[36m0:00:00\u001b[0m\n",
            "\u001b[?25hRequirement already satisfied: importlib-resources in /usr/local/lib/python3.8/dist-packages (from alembic>=1.5.0->optuna>=2.0.0->pykeen==1.9.0->mowl-borg) (5.10.2)\n",
            "Requirement already satisfied: greenlet!=0.4.17 in /usr/local/lib/python3.8/dist-packages (from sqlalchemy>=1.3.0->optuna>=2.0.0->pykeen==1.9.0->mowl-borg) (2.0.1)\n",
            "Collecting mypy-extensions>=0.3.0\n",
            "  Downloading mypy_extensions-0.4.3-py2.py3-none-any.whl (4.5 kB)\n",
            "Requirement already satisfied: zipp>=0.5 in /usr/local/lib/python3.8/dist-packages (from importlib-metadata->alembic>=1.5.0->optuna>=2.0.0->pykeen==1.9.0->mowl-borg) (3.11.0)\n",
            "Requirement already satisfied: MarkupSafe>=0.9.2 in /usr/local/lib/python3.8/dist-packages (from Mako->alembic>=1.5.0->optuna>=2.0.0->pykeen==1.9.0->mowl-borg) (2.0.1)\n",
            "Building wheels for collected packages: temp, click-default-group, rexmex, sklearn\n",
            "  Building wheel for temp (setup.py) ... \u001b[?25l\u001b[?25hdone\n",
            "  Created wheel for temp: filename=temp-2020.7.2-py3-none-any.whl size=1277 sha256=461df36c040e3655119920ec204dcd23aabceab8eb6f3b9baa9d078c4099b60e\n",
            "  Stored in directory: /root/.cache/pip/wheels/a4/21/b9/b8c88d91e9c320c6bebc35a3536ed33774a6a2cea0b2137016\n",
            "  Building wheel for click-default-group (setup.py) ... \u001b[?25l\u001b[?25hdone\n",
            "  Created wheel for click-default-group: filename=click_default_group-1.2.2-py3-none-any.whl size=3385 sha256=2c8f9ba46eb90ae82de068b511b0097d6be108a47631adb9dc820710dd6d45e6\n",
            "  Stored in directory: /root/.cache/pip/wheels/7e/9f/ec/d087477ddc7c2807136ca08eb01b5f00e66da90eb4dbf323ab\n",
            "  Building wheel for rexmex (pyproject.toml) ... \u001b[?25l\u001b[?25hdone\n",
            "  Created wheel for rexmex: filename=rexmex-0.1.3-py3-none-any.whl size=19970 sha256=5d28de0c9c8a227783ece626dc3d1d591a7e5e2a2eb71172cc26bcd0d1d51ce5\n",
            "  Stored in directory: /root/.cache/pip/wheels/9f/da/52/89891d849a727b59e9cdb08dc24634399b6fe76e6da4e09501\n",
            "  Building wheel for sklearn (setup.py) ... \u001b[?25l\u001b[?25hdone\n",
            "  Created wheel for sklearn: filename=sklearn-0.0.post1-py3-none-any.whl size=2344 sha256=4999f6d1266529dff586209150e3dff4e4c44e8a06503721cceceaf943e36f01\n",
            "  Stored in directory: /root/.cache/pip/wheels/14/25/f7/1cc0956978ae479e75140219088deb7a36f60459df242b1a72\n",
            "Successfully built temp click-default-group rexmex sklearn\n",
            "Installing collected packages: temp, sklearn, mypy-extensions, JPype1, typing-inspect, more-click, Mako, docdata, deprecated, colorlog, cmaes, click-default-group, class-resolver, torch-max-mem, pystow, alembic, torch-ppr, rexmex, optuna, marshmallow-enum, dataclasses-json, pykeen, mowl-borg\n",
            "Successfully installed JPype1-1.3.0 Mako-1.2.4 alembic-1.9.2 class-resolver-0.3.10 click-default-group-1.2.2 cmaes-0.9.1 colorlog-6.7.0 dataclasses-json-0.5.7 deprecated-1.2.13 docdata-0.0.3 marshmallow-enum-1.5.1 more-click-0.1.2 mowl-borg-0.1.1 mypy-extensions-0.4.3 optuna-3.1.0 pykeen-1.9.0 pystow-0.4.9 rexmex-0.1.3 sklearn-0.0.post1 temp-2020.7.2 torch-max-mem-0.0.4 torch-ppr-0.0.8 typing-inspect-0.8.0\n"
          ]
        }
      ]
    },
    {
      "cell_type": "markdown",
      "id": "0bfb2030-f007-4973-a40d-9b56696be17e",
      "metadata": {
        "id": "0bfb2030-f007-4973-a40d-9b56696be17e"
      },
      "source": [
        "Import MOWL library and ELEmbedding model base classes"
      ]
    },
    {
      "cell_type": "code",
      "execution_count": 3,
      "id": "48048228-53d9-496f-ba8f-f81a0af469a8",
      "metadata": {
        "id": "48048228-53d9-496f-ba8f-f81a0af469a8"
      },
      "outputs": [],
      "source": [
        "import mowl\n",
        "mowl.init_jvm(\"10g\")\n",
        "\n",
        "from mowl.models.elembeddings.module import ELEmModule\n",
        "from mowl.base_models.elmodel import EmbeddingELModel\n"
      ]
    },
    {
      "cell_type": "markdown",
      "id": "e7b2f876-b08d-47c6-8fd9-fc1a48a94d99",
      "metadata": {
        "id": "e7b2f876-b08d-47c6-8fd9-fc1a48a94d99"
      },
      "source": [
        "Define the model and training strategy"
      ]
    },
    {
      "cell_type": "code",
      "execution_count": 4,
      "id": "36cc9569-a293-4333-817a-077cae347403",
      "metadata": {
        "id": "36cc9569-a293-4333-817a-077cae347403"
      },
      "outputs": [],
      "source": [
        "import torch\n",
        "from torch import nn\n",
        "from tqdm import trange\n",
        "import numpy as np\n",
        "\n",
        "class ELEmbeddings(EmbeddingELModel):\n",
        "\n",
        "    def __init__(self,\n",
        "                 dataset,\n",
        "                 embed_dim=50,\n",
        "                 margin=0,\n",
        "                 reg_norm=1,\n",
        "                 learning_rate=0.001,\n",
        "                 epochs=1000,\n",
        "                 batch_size=4096 * 8,\n",
        "                 model_filepath=None,\n",
        "                 device='cpu'\n",
        "                 ):\n",
        "        super().__init__(dataset, batch_size, extended=True, model_filepath=model_filepath)\n",
        "\n",
        "        self.embed_dim = embed_dim\n",
        "        self.margin = margin\n",
        "        self.reg_norm = reg_norm\n",
        "        self.learning_rate = learning_rate\n",
        "        self.epochs = epochs\n",
        "        self.device = device\n",
        "        self._loaded = False\n",
        "        self._loaded_eval = False\n",
        "        self.extended = False\n",
        "        self.init_model()\n",
        "\n",
        "    def init_model(self):\n",
        "        self.model = ELEmModule(\n",
        "            len(self.class_index_dict),  # number of ontology classes\n",
        "            len(self.object_property_index_dict),  # number of ontology object properties\n",
        "            embed_dim=self.embed_dim,\n",
        "            margin=self.margin\n",
        "        ).to(self.device)\n",
        "\n",
        "    def train(self, checkpoint=1):\n",
        "        optimizer = torch.optim.Adam(self.model.parameters(), lr=self.learning_rate)\n",
        "        best_loss = float('inf')\n",
        "\n",
        "        for epoch in trange(self.epochs):\n",
        "            self.model.train()\n",
        "\n",
        "            train_loss = 0\n",
        "            loss = 0\n",
        "\n",
        "            # Notice how we use the ``training_datasets`` variable directly\n",
        "            # and every element of it is a pair (GCI name, GCI tensor data).\n",
        "            for gci_name, gci_dataset in self.training_datasets.items():\n",
        "                if len(gci_dataset) == 0:\n",
        "                    continue\n",
        "                loss += torch.mean(self.model(gci_dataset[:], gci_name))\n",
        "                \n",
        "            optimizer.zero_grad()\n",
        "            loss.backward()\n",
        "            optimizer.step()\n",
        "            train_loss += loss.detach().item()\n",
        "            torch.save(self.model.state_dict(), self.model_filepath)\n",
        "            if (epoch + 1) % checkpoint == 0:\n",
        "                print(f'\\nEpoch {epoch}: Train loss: {train_loss:4f}')"
      ]
    },
    {
      "cell_type": "markdown",
      "id": "76b69df0-c537-49ae-baf5-57d191bba9bb",
      "metadata": {
        "id": "76b69df0-c537-49ae-baf5-57d191bba9bb"
      },
      "source": [
        "Create the dataset class"
      ]
    },
    {
      "cell_type": "code",
      "execution_count": 5,
      "id": "f85efc62-cc5f-4c2d-9560-ab388c7c4bf5",
      "metadata": {
        "id": "f85efc62-cc5f-4c2d-9560-ab388c7c4bf5"
      },
      "outputs": [],
      "source": [
        "from mowl.datasets import PathDataset\n",
        "\n",
        "family_dataset = PathDataset('/content/drive/MyDrive/mowl-data/family.owl')"
      ]
    },
    {
      "cell_type": "markdown",
      "id": "c35a2aa7-862f-40b2-a6c5-a579aa2a1f2d",
      "metadata": {
        "id": "c35a2aa7-862f-40b2-a6c5-a579aa2a1f2d"
      },
      "source": [
        "Train the model"
      ]
    },
    {
      "cell_type": "code",
      "execution_count": 6,
      "id": "fb3b5b25-69e0-4783-b7ee-a488e13a804d",
      "metadata": {
        "id": "fb3b5b25-69e0-4783-b7ee-a488e13a804d",
        "outputId": "1f455631-50c7-4fca-ce0c-4bfab93a2f44",
        "colab": {
          "base_uri": "https://localhost:8080/"
        }
      },
      "outputs": [
        {
          "output_type": "stream",
          "name": "stderr",
          "text": [
            " 14%|█▍        | 143/1000 [00:00<00:03, 257.64it/s]"
          ]
        },
        {
          "output_type": "stream",
          "name": "stdout",
          "text": [
            "\n",
            "Epoch 99: Train loss: 0.349774\n"
          ]
        },
        {
          "output_type": "stream",
          "name": "stderr",
          "text": [
            " 26%|██▌       | 258/1000 [00:01<00:02, 334.97it/s]"
          ]
        },
        {
          "output_type": "stream",
          "name": "stdout",
          "text": [
            "\n",
            "Epoch 199: Train loss: 0.177088\n"
          ]
        },
        {
          "output_type": "stream",
          "name": "stderr",
          "text": [
            " 37%|███▋      | 367/1000 [00:01<00:01, 340.52it/s]"
          ]
        },
        {
          "output_type": "stream",
          "name": "stdout",
          "text": [
            "\n",
            "Epoch 299: Train loss: 0.010717\n"
          ]
        },
        {
          "output_type": "stream",
          "name": "stderr",
          "text": [
            " 44%|████▍     | 440/1000 [00:01<00:01, 315.37it/s]"
          ]
        },
        {
          "output_type": "stream",
          "name": "stdout",
          "text": [
            "\n",
            "Epoch 399: Train loss: 0.016559\n"
          ]
        },
        {
          "output_type": "stream",
          "name": "stderr",
          "text": [
            " 55%|█████▍    | 549/1000 [00:01<00:01, 342.07it/s]"
          ]
        },
        {
          "output_type": "stream",
          "name": "stdout",
          "text": [
            "\n",
            "Epoch 499: Train loss: 0.016923\n"
          ]
        },
        {
          "output_type": "stream",
          "name": "stderr",
          "text": [
            " 66%|██████▌   | 655/1000 [00:02<00:01, 334.31it/s]"
          ]
        },
        {
          "output_type": "stream",
          "name": "stdout",
          "text": [
            "\n",
            "Epoch 599: Train loss: 0.013685\n"
          ]
        },
        {
          "output_type": "stream",
          "name": "stderr",
          "text": [
            " 76%|███████▌  | 758/1000 [00:02<00:00, 339.88it/s]"
          ]
        },
        {
          "output_type": "stream",
          "name": "stdout",
          "text": [
            "\n",
            "Epoch 699: Train loss: 0.008646\n"
          ]
        },
        {
          "output_type": "stream",
          "name": "stderr",
          "text": [
            " 87%|████████▋ | 870/1000 [00:02<00:00, 355.27it/s]"
          ]
        },
        {
          "output_type": "stream",
          "name": "stdout",
          "text": [
            "\n",
            "Epoch 799: Train loss: 0.006440\n"
          ]
        },
        {
          "output_type": "stream",
          "name": "stderr",
          "text": [
            " 95%|█████████▍| 946/1000 [00:03<00:00, 368.00it/s]"
          ]
        },
        {
          "output_type": "stream",
          "name": "stdout",
          "text": [
            "\n",
            "Epoch 899: Train loss: 0.006707\n"
          ]
        },
        {
          "output_type": "stream",
          "name": "stderr",
          "text": [
            "100%|██████████| 1000/1000 [00:03<00:00, 304.69it/s]"
          ]
        },
        {
          "output_type": "stream",
          "name": "stdout",
          "text": [
            "\n",
            "Epoch 999: Train loss: 0.008063\n"
          ]
        },
        {
          "output_type": "stream",
          "name": "stderr",
          "text": [
            "\n"
          ]
        }
      ],
      "source": [
        "elembeddings = ELEmbeddings(family_dataset,\n",
        "                     embed_dim=2,\n",
        "                     margin=0.1,\n",
        "                     reg_norm=1,\n",
        "                     learning_rate=0.01,\n",
        "                     epochs=1000,\n",
        "                     batch_size=2,\n",
        "                     model_filepath=None,\n",
        "                     device='cpu')\n",
        "\n",
        "elembeddings.train(checkpoint=100)"
      ]
    },
    {
      "cell_type": "markdown",
      "id": "4cfe4d5c-76b4-404b-83a3-649e6c5defd0",
      "metadata": {
        "id": "4cfe4d5c-76b4-404b-83a3-649e6c5defd0"
      },
      "source": [
        "Extract embeddings"
      ]
    },
    {
      "cell_type": "code",
      "execution_count": 7,
      "id": "d0f803cb-5a69-435d-a7a4-cd2783d6dc3e",
      "metadata": {
        "id": "d0f803cb-5a69-435d-a7a4-cd2783d6dc3e",
        "outputId": "25166689-4c8a-439d-e5be-0ef4c5afb90a",
        "colab": {
          "base_uri": "https://localhost:8080/"
        }
      },
      "outputs": [
        {
          "output_type": "execute_result",
          "data": {
            "text/plain": [
              "(array([[0.5003179 ],\n",
              "        [0.5375926 ],\n",
              "        [1.433243  ],\n",
              "        [0.00469044],\n",
              "        [1.0056639 ],\n",
              "        [2.2052557 ],\n",
              "        [1.        ],\n",
              "        [1.        ]], dtype=float32), array([[ 0.9522355 ,  0.3084661 ],\n",
              "        [-0.05013631,  0.9987689 ],\n",
              "        [ 0.911154  , -0.4158036 ],\n",
              "        [ 0.5356066 ,  0.8411698 ],\n",
              "        [ 0.990901  , -0.14090063],\n",
              "        [ 0.9444486 , -0.32528058],\n",
              "        [-0.5667977 , -0.82385707],\n",
              "        [ 0.6670802 , -0.7449859 ]], dtype=float32))"
            ]
          },
          "metadata": {},
          "execution_count": 7
        }
      ],
      "source": [
        "embeds = elembeddings.model.class_embed.weight.cpu().detach().numpy()\n",
        "rs = np.abs(elembeddings.model.class_rad.weight.cpu().detach().numpy())\n",
        "classes = list(elembeddings.class_index_dict.keys())\n",
        "rs, embeds"
      ]
    },
    {
      "cell_type": "markdown",
      "id": "8311f27e-0620-47d7-b176-a4b9d228447b",
      "metadata": {
        "id": "8311f27e-0620-47d7-b176-a4b9d228447b"
      },
      "source": [
        "Plot embeddings"
      ]
    },
    {
      "cell_type": "code",
      "execution_count": 8,
      "id": "027e5f57-b800-4272-8d16-9f44fa494d64",
      "metadata": {
        "id": "027e5f57-b800-4272-8d16-9f44fa494d64",
        "outputId": "8c7dbdab-758a-46ed-adf4-2fee5d122ae1",
        "colab": {
          "base_uri": "https://localhost:8080/",
          "height": 282
        }
      },
      "outputs": [
        {
          "output_type": "execute_result",
          "data": {
            "text/plain": [
              "<module 'matplotlib.pyplot' from '/usr/local/lib/python3.8/dist-packages/matplotlib/pyplot.py'>"
            ]
          },
          "metadata": {},
          "execution_count": 8
        },
        {
          "output_type": "display_data",
          "data": {
            "text/plain": [
              "<Figure size 432x288 with 1 Axes>"
            ],
            "image/png": "[encoded data removed]"
          },
          "metadata": {
            "needs_background": "light"
          }
        }
      ],
      "source": [
        "import matplotlib.pyplot as plt\n",
        "\n",
        "classes = [item.split('/')[-1] for item in classes]\n",
        "colors = ['b', 'g', 'r', 'c', 'm', 'y', 'k']\n",
        "fig, ax =  plt.subplots()\n",
        "plt.axis('equal')\n",
        "ax.set_xlim(-5, 4)\n",
        "ax.set_ylim(-3, 4)\n",
        "for i in range(embeds.shape[0]):\n",
        "    if classes[i].endswith('hing'):\n",
        "        continue\n",
        "    x, y = embeds[i, 0], embeds[i, 1]\n",
        "    r = rs[i]\n",
        "    ax.add_artist(plt.Circle(\n",
        "        (x, y), r, fill=False, edgecolor=colors[i % len(colors)], label=classes[i]))\n",
        "    ax.annotate(classes[i], xy=(x, y + r + 0.03), fontsize=10, ha=\"center\", color=colors[i % len(colors)])\n",
        "ax.grid(True)\n",
        "plt\n"
      ]
    },
    {
      "cell_type": "code",
      "execution_count": null,
      "id": "277e3054-e181-4b8f-84fd-79e52c5623fd",
      "metadata": {
        "id": "277e3054-e181-4b8f-84fd-79e52c5623fd"
      },
      "outputs": [],
      "source": []
    }
  ],
  "metadata": {
    "kernelspec": {
      "display_name": "Python 3 (ipykernel)",
      "language": "python",
      "name": "python3"
    },
    "language_info": {
      "codemirror_mode": {
        "name": "ipython",
        "version": 3
      },
      "file_extension": ".py",
      "mimetype": "text/x-python",
      "name": "python",
      "nbconvert_exporter": "python",
      "pygments_lexer": "ipython3",
      "version": "3.9.7"
    },
    "colab": {
      "provenance": []
    }
  },
  "nbformat": 4,
  "nbformat_minor": 5
}