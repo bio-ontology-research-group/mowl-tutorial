{
 "cells": [
  {
   "cell_type": "markdown",
   "id": "342cbd65-5035-4d51-9450-ae62bbf5895b",
   "metadata": {},
   "source": [
    "# Model-theoretic ontology embedding methods"
   ]
  },
  {
   "cell_type": "markdown",
   "id": "ba40a869-6133-4f21-9476-61d491a4c02d",
   "metadata": {},
   "source": [
    "## EL-Embeddings"
   ]
  },
  {
   "cell_type": "markdown",
   "id": "0bfb2030-f007-4973-a40d-9b56696be17e",
   "metadata": {},
   "source": [
    "Import MOWL library and ELEmbedding model base classes"
   ]
  },
  {
   "cell_type": "code",
   "execution_count": 1,
   "id": "48048228-53d9-496f-ba8f-f81a0af469a8",
   "metadata": {},
   "outputs": [
    {
     "name": "stderr",
     "output_type": "stream",
     "text": [
      "/home/kulmanm/anaconda3/envs/deepgo2/lib/python3.9/site-packages/tqdm/auto.py:22: TqdmWarning: IProgress not found. Please update jupyter and ipywidgets. See https://ipywidgets.readthedocs.io/en/stable/user_install.html\n",
      "  from .autonotebook import tqdm as notebook_tqdm\n"
     ]
    }
   ],
   "source": [
    "import mowl\n",
    "mowl.init_jvm(\"10g\")\n",
    "\n",
    "from mowl.models.elembeddings.module import ELEmModule\n",
    "from mowl.base_models.elmodel import EmbeddingELModel\n"
   ]
  },
  {
   "cell_type": "markdown",
   "id": "e7b2f876-b08d-47c6-8fd9-fc1a48a94d99",
   "metadata": {},
   "source": [
    "Define the model and training strategy"
   ]
  },
  {
   "cell_type": "code",
   "execution_count": 10,
   "id": "36cc9569-a293-4333-817a-077cae347403",
   "metadata": {},
   "outputs": [],
   "source": [
    "import torch\n",
    "from torch import nn\n",
    "from tqdm import trange\n",
    "\n",
    "class ELEmbeddings(EmbeddingELModel):\n",
    "\n",
    "    def __init__(self,\n",
    "                 dataset,\n",
    "                 embed_dim=50,\n",
    "                 margin=0,\n",
    "                 reg_norm=1,\n",
    "                 learning_rate=0.001,\n",
    "                 epochs=1000,\n",
    "                 batch_size=4096 * 8,\n",
    "                 model_filepath=None,\n",
    "                 device='cpu'\n",
    "                 ):\n",
    "        super().__init__(dataset, batch_size, extended=True, model_filepath=model_filepath)\n",
    "\n",
    "        self.embed_dim = embed_dim\n",
    "        self.margin = margin\n",
    "        self.reg_norm = reg_norm\n",
    "        self.learning_rate = learning_rate\n",
    "        self.epochs = epochs\n",
    "        self.device = device\n",
    "        self._loaded = False\n",
    "        self._loaded_eval = False\n",
    "        self.extended = False\n",
    "        self.init_model()\n",
    "\n",
    "    def init_model(self):\n",
    "        self.model = ELEmModule(\n",
    "            len(self.class_index_dict),  # number of ontology classes\n",
    "            len(self.object_property_index_dict),  # number of ontology object properties\n",
    "            embed_dim=self.embed_dim,\n",
    "            margin=self.margin\n",
    "        ).to(self.device)\n",
    "\n",
    "    def train(self, checkpoint=1):\n",
    "        optimizer = torch.optim.Adam(self.model.parameters(), lr=self.learning_rate)\n",
    "        best_loss = float('inf')\n",
    "\n",
    "        for epoch in trange(self.epochs):\n",
    "            self.model.train()\n",
    "\n",
    "            train_loss = 0\n",
    "            loss = 0\n",
    "\n",
    "            # Notice how we use the ``training_datasets`` variable directly\n",
    "            # and every element of it is a pair (GCI name, GCI tensor data).\n",
    "            for gci_name, gci_dataset in self.training_datasets.items():\n",
    "                if len(gci_dataset) == 0:\n",
    "                    continue\n",
    "                loss += torch.mean(self.model(gci_dataset[:], gci_name))\n",
    "                \n",
    "            optimizer.zero_grad()\n",
    "            loss.backward()\n",
    "            optimizer.step()\n",
    "            train_loss += loss.detach().item()\n",
    "            torch.save(self.model.state_dict(), self.model_filepath)\n",
    "            if (epoch + 1) % checkpoint == 0:\n",
    "                print(f'\\nEpoch {epoch}: Train loss: {train_loss:4f}')"
   ]
  },
  {
   "cell_type": "markdown",
   "id": "76b69df0-c537-49ae-baf5-57d191bba9bb",
   "metadata": {},
   "source": [
    "Create the dataset class"
   ]
  },
  {
   "cell_type": "code",
   "execution_count": 11,
   "id": "f85efc62-cc5f-4c2d-9560-ab388c7c4bf5",
   "metadata": {},
   "outputs": [],
   "source": [
    "from mowl.datasets import PathDataset\n",
    "\n",
    "family_dataset = PathDataset('data/family.owl')"
   ]
  },
  {
   "cell_type": "markdown",
   "id": "c35a2aa7-862f-40b2-a6c5-a579aa2a1f2d",
   "metadata": {},
   "source": [
    "Train the model"
   ]
  },
  {
   "cell_type": "code",
   "execution_count": 17,
   "id": "fb3b5b25-69e0-4783-b7ee-a488e13a804d",
   "metadata": {},
   "outputs": [
    {
     "name": "stderr",
     "output_type": "stream",
     "text": [
      "100%|███████████████████████████████████████████████████████████████████████████████████████| 100/100 [00:00<00:00, 427.21it/s]"
     ]
    },
    {
     "name": "stdout",
     "output_type": "stream",
     "text": [
      "\n",
      "Epoch 9: Train loss: 1.500174\n",
      "\n",
      "Epoch 19: Train loss: 0.336646\n",
      "\n",
      "Epoch 29: Train loss: 0.139975\n",
      "\n",
      "Epoch 39: Train loss: 0.178397\n",
      "\n",
      "Epoch 49: Train loss: 0.135798\n",
      "\n",
      "Epoch 59: Train loss: 0.125496\n",
      "\n",
      "Epoch 69: Train loss: 0.113816\n",
      "\n",
      "Epoch 79: Train loss: 0.069246\n",
      "\n",
      "Epoch 89: Train loss: 0.080087\n",
      "\n",
      "Epoch 99: Train loss: 0.131009\n"
     ]
    },
    {
     "name": "stderr",
     "output_type": "stream",
     "text": [
      "\n"
     ]
    }
   ],
   "source": [
    "model = ELEmbeddings(family_dataset,\n",
    "                     embed_dim=2,\n",
    "                     margin=0.1,\n",
    "                     reg_norm=1,\n",
    "                     learning_rate=0.1,\n",
    "                     epochs=100,\n",
    "                     batch_size=2,\n",
    "                     model_filepath=None,\n",
    "                     device='cpu')\n",
    "\n",
    "model.train(checkpoint=10)"
   ]
  },
  {
   "cell_type": "markdown",
   "id": "8311f27e-0620-47d7-b176-a4b9d228447b",
   "metadata": {},
   "source": [
    "Plot embeddings"
   ]
  },
  {
   "cell_type": "code",
   "execution_count": null,
   "id": "027e5f57-b800-4272-8d16-9f44fa494d64",
   "metadata": {},
   "outputs": [],
   "source": [
    "import matplotlib.pyplot as plt\n",
    "\n",
    "colors = ['b', 'g', 'r', 'c', 'm', 'y', 'k']\n",
    "fig, ax =  plt.subplots()\n",
    "plt.axis('equal')\n",
    "for i in range(embeds.shape[0]):\n",
    "    if classes[i].startswith('owl:'):\n",
    "        continue\n",
    "    x, y = embeds[i, 0], embeds[i, 1]\n",
    "    r = rs[i]\n",
    "    ax.add_artist(plt.Circle(\n",
    "        (x, y), r, fill=False, edgecolor=colors[i % len(colors)], label=classes[i]))\n",
    "    ax.annotate(classes[i], xy=(x, y + r + 0.03), fontsize=10, ha=\"center\", color=colors[i % len(colors)])\n",
    "ax.grid(True)\n",
    "plt\n"
   ]
  }
 ],
 "metadata": {
  "kernelspec": {
   "display_name": "Python 3 (ipykernel)",
   "language": "python",
   "name": "python3"
  },
  "language_info": {
   "codemirror_mode": {
    "name": "ipython",
    "version": 3
   },
   "file_extension": ".py",
   "mimetype": "text/x-python",
   "name": "python",
   "nbconvert_exporter": "python",
   "pygments_lexer": "ipython3",
   "version": "3.9.7"
  }
 },
 "nbformat": 4,
 "nbformat_minor": 5
}
