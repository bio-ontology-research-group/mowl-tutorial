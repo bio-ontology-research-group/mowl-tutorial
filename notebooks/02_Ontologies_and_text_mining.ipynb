{
  "cells": [
    {
      "cell_type": "markdown",
      "id": "3bc3b40e",
      "metadata": {
        "cell_marker": "\"\"\"",
        "id": "3bc3b40e"
      },
      "source": [
        "# Ontologies and text mining\n",
        "\n",
        "> Overview:\n",
        "\n",
        "*   Exact match with a dictionary\n",
        "*   Word2Vec\n",
        "\n",
        "\n",
        "\n"
      ]
    },
    {
      "cell_type": "markdown",
      "id": "ebe309eb",
      "metadata": {
        "cell_marker": "r\"\"\",\n\"\"\"",
        "id": "ebe309eb"
      },
      "source": [
        "In this tutorial, you will learn how text embeddings can be generated and used to facilitate learning from text.\n",
        "\n",
        "\n",
        "\n"
      ]
    },
    {
      "cell_type": "code",
      "execution_count": 1,
      "id": "58bcccaf",
      "metadata": {
        "title": "[code]",
        "colab": {
          "base_uri": "https://localhost:8080/"
        },
        "id": "58bcccaf",
        "outputId": "cd053c5a-e591-44f9-8d19-fde859fcf8af"
      },
      "outputs": [
        {
          "output_type": "stream",
          "name": "stdout",
          "text": [
            "Looking in indexes: https://pypi.org/simple, https://us-python.pkg.dev/colab-wheels/public/simple/\n",
            "Collecting gensim==4.0.0\n",
            "  Using cached gensim-4.0.0-cp38-cp38-manylinux1_x86_64.whl (23.9 MB)\n",
            "Requirement already satisfied: scipy>=0.18.1 in /usr/local/lib/python3.8/dist-packages (from gensim==4.0.0) (1.7.3)\n",
            "Requirement already satisfied: smart-open>=1.8.1 in /usr/local/lib/python3.8/dist-packages (from gensim==4.0.0) (6.3.0)\n",
            "Requirement already satisfied: numpy>=1.11.3 in /usr/local/lib/python3.8/dist-packages (from gensim==4.0.0) (1.21.6)\n",
            "Installing collected packages: gensim\n",
            "  Attempting uninstall: gensim\n",
            "    Found existing installation: gensim 4.3.0\n",
            "    Uninstalling gensim-4.3.0:\n",
            "      Successfully uninstalled gensim-4.3.0\n",
            "Successfully installed gensim-4.0.0\n",
            "Looking in indexes: https://pypi.org/simple, https://us-python.pkg.dev/colab-wheels/public/simple/\n",
            "Requirement already satisfied: scikit-learn in /usr/local/lib/python3.8/dist-packages (1.0.2)\n",
            "Requirement already satisfied: joblib>=0.11 in /usr/local/lib/python3.8/dist-packages (from scikit-learn) (1.2.0)\n",
            "Requirement already satisfied: numpy>=1.14.6 in /usr/local/lib/python3.8/dist-packages (from scikit-learn) (1.21.6)\n",
            "Requirement already satisfied: scipy>=1.1.0 in /usr/local/lib/python3.8/dist-packages (from scikit-learn) (1.7.3)\n",
            "Requirement already satisfied: threadpoolctl>=2.0.0 in /usr/local/lib/python3.8/dist-packages (from scikit-learn) (3.1.0)\n"
          ]
        },
        {
          "output_type": "stream",
          "name": "stderr",
          "text": [
            "/usr/local/lib/python3.8/dist-packages/gensim/similarities/__init__.py:15: UserWarning: The gensim.similarities.levenshtein submodule is disabled, because the optional Levenshtein package <https://pypi.org/project/python-Levenshtein/> is unavailable. Install Levenhstein (e.g. `pip install python-Levenshtein`) to suppress this warning.\n",
            "  warnings.warn(msg)\n"
          ]
        }
      ],
      "source": [
        "!pip install gensim==4.0.0\n",
        "!pip install scikit-learn\n",
        "import matplotlib.pyplot as plt\n",
        "from google.colab import drive\n",
        "import gensim"
      ]
    },
    {
      "cell_type": "code",
      "source": [
        "gensim.__version__"
      ],
      "metadata": {
        "id": "d-hpfZLLPlAt",
        "colab": {
          "base_uri": "https://localhost:8080/",
          "height": 35
        },
        "outputId": "1ba42508-cc69-4021-d354-82bcea0cee79"
      },
      "id": "d-hpfZLLPlAt",
      "execution_count": 2,
      "outputs": [
        {
          "output_type": "execute_result",
          "data": {
            "text/plain": [
              "'4.0.0'"
            ],
            "application/vnd.google.colaboratory.intrinsic+json": {
              "type": "string"
            }
          },
          "metadata": {},
          "execution_count": 2
        }
      ]
    },
    {
      "cell_type": "markdown",
      "id": "52f69db8",
      "metadata": {
        "cell_marker": "\"\"\"",
        "lines_to_next_cell": 0,
        "id": "52f69db8"
      },
      "source": [
        "We created a dictionary our `Family Ontology` "
      ]
    },
    {
      "cell_type": "code",
      "execution_count": 3,
      "id": "3fc9828b",
      "metadata": {
        "title": "[code]",
        "id": "3fc9828b"
      },
      "outputs": [],
      "source": [
        "dictionary={'father': 'http://Father', 'female': 'http://Female', 'male': 'http://Male', 'mother': 'http://Mother', 'parent': 'http://Parent', 'person': 'http://Person'}"
      ]
    },
    {
      "cell_type": "markdown",
      "id": "94f536f9",
      "metadata": {
        "cell_marker": "\"\"\"",
        "id": "94f536f9"
      },
      "source": [
        "Let us look at the following text:\n",
        "\n",
        "\n",
        "**Can we identify that \"parent\" and \"mother\" are both an instance of the class \"http://Parent\"?**"
      ]
    },
    {
      "cell_type": "code",
      "execution_count": 4,
      "id": "12d3b449",
      "metadata": {
        "lines_to_next_cell": 0,
        "id": "12d3b449"
      },
      "outputs": [],
      "source": [
        "text=\"Sarah's only parent was her mother\""
      ]
    },
    {
      "cell_type": "markdown",
      "source": [
        "Using a dictionary, let us first split the text into words. We do that by using the space as a delimiter. We next look up each word in our dictionary.\n"
      ],
      "metadata": {
        "id": "DWyOgAlDPIwO"
      },
      "id": "DWyOgAlDPIwO"
    },
    {
      "cell_type": "code",
      "source": [
        "tokens = text.split(' ')\n",
        "print('The splitted text looks as follows: ', tokens)\n",
        "for i,token in enumerate(tokens):\n",
        "  if token in dictionary:\n",
        "    print('Identified mention of a class: ',token, 'which is the',i+1,'th token, is an instance of:', dictionary[token])"
      ],
      "metadata": {
        "colab": {
          "base_uri": "https://localhost:8080/"
        },
        "id": "6uTuc7MVRX8d",
        "outputId": "c4e19a5b-6fa5-49ae-91fa-177f9774d841"
      },
      "id": "6uTuc7MVRX8d",
      "execution_count": 5,
      "outputs": [
        {
          "output_type": "stream",
          "name": "stdout",
          "text": [
            "The splitted text looks as follows:  [\"Sarah's\", 'only', 'parent', 'was', 'her', 'mother']\n",
            "Identified mention of a class:  parent which is the 3 th token, is an instance of: http://Parent\n",
            "Identified mention of a class:  mother which is the 6 th token, is an instance of: http://Mother\n"
          ]
        }
      ]
    },
    {
      "cell_type": "markdown",
      "source": [
        "We can only detect 'mother' which is an exact match to what we have in the dictionary.\n",
        "Let us try Word2Vec embeddings which were trained on a large corpus:\n",
        "\n",
        "\n"
      ],
      "metadata": {
        "id": "HJvQoYmtSS2y"
      },
      "id": "HJvQoYmtSS2y"
    },
    {
      "cell_type": "code",
      "execution_count": 6,
      "id": "b3c27787",
      "metadata": {
        "lines_to_next_cell": 0,
        "title": "[code]",
        "id": "b3c27787",
        "colab": {
          "base_uri": "https://localhost:8080/"
        },
        "outputId": "cd2baaf6-8ad1-45da-f822-c8b4a2145b2e"
      },
      "outputs": [
        {
          "output_type": "stream",
          "name": "stdout",
          "text": [
            "Drive already mounted at /content/drive; to attempt to forcibly remount, call drive.mount(\"/content/drive\", force_remount=True).\n",
            "4.0.0\n"
          ]
        }
      ],
      "source": [
        "drive.mount('/content/drive')\n",
        "print(gensim.__version__)\n",
        "model=gensim.models.Word2Vec.load('/content/drive/MyDrive/w2v_model/wv_model')"
      ]
    },
    {
      "cell_type": "markdown",
      "id": "91edf657",
      "metadata": {
        "cell_marker": "\"\"\"",
        "id": "91edf657"
      },
      "source": [
        "We can visualize the embeddings of the ontology classes that we have:\n",
        "\n",
        "---\n",
        "\n",
        "\n",
        "\n",
        "---\n",
        "\n"
      ]
    },
    {
      "cell_type": "code",
      "execution_count": 9,
      "id": "b6c947c1",
      "metadata": {
        "colab": {
          "base_uri": "https://localhost:8080/",
          "height": 324
        },
        "id": "b6c947c1",
        "outputId": "f284d1da-6569-4a12-fcb9-775d7d844482"
      },
      "outputs": [
        {
          "output_type": "stream",
          "name": "stderr",
          "text": [
            "/usr/local/lib/python3.8/dist-packages/sklearn/manifold/_t_sne.py:790: FutureWarning: The default learning rate in TSNE will change from 200.0 to 'auto' in 1.2.\n",
            "  warnings.warn(\n"
          ]
        },
        {
          "output_type": "display_data",
          "data": {
            "text/plain": [
              "<Figure size 432x288 with 1 Axes>"
            ],
            "image/png": "[encoded data removed]"
          },
          "metadata": {
            "needs_background": "light"
          }
        }
      ],
      "source": [
        " from sklearn.manifold import TSNE\n",
        " import pandas as pd\n",
        " embeddings=[]\n",
        " classes=[]\n",
        " for class_ in dictionary:\n",
        "   classes.append(class_)\n",
        "   embeddings.append(model.wv[class_])\n",
        "tsne_vectors = TSNE(early_exaggeration=1 ,random_state=6,init='random').fit_transform(embeddings)\n",
        "for i,class_ in enumerate(classes):\n",
        "  plt.scatter(tsne_vectors[i,0]+0.4,tsne_vectors[i,1]+0.4)\n",
        "  plt.text(tsne_vectors[i,0]+0.4, tsne_vectors[i,1]+0.4, class_, fontsize=9)"
      ]
    },
    {
      "cell_type": "code",
      "source": [],
      "metadata": {
        "id": "44QADJmbd0rx"
      },
      "id": "44QADJmbd0rx",
      "execution_count": null,
      "outputs": []
    },
    {
      "cell_type": "markdown",
      "source": [
        "# Application on Gene-Disease association\n",
        "We can train Word2Vec to generate emebddings for any entity of interest.\n",
        "\n",
        "For example for the following sentence:"
      ],
      "metadata": {
        "id": "gWI9gKEidPXE"
      },
      "id": "gWI9gKEidPXE"
    },
    {
      "cell_type": "code",
      "source": [
        "sentence='It was found that familial dysalbuminemic hyperthyroxinemia is spreading rapidly.'"
      ],
      "metadata": {
        "id": "y2MkIikidUWa"
      },
      "id": "y2MkIikidUWa",
      "execution_count": 10,
      "outputs": []
    },
    {
      "cell_type": "markdown",
      "source": [
        "There is a mention of a disease:\n",
        "OMIM_615999 of the name **familial dysalbuminemic hyperthyroxinemia**.\n",
        "To that end, we can replace the entire mention with the disease ID"
      ],
      "metadata": {
        "id": "qbddz8ale0f6"
      },
      "id": "qbddz8ale0f6"
    },
    {
      "cell_type": "code",
      "source": [
        "sentence=sentence.replace('familial dysalbuminemic hyperthyroxinemia','OMIM_615999')\n",
        "print(sentence)"
      ],
      "metadata": {
        "colab": {
          "base_uri": "https://localhost:8080/"
        },
        "id": "27WOZS_Tes2i",
        "outputId": "092b0dc6-35b5-4dc2-f9a9-e19b261d4649"
      },
      "id": "27WOZS_Tes2i",
      "execution_count": 12,
      "outputs": [
        {
          "output_type": "stream",
          "name": "stdout",
          "text": [
            "It was found that OMIM_615999 is spreading rapidly.\n"
          ]
        }
      ]
    },
    {
      "cell_type": "markdown",
      "source": [
        "We can then update our previous Word2Vec model as follows:"
      ],
      "metadata": {
        "id": "WZGo8u4wfR_w"
      },
      "id": "WZGo8u4wfR_w"
    },
    {
      "cell_type": "code",
      "source": [
        "model.build_vocab([sentence.split()], update=True)\n",
        "model.train([sentence.split()],total_examples=model.corpus_count+1,epochs=5)"
      ],
      "metadata": {
        "colab": {
          "base_uri": "https://localhost:8080/"
        },
        "id": "MgtM8WHTfHnG",
        "outputId": "b75fab09-9208-459e-a371-daf58a19cddb"
      },
      "id": "MgtM8WHTfHnG",
      "execution_count": 13,
      "outputs": [
        {
          "output_type": "stream",
          "name": "stderr",
          "text": [
            "WARNING:gensim.models.word2vec:Effective 'alpha' higher than previous training cycles\n",
            "WARNING:gensim.models.word2vec:EPOCH - 1 : supplied example count (1) did not equal expected count (2)\n",
            "WARNING:gensim.models.word2vec:EPOCH - 2 : supplied example count (1) did not equal expected count (2)\n",
            "WARNING:gensim.models.word2vec:EPOCH - 3 : supplied example count (1) did not equal expected count (2)\n",
            "WARNING:gensim.models.word2vec:EPOCH - 4 : supplied example count (1) did not equal expected count (2)\n",
            "WARNING:gensim.models.word2vec:EPOCH - 5 : supplied example count (1) did not equal expected count (2)\n"
          ]
        },
        {
          "output_type": "execute_result",
          "data": {
            "text/plain": [
              "(17, 40)"
            ]
          },
          "metadata": {},
          "execution_count": 13
        }
      ]
    },
    {
      "cell_type": "markdown",
      "source": [
        "For computational purposes, we have already trained the provided Word2Vec model with such sentences. We will use it now to show how we can infer relations about two entities according to their similarities. We have associated Genes and Diseases for which we will show their similarity.\n",
        "\n",
        "---\n",
        "The numerical IDs correspond to genes, and IDs starting with 'OMIM' correspond to genes. Entities of the same color are associated.\n"
      ],
      "metadata": {
        "id": "eWuVlMTwfkdS"
      },
      "id": "eWuVlMTwfkdS"
    },
    {
      "cell_type": "code",
      "source": [
        "labels, embeddings=[],[]\n",
        "genes=['http://3791','http://3815','http://4233']\n",
        "diseases=[ 'http://OMIM_114500','http://OMIM_606764','http://OMIM_254500']\n",
        "for entity in genes+diseases:\n",
        "   labels.append(entity)\n",
        "   embeddings.append(model.wv[entity])\n",
        "tsne_vectors = TSNE(early_exaggeration=1 ,random_state=1,init='random').fit_transform(embeddings)\n",
        "colors=['r','g','b','r','g','b']\n",
        "for i,clr in enumerate(colors):\n",
        "  plt.scatter(tsne_vectors[i,0]+0.4,tsne_vectors[i,1]+0.4,color=clr)\n",
        "  plt.text(tsne_vectors[i,0]+0.4, tsne_vectors[i,1]+0.4, labels[i], fontsize=9)"
      ],
      "metadata": {
        "colab": {
          "base_uri": "https://localhost:8080/",
          "height": 320
        },
        "id": "zATM1Yg8ffKU",
        "outputId": "b5e1c506-b84a-45f5-b068-03b613008415"
      },
      "id": "zATM1Yg8ffKU",
      "execution_count": 36,
      "outputs": [
        {
          "output_type": "stream",
          "name": "stderr",
          "text": [
            "/usr/local/lib/python3.8/dist-packages/sklearn/manifold/_t_sne.py:790: FutureWarning: The default learning rate in TSNE will change from 200.0 to 'auto' in 1.2.\n",
            "  warnings.warn(\n"
          ]
        },
        {
          "output_type": "display_data",
          "data": {
            "text/plain": [
              "<Figure size 432x288 with 1 Axes>"
            ],
            "image/png": "[encoded data removed]"
          },
          "metadata": {
            "needs_background": "light"
          }
        }
      ]
    },
    {
      "cell_type": "code",
      "source": [],
      "metadata": {
        "id": "ZVNNeVm4g2Ow"
      },
      "id": "ZVNNeVm4g2Ow",
      "execution_count": 34,
      "outputs": []
    },
    {
      "cell_type": "code",
      "source": [],
      "metadata": {
        "id": "HJKZ95KyhK85"
      },
      "id": "HJKZ95KyhK85",
      "execution_count": 34,
      "outputs": []
    },
    {
      "cell_type": "code",
      "source": [],
      "metadata": {
        "id": "bZAFybsYhuYH"
      },
      "id": "bZAFybsYhuYH",
      "execution_count": null,
      "outputs": []
    }
  ],
  "metadata": {
    "jupytext": {
      "cell_metadata_filter": "title,-all",
      "main_language": "python",
      "notebook_metadata_filter": "-all"
    },
    "kernelspec": {
      "display_name": "Python 3 (ipykernel)",
      "language": "python",
      "name": "python3"
    },
    "language_info": {
      "codemirror_mode": {
        "name": "ipython",
        "version": 3
      },
      "file_extension": ".py",
      "mimetype": "text/x-python",
      "name": "python",
      "nbconvert_exporter": "python",
      "pygments_lexer": "ipython3",
      "version": "3.8.0"
    },
    "colab": {
      "provenance": []
    }
  },
  "nbformat": 4,
  "nbformat_minor": 5
}