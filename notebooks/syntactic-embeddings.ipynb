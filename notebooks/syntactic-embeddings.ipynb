{
 "cells": [
  {
   "cell_type": "code",
   "execution_count": null,
   "id": "021d811d",
   "metadata": {},
   "outputs": [],
   "source": [
    "!pip install mowl-borg"
   ]
  },
  {
   "cell_type": "markdown",
   "id": "4fc0966f",
   "metadata": {
    "cell_marker": "\"\"\""
   },
   "source": [
    "# Syntactic embeddings of ontologies"
   ]
  },
  {
   "cell_type": "markdown",
   "id": "f4cc192f",
   "metadata": {
    "cell_marker": "r\"\"\",\n\"\"\""
   },
   "source": [
    "Syntactic embeddings embedding uses the syntax of axioms to generate sentences out of them. mOWL provides methods to generate text sentences from the axioms and/or the annotations in the ontology. The syntax chosen to generate the sentences is [Manchester Syntax](https://www.w3.org/2007/OWL/draft/ED-owl2-manchester-syntax-20081128/)."
   ]
  },
  {
   "cell_type": "code",
   "execution_count": 3,
   "id": "d62091ab",
   "metadata": {
    "title": "[code]"
   },
   "outputs": [],
   "source": [
    "import mowl\n",
    "mowl.init_jvm(\"10g\")"
   ]
  },
  {
   "cell_type": "markdown",
   "id": "61e763e1",
   "metadata": {
    "cell_marker": "\"\"\"",
    "lines_to_next_cell": 0
   },
   "source": [
    "We import our `Family Ontology` and the method `extract_axiom_corpus`, which extracts the axioms from the ontology and generates sentences in *Manchester Syntax*."
   ]
  },
  {
   "cell_type": "code",
   "execution_count": 4,
   "id": "4962f6bf",
   "metadata": {
    "title": "[code]"
   },
   "outputs": [
    {
     "name": "stderr",
     "output_type": "stream",
     "text": [
      "INFO:root:Generating axioms corpus\n"
     ]
    },
    {
     "data": {
      "text/plain": [
       "10"
      ]
     },
     "execution_count": 4,
     "metadata": {},
     "output_type": "execute_result"
    }
   ],
   "source": [
    "from mowl.corpus import extract_axiom_corpus\n",
    "from mowl.datasets import PathDataset\n",
    "dataset = PathDataset(\"data/family.owl\")\n",
    "corpus = extract_axiom_corpus(dataset.ontology)\n",
    "len(corpus)"
   ]
  },
  {
   "cell_type": "markdown",
   "id": "7fe542cb",
   "metadata": {
    "cell_marker": "\"\"\""
   },
   "source": [
    "Let's see the corpus generated:"
   ]
  },
  {
   "cell_type": "code",
   "execution_count": 5,
   "id": "99c534b8",
   "metadata": {
    "lines_to_next_cell": 0
   },
   "outputs": [
    {
     "name": "stdout",
     "output_type": "stream",
     "text": [
      "http://Father SubClassOf http://Male\n",
      "http://Female SubClassOf http://Person\n",
      "http://Female DisjointWith http://Male\n",
      "http://Female EquivalentTo not http://Male\n",
      "http://Female DisjointWith http://Male\n",
      "http://Male SubClassOf http://Person\n",
      "http://Mother SubClassOf http://Female\n",
      "http://Parent SubClassOf http://Person\n",
      "http://Parent SubClassOf http://hasChild some http://Person\n",
      "http://Person EquivalentTo http://Female or http://Male\n"
     ]
    }
   ],
   "source": [
    "for s in corpus[:10]:\n",
    "    print(s)"
   ]
  },
  {
   "cell_type": "markdown",
   "id": "9f60c9d3",
   "metadata": {
    "cell_marker": "\"\"\"",
    "lines_to_next_cell": 2
   },
   "source": [
    "Now it is possible to input this corpus in a model like Word2Vec, which will generate numerical representations for our vocabulary. We will use the `gensim` library to do this."
   ]
  },
  {
   "cell_type": "code",
   "execution_count": 6,
   "id": "f3b807e0",
   "metadata": {
    "lines_to_next_cell": 0,
    "title": "[code]"
   },
   "outputs": [
    {
     "name": "stderr",
     "output_type": "stream",
     "text": [
      "INFO:gensim.models.word2vec:collecting all words and their counts\n",
      "INFO:gensim.models.word2vec:PROGRESS: at sentence #0, processed 0 words, keeping 0 word types\n",
      "INFO:gensim.models.word2vec:collected 13 word types from a corpus of 35 raw words and 10 sentences\n",
      "INFO:gensim.models.word2vec:Creating a fresh vocabulary\n",
      "INFO:gensim.utils:Word2Vec lifecycle event {'msg': 'effective_min_count=0 retains 13 unique words (100.00% of original 13, drops 0)', 'datetime': '2023-02-04T23:53:44.565240', 'gensim': '4.3.0', 'python': '3.8.0 (default, Nov  6 2019, 21:49:08) \\n[GCC 7.3.0]', 'platform': 'Linux-5.15.0-56-generic-x86_64-with-glibc2.10', 'event': 'prepare_vocab'}\n",
      "INFO:gensim.utils:Word2Vec lifecycle event {'msg': 'effective_min_count=0 leaves 35 word corpus (100.00% of original 35, drops 0)', 'datetime': '2023-02-04T23:53:44.565680', 'gensim': '4.3.0', 'python': '3.8.0 (default, Nov  6 2019, 21:49:08) \\n[GCC 7.3.0]', 'platform': 'Linux-5.15.0-56-generic-x86_64-with-glibc2.10', 'event': 'prepare_vocab'}\n",
      "INFO:gensim.models.word2vec:deleting the raw counts dictionary of 13 items\n",
      "INFO:gensim.models.word2vec:sample=0.001 downsamples 13 most-common words\n",
      "INFO:gensim.utils:Word2Vec lifecycle event {'msg': 'downsampling leaves estimated 4.164325331105349 word corpus (11.9%% of prior 35)', 'datetime': '2023-02-04T23:53:44.567927', 'gensim': '4.3.0', 'python': '3.8.0 (default, Nov  6 2019, 21:49:08) \\n[GCC 7.3.0]', 'platform': 'Linux-5.15.0-56-generic-x86_64-with-glibc2.10', 'event': 'prepare_vocab'}\n",
      "INFO:gensim.models.word2vec:estimated required memory for 13 words and 50 dimensions: 11700 bytes\n",
      "INFO:gensim.models.word2vec:resetting layer weights\n",
      "INFO:gensim.utils:Word2Vec lifecycle event {'update': False, 'trim_rule': 'None', 'datetime': '2023-02-04T23:53:44.571121', 'gensim': '4.3.0', 'python': '3.8.0 (default, Nov  6 2019, 21:49:08) \\n[GCC 7.3.0]', 'platform': 'Linux-5.15.0-56-generic-x86_64-with-glibc2.10', 'event': 'build_vocab'}\n",
      "INFO:gensim.utils:Word2Vec lifecycle event {'msg': 'training model with 3 workers on 13 vocabulary and 50 features, using sg=0 hs=0 sample=0.001 negative=5 window=5 shrink_windows=True', 'datetime': '2023-02-04T23:53:44.571721', 'gensim': '4.3.0', 'python': '3.8.0 (default, Nov  6 2019, 21:49:08) \\n[GCC 7.3.0]', 'platform': 'Linux-5.15.0-56-generic-x86_64-with-glibc2.10', 'event': 'train'}\n",
      "INFO:gensim.models.word2vec:EPOCH 0: training on 35 raw words (5 effective words) took 0.0s, 5824 effective words/s\n",
      "INFO:gensim.models.word2vec:EPOCH 1: training on 35 raw words (4 effective words) took 0.0s, 17876 effective words/s\n",
      "INFO:gensim.models.word2vec:EPOCH 2: training on 35 raw words (2 effective words) took 0.0s, 38916 effective words/s\n",
      "INFO:gensim.models.word2vec:EPOCH 3: training on 35 raw words (6 effective words) took 0.0s, 6777 effective words/s\n",
      "INFO:gensim.models.word2vec:EPOCH 4: training on 35 raw words (8 effective words) took 0.0s, 8084 effective words/s\n",
      "INFO:gensim.models.word2vec:EPOCH 5: training on 35 raw words (5 effective words) took 0.0s, 5931 effective words/s\n",
      "INFO:gensim.models.word2vec:EPOCH 6: training on 35 raw words (2 effective words) took 0.0s, 4490 effective words/s\n",
      "INFO:gensim.models.word2vec:EPOCH 7: training on 35 raw words (4 effective words) took 0.0s, 5592 effective words/s\n",
      "INFO:gensim.models.word2vec:EPOCH 8: training on 35 raw words (3 effective words) took 0.0s, 2768 effective words/s\n",
      "INFO:gensim.models.word2vec:EPOCH 9: training on 35 raw words (3 effective words) took 0.0s, 2414 effective words/s\n",
      "INFO:gensim.models.word2vec:EPOCH 10: training on 35 raw words (4 effective words) took 0.0s, 19138 effective words/s\n",
      "INFO:gensim.models.word2vec:EPOCH 11: training on 35 raw words (4 effective words) took 0.0s, 8026 effective words/s\n",
      "INFO:gensim.models.word2vec:EPOCH 12: training on 35 raw words (5 effective words) took 0.0s, 35866 effective words/s\n",
      "INFO:gensim.models.word2vec:EPOCH 13: training on 35 raw words (5 effective words) took 0.0s, 5655 effective words/s\n",
      "INFO:gensim.models.word2vec:EPOCH 14: training on 35 raw words (3 effective words) took 0.0s, 3447 effective words/s\n",
      "INFO:gensim.models.word2vec:EPOCH 15: training on 35 raw words (5 effective words) took 0.0s, 8660 effective words/s\n",
      "INFO:gensim.models.word2vec:EPOCH 16: training on 35 raw words (2 effective words) took 0.0s, 1915 effective words/s\n",
      "INFO:gensim.models.word2vec:EPOCH 17: training on 35 raw words (4 effective words) took 0.0s, 7068 effective words/s\n",
      "INFO:gensim.models.word2vec:EPOCH 18: training on 35 raw words (4 effective words) took 0.0s, 3951 effective words/s\n",
      "INFO:gensim.models.word2vec:EPOCH 19: training on 35 raw words (4 effective words) took 0.0s, 29881 effective words/s\n",
      "INFO:gensim.models.word2vec:EPOCH 20: training on 35 raw words (5 effective words) took 0.0s, 8720 effective words/s\n",
      "INFO:gensim.models.word2vec:EPOCH 21: training on 35 raw words (5 effective words) took 0.0s, 9279 effective words/s\n",
      "INFO:gensim.models.word2vec:EPOCH 22: training on 35 raw words (6 effective words) took 0.0s, 11903 effective words/s\n",
      "INFO:gensim.models.word2vec:EPOCH 23: training on 35 raw words (4 effective words) took 0.0s, 7450 effective words/s\n",
      "INFO:gensim.models.word2vec:EPOCH 24: training on 35 raw words (3 effective words) took 0.0s, 3193 effective words/s\n",
      "INFO:gensim.models.word2vec:EPOCH 25: training on 35 raw words (4 effective words) took 0.0s, 8075 effective words/s\n",
      "INFO:gensim.models.word2vec:EPOCH 26: training on 35 raw words (6 effective words) took 0.0s, 5226 effective words/s\n",
      "INFO:gensim.models.word2vec:EPOCH 27: training on 35 raw words (5 effective words) took 0.0s, 8691 effective words/s\n",
      "INFO:gensim.models.word2vec:EPOCH 28: training on 35 raw words (3 effective words) took 0.0s, 4227 effective words/s\n",
      "INFO:gensim.models.word2vec:EPOCH 29: training on 35 raw words (3 effective words) took 0.0s, 4222 effective words/s\n",
      "INFO:gensim.models.word2vec:EPOCH 30: training on 35 raw words (2 effective words) took 0.0s, 3304 effective words/s\n",
      "INFO:gensim.models.word2vec:EPOCH 31: training on 35 raw words (9 effective words) took 0.0s, 16881 effective words/s\n",
      "INFO:gensim.models.word2vec:EPOCH 32: training on 35 raw words (2 effective words) took 0.0s, 3414 effective words/s\n",
      "INFO:gensim.models.word2vec:EPOCH 33: training on 35 raw words (6 effective words) took 0.0s, 9806 effective words/s\n",
      "INFO:gensim.models.word2vec:EPOCH 34: training on 35 raw words (4 effective words) took 0.0s, 4151 effective words/s\n",
      "INFO:gensim.models.word2vec:EPOCH 35: training on 35 raw words (4 effective words) took 0.1s, 52 effective words/s\n",
      "INFO:gensim.models.word2vec:EPOCH 36: training on 35 raw words (3 effective words) took 0.0s, 3687 effective words/s\n",
      "INFO:gensim.models.word2vec:EPOCH 37: training on 35 raw words (4 effective words) took 0.0s, 23286 effective words/s\n",
      "INFO:gensim.models.word2vec:EPOCH 38: training on 35 raw words (4 effective words) took 0.0s, 5390 effective words/s\n",
      "INFO:gensim.models.word2vec:EPOCH 39: training on 35 raw words (3 effective words) took 0.0s, 4307 effective words/s\n",
      "INFO:gensim.models.word2vec:EPOCH 40: training on 35 raw words (3 effective words) took 0.0s, 5291 effective words/s\n",
      "INFO:gensim.models.word2vec:EPOCH 41: training on 35 raw words (4 effective words) took 0.0s, 7160 effective words/s\n",
      "INFO:gensim.models.word2vec:EPOCH 42: training on 35 raw words (1 effective words) took 0.0s, 1334 effective words/s\n",
      "INFO:gensim.models.word2vec:EPOCH 43: training on 35 raw words (3 effective words) took 0.0s, 4083 effective words/s\n",
      "INFO:gensim.models.word2vec:EPOCH 44: training on 35 raw words (4 effective words) took 0.0s, 5956 effective words/s\n",
      "INFO:gensim.models.word2vec:EPOCH 45: training on 35 raw words (6 effective words) took 0.0s, 8559 effective words/s\n",
      "INFO:gensim.models.word2vec:EPOCH 46: training on 35 raw words (3 effective words) took 0.0s, 5406 effective words/s\n",
      "INFO:gensim.models.word2vec:EPOCH 47: training on 35 raw words (6 effective words) took 0.0s, 6578 effective words/s\n",
      "INFO:gensim.models.word2vec:EPOCH 48: training on 35 raw words (1 effective words) took 0.0s, 9932 effective words/s\n",
      "INFO:gensim.models.word2vec:EPOCH 49: training on 35 raw words (6 effective words) took 0.0s, 30975 effective words/s\n",
      "INFO:gensim.models.word2vec:EPOCH 50: training on 35 raw words (3 effective words) took 0.0s, 4971 effective words/s\n"
     ]
    },
    {
     "name": "stderr",
     "output_type": "stream",
     "text": [
      "INFO:gensim.models.word2vec:EPOCH 51: training on 35 raw words (5 effective words) took 0.0s, 7975 effective words/s\n",
      "INFO:gensim.models.word2vec:EPOCH 52: training on 35 raw words (4 effective words) took 0.0s, 5151 effective words/s\n",
      "INFO:gensim.models.word2vec:EPOCH 53: training on 35 raw words (4 effective words) took 0.0s, 6610 effective words/s\n",
      "INFO:gensim.models.word2vec:EPOCH 54: training on 35 raw words (3 effective words) took 0.0s, 8995 effective words/s\n",
      "INFO:gensim.models.word2vec:EPOCH 55: training on 35 raw words (6 effective words) took 0.0s, 30129 effective words/s\n",
      "INFO:gensim.models.word2vec:EPOCH 56: training on 35 raw words (5 effective words) took 0.0s, 5705 effective words/s\n",
      "INFO:gensim.models.word2vec:EPOCH 57: training on 35 raw words (6 effective words) took 0.0s, 6181 effective words/s\n",
      "INFO:gensim.models.word2vec:EPOCH 58: training on 35 raw words (5 effective words) took 0.0s, 7617 effective words/s\n",
      "INFO:gensim.models.word2vec:EPOCH 59: training on 35 raw words (6 effective words) took 0.0s, 5023 effective words/s\n",
      "INFO:gensim.models.word2vec:EPOCH 60: training on 35 raw words (5 effective words) took 0.0s, 7992 effective words/s\n",
      "INFO:gensim.models.word2vec:EPOCH 61: training on 35 raw words (9 effective words) took 0.0s, 13601 effective words/s\n",
      "INFO:gensim.models.word2vec:EPOCH 62: training on 35 raw words (7 effective words) took 0.0s, 10982 effective words/s\n",
      "INFO:gensim.models.word2vec:EPOCH 63: training on 35 raw words (4 effective words) took 0.0s, 5229 effective words/s\n",
      "INFO:gensim.models.word2vec:EPOCH 64: training on 35 raw words (3 effective words) took 0.0s, 4512 effective words/s\n",
      "INFO:gensim.models.word2vec:EPOCH 65: training on 35 raw words (5 effective words) took 0.0s, 8452 effective words/s\n",
      "INFO:gensim.models.word2vec:EPOCH 66: training on 35 raw words (6 effective words) took 0.0s, 33332 effective words/s\n",
      "INFO:gensim.models.word2vec:EPOCH 67: training on 35 raw words (3 effective words) took 0.0s, 3567 effective words/s\n",
      "INFO:gensim.models.word2vec:EPOCH 68: training on 35 raw words (6 effective words) took 0.0s, 11525 effective words/s\n",
      "INFO:gensim.models.word2vec:EPOCH 69: training on 35 raw words (3 effective words) took 0.0s, 4445 effective words/s\n",
      "INFO:gensim.models.word2vec:EPOCH 70: training on 35 raw words (2 effective words) took 0.0s, 2222 effective words/s\n",
      "INFO:gensim.models.word2vec:EPOCH 71: training on 35 raw words (3 effective words) took 0.0s, 4969 effective words/s\n",
      "INFO:gensim.models.word2vec:EPOCH 72: training on 35 raw words (3 effective words) took 0.0s, 5188 effective words/s\n",
      "INFO:gensim.models.word2vec:EPOCH 73: training on 35 raw words (5 effective words) took 0.0s, 26186 effective words/s\n",
      "INFO:gensim.models.word2vec:EPOCH 74: training on 35 raw words (7 effective words) took 0.0s, 11168 effective words/s\n",
      "INFO:gensim.models.word2vec:EPOCH 75: training on 35 raw words (4 effective words) took 0.0s, 7274 effective words/s\n",
      "INFO:gensim.models.word2vec:EPOCH 76: training on 35 raw words (2 effective words) took 0.0s, 2286 effective words/s\n",
      "INFO:gensim.models.word2vec:EPOCH 77: training on 35 raw words (2 effective words) took 0.0s, 3594 effective words/s\n",
      "INFO:gensim.models.word2vec:EPOCH 78: training on 35 raw words (1 effective words) took 0.0s, 1039 effective words/s\n",
      "INFO:gensim.models.word2vec:EPOCH 79: training on 35 raw words (4 effective words) took 0.0s, 8016 effective words/s\n",
      "INFO:gensim.models.word2vec:EPOCH 80: training on 35 raw words (8 effective words) took 0.0s, 7596 effective words/s\n",
      "INFO:gensim.models.word2vec:EPOCH 81: training on 35 raw words (0 effective words) took 0.0s, 0 effective words/s\n",
      "INFO:gensim.models.word2vec:EPOCH 82: training on 35 raw words (6 effective words) took 0.0s, 9969 effective words/s\n",
      "INFO:gensim.models.word2vec:EPOCH 83: training on 35 raw words (5 effective words) took 0.0s, 5056 effective words/s\n",
      "INFO:gensim.models.word2vec:EPOCH 84: training on 35 raw words (5 effective words) took 0.0s, 6901 effective words/s\n",
      "INFO:gensim.models.word2vec:EPOCH 85: training on 35 raw words (2 effective words) took 0.0s, 2851 effective words/s\n",
      "INFO:gensim.models.word2vec:EPOCH 86: training on 35 raw words (3 effective words) took 0.0s, 3583 effective words/s\n",
      "INFO:gensim.models.word2vec:EPOCH 87: training on 35 raw words (7 effective words) took 0.0s, 14239 effective words/s\n",
      "INFO:gensim.models.word2vec:EPOCH 88: training on 35 raw words (2 effective words) took 0.0s, 4796 effective words/s\n",
      "INFO:gensim.models.word2vec:EPOCH 89: training on 35 raw words (1 effective words) took 0.0s, 28313 effective words/s\n",
      "INFO:gensim.models.word2vec:EPOCH 90: training on 35 raw words (2 effective words) took 0.0s, 3509 effective words/s\n",
      "INFO:gensim.models.word2vec:EPOCH 91: training on 35 raw words (3 effective words) took 0.0s, 21732 effective words/s\n",
      "INFO:gensim.models.word2vec:EPOCH 92: training on 35 raw words (6 effective words) took 0.0s, 11010 effective words/s\n",
      "INFO:gensim.models.word2vec:EPOCH 93: training on 35 raw words (3 effective words) took 0.0s, 5320 effective words/s\n",
      "INFO:gensim.models.word2vec:EPOCH 94: training on 35 raw words (5 effective words) took 0.0s, 8639 effective words/s\n",
      "INFO:gensim.models.word2vec:EPOCH 95: training on 35 raw words (4 effective words) took 0.0s, 7532 effective words/s\n",
      "INFO:gensim.models.word2vec:EPOCH 96: training on 35 raw words (3 effective words) took 0.0s, 5823 effective words/s\n",
      "INFO:gensim.models.word2vec:EPOCH 97: training on 35 raw words (4 effective words) took 0.0s, 7573 effective words/s\n",
      "INFO:gensim.models.word2vec:EPOCH 98: training on 35 raw words (3 effective words) took 0.0s, 4289 effective words/s\n",
      "INFO:gensim.models.word2vec:EPOCH 99: training on 35 raw words (3 effective words) took 0.0s, 2868 effective words/s\n",
      "INFO:gensim.models.word2vec:EPOCH 100: training on 35 raw words (2 effective words) took 0.0s, 3619 effective words/s\n",
      "INFO:gensim.models.word2vec:EPOCH 101: training on 35 raw words (6 effective words) took 0.0s, 9929 effective words/s\n",
      "INFO:gensim.models.word2vec:EPOCH 102: training on 35 raw words (3 effective words) took 0.0s, 5855 effective words/s\n",
      "INFO:gensim.models.word2vec:EPOCH 103: training on 35 raw words (2 effective words) took 0.0s, 4267 effective words/s\n",
      "INFO:gensim.models.word2vec:EPOCH 104: training on 35 raw words (3 effective words) took 0.0s, 2258 effective words/s\n",
      "INFO:gensim.models.word2vec:EPOCH 105: training on 35 raw words (3 effective words) took 0.0s, 4781 effective words/s\n",
      "INFO:gensim.models.word2vec:EPOCH 106: training on 35 raw words (7 effective words) took 0.0s, 12745 effective words/s\n",
      "INFO:gensim.models.word2vec:EPOCH 107: training on 35 raw words (1 effective words) took 0.0s, 1160 effective words/s\n",
      "INFO:gensim.models.word2vec:EPOCH 108: training on 35 raw words (4 effective words) took 0.0s, 5998 effective words/s\n",
      "INFO:gensim.models.word2vec:EPOCH 109: training on 35 raw words (5 effective words) took 0.0s, 5196 effective words/s\n",
      "INFO:gensim.models.word2vec:EPOCH 110: training on 35 raw words (8 effective words) took 0.0s, 9756 effective words/s\n",
      "INFO:gensim.models.word2vec:EPOCH 111: training on 35 raw words (4 effective words) took 0.0s, 4942 effective words/s\n",
      "INFO:gensim.models.word2vec:EPOCH 112: training on 35 raw words (2 effective words) took 0.0s, 3841 effective words/s\n",
      "INFO:gensim.models.word2vec:EPOCH 113: training on 35 raw words (4 effective words) took 0.0s, 7820 effective words/s\n",
      "INFO:gensim.models.word2vec:EPOCH 114: training on 35 raw words (3 effective words) took 0.0s, 3242 effective words/s\n",
      "INFO:gensim.models.word2vec:EPOCH 115: training on 35 raw words (2 effective words) took 0.0s, 3393 effective words/s\n",
      "INFO:gensim.models.word2vec:EPOCH 116: training on 35 raw words (5 effective words) took 0.0s, 9463 effective words/s\n",
      "INFO:gensim.models.word2vec:EPOCH 117: training on 35 raw words (6 effective words) took 0.0s, 9887 effective words/s\n",
      "INFO:gensim.models.word2vec:EPOCH 118: training on 35 raw words (3 effective words) took 0.0s, 5780 effective words/s\n",
      "INFO:gensim.models.word2vec:EPOCH 119: training on 35 raw words (4 effective words) took 0.0s, 7009 effective words/s\n",
      "INFO:gensim.models.word2vec:EPOCH 120: training on 35 raw words (3 effective words) took 0.0s, 6163 effective words/s\n"
     ]
    },
    {
     "name": "stderr",
     "output_type": "stream",
     "text": [
      "INFO:gensim.models.word2vec:EPOCH 121: training on 35 raw words (4 effective words) took 0.0s, 4215 effective words/s\n",
      "INFO:gensim.models.word2vec:EPOCH 122: training on 35 raw words (3 effective words) took 0.0s, 51869 effective words/s\n",
      "INFO:gensim.models.word2vec:EPOCH 123: training on 35 raw words (7 effective words) took 0.0s, 7938 effective words/s\n",
      "INFO:gensim.models.word2vec:EPOCH 124: training on 35 raw words (5 effective words) took 0.0s, 5469 effective words/s\n",
      "INFO:gensim.models.word2vec:EPOCH 125: training on 35 raw words (5 effective words) took 0.0s, 10310 effective words/s\n",
      "INFO:gensim.models.word2vec:EPOCH 126: training on 35 raw words (4 effective words) took 0.0s, 4879 effective words/s\n",
      "INFO:gensim.models.word2vec:EPOCH 127: training on 35 raw words (2 effective words) took 0.0s, 14498 effective words/s\n",
      "INFO:gensim.models.word2vec:EPOCH 128: training on 35 raw words (2 effective words) took 0.0s, 3435 effective words/s\n",
      "INFO:gensim.models.word2vec:EPOCH 129: training on 35 raw words (2 effective words) took 0.0s, 3669 effective words/s\n",
      "INFO:gensim.models.word2vec:EPOCH 130: training on 35 raw words (8 effective words) took 0.0s, 16629 effective words/s\n",
      "INFO:gensim.models.word2vec:EPOCH 131: training on 35 raw words (4 effective words) took 0.0s, 4488 effective words/s\n",
      "INFO:gensim.models.word2vec:EPOCH 132: training on 35 raw words (6 effective words) took 0.0s, 12015 effective words/s\n",
      "INFO:gensim.models.word2vec:EPOCH 133: training on 35 raw words (6 effective words) took 0.0s, 10518 effective words/s\n",
      "INFO:gensim.models.word2vec:EPOCH 134: training on 35 raw words (1 effective words) took 0.0s, 1776 effective words/s\n",
      "INFO:gensim.models.word2vec:EPOCH 135: training on 35 raw words (1 effective words) took 0.0s, 1856 effective words/s\n",
      "INFO:gensim.models.word2vec:EPOCH 136: training on 35 raw words (4 effective words) took 0.0s, 4369 effective words/s\n",
      "INFO:gensim.models.word2vec:EPOCH 137: training on 35 raw words (0 effective words) took 0.0s, 0 effective words/s\n",
      "INFO:gensim.models.word2vec:EPOCH 138: training on 35 raw words (9 effective words) took 0.0s, 14024 effective words/s\n",
      "INFO:gensim.models.word2vec:EPOCH 139: training on 35 raw words (5 effective words) took 0.0s, 8800 effective words/s\n",
      "INFO:gensim.models.word2vec:EPOCH 140: training on 35 raw words (5 effective words) took 0.0s, 8833 effective words/s\n",
      "INFO:gensim.models.word2vec:EPOCH 141: training on 35 raw words (2 effective words) took 0.0s, 3453 effective words/s\n",
      "INFO:gensim.models.word2vec:EPOCH 142: training on 35 raw words (4 effective words) took 0.0s, 3856 effective words/s\n",
      "INFO:gensim.models.word2vec:EPOCH 143: training on 35 raw words (2 effective words) took 0.0s, 2189 effective words/s\n",
      "INFO:gensim.models.word2vec:EPOCH 144: training on 35 raw words (4 effective words) took 0.0s, 6110 effective words/s\n",
      "INFO:gensim.models.word2vec:EPOCH 145: training on 35 raw words (3 effective words) took 0.0s, 4539 effective words/s\n",
      "INFO:gensim.models.word2vec:EPOCH 146: training on 35 raw words (5 effective words) took 0.0s, 10789 effective words/s\n",
      "INFO:gensim.models.word2vec:EPOCH 147: training on 35 raw words (5 effective words) took 0.0s, 7585 effective words/s\n",
      "INFO:gensim.models.word2vec:EPOCH 148: training on 35 raw words (7 effective words) took 0.0s, 7209 effective words/s\n",
      "INFO:gensim.models.word2vec:EPOCH 149: training on 35 raw words (2 effective words) took 0.0s, 2649 effective words/s\n",
      "INFO:gensim.models.word2vec:EPOCH 150: training on 35 raw words (10 effective words) took 0.0s, 10296 effective words/s\n",
      "INFO:gensim.models.word2vec:EPOCH 151: training on 35 raw words (7 effective words) took 0.0s, 10416 effective words/s\n",
      "INFO:gensim.models.word2vec:EPOCH 152: training on 35 raw words (3 effective words) took 0.0s, 6052 effective words/s\n",
      "INFO:gensim.models.word2vec:EPOCH 153: training on 35 raw words (7 effective words) took 0.0s, 13598 effective words/s\n",
      "INFO:gensim.models.word2vec:EPOCH 154: training on 35 raw words (3 effective words) took 0.0s, 6791 effective words/s\n",
      "INFO:gensim.models.word2vec:EPOCH 155: training on 35 raw words (7 effective words) took 0.0s, 8196 effective words/s\n",
      "INFO:gensim.models.word2vec:EPOCH 156: training on 35 raw words (5 effective words) took 0.0s, 10027 effective words/s\n",
      "INFO:gensim.models.word2vec:EPOCH 157: training on 35 raw words (1 effective words) took 0.0s, 1022 effective words/s\n",
      "INFO:gensim.models.word2vec:EPOCH 158: training on 35 raw words (4 effective words) took 0.0s, 8114 effective words/s\n",
      "INFO:gensim.models.word2vec:EPOCH 159: training on 35 raw words (4 effective words) took 0.0s, 7096 effective words/s\n",
      "INFO:gensim.models.word2vec:EPOCH 160: training on 35 raw words (4 effective words) took 0.0s, 4372 effective words/s\n",
      "INFO:gensim.models.word2vec:EPOCH 161: training on 35 raw words (6 effective words) took 0.0s, 10292 effective words/s\n",
      "INFO:gensim.models.word2vec:EPOCH 162: training on 35 raw words (4 effective words) took 0.0s, 4835 effective words/s\n",
      "INFO:gensim.models.word2vec:EPOCH 163: training on 35 raw words (8 effective words) took 0.0s, 15966 effective words/s\n",
      "INFO:gensim.models.word2vec:EPOCH 164: training on 35 raw words (1 effective words) took 0.0s, 1762 effective words/s\n",
      "INFO:gensim.models.word2vec:EPOCH 165: training on 35 raw words (2 effective words) took 0.0s, 2052 effective words/s\n",
      "INFO:gensim.models.word2vec:EPOCH 166: training on 35 raw words (5 effective words) took 0.0s, 12854 effective words/s\n",
      "INFO:gensim.models.word2vec:EPOCH 167: training on 35 raw words (3 effective words) took 0.0s, 2849 effective words/s\n",
      "INFO:gensim.models.word2vec:EPOCH 168: training on 35 raw words (6 effective words) took 0.0s, 8857 effective words/s\n",
      "INFO:gensim.models.word2vec:EPOCH 169: training on 35 raw words (3 effective words) took 0.0s, 3807 effective words/s\n",
      "INFO:gensim.models.word2vec:EPOCH 170: training on 35 raw words (4 effective words) took 0.0s, 10644 effective words/s\n",
      "INFO:gensim.models.word2vec:EPOCH 171: training on 35 raw words (2 effective words) took 0.0s, 3061 effective words/s\n",
      "INFO:gensim.models.word2vec:EPOCH 172: training on 35 raw words (2 effective words) took 0.0s, 3560 effective words/s\n",
      "INFO:gensim.models.word2vec:EPOCH 173: training on 35 raw words (3 effective words) took 0.0s, 5968 effective words/s\n",
      "INFO:gensim.models.word2vec:EPOCH 174: training on 35 raw words (9 effective words) took 0.0s, 10725 effective words/s\n",
      "INFO:gensim.models.word2vec:EPOCH 175: training on 35 raw words (7 effective words) took 0.0s, 12383 effective words/s\n",
      "INFO:gensim.models.word2vec:EPOCH 176: training on 35 raw words (6 effective words) took 0.0s, 9169 effective words/s\n",
      "INFO:gensim.models.word2vec:EPOCH 177: training on 35 raw words (2 effective words) took 0.0s, 2356 effective words/s\n",
      "INFO:gensim.models.word2vec:EPOCH 178: training on 35 raw words (4 effective words) took 0.0s, 6455 effective words/s\n",
      "INFO:gensim.models.word2vec:EPOCH 179: training on 35 raw words (4 effective words) took 0.0s, 6684 effective words/s\n",
      "INFO:gensim.models.word2vec:EPOCH 180: training on 35 raw words (6 effective words) took 0.0s, 10511 effective words/s\n",
      "INFO:gensim.models.word2vec:EPOCH 181: training on 35 raw words (9 effective words) took 0.0s, 20758 effective words/s\n",
      "INFO:gensim.models.word2vec:EPOCH 182: training on 35 raw words (4 effective words) took 0.0s, 7021 effective words/s\n",
      "INFO:gensim.models.word2vec:EPOCH 183: training on 35 raw words (2 effective words) took 0.0s, 3453 effective words/s\n",
      "INFO:gensim.models.word2vec:EPOCH 184: training on 35 raw words (4 effective words) took 0.0s, 4924 effective words/s\n",
      "INFO:gensim.models.word2vec:EPOCH 185: training on 35 raw words (7 effective words) took 0.0s, 12340 effective words/s\n",
      "INFO:gensim.models.word2vec:EPOCH 186: training on 35 raw words (2 effective words) took 0.0s, 3620 effective words/s\n",
      "INFO:gensim.models.word2vec:EPOCH 187: training on 35 raw words (3 effective words) took 0.0s, 6256 effective words/s\n",
      "INFO:gensim.models.word2vec:EPOCH 188: training on 35 raw words (11 effective words) took 0.0s, 18128 effective words/s\n",
      "INFO:gensim.models.word2vec:EPOCH 189: training on 35 raw words (5 effective words) took 0.0s, 10523 effective words/s\n",
      "INFO:gensim.models.word2vec:EPOCH 190: training on 35 raw words (6 effective words) took 0.0s, 11967 effective words/s\n"
     ]
    },
    {
     "name": "stderr",
     "output_type": "stream",
     "text": [
      "INFO:gensim.models.word2vec:EPOCH 191: training on 35 raw words (2 effective words) took 0.0s, 4040 effective words/s\n",
      "INFO:gensim.models.word2vec:EPOCH 192: training on 35 raw words (3 effective words) took 0.0s, 4076 effective words/s\n",
      "INFO:gensim.models.word2vec:EPOCH 193: training on 35 raw words (3 effective words) took 0.0s, 16827 effective words/s\n",
      "INFO:gensim.models.word2vec:EPOCH 194: training on 35 raw words (3 effective words) took 0.0s, 3642 effective words/s\n",
      "INFO:gensim.models.word2vec:EPOCH 195: training on 35 raw words (4 effective words) took 0.0s, 3398 effective words/s\n",
      "INFO:gensim.models.word2vec:EPOCH 196: training on 35 raw words (4 effective words) took 0.0s, 7578 effective words/s\n",
      "INFO:gensim.models.word2vec:EPOCH 197: training on 35 raw words (2 effective words) took 0.0s, 3818 effective words/s\n",
      "INFO:gensim.models.word2vec:EPOCH 198: training on 35 raw words (5 effective words) took 0.0s, 7903 effective words/s\n",
      "INFO:gensim.models.word2vec:EPOCH 199: training on 35 raw words (3 effective words) took 0.0s, 4066 effective words/s\n",
      "INFO:gensim.utils:Word2Vec lifecycle event {'msg': 'training on 7000 raw words (831 effective words) took 0.5s, 1652 effective words/s', 'datetime': '2023-02-04T23:53:45.075333', 'gensim': '4.3.0', 'python': '3.8.0 (default, Nov  6 2019, 21:49:08) \\n[GCC 7.3.0]', 'platform': 'Linux-5.15.0-56-generic-x86_64-with-glibc2.10', 'event': 'train'}\n",
      "INFO:gensim.utils:Word2Vec lifecycle event {'params': 'Word2Vec<vocab=13, vector_size=50, alpha=0.025>', 'datetime': '2023-02-04T23:53:45.075689', 'gensim': '4.3.0', 'python': '3.8.0 (default, Nov  6 2019, 21:49:08) \\n[GCC 7.3.0]', 'platform': 'Linux-5.15.0-56-generic-x86_64-with-glibc2.10', 'event': 'created'}\n"
     ]
    }
   ],
   "source": [
    "from gensim.models import Word2Vec\n",
    "\n",
    "sentences = [s.split(\" \") for s in corpus]\n",
    "w2v = Word2Vec(sentences, epochs=200, vector_size = 50, min_count = 0)"
   ]
  },
  {
   "cell_type": "markdown",
   "id": "2c76928c",
   "metadata": {
    "cell_marker": "\"\"\""
   },
   "source": [
    "Finally, we can provide a visual representation of the entities. We will use a modified version of TSNE, which is implemented in mOWL:"
   ]
  },
  {
   "cell_type": "code",
   "execution_count": 7,
   "id": "b6fd98fe",
   "metadata": {},
   "outputs": [
    {
     "name": "stderr",
     "output_type": "stream",
     "text": [
      "INFO:root:Found 7 embedding vectors. Processing only 7.\n"
     ]
    }
   ],
   "source": [
    "from scripts.tsne import TSNE\n",
    "\n",
    "vectors = w2v.wv\n",
    "vocab_dict = vectors.key_to_index\n",
    "name_to_label = {c: c.split(\"/\")[-1] for c in vocab_dict if str(c).startswith(\"http://\")}\n",
    "name_to_emb = {c: vectors[[c]][0] for c in name_to_label}\n",
    "\n",
    "tsne = TSNE(name_to_emb, name_to_label)\n",
    "tsne.generate_points(500, workers=4)"
   ]
  },
  {
   "cell_type": "code",
   "execution_count": 8,
   "id": "585a2175",
   "metadata": {},
   "outputs": [
    {
     "data": {
      "image/png": "[encoded data removed]",
      "text/plain": [
       "<Figure size 1500x1500 with 1 Axes>"
      ]
     },
     "metadata": {},
     "output_type": "display_data"
    }
   ],
   "source": [
    "tsne.show(thickness=300)"
   ]
  },
  {
   "cell_type": "markdown",
   "id": "a35ea93b",
   "metadata": {
    "cell_marker": "\"\"\""
   },
   "source": [
    "## Data augmentation via reasoning"
   ]
  },
  {
   "cell_type": "markdown",
   "id": "dd0398be",
   "metadata": {},
   "source": [
    "We can generate more axioms by performing reasoning over the current ontology. mOWL provides access to ELK and Hermit reasoners. Those reasoners can be accessed using the OWLAPI directly or using the `MOWLReasoner` wrapper class that provides some shortcuts to reasoner methods."
   ]
  },
  {
   "cell_type": "code",
   "execution_count": 9,
   "id": "dca354fd",
   "metadata": {
    "title": "[code]"
   },
   "outputs": [
    {
     "name": "stderr",
     "output_type": "stream",
     "text": [
      "INFO:root:Number of inferred axioms: 12.\n",
      "INFO:root:Number of inferred axioms: 6.\n",
      "INFO:root:Number of inferred axioms: 6.\n"
     ]
    }
   ],
   "source": [
    "from mowl.reasoning.base import MOWLReasoner\n",
    "from org.semanticweb.HermiT import Reasoner\n",
    "\n",
    "reasoner = Reasoner.ReasonerFactory().createReasoner(dataset.ontology)\n",
    "reasoner.precomputeInferences()\n",
    "\n",
    "mowl_reasoner = MOWLReasoner(reasoner)\n",
    "classes_to_infer_over = list(dataset.ontology.getClassesInSignature())\n",
    "\n",
    "subclass_axioms = mowl_reasoner.infer_subclass_axioms(classes_to_infer_over)\n",
    "equivalence_axioms = mowl_reasoner.infer_equivalent_class_axioms(classes_to_infer_over)\n",
    "disjointness_axioms = mowl_reasoner.infer_disjoint_class_axioms(classes_to_infer_over)"
   ]
  },
  {
   "cell_type": "markdown",
   "id": "6a517e3f",
   "metadata": {},
   "source": [
    "Once the axioms were generated, it is time to add them to the ontology:"
   ]
  },
  {
   "cell_type": "code",
   "execution_count": 10,
   "id": "13f15c0f",
   "metadata": {
    "title": "[code]"
   },
   "outputs": [],
   "source": [
    "from mowl.owlapi import OWLAPIAdapter\n",
    "\n",
    "manager = OWLAPIAdapter().owl_manager\n",
    "\n",
    "for ax in subclass_axioms:\n",
    "    manager.addAxiom(dataset.ontology, ax)\n",
    "for ax in equivalence_axioms:\n",
    "    manager.addAxiom(dataset.ontology, ax)\n",
    "for ax in disjointness_axioms:\n",
    "    manager.addAxiom(dataset.ontology, ax)"
   ]
  },
  {
   "cell_type": "markdown",
   "id": "231a200c",
   "metadata": {},
   "source": [
    "Then we can do the embedding process with the updated ontology:"
   ]
  },
  {
   "cell_type": "code",
   "execution_count": 11,
   "id": "b379f927",
   "metadata": {
    "title": "[code]"
   },
   "outputs": [
    {
     "name": "stderr",
     "output_type": "stream",
     "text": [
      "INFO:root:Generating axioms corpus\n"
     ]
    },
    {
     "name": "stdout",
     "output_type": "stream",
     "text": [
      "The inferred ontology contains 44 axioms\n"
     ]
    }
   ],
   "source": [
    "corpus = extract_axiom_corpus(dataset.ontology)\n",
    "print(f\"The inferred ontology contains {len(corpus)} axioms\")"
   ]
  },
  {
   "cell_type": "code",
   "execution_count": 12,
   "id": "703bf744",
   "metadata": {},
   "outputs": [
    {
     "name": "stderr",
     "output_type": "stream",
     "text": [
      "INFO:gensim.models.word2vec:collecting all words and their counts\n",
      "INFO:gensim.models.word2vec:PROGRESS: at sentence #0, processed 0 words, keeping 0 word types\n",
      "INFO:gensim.models.word2vec:collected 18 word types from a corpus of 185 raw words and 44 sentences\n",
      "INFO:gensim.models.word2vec:Creating a fresh vocabulary\n",
      "INFO:gensim.utils:Word2Vec lifecycle event {'msg': 'effective_min_count=0 retains 18 unique words (100.00% of original 18, drops 0)', 'datetime': '2023-02-04T23:53:55.591183', 'gensim': '4.3.0', 'python': '3.8.0 (default, Nov  6 2019, 21:49:08) \\n[GCC 7.3.0]', 'platform': 'Linux-5.15.0-56-generic-x86_64-with-glibc2.10', 'event': 'prepare_vocab'}\n",
      "INFO:gensim.utils:Word2Vec lifecycle event {'msg': 'effective_min_count=0 leaves 185 word corpus (100.00% of original 185, drops 0)', 'datetime': '2023-02-04T23:53:55.591570', 'gensim': '4.3.0', 'python': '3.8.0 (default, Nov  6 2019, 21:49:08) \\n[GCC 7.3.0]', 'platform': 'Linux-5.15.0-56-generic-x86_64-with-glibc2.10', 'event': 'prepare_vocab'}\n",
      "INFO:gensim.models.word2vec:deleting the raw counts dictionary of 18 items\n",
      "INFO:gensim.models.word2vec:sample=0.001 downsamples 18 most-common words\n",
      "INFO:gensim.utils:Word2Vec lifecycle event {'msg': 'downsampling leaves estimated 25.99796941830648 word corpus (14.1%% of prior 185)', 'datetime': '2023-02-04T23:53:55.593347', 'gensim': '4.3.0', 'python': '3.8.0 (default, Nov  6 2019, 21:49:08) \\n[GCC 7.3.0]', 'platform': 'Linux-5.15.0-56-generic-x86_64-with-glibc2.10', 'event': 'prepare_vocab'}\n",
      "INFO:gensim.models.word2vec:estimated required memory for 18 words and 50 dimensions: 16200 bytes\n",
      "INFO:gensim.models.word2vec:resetting layer weights\n",
      "INFO:gensim.utils:Word2Vec lifecycle event {'update': False, 'trim_rule': 'None', 'datetime': '2023-02-04T23:53:55.595056', 'gensim': '4.3.0', 'python': '3.8.0 (default, Nov  6 2019, 21:49:08) \\n[GCC 7.3.0]', 'platform': 'Linux-5.15.0-56-generic-x86_64-with-glibc2.10', 'event': 'build_vocab'}\n",
      "INFO:gensim.utils:Word2Vec lifecycle event {'msg': 'training model with 3 workers on 18 vocabulary and 50 features, using sg=0 hs=0 sample=0.001 negative=5 window=5 shrink_windows=True', 'datetime': '2023-02-04T23:53:55.596281', 'gensim': '4.3.0', 'python': '3.8.0 (default, Nov  6 2019, 21:49:08) \\n[GCC 7.3.0]', 'platform': 'Linux-5.15.0-56-generic-x86_64-with-glibc2.10', 'event': 'train'}\n",
      "INFO:gensim.models.word2vec:EPOCH 0: training on 185 raw words (22 effective words) took 0.0s, 54557 effective words/s\n",
      "INFO:gensim.models.word2vec:EPOCH 1: training on 185 raw words (34 effective words) took 0.0s, 187352 effective words/s\n",
      "INFO:gensim.models.word2vec:EPOCH 2: training on 185 raw words (26 effective words) took 0.0s, 64732 effective words/s\n",
      "INFO:gensim.models.word2vec:EPOCH 3: training on 185 raw words (31 effective words) took 0.0s, 62315 effective words/s\n",
      "INFO:gensim.models.word2vec:EPOCH 4: training on 185 raw words (28 effective words) took 0.0s, 57520 effective words/s\n",
      "INFO:gensim.models.word2vec:EPOCH 5: training on 185 raw words (28 effective words) took 0.0s, 99477 effective words/s\n",
      "INFO:gensim.models.word2vec:EPOCH 6: training on 185 raw words (24 effective words) took 0.0s, 72367 effective words/s\n",
      "INFO:gensim.models.word2vec:EPOCH 7: training on 185 raw words (22 effective words) took 0.0s, 83814 effective words/s\n",
      "INFO:gensim.models.word2vec:EPOCH 8: training on 185 raw words (24 effective words) took 0.0s, 57390 effective words/s\n",
      "INFO:gensim.models.word2vec:EPOCH 9: training on 185 raw words (19 effective words) took 0.0s, 45955 effective words/s\n",
      "INFO:gensim.models.word2vec:EPOCH 10: training on 185 raw words (29 effective words) took 0.0s, 115404 effective words/s\n",
      "INFO:gensim.models.word2vec:EPOCH 11: training on 185 raw words (25 effective words) took 0.0s, 115968 effective words/s\n",
      "INFO:gensim.models.word2vec:EPOCH 12: training on 185 raw words (22 effective words) took 0.0s, 73492 effective words/s\n",
      "INFO:gensim.models.word2vec:EPOCH 13: training on 185 raw words (36 effective words) took 0.0s, 147260 effective words/s\n",
      "INFO:gensim.models.word2vec:EPOCH 14: training on 185 raw words (32 effective words) took 0.0s, 130059 effective words/s\n",
      "INFO:gensim.models.word2vec:EPOCH 15: training on 185 raw words (17 effective words) took 0.0s, 438438 effective words/s\n",
      "INFO:gensim.models.word2vec:EPOCH 16: training on 185 raw words (27 effective words) took 0.0s, 112170 effective words/s\n",
      "INFO:gensim.models.word2vec:EPOCH 17: training on 185 raw words (27 effective words) took 0.0s, 119644 effective words/s\n",
      "INFO:gensim.models.word2vec:EPOCH 18: training on 185 raw words (30 effective words) took 0.0s, 111183 effective words/s\n",
      "INFO:gensim.models.word2vec:EPOCH 19: training on 185 raw words (29 effective words) took 0.0s, 116574 effective words/s\n",
      "INFO:gensim.models.word2vec:EPOCH 20: training on 185 raw words (21 effective words) took 0.0s, 58801 effective words/s\n",
      "INFO:gensim.models.word2vec:EPOCH 21: training on 185 raw words (20 effective words) took 0.0s, 53032 effective words/s\n",
      "INFO:gensim.models.word2vec:EPOCH 22: training on 185 raw words (29 effective words) took 0.0s, 79588 effective words/s\n",
      "INFO:gensim.models.word2vec:EPOCH 23: training on 185 raw words (24 effective words) took 0.0s, 69544 effective words/s\n",
      "INFO:gensim.models.word2vec:EPOCH 24: training on 185 raw words (27 effective words) took 0.0s, 124707 effective words/s\n",
      "INFO:gensim.models.word2vec:EPOCH 25: training on 185 raw words (27 effective words) took 0.0s, 118959 effective words/s\n",
      "INFO:gensim.models.word2vec:EPOCH 26: training on 185 raw words (25 effective words) took 0.0s, 100013 effective words/s\n",
      "INFO:gensim.models.word2vec:EPOCH 27: training on 185 raw words (24 effective words) took 0.0s, 99695 effective words/s\n",
      "INFO:gensim.models.word2vec:EPOCH 28: training on 185 raw words (31 effective words) took 0.0s, 97687 effective words/s\n",
      "INFO:gensim.models.word2vec:EPOCH 29: training on 185 raw words (17 effective words) took 0.0s, 47464 effective words/s\n",
      "INFO:gensim.models.word2vec:EPOCH 30: training on 185 raw words (25 effective words) took 0.0s, 91444 effective words/s\n",
      "INFO:gensim.models.word2vec:EPOCH 31: training on 185 raw words (30 effective words) took 0.0s, 115431 effective words/s\n",
      "INFO:gensim.models.word2vec:EPOCH 32: training on 185 raw words (24 effective words) took 0.0s, 59140 effective words/s\n",
      "INFO:gensim.models.word2vec:EPOCH 33: training on 185 raw words (26 effective words) took 0.0s, 61473 effective words/s\n",
      "INFO:gensim.models.word2vec:EPOCH 34: training on 185 raw words (32 effective words) took 0.0s, 112598 effective words/s\n",
      "INFO:gensim.models.word2vec:EPOCH 35: training on 185 raw words (19 effective words) took 0.0s, 75754 effective words/s\n",
      "INFO:gensim.models.word2vec:EPOCH 36: training on 185 raw words (30 effective words) took 0.0s, 89103 effective words/s\n",
      "INFO:gensim.models.word2vec:EPOCH 37: training on 185 raw words (19 effective words) took 0.0s, 54230 effective words/s\n",
      "INFO:gensim.models.word2vec:EPOCH 38: training on 185 raw words (28 effective words) took 0.0s, 123268 effective words/s\n",
      "INFO:gensim.models.word2vec:EPOCH 39: training on 185 raw words (25 effective words) took 0.0s, 52366 effective words/s\n",
      "INFO:gensim.models.word2vec:EPOCH 40: training on 185 raw words (27 effective words) took 0.0s, 93935 effective words/s\n",
      "INFO:gensim.models.word2vec:EPOCH 41: training on 185 raw words (31 effective words) took 0.0s, 118134 effective words/s\n",
      "INFO:gensim.models.word2vec:EPOCH 42: training on 185 raw words (23 effective words) took 0.0s, 103216 effective words/s\n",
      "INFO:gensim.models.word2vec:EPOCH 43: training on 185 raw words (27 effective words) took 0.0s, 61399 effective words/s\n",
      "INFO:gensim.models.word2vec:EPOCH 44: training on 185 raw words (24 effective words) took 0.0s, 194371 effective words/s\n",
      "INFO:gensim.models.word2vec:EPOCH 45: training on 185 raw words (31 effective words) took 0.0s, 105692 effective words/s\n",
      "INFO:gensim.models.word2vec:EPOCH 46: training on 185 raw words (24 effective words) took 0.0s, 88761 effective words/s\n",
      "INFO:gensim.models.word2vec:EPOCH 47: training on 185 raw words (30 effective words) took 0.0s, 115447 effective words/s\n",
      "INFO:gensim.models.word2vec:EPOCH 48: training on 185 raw words (23 effective words) took 0.0s, 101597 effective words/s\n"
     ]
    },
    {
     "name": "stderr",
     "output_type": "stream",
     "text": [
      "INFO:gensim.models.word2vec:EPOCH 49: training on 185 raw words (30 effective words) took 0.0s, 200752 effective words/s\n",
      "INFO:gensim.models.word2vec:EPOCH 50: training on 185 raw words (24 effective words) took 0.0s, 114982 effective words/s\n",
      "INFO:gensim.models.word2vec:EPOCH 51: training on 185 raw words (27 effective words) took 0.0s, 83116 effective words/s\n",
      "INFO:gensim.models.word2vec:EPOCH 52: training on 185 raw words (25 effective words) took 0.0s, 80812 effective words/s\n",
      "INFO:gensim.models.word2vec:EPOCH 53: training on 185 raw words (20 effective words) took 0.0s, 53339 effective words/s\n",
      "INFO:gensim.models.word2vec:EPOCH 54: training on 185 raw words (30 effective words) took 0.0s, 80482 effective words/s\n",
      "INFO:gensim.models.word2vec:EPOCH 55: training on 185 raw words (30 effective words) took 0.0s, 139263 effective words/s\n",
      "INFO:gensim.models.word2vec:EPOCH 56: training on 185 raw words (27 effective words) took 0.0s, 99691 effective words/s\n",
      "INFO:gensim.models.word2vec:EPOCH 57: training on 185 raw words (24 effective words) took 0.0s, 94039 effective words/s\n",
      "INFO:gensim.models.word2vec:EPOCH 58: training on 185 raw words (22 effective words) took 0.0s, 94428 effective words/s\n",
      "INFO:gensim.models.word2vec:EPOCH 59: training on 185 raw words (32 effective words) took 0.0s, 114953 effective words/s\n",
      "INFO:gensim.models.word2vec:EPOCH 60: training on 185 raw words (24 effective words) took 0.0s, 111802 effective words/s\n",
      "INFO:gensim.models.word2vec:EPOCH 61: training on 185 raw words (29 effective words) took 0.0s, 90166 effective words/s\n",
      "INFO:gensim.models.word2vec:EPOCH 62: training on 185 raw words (23 effective words) took 0.0s, 115465 effective words/s\n",
      "INFO:gensim.models.word2vec:EPOCH 63: training on 185 raw words (20 effective words) took 0.0s, 70522 effective words/s\n",
      "INFO:gensim.models.word2vec:EPOCH 64: training on 185 raw words (31 effective words) took 0.0s, 96847 effective words/s\n",
      "INFO:gensim.models.word2vec:EPOCH 65: training on 185 raw words (23 effective words) took 0.0s, 95177 effective words/s\n",
      "INFO:gensim.models.word2vec:EPOCH 66: training on 185 raw words (31 effective words) took 0.0s, 61225 effective words/s\n",
      "INFO:gensim.models.word2vec:EPOCH 67: training on 185 raw words (20 effective words) took 0.0s, 84112 effective words/s\n",
      "INFO:gensim.models.word2vec:EPOCH 68: training on 185 raw words (26 effective words) took 0.0s, 117247 effective words/s\n",
      "INFO:gensim.models.word2vec:EPOCH 69: training on 185 raw words (30 effective words) took 0.0s, 96220 effective words/s\n",
      "INFO:gensim.models.word2vec:EPOCH 70: training on 185 raw words (29 effective words) took 0.0s, 231581 effective words/s\n",
      "INFO:gensim.models.word2vec:EPOCH 71: training on 185 raw words (26 effective words) took 0.0s, 50764 effective words/s\n",
      "INFO:gensim.models.word2vec:EPOCH 72: training on 185 raw words (25 effective words) took 0.0s, 57085 effective words/s\n",
      "INFO:gensim.models.word2vec:EPOCH 73: training on 185 raw words (20 effective words) took 0.0s, 46152 effective words/s\n",
      "INFO:gensim.models.word2vec:EPOCH 74: training on 185 raw words (30 effective words) took 0.0s, 93514 effective words/s\n",
      "INFO:gensim.models.word2vec:EPOCH 75: training on 185 raw words (24 effective words) took 0.0s, 76275 effective words/s\n",
      "INFO:gensim.models.word2vec:EPOCH 76: training on 185 raw words (25 effective words) took 0.0s, 87863 effective words/s\n",
      "INFO:gensim.models.word2vec:EPOCH 77: training on 185 raw words (33 effective words) took 0.0s, 131112 effective words/s\n",
      "INFO:gensim.models.word2vec:EPOCH 78: training on 185 raw words (23 effective words) took 0.0s, 68058 effective words/s\n",
      "INFO:gensim.models.word2vec:EPOCH 79: training on 185 raw words (22 effective words) took 0.0s, 85575 effective words/s\n",
      "INFO:gensim.models.word2vec:EPOCH 80: training on 185 raw words (29 effective words) took 0.0s, 129654 effective words/s\n",
      "INFO:gensim.models.word2vec:EPOCH 81: training on 185 raw words (31 effective words) took 0.0s, 120375 effective words/s\n",
      "INFO:gensim.models.word2vec:EPOCH 82: training on 185 raw words (31 effective words) took 0.0s, 54902 effective words/s\n",
      "INFO:gensim.models.word2vec:EPOCH 83: training on 185 raw words (25 effective words) took 0.0s, 113208 effective words/s\n",
      "INFO:gensim.models.word2vec:EPOCH 84: training on 185 raw words (19 effective words) took 0.0s, 93087 effective words/s\n",
      "INFO:gensim.models.word2vec:EPOCH 85: training on 185 raw words (27 effective words) took 0.0s, 119382 effective words/s\n",
      "INFO:gensim.models.word2vec:EPOCH 86: training on 185 raw words (32 effective words) took 0.0s, 130660 effective words/s\n",
      "INFO:gensim.models.word2vec:EPOCH 87: training on 185 raw words (25 effective words) took 0.0s, 104839 effective words/s\n",
      "INFO:gensim.models.word2vec:EPOCH 88: training on 185 raw words (30 effective words) took 0.0s, 140640 effective words/s\n",
      "INFO:gensim.models.word2vec:EPOCH 89: training on 185 raw words (36 effective words) took 0.0s, 142035 effective words/s\n",
      "INFO:gensim.models.word2vec:EPOCH 90: training on 185 raw words (19 effective words) took 0.0s, 90201 effective words/s\n",
      "INFO:gensim.models.word2vec:EPOCH 91: training on 185 raw words (25 effective words) took 0.0s, 125885 effective words/s\n",
      "INFO:gensim.models.word2vec:EPOCH 92: training on 185 raw words (24 effective words) took 0.0s, 194589 effective words/s\n",
      "INFO:gensim.models.word2vec:EPOCH 93: training on 185 raw words (33 effective words) took 0.0s, 96618 effective words/s\n",
      "INFO:gensim.models.word2vec:EPOCH 94: training on 185 raw words (30 effective words) took 0.0s, 100870 effective words/s\n",
      "INFO:gensim.models.word2vec:EPOCH 95: training on 185 raw words (37 effective words) took 0.0s, 168477 effective words/s\n",
      "INFO:gensim.models.word2vec:EPOCH 96: training on 185 raw words (21 effective words) took 0.0s, 86799 effective words/s\n",
      "INFO:gensim.models.word2vec:EPOCH 97: training on 185 raw words (21 effective words) took 0.0s, 87973 effective words/s\n",
      "INFO:gensim.models.word2vec:EPOCH 98: training on 185 raw words (33 effective words) took 0.0s, 61465 effective words/s\n",
      "INFO:gensim.models.word2vec:EPOCH 99: training on 185 raw words (23 effective words) took 0.0s, 56043 effective words/s\n",
      "INFO:gensim.models.word2vec:EPOCH 100: training on 185 raw words (23 effective words) took 0.0s, 83671 effective words/s\n",
      "INFO:gensim.models.word2vec:EPOCH 101: training on 185 raw words (22 effective words) took 0.0s, 64644 effective words/s\n",
      "INFO:gensim.models.word2vec:EPOCH 102: training on 185 raw words (36 effective words) took 0.0s, 113114 effective words/s\n",
      "INFO:gensim.models.word2vec:EPOCH 103: training on 185 raw words (24 effective words) took 0.0s, 161537 effective words/s\n",
      "INFO:gensim.models.word2vec:EPOCH 104: training on 185 raw words (29 effective words) took 0.0s, 122293 effective words/s\n",
      "INFO:gensim.models.word2vec:EPOCH 105: training on 185 raw words (31 effective words) took 0.0s, 143761 effective words/s\n",
      "INFO:gensim.models.word2vec:EPOCH 106: training on 185 raw words (21 effective words) took 0.0s, 44877 effective words/s\n",
      "INFO:gensim.models.word2vec:EPOCH 107: training on 185 raw words (19 effective words) took 0.0s, 61471 effective words/s\n",
      "INFO:gensim.models.word2vec:EPOCH 108: training on 185 raw words (24 effective words) took 0.0s, 83818 effective words/s\n",
      "INFO:gensim.models.word2vec:EPOCH 109: training on 185 raw words (28 effective words) took 0.0s, 74767 effective words/s\n",
      "INFO:gensim.models.word2vec:EPOCH 110: training on 185 raw words (24 effective words) took 0.0s, 103960 effective words/s\n",
      "INFO:gensim.models.word2vec:EPOCH 111: training on 185 raw words (28 effective words) took 0.0s, 133226 effective words/s\n",
      "INFO:gensim.models.word2vec:EPOCH 112: training on 185 raw words (25 effective words) took 0.0s, 83243 effective words/s\n",
      "INFO:gensim.models.word2vec:EPOCH 113: training on 185 raw words (20 effective words) took 0.0s, 190814 effective words/s\n",
      "INFO:gensim.models.word2vec:EPOCH 114: training on 185 raw words (22 effective words) took 0.0s, 96069 effective words/s\n",
      "INFO:gensim.models.word2vec:EPOCH 115: training on 185 raw words (22 effective words) took 0.0s, 148499 effective words/s\n",
      "INFO:gensim.models.word2vec:EPOCH 116: training on 185 raw words (28 effective words) took 0.0s, 139734 effective words/s\n"
     ]
    },
    {
     "name": "stderr",
     "output_type": "stream",
     "text": [
      "INFO:gensim.models.word2vec:EPOCH 117: training on 185 raw words (31 effective words) took 0.0s, 138051 effective words/s\n",
      "INFO:gensim.models.word2vec:EPOCH 118: training on 185 raw words (30 effective words) took 0.0s, 95445 effective words/s\n",
      "INFO:gensim.models.word2vec:EPOCH 119: training on 185 raw words (26 effective words) took 0.0s, 117171 effective words/s\n",
      "INFO:gensim.models.word2vec:EPOCH 120: training on 185 raw words (20 effective words) took 0.0s, 51932 effective words/s\n",
      "INFO:gensim.models.word2vec:EPOCH 121: training on 185 raw words (23 effective words) took 0.0s, 95808 effective words/s\n",
      "INFO:gensim.models.word2vec:EPOCH 122: training on 185 raw words (29 effective words) took 0.0s, 121683 effective words/s\n",
      "INFO:gensim.models.word2vec:EPOCH 123: training on 185 raw words (30 effective words) took 0.0s, 149076 effective words/s\n",
      "INFO:gensim.models.word2vec:EPOCH 124: training on 185 raw words (24 effective words) took 0.0s, 108381 effective words/s\n",
      "INFO:gensim.models.word2vec:EPOCH 125: training on 185 raw words (25 effective words) took 0.0s, 123609 effective words/s\n",
      "INFO:gensim.models.word2vec:EPOCH 126: training on 185 raw words (24 effective words) took 0.0s, 119265 effective words/s\n",
      "INFO:gensim.models.word2vec:EPOCH 127: training on 185 raw words (28 effective words) took 0.0s, 123903 effective words/s\n",
      "INFO:gensim.models.word2vec:EPOCH 128: training on 185 raw words (31 effective words) took 0.0s, 143984 effective words/s\n",
      "INFO:gensim.models.word2vec:EPOCH 129: training on 185 raw words (23 effective words) took 0.0s, 107111 effective words/s\n",
      "INFO:gensim.models.word2vec:EPOCH 130: training on 185 raw words (19 effective words) took 0.0s, 67205 effective words/s\n",
      "INFO:gensim.models.word2vec:EPOCH 131: training on 185 raw words (25 effective words) took 0.0s, 82335 effective words/s\n",
      "INFO:gensim.models.word2vec:EPOCH 132: training on 185 raw words (29 effective words) took 0.0s, 89503 effective words/s\n",
      "INFO:gensim.models.word2vec:EPOCH 133: training on 185 raw words (26 effective words) took 0.0s, 76608 effective words/s\n",
      "INFO:gensim.models.word2vec:EPOCH 134: training on 185 raw words (20 effective words) took 0.0s, 87033 effective words/s\n",
      "INFO:gensim.models.word2vec:EPOCH 135: training on 185 raw words (32 effective words) took 0.0s, 245427 effective words/s\n",
      "INFO:gensim.models.word2vec:EPOCH 136: training on 185 raw words (23 effective words) took 0.0s, 201820 effective words/s\n",
      "INFO:gensim.models.word2vec:EPOCH 137: training on 185 raw words (22 effective words) took 0.0s, 103835 effective words/s\n",
      "INFO:gensim.models.word2vec:EPOCH 138: training on 185 raw words (26 effective words) took 0.0s, 53194 effective words/s\n",
      "INFO:gensim.models.word2vec:EPOCH 139: training on 185 raw words (28 effective words) took 0.0s, 124829 effective words/s\n",
      "INFO:gensim.models.word2vec:EPOCH 140: training on 185 raw words (27 effective words) took 0.0s, 125915 effective words/s\n",
      "INFO:gensim.models.word2vec:EPOCH 141: training on 185 raw words (25 effective words) took 0.0s, 92064 effective words/s\n",
      "INFO:gensim.models.word2vec:EPOCH 142: training on 185 raw words (25 effective words) took 0.0s, 91808 effective words/s\n",
      "INFO:gensim.models.word2vec:EPOCH 143: training on 185 raw words (28 effective words) took 0.0s, 132974 effective words/s\n",
      "INFO:gensim.models.word2vec:EPOCH 144: training on 185 raw words (27 effective words) took 0.0s, 124160 effective words/s\n",
      "INFO:gensim.models.word2vec:EPOCH 145: training on 185 raw words (35 effective words) took 0.0s, 141060 effective words/s\n",
      "INFO:gensim.models.word2vec:EPOCH 146: training on 185 raw words (22 effective words) took 0.0s, 93014 effective words/s\n",
      "INFO:gensim.models.word2vec:EPOCH 147: training on 185 raw words (27 effective words) took 0.0s, 224590 effective words/s\n",
      "INFO:gensim.models.word2vec:EPOCH 148: training on 185 raw words (24 effective words) took 0.0s, 100464 effective words/s\n",
      "INFO:gensim.models.word2vec:EPOCH 149: training on 185 raw words (31 effective words) took 0.0s, 124829 effective words/s\n",
      "INFO:gensim.models.word2vec:EPOCH 150: training on 185 raw words (19 effective words) took 0.0s, 74818 effective words/s\n",
      "INFO:gensim.models.word2vec:EPOCH 151: training on 185 raw words (26 effective words) took 0.0s, 122602 effective words/s\n",
      "INFO:gensim.models.word2vec:EPOCH 152: training on 185 raw words (29 effective words) took 0.0s, 123209 effective words/s\n",
      "INFO:gensim.models.word2vec:EPOCH 153: training on 185 raw words (32 effective words) took 0.0s, 91623 effective words/s\n",
      "INFO:gensim.models.word2vec:EPOCH 154: training on 185 raw words (36 effective words) took 0.0s, 155985 effective words/s\n",
      "INFO:gensim.models.word2vec:EPOCH 155: training on 185 raw words (25 effective words) took 0.0s, 92507 effective words/s\n",
      "INFO:gensim.models.word2vec:EPOCH 156: training on 185 raw words (28 effective words) took 0.0s, 130613 effective words/s\n",
      "INFO:gensim.models.word2vec:EPOCH 157: training on 185 raw words (27 effective words) took 0.0s, 125046 effective words/s\n",
      "INFO:gensim.models.word2vec:EPOCH 158: training on 185 raw words (29 effective words) took 0.0s, 129692 effective words/s\n",
      "INFO:gensim.models.word2vec:EPOCH 159: training on 185 raw words (25 effective words) took 0.0s, 113650 effective words/s\n",
      "INFO:gensim.models.word2vec:EPOCH 160: training on 185 raw words (27 effective words) took 0.0s, 116509 effective words/s\n",
      "INFO:gensim.models.word2vec:EPOCH 161: training on 185 raw words (29 effective words) took 0.0s, 82030 effective words/s\n",
      "INFO:gensim.models.word2vec:EPOCH 162: training on 185 raw words (28 effective words) took 0.0s, 109218 effective words/s\n",
      "INFO:gensim.models.word2vec:EPOCH 163: training on 185 raw words (23 effective words) took 0.0s, 80597 effective words/s\n",
      "INFO:gensim.models.word2vec:EPOCH 164: training on 185 raw words (29 effective words) took 0.0s, 111226 effective words/s\n",
      "INFO:gensim.models.word2vec:EPOCH 165: training on 185 raw words (17 effective words) took 0.0s, 72346 effective words/s\n",
      "INFO:gensim.models.word2vec:EPOCH 166: training on 185 raw words (21 effective words) took 0.0s, 90756 effective words/s\n",
      "INFO:gensim.models.word2vec:EPOCH 167: training on 185 raw words (24 effective words) took 0.0s, 104910 effective words/s\n",
      "INFO:gensim.models.word2vec:EPOCH 168: training on 185 raw words (28 effective words) took 0.0s, 111328 effective words/s\n",
      "INFO:gensim.models.word2vec:EPOCH 169: training on 185 raw words (34 effective words) took 0.0s, 135116 effective words/s\n",
      "INFO:gensim.models.word2vec:EPOCH 170: training on 185 raw words (26 effective words) took 0.0s, 65039 effective words/s\n",
      "INFO:gensim.models.word2vec:EPOCH 171: training on 185 raw words (23 effective words) took 0.0s, 56405 effective words/s\n",
      "INFO:gensim.models.word2vec:EPOCH 172: training on 185 raw words (21 effective words) took 0.0s, 50166 effective words/s\n",
      "INFO:gensim.models.word2vec:EPOCH 173: training on 185 raw words (27 effective words) took 0.0s, 76099 effective words/s\n",
      "INFO:gensim.models.word2vec:EPOCH 174: training on 185 raw words (28 effective words) took 0.0s, 87189 effective words/s\n",
      "INFO:gensim.models.word2vec:EPOCH 175: training on 185 raw words (19 effective words) took 0.0s, 61027 effective words/s\n",
      "INFO:gensim.models.word2vec:EPOCH 176: training on 185 raw words (15 effective words) took 0.0s, 459010 effective words/s\n",
      "INFO:gensim.models.word2vec:EPOCH 177: training on 185 raw words (22 effective words) took 0.0s, 77351 effective words/s\n",
      "INFO:gensim.models.word2vec:EPOCH 178: training on 185 raw words (26 effective words) took 0.0s, 186658 effective words/s\n",
      "INFO:gensim.models.word2vec:EPOCH 179: training on 185 raw words (23 effective words) took 0.0s, 51719 effective words/s\n",
      "INFO:gensim.models.word2vec:EPOCH 180: training on 185 raw words (27 effective words) took 0.0s, 114881 effective words/s\n",
      "INFO:gensim.models.word2vec:EPOCH 181: training on 185 raw words (32 effective words) took 0.0s, 146216 effective words/s\n",
      "INFO:gensim.models.word2vec:EPOCH 182: training on 185 raw words (20 effective words) took 0.0s, 78237 effective words/s\n",
      "INFO:gensim.models.word2vec:EPOCH 183: training on 185 raw words (27 effective words) took 0.0s, 45356 effective words/s\n",
      "INFO:gensim.models.word2vec:EPOCH 184: training on 185 raw words (25 effective words) took 0.0s, 93366 effective words/s\n"
     ]
    },
    {
     "name": "stderr",
     "output_type": "stream",
     "text": [
      "INFO:gensim.models.word2vec:EPOCH 185: training on 185 raw words (26 effective words) took 0.0s, 107284 effective words/s\n",
      "INFO:gensim.models.word2vec:EPOCH 186: training on 185 raw words (28 effective words) took 0.0s, 125990 effective words/s\n",
      "INFO:gensim.models.word2vec:EPOCH 187: training on 185 raw words (26 effective words) took 0.0s, 101949 effective words/s\n",
      "INFO:gensim.models.word2vec:EPOCH 188: training on 185 raw words (24 effective words) took 0.0s, 100376 effective words/s\n",
      "INFO:gensim.models.word2vec:EPOCH 189: training on 185 raw words (23 effective words) took 0.0s, 88173 effective words/s\n",
      "INFO:gensim.models.word2vec:EPOCH 190: training on 185 raw words (29 effective words) took 0.0s, 114644 effective words/s\n",
      "INFO:gensim.models.word2vec:EPOCH 191: training on 185 raw words (28 effective words) took 0.0s, 89851 effective words/s\n",
      "INFO:gensim.models.word2vec:EPOCH 192: training on 185 raw words (39 effective words) took 0.0s, 151672 effective words/s\n",
      "INFO:gensim.models.word2vec:EPOCH 193: training on 185 raw words (30 effective words) took 0.0s, 128427 effective words/s\n",
      "INFO:gensim.models.word2vec:EPOCH 194: training on 185 raw words (22 effective words) took 0.0s, 99742 effective words/s\n",
      "INFO:gensim.models.word2vec:EPOCH 195: training on 185 raw words (26 effective words) took 0.0s, 169744 effective words/s\n",
      "INFO:gensim.models.word2vec:EPOCH 196: training on 185 raw words (36 effective words) took 0.0s, 137689 effective words/s\n",
      "INFO:gensim.models.word2vec:EPOCH 197: training on 185 raw words (25 effective words) took 0.0s, 114646 effective words/s\n",
      "INFO:gensim.models.word2vec:EPOCH 198: training on 185 raw words (29 effective words) took 0.0s, 121790 effective words/s\n",
      "INFO:gensim.models.word2vec:EPOCH 199: training on 185 raw words (23 effective words) took 0.0s, 61645 effective words/s\n",
      "INFO:gensim.utils:Word2Vec lifecycle event {'msg': 'training on 37000 raw words (5233 effective words) took 0.3s, 16783 effective words/s', 'datetime': '2023-02-04T23:53:55.908481', 'gensim': '4.3.0', 'python': '3.8.0 (default, Nov  6 2019, 21:49:08) \\n[GCC 7.3.0]', 'platform': 'Linux-5.15.0-56-generic-x86_64-with-glibc2.10', 'event': 'train'}\n",
      "INFO:gensim.utils:Word2Vec lifecycle event {'params': 'Word2Vec<vocab=18, vector_size=50, alpha=0.025>', 'datetime': '2023-02-04T23:53:55.908823', 'gensim': '4.3.0', 'python': '3.8.0 (default, Nov  6 2019, 21:49:08) \\n[GCC 7.3.0]', 'platform': 'Linux-5.15.0-56-generic-x86_64-with-glibc2.10', 'event': 'created'}\n",
      "INFO:root:Found 7 embedding vectors. Processing only 7.\n"
     ]
    }
   ],
   "source": [
    "sentences = [str(s).split(\" \") for s in corpus]\n",
    "sentences = [[w.replace(\",\", \"\") for w in s] for s in sentences]\n",
    "w2v = Word2Vec(sentences, epochs=200, vector_size = 50, min_count = 0)\n",
    "\n",
    "vectors = w2v.wv\n",
    "vocab_dict = vectors.key_to_index\n",
    "name_to_label = {c: c.split(\"/\")[-1] for c in vocab_dict if str(c).startswith(\"http://\")}\n",
    "name_to_emb = {c: vectors[[c]][0] for c in name_to_label}\n",
    "\n",
    "tsne = TSNE(name_to_emb, name_to_label)\n",
    "tsne.generate_points(500, workers=4)"
   ]
  },
  {
   "cell_type": "code",
   "execution_count": 13,
   "id": "eff503d1",
   "metadata": {},
   "outputs": [
    {
     "data": {
      "image/png": "[encoded data removed]",
      "text/plain": [
       "<Figure size 1500x1500 with 1 Axes>"
      ]
     },
     "metadata": {},
     "output_type": "display_data"
    }
   ],
   "source": [
    "tsne.show(thickness=300)"
   ]
  },
  {
   "cell_type": "code",
   "execution_count": null,
   "id": "8af8620d",
   "metadata": {
    "lines_to_next_cell": 3
   },
   "outputs": [],
   "source": []
  },
  {
   "cell_type": "code",
   "execution_count": null,
   "id": "39f105f7",
   "metadata": {},
   "outputs": [],
   "source": []
  }
 ],
 "metadata": {
  "jupytext": {
   "cell_metadata_filter": "title,-all",
   "main_language": "python",
   "notebook_metadata_filter": "-all"
  },
  "kernelspec": {
   "display_name": "Python 3 (ipykernel)",
   "language": "python",
   "name": "python3"
  },
  "language_info": {
   "codemirror_mode": {
    "name": "ipython",
    "version": 3
   },
   "file_extension": ".py",
   "mimetype": "text/x-python",
   "name": "python",
   "nbconvert_exporter": "python",
   "pygments_lexer": "ipython3",
   "version": "3.8.0"
  }
 },
 "nbformat": 4,
 "nbformat_minor": 5
}
