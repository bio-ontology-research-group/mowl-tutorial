{
 "cells": [
  {
   "cell_type": "code",
   "execution_count": null,
   "id": "b729f77c",
   "metadata": {},
   "outputs": [],
   "source": [
    "!pip install mowl-borg"
   ]
  },
  {
   "cell_type": "code",
   "execution_count": null,
   "id": "1fb8344b",
   "metadata": {},
   "outputs": [],
   "source": [
    "from google.colab import drive\n",
    "drive.mount('/content/drive')\n",
    "import os\n",
    "os.chdir(\"/content/drive/MyDrive/mowl-tutorial/notebooks\")"
   ]
  },
  {
   "cell_type": "markdown",
   "id": "244afd59",
   "metadata": {
    "cell_marker": "\"\"\""
   },
   "source": [
    "# Graph-based embeddings of ontologies"
   ]
  },
  {
   "cell_type": "markdown",
   "id": "e1374bba",
   "metadata": {
    "cell_marker": "r\"\"\",\n\"\"\""
   },
   "source": [
    "Ontologies are formed by a TBox, an ABox and an RBox. A Knowledge\n",
    "Graph can be easily extracted from the ABox and the RBox. However, to\n",
    "encode the graph representation of the TBox, which is composed by\n",
    "(complex) concept descriptions, many approaches have been developed. In mOWL, we provide some\n",
    "methods that perform ontology projection into graphs:\n",
    "\n",
    "- **Taxonomy projection**: the projection of axioms of the form $A\n",
    "\\sqsubseteq B$ as edges $(A, subclassof, B)$.\n",
    "\n",
    "- **Taxonomy + relations**: the projection of axioms of the form $A\n",
    "\\sqsubseteq B$ and $A \\sqsubseteq \\exists R.B$ as edges $(A,\n",
    "subclassof, B)$ and $(A, R, B)$, respectively.\n",
    "\n",
    "- **DL2Vec projection**\n",
    "\n",
    "- **OWL2Vec projection**"
   ]
  },
  {
   "cell_type": "code",
   "execution_count": null,
   "id": "bf09548c",
   "metadata": {
    "title": "[code]"
   },
   "outputs": [],
   "source": [
    "\n",
    "import mowl\n",
    "mowl.init_jvm(\"10g\")\n",
    "\n",
    "from mowl.projection import TaxonomyProjector, TaxonomyWithRelationsProjector, DL2VecProjector, OWL2VecStarProjector"
   ]
  },
  {
   "cell_type": "code",
   "execution_count": null,
   "id": "338a26ca",
   "metadata": {
    "lines_to_next_cell": 1,
    "title": "[code]"
   },
   "outputs": [],
   "source": [
    "#from mowl.datasets.builtin import FamilyDataset\n",
    "from mowl.datasets import PathDataset\n",
    "#dataset = FamilyDataset()\n",
    "dataset = PathDataset(\"data/family.owl\")\n",
    "edges = TaxonomyProjector().project(dataset.ontology)\n",
    "\n",
    "for edge in edges:\n",
    "    src = edge.src.split(\"/\")[-1]\n",
    "    rel = edge.rel.split(\"/\")[-1]\n",
    "    dst = edge.dst.split(\"/\")[-1]\n",
    "    print(f\"{src}\\t{rel}\\t{dst}\")"
   ]
  },
  {
   "cell_type": "code",
   "execution_count": null,
   "id": "706798c7",
   "metadata": {
    "lines_to_next_cell": 1,
    "title": "[code]"
   },
   "outputs": [],
   "source": [
    "def nx_network(edges):\n",
    "    import networkx as nx\n",
    "    import matplotlib.pyplot as plt\n",
    "    G = nx.DiGraph()\n",
    "    for edge in edges:\n",
    "        src = edge.src.split(\"/\")[-1]\n",
    "        dst = edge.dst.split(\"/\")[-1]\n",
    "        G.add_edge(src, dst)\n",
    "    #nx draw with custom colors\n",
    "    plt.figure(figsize=(5,5))\n",
    "    pos = nx.spring_layout(G)\n",
    "    nx.draw(G, pos, edge_color='black', width=1, linewidths=1,\n",
    "            node_size=500, node_color='cyan', alpha=0.9,\n",
    "            labels={node:node for node in G.nodes()})\n",
    "    #nx.draw(G, with_labels=True)\n",
    "    plt.show()"
   ]
  },
  {
   "cell_type": "code",
   "execution_count": null,
   "id": "42ea504f",
   "metadata": {
    "lines_to_next_cell": 2
   },
   "outputs": [],
   "source": [
    "nx_network(edges)"
   ]
  },
  {
   "cell_type": "code",
   "execution_count": null,
   "id": "905bc83c",
   "metadata": {
    "lines_to_next_cell": 2
   },
   "outputs": [],
   "source": [
    "dl2vec_proj = DL2VecProjector(bidirectional_taxonomy=True)\n",
    "d2v_edges = dl2vec_proj.project(dataset.ontology, with_individuals=True)\n",
    "\n",
    "for edge in d2v_edges:\n",
    "    src = edge.src.split(\"/\")[-1]\n",
    "    rel = edge.rel.split(\"/\")[-1]\n",
    "    dst = edge.dst.split(\"/\")[-1]\n",
    "    print(f\"{src}\\t{rel}\\t{dst}\")"
   ]
  },
  {
   "cell_type": "code",
   "execution_count": null,
   "id": "03107ed2",
   "metadata": {
    "title": "[code]"
   },
   "outputs": [],
   "source": [
    "nx_network(d2v_edges)\n",
    "\n"
   ]
  },
  {
   "cell_type": "code",
   "execution_count": null,
   "id": "ef41271b",
   "metadata": {
    "lines_to_next_cell": 2
   },
   "outputs": [],
   "source": [
    "owl2vec_proj = OWL2VecStarProjector(bidirectional_taxonomy=True)\n",
    "o2v_edges = owl2vec_proj.project(dataset.ontology)"
   ]
  },
  {
   "cell_type": "code",
   "execution_count": null,
   "id": "d9aca92d",
   "metadata": {
    "lines_to_next_cell": 2,
    "title": "[code]"
   },
   "outputs": [],
   "source": [
    "nx_network(o2v_edges)\n",
    "\n",
    "\n",
    "\n"
   ]
  }
 ],
 "metadata": {
  "jupytext": {
   "cell_metadata_filter": "title,-all",
   "main_language": "python",
   "notebook_metadata_filter": "-all"
  }
 },
 "nbformat": 4,
 "nbformat_minor": 5
}