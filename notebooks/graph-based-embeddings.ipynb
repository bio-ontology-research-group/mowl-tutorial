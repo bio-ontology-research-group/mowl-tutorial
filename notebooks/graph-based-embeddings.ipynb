{
 "cells": [
  {
   "cell_type": "code",
   "execution_count": null,
   "id": "6004fc92",
   "metadata": {},
   "outputs": [],
   "source": [
    "!pip install mowl-borg\n",
    "!pip install pyvis"
   ]
  },
  {
   "cell_type": "markdown",
   "id": "88e7fe74",
   "metadata": {
    "cell_marker": "\"\"\""
   },
   "source": [
    "# Graph-based embeddings of ontologies"
   ]
  },
  {
   "cell_type": "markdown",
   "id": "8ff234be",
   "metadata": {
    "cell_marker": "r\"\"\",\n\"\"\""
   },
   "source": [
    "Ontologies are formed by a TBox, an ABox and an RBox. A Knowledge\n",
    "Graph can be easily extracted from the ABox and the RBox. However, to\n",
    "encode the graph representation of the TBox, which is composed by\n",
    "(complex) concept descriptions, many approaches have been developed. In mOWL, we provide some\n",
    "methods that perform ontology projection into graphs:\n",
    "\n",
    "- **Taxonomy projection**: the projection of axioms of the form $A\n",
    "\\sqsubseteq B$ as edges $(A, subclassof, B)$.\n",
    "\n",
    "- **Taxonomy + relations**: the projection of axioms of the form $A\n",
    "\\sqsubseteq B$ and $A \\sqsubseteq \\exists R.B$ as edges $(A,\n",
    "subclassof, B)$ and $(A, R, B)$, respectively.\n",
    "\n",
    "- **DL2Vec projection**\n",
    "\n",
    "- **OWL2Vec projection**"
   ]
  },
  {
   "cell_type": "code",
   "execution_count": 7,
   "id": "b32fc704",
   "metadata": {
    "title": "[code]"
   },
   "outputs": [],
   "source": [
    "\n",
    "import mowl\n",
    "mowl.init_jvm(\"10g\")\n",
    "\n",
    "from mowl.projection import TaxonomyProjector, TaxonomyWithRelationsProjector, DL2VecProjector, OWL2VecStarProjector"
   ]
  },
  {
   "cell_type": "code",
   "execution_count": 8,
   "id": "be11ee64",
   "metadata": {
    "title": "[code]"
   },
   "outputs": [
    {
     "name": "stdout",
     "output_type": "stream",
     "text": [
      "INFO: Number of ontology classes: 6\n",
      "Father\tsubclassof\tMale\n",
      "Female\tsubclassof\tPerson\n",
      "Male\tsubclassof\tPerson\n",
      "Mother\tsubclassof\tFemale\n",
      "Parent\tsubclassof\tPerson\n"
     ]
    }
   ],
   "source": [
    "#from mowl.datasets.builtin import FamilyDataset\n",
    "from mowl.datasets import PathDataset\n",
    "#dataset = FamilyDataset()\n",
    "dataset = PathDataset(\"data/family.owl\")\n",
    "edges = TaxonomyProjector().project(dataset.ontology)\n",
    "\n",
    "for edge in edges:\n",
    "    src = edge.src.split(\"/\")[-1]\n",
    "    rel = edge.rel.split(\"/\")[-1]\n",
    "    dst = edge.dst.split(\"/\")[-1]\n",
    "    print(f\"{src}\\t{rel}\\t{dst}\")"
   ]
  },
  {
   "cell_type": "code",
   "execution_count": 9,
   "id": "4532648e",
   "metadata": {
    "title": "[code]"
   },
   "outputs": [
    {
     "name": "stdout",
     "output_type": "stream",
     "text": [
      "Local cdn resources have problems on chrome/safari when used in jupyter-notebook. \n"
     ]
    },
    {
     "data": {
      "text/html": [
       "\n",
       "        <iframe\n",
       "            width=\"100%\"\n",
       "            height=\"600px\"\n",
       "            src=\"figs/graph.html\"\n",
       "            frameborder=\"0\"\n",
       "            allowfullscreen\n",
       "            \n",
       "        ></iframe>\n",
       "        "
      ],
      "text/plain": [
       "<IPython.lib.display.IFrame at 0x7f8c2048b3a0>"
      ]
     },
     "execution_count": 9,
     "metadata": {},
     "output_type": "execute_result"
    }
   ],
   "source": [
    "\n",
    "from scripts.utils import pyvis_network\n",
    "\n",
    "net = pyvis_network(edges)\n",
    "net.show(\"figs/graph.html\")"
   ]
  },
  {
   "cell_type": "code",
   "execution_count": 14,
   "id": "5939db6d",
   "metadata": {
    "lines_to_next_cell": 2
   },
   "outputs": [
    {
     "name": "stdout",
     "output_type": "stream",
     "text": [
      "Parent\thasChild\tPerson\n",
      "Female\tsubclassof\tPerson\n",
      "Person\tsuperclassof\tFemale\n",
      "Father\tsubclassof\tMale\n",
      "Male\tsuperclassof\tFather\n",
      "Male\tsubclassof\tPerson\n",
      "Person\tsuperclassof\tMale\n",
      "Parent\tsubclassof\tPerson\n",
      "Person\tsuperclassof\tParent\n",
      "Mother\tsubclassof\tFemale\n",
      "Female\tsuperclassof\tMother\n"
     ]
    }
   ],
   "source": [
    "dl2vec_proj = DL2VecProjector(bidirectional_taxonomy=True)\n",
    "d2v_edges = dl2vec_proj.project(dataset.ontology, with_individuals=False)\n",
    "\n",
    "for edge in d2v_edges:\n",
    "    src = edge.src.split(\"/\")[-1]\n",
    "    rel = edge.rel.split(\"/\")[-1]\n",
    "    dst = edge.dst.split(\"/\")[-1]\n",
    "    print(f\"{src}\\t{rel}\\t{dst}\")"
   ]
  },
  {
   "cell_type": "code",
   "execution_count": 15,
   "id": "855898e6",
   "metadata": {
    "title": "[code]"
   },
   "outputs": [
    {
     "name": "stdout",
     "output_type": "stream",
     "text": [
      "Local cdn resources have problems on chrome/safari when used in jupyter-notebook. \n"
     ]
    },
    {
     "data": {
      "text/html": [
       "\n",
       "        <iframe\n",
       "            width=\"100%\"\n",
       "            height=\"600px\"\n",
       "            src=\"figs/d2vgraph.html\"\n",
       "            frameborder=\"0\"\n",
       "            allowfullscreen\n",
       "            \n",
       "        ></iframe>\n",
       "        "
      ],
      "text/plain": [
       "<IPython.lib.display.IFrame at 0x7f8a80096f40>"
      ]
     },
     "execution_count": 15,
     "metadata": {},
     "output_type": "execute_result"
    }
   ],
   "source": [
    "\n",
    "d2v_net = pyvis_network(d2v_edges)\n",
    "d2v_net.show(\"figs/d2vgraph.html\")\n",
    "\n"
   ]
  },
  {
   "cell_type": "code",
   "execution_count": null,
   "id": "c0575bc4",
   "metadata": {
    "lines_to_next_cell": 2
   },
   "outputs": [],
   "source": [
    "owl2vec_proj = OWL2VecStarProjector(bidirectional_taxonomy=True)\n",
    "o2v_edges = owl2vec_proj.project(dataset.ontology)"
   ]
  },
  {
   "cell_type": "code",
   "execution_count": null,
   "id": "998bf3c9",
   "metadata": {
    "title": "[code]"
   },
   "outputs": [],
   "source": [
    "\n",
    "o2v_net = pyvis_network(o2v_edges)\n",
    "o2v_net.show(\"figs/o2vgraph.html\")\n",
    "\n"
   ]
  },
  {
   "cell_type": "code",
   "execution_count": null,
   "id": "5ac0347d",
   "metadata": {
    "lines_to_next_cell": 2
   },
   "outputs": [],
   "source": [
    "\n",
    "\n",
    "\n"
   ]
  }
 ],
 "metadata": {
  "jupytext": {
   "cell_metadata_filter": "title,-all",
   "main_language": "python",
   "notebook_metadata_filter": "-all"
  },
  "kernelspec": {
   "display_name": "Python 3 (ipykernel)",
   "language": "python",
   "name": "python3"
  },
  "language_info": {
   "codemirror_mode": {
    "name": "ipython",
    "version": 3
   },
   "file_extension": ".py",
   "mimetype": "text/x-python",
   "name": "python",
   "nbconvert_exporter": "python",
   "pygments_lexer": "ipython3",
   "version": "3.8.0"
  }
 },
 "nbformat": 4,
 "nbformat_minor": 5
}
