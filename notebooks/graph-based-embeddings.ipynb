{
 "cells": [
  {
   "cell_type": "markdown",
   "id": "82095c53",
   "metadata": {
    "cell_marker": "\"\"\""
   },
   "source": [
    "# Graph-based embeddings of ontologies"
   ]
  },
  {
   "cell_type": "markdown",
   "id": "a4507601",
   "metadata": {
    "cell_marker": "r\"\"\",\n\"\"\""
   },
   "source": [
    "Ontologies are formed by a TBox, an ABox and an RBox. A Knowledge\n",
    "Graph can be easily extracted from the ABox and the RBox. However, to\n",
    "encode the graph representation of the TBox, which is composed by\n",
    "(complex) concept descriptions, many approaches have been developed. In mOWL, we provide some\n",
    "methods that perform ontology projection into graphs:\n",
    "\n",
    "- **Taxonomy projection**: the projection of axioms of the form $A\n",
    "\\sqsubseteq B$ as edges $(A, subclassof, B)$.\n",
    "\n",
    "- **Taxonomy + relations**: the projection of axioms of the form $A\n",
    "\\sqsubseteq B$ and $A \\sqsubseteq \\exists R.B$ as edges $(A,\n",
    "subclassof, B)$ and $(A, R, B)$, respectively.\n",
    "\n",
    "- **DL2Vec projection**\n",
    "\n",
    "- **OWL2Vec projection**"
   ]
  },
  {
   "cell_type": "code",
   "execution_count": 1,
   "id": "fb1e33d7",
   "metadata": {
    "title": "[code]"
   },
   "outputs": [],
   "source": [
    "\n",
    "import mowl\n",
    "mowl.init_jvm(\"10g\")\n",
    "\n",
    "from mowl.projection import TaxonomyProjector, TaxonomyWithRelationsProjector, DL2VecProjector, OWL2VecStarProjector"
   ]
  },
  {
   "cell_type": "code",
   "execution_count": 2,
   "id": "f0e387d8",
   "metadata": {
    "title": "[code]"
   },
   "outputs": [
    {
     "name": "stdout",
     "output_type": "stream",
     "text": [
      "INFO: Number of ontology classes: 6\n",
      "Father\tsubclassof\tMale\n",
      "Female\tsubclassof\tPerson\n",
      "Male\tsubclassof\tPerson\n",
      "Mother\tsubclassof\tFemale\n",
      "Parent\tsubclassof\tPerson\n"
     ]
    }
   ],
   "source": [
    "#from mowl.datasets.builtin import FamilyDataset\n",
    "from mowl.datasets import PathDataset\n",
    "#dataset = FamilyDataset()\n",
    "dataset = PathDataset(\"data/family.owl\")\n",
    "edges = TaxonomyProjector().project(dataset.ontology)\n",
    "\n",
    "for edge in edges:\n",
    "    src = edge.src.split(\"/\")[-1]\n",
    "    rel = edge.rel.split(\"/\")[-1]\n",
    "    dst = edge.dst.split(\"/\")[-1]\n",
    "    print(f\"{src}\\t{rel}\\t{dst}\")"
   ]
  },
  {
   "cell_type": "code",
   "execution_count": 3,
   "id": "a4e4797a",
   "metadata": {
    "title": "[code]"
   },
   "outputs": [
    {
     "name": "stdout",
     "output_type": "stream",
     "text": [
      "Local cdn resources have problems on chrome/safari when used in jupyter-notebook. \n"
     ]
    },
    {
     "data": {
      "text/html": [
       "\n",
       "        <iframe\n",
       "            width=\"100%\"\n",
       "            height=\"600px\"\n",
       "            src=\"figs/graph.html\"\n",
       "            frameborder=\"0\"\n",
       "            allowfullscreen\n",
       "            \n",
       "        ></iframe>\n",
       "        "
      ],
      "text/plain": [
       "<IPython.lib.display.IFrame at 0x7f5590838b20>"
      ]
     },
     "execution_count": 3,
     "metadata": {},
     "output_type": "execute_result"
    }
   ],
   "source": [
    "\n",
    "from scripts.utils import pyvis_network\n",
    "\n",
    "net = pyvis_network(edges)\n",
    "net.show(\"figs/graph.html\")"
   ]
  },
  {
   "cell_type": "code",
   "execution_count": 4,
   "id": "d319985d",
   "metadata": {
    "lines_to_next_cell": 2
   },
   "outputs": [
    {
     "name": "stdout",
     "output_type": "stream",
     "text": [
      "Jane\thasChild\tMelissa\n",
      "Parent\thasChild\tPerson\n",
      "John\thasChild\tMelissa\n",
      "Female\tsubclassof\tPerson\n",
      "Person\tsuperclassof\tFemale\n",
      "Father\tsubclassof\tMale\n",
      "Male\tsuperclassof\tFather\n",
      "Jane\thasChild\tRobert\n",
      "Male\tsubclassof\tPerson\n",
      "Person\tsuperclassof\tMale\n",
      "Parent\tsubclassof\tPerson\n",
      "Person\tsuperclassof\tParent\n",
      "Mother\tsubclassof\tFemale\n",
      "Female\tsuperclassof\tMother\n",
      "John\thasChild\tRobert\n"
     ]
    }
   ],
   "source": [
    "dl2vec_proj = DL2VecProjector(bidirectional_taxonomy=True)\n",
    "d2v_edges = dl2vec_proj.project(dataset.ontology, True)\n",
    "\n",
    "for edge in d2v_edges:\n",
    "    src = edge.src.split(\"/\")[-1]\n",
    "    rel = edge.rel.split(\"/\")[-1]\n",
    "    dst = edge.dst.split(\"/\")[-1]\n",
    "    print(f\"{src}\\t{rel}\\t{dst}\")"
   ]
  },
  {
   "cell_type": "code",
   "execution_count": 5,
   "id": "476ad48e",
   "metadata": {
    "title": "[code]"
   },
   "outputs": [
    {
     "name": "stdout",
     "output_type": "stream",
     "text": [
      "Local cdn resources have problems on chrome/safari when used in jupyter-notebook. \n"
     ]
    },
    {
     "data": {
      "text/html": [
       "\n",
       "        <iframe\n",
       "            width=\"100%\"\n",
       "            height=\"600px\"\n",
       "            src=\"figs/d2vgraph.html\"\n",
       "            frameborder=\"0\"\n",
       "            allowfullscreen\n",
       "            \n",
       "        ></iframe>\n",
       "        "
      ],
      "text/plain": [
       "<IPython.lib.display.IFrame at 0x7f570809e610>"
      ]
     },
     "execution_count": 5,
     "metadata": {},
     "output_type": "execute_result"
    }
   ],
   "source": [
    "\n",
    "d2v_net = pyvis_network(d2v_edges)\n",
    "d2v_net.show(\"figs/d2vgraph.html\")\n",
    "\n"
   ]
  },
  {
   "cell_type": "code",
   "execution_count": 6,
   "id": "d625f9e7",
   "metadata": {
    "lines_to_next_cell": 2
   },
   "outputs": [
    {
     "name": "stdout",
     "output_type": "stream",
     "text": [
      "subRoles: Map()\n",
      "inverseRoles: Map()\n"
     ]
    }
   ],
   "source": [
    "owl2vec_proj = OWL2VecStarProjector(bidirectional_taxonomy=True)\n",
    "o2v_edges = owl2vec_proj.project(dataset.ontology)"
   ]
  },
  {
   "cell_type": "code",
   "execution_count": 7,
   "id": "61acc9d2",
   "metadata": {
    "title": "[code]"
   },
   "outputs": [
    {
     "name": "stdout",
     "output_type": "stream",
     "text": [
      "Local cdn resources have problems on chrome/safari when used in jupyter-notebook. \n"
     ]
    },
    {
     "data": {
      "text/html": [
       "\n",
       "        <iframe\n",
       "            width=\"100%\"\n",
       "            height=\"600px\"\n",
       "            src=\"figs/o2vgraph.html\"\n",
       "            frameborder=\"0\"\n",
       "            allowfullscreen\n",
       "            \n",
       "        ></iframe>\n",
       "        "
      ],
      "text/plain": [
       "<IPython.lib.display.IFrame at 0x7f570a110880>"
      ]
     },
     "execution_count": 7,
     "metadata": {},
     "output_type": "execute_result"
    }
   ],
   "source": [
    "\n",
    "o2v_net = pyvis_network(o2v_edges)\n",
    "o2v_net.show(\"figs/o2vgraph.html\")\n",
    "\n"
   ]
  },
  {
   "cell_type": "code",
   "execution_count": null,
   "id": "52ab37c6",
   "metadata": {
    "lines_to_next_cell": 2
   },
   "outputs": [],
   "source": [
    "\n",
    "\n"
   ]
  }
 ],
 "metadata": {
  "jupytext": {
   "cell_metadata_filter": "title,-all",
   "main_language": "python",
   "notebook_metadata_filter": "-all"
  },
  "kernelspec": {
   "display_name": "Python 3 (ipykernel)",
   "language": "python",
   "name": "python3"
  },
  "language_info": {
   "codemirror_mode": {
    "name": "ipython",
    "version": 3
   },
   "file_extension": ".py",
   "mimetype": "text/x-python",
   "name": "python",
   "nbconvert_exporter": "python",
   "pygments_lexer": "ipython3",
   "version": "3.8.0"
  }
 },
 "nbformat": 4,
 "nbformat_minor": 5
}
