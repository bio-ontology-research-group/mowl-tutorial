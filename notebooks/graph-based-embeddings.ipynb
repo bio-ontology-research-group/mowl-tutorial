{
 "cells": [
  {
   "cell_type": "markdown",
   "id": "38671993",
   "metadata": {
    "cell_marker": "\"\"\""
   },
   "source": [
    "# Graph-based embeddings of ontologies"
   ]
  },
  {
   "cell_type": "markdown",
   "id": "9901d840",
   "metadata": {
    "cell_marker": "r\"\"\",\n\"\"\""
   },
   "source": [
    "Ontologies are formed by a TBox, an ABox and an RBox. A Knowledge\n",
    "Graph can be easily extracted from the ABox and the RBox. However, to\n",
    "encode the graph representation of the TBox, which is composed by\n",
    "(complex) concept descriptions, many approaches have been developed. In mOWL, we provide some\n",
    "methods that perform ontology projection into graphs:\n",
    "\n",
    "- **Taxonomy projection**: the projection of axioms of the form $A\n",
    "\\sqsubseteq B$ as edges $(A, subclassof, B)$.\n",
    "\n",
    "- **Taxonomy + relations**: the projection of axioms of the form $A\n",
    "\\sqsubseteq B$ and $A \\sqsubseteq \\exists R.B$ as edges $(A,\n",
    "subclassof, B)$ and $(A, R, B)$, respectively.\n",
    "\n",
    "- **DL2Vec projection**\n",
    "\n",
    "- **OWL2Vec projection**"
   ]
  },
  {
   "cell_type": "code",
   "execution_count": 1,
   "id": "0b3b7209",
   "metadata": {
    "title": "[code]"
   },
   "outputs": [],
   "source": [
    "\n",
    "import mowl\n",
    "mowl.init_jvm(\"10g\")\n",
    "\n",
    "from mowl.projection import TaxonomyProjector, TaxonomyWithRelationsProjector, DL2VecProjector, OWL2VecStarProjector"
   ]
  },
  {
   "cell_type": "code",
   "execution_count": 2,
   "id": "08d009a9",
   "metadata": {
    "title": "[code]"
   },
   "outputs": [
    {
     "name": "stdout",
     "output_type": "stream",
     "text": [
      "INFO: Number of ontology classes: 6\n",
      "Father\tsubclassof\tMale\n",
      "Female\tsubclassof\tPerson\n",
      "Male\tsubclassof\tPerson\n",
      "Mother\tsubclassof\tFemale\n",
      "Parent\tsubclassof\tPerson\n"
     ]
    }
   ],
   "source": [
    "#from mowl.datasets.builtin import FamilyDataset\n",
    "from mowl.datasets import PathDataset\n",
    "#dataset = FamilyDataset()\n",
    "dataset = PathDataset(\"family.owl\")\n",
    "edges = TaxonomyProjector().project(dataset.ontology)\n",
    "\n",
    "for edge in edges:\n",
    "    src = edge.src.split(\"/\")[-1]\n",
    "    rel = edge.rel.split(\"/\")[-1]\n",
    "    dst = edge.dst.split(\"/\")[-1]\n",
    "    print(f\"{src}\\t{rel}\\t{dst}\")"
   ]
  },
  {
   "cell_type": "code",
   "execution_count": 3,
   "id": "8a50e9a5",
   "metadata": {
    "title": "[code]"
   },
   "outputs": [
    {
     "name": "stdout",
     "output_type": "stream",
     "text": [
      "Local cdn resources have problems on chrome/safari when used in jupyter-notebook. \n"
     ]
    },
    {
     "ename": "KeyError",
     "evalue": "'http://Father'",
     "output_type": "error",
     "traceback": [
      "\u001b[0;31m---------------------------------------------------------------------------\u001b[0m",
      "\u001b[0;31mKeyError\u001b[0m                                  Traceback (most recent call last)",
      "Cell \u001b[0;32mIn[3], line 3\u001b[0m\n\u001b[1;32m      1\u001b[0m \u001b[38;5;28;01mfrom\u001b[39;00m \u001b[38;5;21;01mutils\u001b[39;00m \u001b[38;5;28;01mimport\u001b[39;00m pyvis_network\n\u001b[0;32m----> 3\u001b[0m net \u001b[38;5;241m=\u001b[39m \u001b[43mpyvis_network\u001b[49m\u001b[43m(\u001b[49m\u001b[43medges\u001b[49m\u001b[43m)\u001b[49m\n\u001b[1;32m      4\u001b[0m net\u001b[38;5;241m.\u001b[39mshow(\u001b[38;5;124m\"\u001b[39m\u001b[38;5;124mgraph.html\u001b[39m\u001b[38;5;124m\"\u001b[39m)\n",
      "File \u001b[0;32m~/Git/mowl-tutorial/notebooks/utils.py:15\u001b[0m, in \u001b[0;36mpyvis_network\u001b[0;34m(edges)\u001b[0m\n\u001b[1;32m     13\u001b[0m \u001b[38;5;28;01mif\u001b[39;00m dst \u001b[38;5;129;01mnot\u001b[39;00m \u001b[38;5;129;01min\u001b[39;00m nodes:\n\u001b[1;32m     14\u001b[0m     nodes[dst] \u001b[38;5;241m=\u001b[39m \u001b[38;5;28mlen\u001b[39m(nodes)\n\u001b[0;32m---> 15\u001b[0m net\u001b[38;5;241m.\u001b[39madd_node(\u001b[43mnodes\u001b[49m\u001b[43m[\u001b[49m\u001b[43medge\u001b[49m\u001b[38;5;241;43m.\u001b[39;49m\u001b[43msrc\u001b[49m\u001b[43m]\u001b[49m, label\u001b[38;5;241m=\u001b[39msrc)\n\u001b[1;32m     16\u001b[0m net\u001b[38;5;241m.\u001b[39madd_node(nodes[edge\u001b[38;5;241m.\u001b[39mdst], label\u001b[38;5;241m=\u001b[39mdst)\n\u001b[1;32m     17\u001b[0m net\u001b[38;5;241m.\u001b[39madd_edge(nodes[edge\u001b[38;5;241m.\u001b[39msrc], nodes[edge\u001b[38;5;241m.\u001b[39mdst])\n",
      "\u001b[0;31mKeyError\u001b[0m: 'http://Father'"
     ]
    }
   ],
   "source": [
    "\n",
    "from utils import pyvis_network\n",
    "\n",
    "net = pyvis_network(edges)\n",
    "net.show(\"graph.html\")"
   ]
  },
  {
   "cell_type": "code",
   "execution_count": null,
   "id": "af420f93",
   "metadata": {
    "lines_to_next_cell": 2
   },
   "outputs": [],
   "source": [
    "dl2vec_proj = DL2VecProjector(bidirectional_taxonomy=True)\n",
    "d2v_edges = dl2vec_proj.project(dataset.ontology, True)\n",
    "\n",
    "for edge in d2v_edges:\n",
    "    src = edge.src.split(\"/\")[-1]\n",
    "    rel = edge.rel.split(\"/\")[-1]\n",
    "    dst = edge.dst.split(\"/\")[-1]\n",
    "    print(f\"{src}\\t{rel}\\t{dst}\")"
   ]
  },
  {
   "cell_type": "code",
   "execution_count": null,
   "id": "372d5d39",
   "metadata": {
    "title": "[code]"
   },
   "outputs": [],
   "source": [
    "\n",
    "d2v_net = pyvis_network(d2v_edges)\n",
    "d2v_net.show(\"d2vgraph.html\")\n",
    "\n"
   ]
  },
  {
   "cell_type": "code",
   "execution_count": null,
   "id": "15e2216a",
   "metadata": {
    "lines_to_next_cell": 2
   },
   "outputs": [],
   "source": [
    "owl2vec_proj = OWL2VecStarProjector(bidirectional_taxonomy=True)\n",
    "o2v_edges = owl2vec_proj.project(dataset.ontology, True)"
   ]
  },
  {
   "cell_type": "code",
   "execution_count": null,
   "id": "c3b12c73",
   "metadata": {
    "title": "[code]"
   },
   "outputs": [],
   "source": [
    "\n",
    "o2v_net = pyvis_network(o2v_edges)\n",
    "o2v_net.show(\"o2vgraph.html\")\n",
    "\n"
   ]
  },
  {
   "cell_type": "code",
   "execution_count": null,
   "id": "c91c23f4",
   "metadata": {
    "lines_to_next_cell": 2
   },
   "outputs": [],
   "source": [
    "\n"
   ]
  }
 ],
 "metadata": {
  "jupytext": {
   "cell_metadata_filter": "title,-all",
   "main_language": "python",
   "notebook_metadata_filter": "-all"
  },
  "kernelspec": {
   "display_name": "mowl-tutorial",
   "language": "python",
   "name": "mowl-tutorial"
  },
  "language_info": {
   "codemirror_mode": {
    "name": "ipython",
    "version": 3
   },
   "file_extension": ".py",
   "mimetype": "text/x-python",
   "name": "python",
   "nbconvert_exporter": "python",
   "pygments_lexer": "ipython3",
   "version": "3.9.15"
  }
 },
 "nbformat": 4,
 "nbformat_minor": 5
}
